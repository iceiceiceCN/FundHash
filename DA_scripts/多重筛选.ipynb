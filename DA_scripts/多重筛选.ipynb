{
 "metadata": {
  "language_info": {
   "codemirror_mode": {
    "name": "ipython",
    "version": 3
   },
   "file_extension": ".py",
   "mimetype": "text/x-python",
   "name": "python",
   "nbconvert_exporter": "python",
   "pygments_lexer": "ipython3",
   "version": "3.8.5"
  },
  "orig_nbformat": 2,
  "kernelspec": {
   "name": "python385jvsc74a57bd0a8f61be024eba58adef938c9aa1e29e02cb3dece83a5348b1a2dafd16a070453",
   "display_name": "Python 3.8.5 64-bit ('base': conda)"
  }
 },
 "nbformat": 4,
 "nbformat_minor": 2,
 "cells": [
  {
   "cell_type": "code",
   "execution_count": 165,
   "metadata": {},
   "outputs": [],
   "source": [
    "import pandas as pd"
   ]
  },
  {
   "cell_type": "code",
   "execution_count": 166,
   "metadata": {},
   "outputs": [],
   "source": [
    "path_flag = 0"
   ]
  },
  {
   "cell_type": "code",
   "execution_count": 167,
   "metadata": {},
   "outputs": [
    {
     "output_type": "stream",
     "name": "stdout",
     "text": [
      "D:\\基金数据\\最新数据\\Data_after5.1_2021_5_21_等权重版2.0.txt\nD:\\基金数据\\最新数据\\Data_after5.1_2021_5_21_收益强化+平衡两年版2.0.txt\n"
     ]
    }
   ],
   "source": [
    "if path_flag == 0:\n",
    "    # A: 使用时间参数自动获取路径名\n",
    "    from datetime import datetime\n",
    "\n",
    "    today = datetime.now()\n",
    "\n",
    "    path_fund1 = r'D:\\基金数据\\最新数据\\Data_after5.1_{}_{}_{}_等权重版2.0.txt'.format(today.year,today.month,today.day)\n",
    "    path_fund2 = r'D:\\基金数据\\最新数据\\Data_after5.1_{}_{}_{}_收益强化+平衡两年版2.0.txt'.format(today.year,today.month,today.day)\n",
    "    path_fund3 = r'D:\\基金数据\\最新数据\\Data_after5.1_{}_{}_{}_少壮派版.txt'.format(today.year,today.month,today.day)\n",
    "\n",
    "    print(path_fund1)\n",
    "    print(path_fund2)\n",
    "elif path_flag == 1:\n",
    "    # B: 指定路径名\n",
    "    path_fund = r'D:\\基金数据\\最新数据\\fund_2021_3_18.txt'\n",
    "\n",
    "    print(path_fund1)\n",
    "    print(path_fund2)"
   ]
  },
  {
   "cell_type": "code",
   "execution_count": 168,
   "metadata": {},
   "outputs": [],
   "source": [
    "df_fund1 = pd.read_table(path_fund1,converters={'FCODE':str,'MGRID':str},encoding='GB18030')\n",
    "df_fund2 = pd.read_table(path_fund2,converters={'FCODE':str,'MGRID':str},encoding='GB18030')\n",
    "df_fund3 = pd.read_table(path_fund3,converters={'FCODE':str,'MGRID':str},encoding='GB18030')"
   ]
  },
  {
   "cell_type": "code",
   "execution_count": 169,
   "metadata": {},
   "outputs": [],
   "source": [
    "df_fund1_sorted = df_fund1.sort_values(by='count',ascending=False)\n",
    "df_fund2_sorted = df_fund2.sort_values(by='count',ascending=False)\n",
    "df_fund3_sorted = df_fund2.sort_values(by='count',ascending=False)"
   ]
  },
  {
   "cell_type": "code",
   "execution_count": 170,
   "metadata": {},
   "outputs": [],
   "source": [
    "df_fund1_100 = df_fund1_sorted.head(100)\n",
    "df_fund2_100 = df_fund2_sorted.head(100)\n",
    "df_fund3_100 = df_fund3_sorted.head(100)"
   ]
  },
  {
   "cell_type": "code",
   "execution_count": 171,
   "metadata": {},
   "outputs": [],
   "source": [
    "df_fund1 = df_fund1_100['FCODE'].tolist()\n",
    "df_fund2 = df_fund2_100['FCODE'].tolist()\n",
    "df_fund3 = df_fund2_100['FCODE'].tolist()"
   ]
  },
  {
   "cell_type": "code",
   "execution_count": 172,
   "metadata": {},
   "outputs": [],
   "source": [
    "score1 = {}\n",
    "c = 0\n",
    "d1 = open(path_fund1)\n",
    "for line in d1:\n",
    "    if c == 0:\n",
    "        c += 1\n",
    "        continue\n",
    "    else:\n",
    "        code = line.split('\\t')[1]\n",
    "        count = line.split('\\t')[2]\n",
    "        score1[code] = count"
   ]
  },
  {
   "cell_type": "code",
   "execution_count": 173,
   "metadata": {},
   "outputs": [],
   "source": [
    "score2 = {}\n",
    "c = 0\n",
    "d2 = open(path_fund2)\n",
    "for line in d2:\n",
    "    if c == 0:\n",
    "        c += 1\n",
    "        continue\n",
    "    else:\n",
    "        code = line.split('\\t')[1]\n",
    "        count = line.split('\\t')[2]\n",
    "        score2[code] = count"
   ]
  },
  {
   "cell_type": "code",
   "execution_count": 174,
   "metadata": {},
   "outputs": [],
   "source": [
    "score3 = {}\n",
    "c = 0\n",
    "d3 = open(path_fund3)\n",
    "for line in d3:\n",
    "    if c == 0:\n",
    "        c += 1\n",
    "        continue\n",
    "    else:\n",
    "        code = line.split('\\t')[1]\n",
    "        count = line.split('\\t')[2]\n",
    "        score3[code] = count"
   ]
  },
  {
   "cell_type": "code",
   "execution_count": 175,
   "metadata": {},
   "outputs": [],
   "source": [
    "res = []\n",
    "for key in df_fund1:\n",
    "    if key in df_fund2 and df_fund3:\n",
    "        res.append(key)"
   ]
  },
  {
   "cell_type": "code",
   "execution_count": 176,
   "metadata": {},
   "outputs": [
    {
     "output_type": "execute_result",
     "data": {
      "text/plain": [
       "52"
      ]
     },
     "metadata": {},
     "execution_count": 176
    }
   ],
   "source": [
    "len(res)"
   ]
  },
  {
   "cell_type": "code",
   "execution_count": 177,
   "metadata": {},
   "outputs": [],
   "source": [
    "w = open(path_fund1)"
   ]
  },
  {
   "cell_type": "code",
   "execution_count": 178,
   "metadata": {},
   "outputs": [
    {
     "output_type": "stream",
     "name": "stdout",
     "text": [
      "更改之前的count:  19.491916247018285\n更改后的count:  16.238930117501543\n更改之前的count:  17.68274582560297\n更改后的count:  15.735807050092765\n更改之前的count:  17.550887887622583\n更改后的count:  15.62203816591572\n更改之前的count:  17.978001590246492\n更改后的count:  15.299050269458435\n更改之前的count:  18.06281473628413\n更改后的count:  15.352941956003184\n更改之前的count:  17.66167505963425\n更改后的count:  15.48962805901582\n更改之前的count:  17.957725947521865\n更改后的count:  15.482949023765348\n更改之前的count:  17.95679830373708\n更改后的count:  15.362593868716317\n更改之前的count:  17.852902199840976\n更改后的count:  15.402871278381484\n更改之前的count:  17.9337397296581\n更改后的count:  15.228098771976322\n更改之前的count:  17.79101510734164\n更改后的count:  15.459797685307889\n更改之前的count:  19.31102570898489\n更改后的count:  16.41260712077039\n更改之前的count:  19.181553140736813\n更改后的count:  16.536858379715518\n更改之前的count:  18.247680890538035\n更改后的count:  15.43196837176429\n更改之前的count:  18.40538033395176\n更改后的count:  15.53369997349589\n更改之前的count:  18.131327855817652\n更改后的count:  15.808688930117503\n更改之前的count:  17.918897429101513\n更改后的count:  15.111683894336958\n更改之前的count:  18.292870394911212\n更改后的count:  15.589332096474953\n更改之前的count:  17.93135435992579\n更改后的count:  15.28961038961039\n更改之前的count:  18.640471773124837\n更改后的count:  15.629507907058928\n更改之前的count:  18.40644049827723\n更改后的count:  15.443678770209381\n更改之前的count:  18.295255764643528\n更改后的count:  15.36911829666932\n更改之前的count:  18.62324410283594\n更改后的count:  15.653467620814558\n更改之前的count:  18.986880466472304\n更改后的count:  16.100260623730012\n更改之前的count:  17.883381924198254\n更改后的count:  15.364413817475041\n更改之前的count:  18.909886032335013\n更改后的count:  15.953352769679299\n更改之前的count:  19.20288894778691\n更改后的count:  16.218177400830466\n更改之前的count:  18.175854757487407\n更改后的count:  15.46742645109992\n更改之前的count:  18.455738139411608\n更改后的count:  15.494606413994168\n更改之前的count:  18.58600583090379\n更改后的count:  15.474158494566657\n更改之前的count:  19.011529287039487\n更改后的count:  16.17612863327149\n更改之前的count:  18.570765968725155\n更改后的count:  15.675050799540598\n更改之前的count:  18.00848131460376\n更改后的count:  15.21838943369555\n更改之前的count:  18.493639014047186\n更改后的count:  15.710804841417092\n更改之前的count:  18.177842565597665\n更改后的count:  15.531778425655974\n更改之前的count:  18.2332361516035\n更改后的count:  15.60441293400477\n更改之前的count:  18.04240657301882\n更改后的count:  15.395202756427247\n更改之前的count:  17.81844685926319\n更改后的count:  15.342490502694588\n更改之前的count:  17.612642459581235\n更改后的count:  15.254788408870041\n更改之前的count:  18.307447654386433\n更改后的count:  15.73033836911388\n更改之前的count:  18.048237476808904\n更改后的count:  15.456630444385544\n更改之前的count:  18.19705804399682\n更改后的count:  15.514347557204696\n更改之前的count:  18.8216273522396\n更改后的count:  16.06300468239244\n更改之前的count:  18.07739199575934\n更改后的count:  15.78564360809259\n更改之前的count:  17.98714550755367\n更改后的count:  15.306338899196042\n更改之前的count:  18.531804929764114\n更改后的count:  15.836549165120594\n更改之前的count:  18.7979061754572\n更改后的count:  16.023646081809346\n更改之前的count:  17.999602438377945\n更改后的count:  15.306833642547929\n更改之前的count:  18.22462231645905\n更改后的count:  15.496307094266276\n更改之前的count:  19.223164590511534\n更改后的count:  16.102191006272637\n更改之前的count:  17.6693612509939\n更改后的count:  15.721181199752627\n更改之前的count:  18.26981182083223\n更改后的count:  15.501855287569574\n"
     ]
    }
   ],
   "source": [
    "table = []\n",
    "c = 0\n",
    "savepath_fund = r'D:\\基金数据\\最新数据\\Data_after6_{}_{}_{}_2.txt'.format(today.year,today.month,today.day)\n",
    "with open(savepath_fund,\"w\") as wr:\n",
    "    for line in w:\n",
    "        if c ==0:\n",
    "            wr.writelines(line)\n",
    "            c += 1\n",
    "        else:\n",
    "            if line.split('\\t')[1] in res:\n",
    "                code = line.split('\\t')[1]\n",
    "                count = (float(score1[code]) + float(score2[code]) + float(score3[code])) / 3\n",
    "                print(\"更改之前的count: \",line.split('\\t')[2])\n",
    "                line = line.replace(line.split('\\t')[2],str(count))\n",
    "                print(\"更改后的count: \",count)\n",
    "                wr.writelines(line)"
   ]
  },
  {
   "cell_type": "code",
   "execution_count": null,
   "metadata": {},
   "outputs": [],
   "source": []
  }
 ]
}
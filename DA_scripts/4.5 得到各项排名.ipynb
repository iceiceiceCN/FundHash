{
 "cells": [
  {
   "cell_type": "code",
   "execution_count": 1,
   "metadata": {},
   "outputs": [],
   "source": [
    "import pandas as pd\n",
    "import numpy as np\n",
    "import matplotlib.pylab as plt\n"
   ]
  },
  {
   "cell_type": "code",
   "execution_count": 2,
   "metadata": {},
   "outputs": [],
   "source": [
    "path_flag = 0"
   ]
  },
  {
   "cell_type": "code",
   "execution_count": 3,
   "metadata": {},
   "outputs": [
    {
     "output_type": "stream",
     "name": "stdout",
     "text": [
      "D:\\基金数据\\最新数据\\Data_after4_2021_5_15.txt\n"
     ]
    }
   ],
   "source": [
    "if path_flag == 0:\n",
    "    # A: 使用时间参数自动获取路径名\n",
    "    from datetime import datetime\n",
    "\n",
    "    today = datetime.now()\n",
    "\n",
    "    path = r\"D:\\基金数据\\最新数据\\Data_after4_{}_{}_{}.txt\".format(today.year,today.month,today.day) # 自动获取\n",
    "    # 要求输入列为：\n",
    "    # SHORTNAME\tFCODE\tMGRID\tMGRNAME\tSHARP1\tSHARP2\tSTDDEV1\tSTDDEV2\tMAXRETRA1\tGP\tZQ\tHB\tJZC\tWeek_up\tWeek_avg_up\tWeek_hs300_up\tWeek_rank\tWeek_competitors\tMonth_up\tMonth_avg_up\tMonth_hs300_up\tMonth_rank\tMonth_competitors\tYear_up\tYear_avg_up\tYear_hs300_up\tYear_rank\tYear_competitors\tNowYear_up\tNowYear_avg_up\tNowYear_hs300_up\tNowYear_rank\tNowYear_competitors\tTwoYear_up\tTwoYear_avg_up\tTwoYear_hs300_up\tTwoYear_rank\tTwoYear_competitors\tThreeYear_up\tThreeYear_avg_up\tThreeYear_hs300_up\tThreeYear_rank\tThreeYear_competitors\tFiveYear_up\tFiveYear_avg_up\tFiveYear_hs300_up\tFiveYear_rank\tFiveYear_competitors\tfundStocks_GPDM_0\tfundStocks_GPJC_0\tfundStocks_JZBL_0\tfundStocks_PCTNVCHG_0\tfundStocks_GPDM_1\tfundStocks_GPJC_1\tfundStocks_JZBL_1\tfundStocks_PCTNVCHG_1\tfundStocks_GPDM_2\tfundStocks_GPJC_2\tfundStocks_JZBL_2\tfundStocks_PCTNVCHG_2\tfundStocks_GPDM_3\tfundStocks_GPJC_3\tfundStocks_JZBL_3\tfundStocks_PCTNVCHG_3\tfundStocks_GPDM_4\tfundStocks_GPJC_4\tfundStocks_JZBL_4\tfundStocks_PCTNVCHG_4\tfundStocks_GPDM_5\tfundStocks_GPJC_5\tfundStocks_JZBL_5\tfundStocks_PCTNVCHG_5\tfundStocks_GPDM_6\tfundStocks_GPJC_6\tfundStocks_JZBL_6\tfundStocks_PCTNVCHG_6\tfundStocks_GPDM_7\tfundStocks_GPJC_7\tfundStocks_JZBL_7\tfundStocks_PCTNVCHG_7\tfundStocks_GPDM_8\tfundStocks_GPJC_8\tfundStocks_JZBL_8\tfundStocks_PCTNVCHG_8\tfundStocks_GPDM_9\tfundStocks_GPJC_9\tfundStocks_JZBL_9\tfundStocks_PCTNVCHG_9\tBaoTuan\tPayback\tDays\n",
    "    df = pd.read_table(path,converters={'FCODE':str,'MGRID':str},encoding='GB18030')\n",
    "\n",
    "    print(path)\n",
    "\n",
    "elif path_flag == 1:\n",
    "    # B: 指定路径名\n",
    "\n",
    "    path = r'D:\\基金数据\\最新数据\\Data_after4_2021_4_2.txt'\n",
    "    # 要求输入列为：\n",
    "    # SHORTNAME\tFCODE\tMGRID\tMGRNAME\tSHARP1\tSHARP2\tSTDDEV1\tSTDDEV2\tMAXRETRA1\tGP\tZQ\tHB\tJZC\tWeek_up\tWeek_avg_up\tWeek_hs300_up\tWeek_rank\tWeek_competitors\tMonth_up\tMonth_avg_up\tMonth_hs300_up\tMonth_rank\tMonth_competitors\tYear_up\tYear_avg_up\tYear_hs300_up\tYear_rank\tYear_competitors\tNowYear_up\tNowYear_avg_up\tNowYear_hs300_up\tNowYear_rank\tNowYear_competitors\tTwoYear_up\tTwoYear_avg_up\tTwoYear_hs300_up\tTwoYear_rank\tTwoYear_competitors\tThreeYear_up\tThreeYear_avg_up\tThreeYear_hs300_up\tThreeYear_rank\tThreeYear_competitors\tFiveYear_up\tFiveYear_avg_up\tFiveYear_hs300_up\tFiveYear_rank\tFiveYear_competitors\tfundStocks_GPDM_0\tfundStocks_GPJC_0\tfundStocks_JZBL_0\tfundStocks_PCTNVCHG_0\tfundStocks_GPDM_1\tfundStocks_GPJC_1\tfundStocks_JZBL_1\tfundStocks_PCTNVCHG_1\tfundStocks_GPDM_2\tfundStocks_GPJC_2\tfundStocks_JZBL_2\tfundStocks_PCTNVCHG_2\tfundStocks_GPDM_3\tfundStocks_GPJC_3\tfundStocks_JZBL_3\tfundStocks_PCTNVCHG_3\tfundStocks_GPDM_4\tfundStocks_GPJC_4\tfundStocks_JZBL_4\tfundStocks_PCTNVCHG_4\tfundStocks_GPDM_5\tfundStocks_GPJC_5\tfundStocks_JZBL_5\tfundStocks_PCTNVCHG_5\tfundStocks_GPDM_6\tfundStocks_GPJC_6\tfundStocks_JZBL_6\tfundStocks_PCTNVCHG_6\tfundStocks_GPDM_7\tfundStocks_GPJC_7\tfundStocks_JZBL_7\tfundStocks_PCTNVCHG_7\tfundStocks_GPDM_8\tfundStocks_GPJC_8\tfundStocks_JZBL_8\tfundStocks_PCTNVCHG_8\tfundStocks_GPDM_9\tfundStocks_GPJC_9\tfundStocks_JZBL_9\tfundStocks_PCTNVCHG_9\tBaoTuan\tPayback\tDays\n",
    "    df = pd.read_table(path,converters={'FCODE':str,'MGRID':str},encoding='GB18030')"
   ]
  },
  {
   "cell_type": "code",
   "execution_count": 4,
   "metadata": {},
   "outputs": [
    {
     "output_type": "execute_result",
     "data": {
      "text/plain": [
       "        SHORTNAME   FCODE              MGRID MGRNAME  SHARP1  SHARP2  STDDEV1  \\\n",
       "0   广发道琼斯石油指数人民币A  162719           30283311      刘杰   1.066   0.325   45.069   \n",
       "1       华夏新兴消费混合C  005889           30063386     孙轶佳   2.393   1.961   26.002   \n",
       "2      前海开源公用事业股票  005669           30707945     崔宸龙   1.692   1.098   29.326   \n",
       "3  华宝标普油气上游股票人民币C  007844  30200459,30732062   周晶,杨洋   0.987  -1.000   49.524   \n",
       "4      工银新能源汽车混合C  005940           30137001     闫思倩   1.739   1.503   37.707   \n",
       "5  华宝标普油气上游股票人民币A  162411  30200459,30732062   周晶,杨洋   0.996  -0.011   49.471   \n",
       "\n",
       "   STDDEV2  MAXRETRA1  Payback  ...  jd_19_1    nd_20   nd_19    nd_18  \\\n",
       "0   45.069      42.28   11.504  ...   -2.96%  -19.64%   8.58%  -15.20%   \n",
       "1   26.002      19.64   13.833  ...   -0.80%  103.08%  53.96%       --   \n",
       "2   29.326      26.79   42.187  ...    0.37%   56.99%   8.34%       --   \n",
       "3   49.524      44.52   -1.000  ...       --       --      --       --   \n",
       "4   37.707      30.12   16.155  ...  -11.37%  102.09%  35.27%       --   \n",
       "5   49.471      44.45   -1.000  ...  -10.42%  -30.31%  -9.57%  -23.84%   \n",
       "\n",
       "     nd_17   nd_16    nd_15    nd_14   nd_13  Unnamed: 18  \n",
       "0       --      --       --       --      --          NaN  \n",
       "1       --      --       --       --      --          NaN  \n",
       "2       --      --       --       --      --          NaN  \n",
       "3       --      --       --       --      --          NaN  \n",
       "4       --      --       --       --      --          NaN  \n",
       "5  -15.41%  44.24%  -34.78%  -32.23%  18.39%          NaN  \n",
       "\n",
       "[6 rows x 115 columns]"
      ],
      "text/html": "<div>\n<style scoped>\n    .dataframe tbody tr th:only-of-type {\n        vertical-align: middle;\n    }\n\n    .dataframe tbody tr th {\n        vertical-align: top;\n    }\n\n    .dataframe thead th {\n        text-align: right;\n    }\n</style>\n<table border=\"1\" class=\"dataframe\">\n  <thead>\n    <tr style=\"text-align: right;\">\n      <th></th>\n      <th>SHORTNAME</th>\n      <th>FCODE</th>\n      <th>MGRID</th>\n      <th>MGRNAME</th>\n      <th>SHARP1</th>\n      <th>SHARP2</th>\n      <th>STDDEV1</th>\n      <th>STDDEV2</th>\n      <th>MAXRETRA1</th>\n      <th>Payback</th>\n      <th>...</th>\n      <th>jd_19_1</th>\n      <th>nd_20</th>\n      <th>nd_19</th>\n      <th>nd_18</th>\n      <th>nd_17</th>\n      <th>nd_16</th>\n      <th>nd_15</th>\n      <th>nd_14</th>\n      <th>nd_13</th>\n      <th>Unnamed: 18</th>\n    </tr>\n  </thead>\n  <tbody>\n    <tr>\n      <th>0</th>\n      <td>广发道琼斯石油指数人民币A</td>\n      <td>162719</td>\n      <td>30283311</td>\n      <td>刘杰</td>\n      <td>1.066</td>\n      <td>0.325</td>\n      <td>45.069</td>\n      <td>45.069</td>\n      <td>42.28</td>\n      <td>11.504</td>\n      <td>...</td>\n      <td>-2.96%</td>\n      <td>-19.64%</td>\n      <td>8.58%</td>\n      <td>-15.20%</td>\n      <td>--</td>\n      <td>--</td>\n      <td>--</td>\n      <td>--</td>\n      <td>--</td>\n      <td>NaN</td>\n    </tr>\n    <tr>\n      <th>1</th>\n      <td>华夏新兴消费混合C</td>\n      <td>005889</td>\n      <td>30063386</td>\n      <td>孙轶佳</td>\n      <td>2.393</td>\n      <td>1.961</td>\n      <td>26.002</td>\n      <td>26.002</td>\n      <td>19.64</td>\n      <td>13.833</td>\n      <td>...</td>\n      <td>-0.80%</td>\n      <td>103.08%</td>\n      <td>53.96%</td>\n      <td>--</td>\n      <td>--</td>\n      <td>--</td>\n      <td>--</td>\n      <td>--</td>\n      <td>--</td>\n      <td>NaN</td>\n    </tr>\n    <tr>\n      <th>2</th>\n      <td>前海开源公用事业股票</td>\n      <td>005669</td>\n      <td>30707945</td>\n      <td>崔宸龙</td>\n      <td>1.692</td>\n      <td>1.098</td>\n      <td>29.326</td>\n      <td>29.326</td>\n      <td>26.79</td>\n      <td>42.187</td>\n      <td>...</td>\n      <td>0.37%</td>\n      <td>56.99%</td>\n      <td>8.34%</td>\n      <td>--</td>\n      <td>--</td>\n      <td>--</td>\n      <td>--</td>\n      <td>--</td>\n      <td>--</td>\n      <td>NaN</td>\n    </tr>\n    <tr>\n      <th>3</th>\n      <td>华宝标普油气上游股票人民币C</td>\n      <td>007844</td>\n      <td>30200459,30732062</td>\n      <td>周晶,杨洋</td>\n      <td>0.987</td>\n      <td>-1.000</td>\n      <td>49.524</td>\n      <td>49.524</td>\n      <td>44.52</td>\n      <td>-1.000</td>\n      <td>...</td>\n      <td>--</td>\n      <td>--</td>\n      <td>--</td>\n      <td>--</td>\n      <td>--</td>\n      <td>--</td>\n      <td>--</td>\n      <td>--</td>\n      <td>--</td>\n      <td>NaN</td>\n    </tr>\n    <tr>\n      <th>4</th>\n      <td>工银新能源汽车混合C</td>\n      <td>005940</td>\n      <td>30137001</td>\n      <td>闫思倩</td>\n      <td>1.739</td>\n      <td>1.503</td>\n      <td>37.707</td>\n      <td>37.707</td>\n      <td>30.12</td>\n      <td>16.155</td>\n      <td>...</td>\n      <td>-11.37%</td>\n      <td>102.09%</td>\n      <td>35.27%</td>\n      <td>--</td>\n      <td>--</td>\n      <td>--</td>\n      <td>--</td>\n      <td>--</td>\n      <td>--</td>\n      <td>NaN</td>\n    </tr>\n    <tr>\n      <th>5</th>\n      <td>华宝标普油气上游股票人民币A</td>\n      <td>162411</td>\n      <td>30200459,30732062</td>\n      <td>周晶,杨洋</td>\n      <td>0.996</td>\n      <td>-0.011</td>\n      <td>49.471</td>\n      <td>49.471</td>\n      <td>44.45</td>\n      <td>-1.000</td>\n      <td>...</td>\n      <td>-10.42%</td>\n      <td>-30.31%</td>\n      <td>-9.57%</td>\n      <td>-23.84%</td>\n      <td>-15.41%</td>\n      <td>44.24%</td>\n      <td>-34.78%</td>\n      <td>-32.23%</td>\n      <td>18.39%</td>\n      <td>NaN</td>\n    </tr>\n  </tbody>\n</table>\n<p>6 rows × 115 columns</p>\n</div>"
     },
     "metadata": {},
     "execution_count": 4
    }
   ],
   "source": [
    "df.head(6)"
   ]
  },
  {
   "cell_type": "code",
   "execution_count": 5,
   "metadata": {},
   "outputs": [
    {
     "output_type": "execute_result",
     "data": {
      "text/plain": [
       "array(['SHORTNAME', 'FCODE', 'MGRID', 'MGRNAME', 'SHARP1', 'SHARP2',\n",
       "       'STDDEV1', 'STDDEV2', 'MAXRETRA1', 'Payback', 'Days', 'BaoTuan',\n",
       "       '收益回撤比', 'GP', 'ZQ', 'HB', 'JZC', 'NowYear_up', 'NowYear_avg_up',\n",
       "       'NowYear_hs300_up', 'NowYear_rank', 'NowYear_competitors',\n",
       "       'Week_up', 'Week_avg_up', 'Week_hs300_up', 'Week_rank',\n",
       "       'Week_competitors', 'Month_up', 'Month_avg_up', 'Month_hs300_up',\n",
       "       'Month_rank', 'Month_competitors', 'Year_up', 'Year_avg_up',\n",
       "       'Year_hs300_up', 'Year_rank', 'Year_competitors', 'TwoYear_up',\n",
       "       'TwoYear_avg_up', 'TwoYear_hs300_up', 'TwoYear_rank',\n",
       "       'TwoYear_competitors', 'ThreeYear_up', 'ThreeYear_avg_up',\n",
       "       'ThreeYear_hs300_up', 'ThreeYear_rank', 'ThreeYear_competitors',\n",
       "       'FiveYear_up', 'FiveYear_avg_up', 'FiveYear_hs300_up',\n",
       "       'FiveYear_rank', 'FiveYear_competitors', 'fundStocks_GPDM_0',\n",
       "       'fundStocks_GPJC_0', 'fundStocks_JZBL_0', 'fundStocks_PCTNVCHG_0',\n",
       "       'fundStocks_GPDM_1', 'fundStocks_GPJC_1', 'fundStocks_JZBL_1',\n",
       "       'fundStocks_PCTNVCHG_1', 'fundStocks_GPDM_2', 'fundStocks_GPJC_2',\n",
       "       'fundStocks_JZBL_2', 'fundStocks_PCTNVCHG_2', 'fundStocks_GPDM_3',\n",
       "       'fundStocks_GPJC_3', 'fundStocks_JZBL_3', 'fundStocks_PCTNVCHG_3',\n",
       "       'fundStocks_GPDM_4', 'fundStocks_GPJC_4', 'fundStocks_JZBL_4',\n",
       "       'fundStocks_PCTNVCHG_4', 'fundStocks_GPDM_5', 'fundStocks_GPJC_5',\n",
       "       'fundStocks_JZBL_5', 'fundStocks_PCTNVCHG_5', 'fundStocks_GPDM_6',\n",
       "       'fundStocks_GPJC_6', 'fundStocks_JZBL_6', 'fundStocks_PCTNVCHG_6',\n",
       "       'fundStocks_GPDM_7', 'fundStocks_GPJC_7', 'fundStocks_JZBL_7',\n",
       "       'fundStocks_PCTNVCHG_7', 'fundStocks_GPDM_8', 'fundStocks_GPJC_8',\n",
       "       'fundStocks_JZBL_8', 'fundStocks_PCTNVCHG_8', 'fundStocks_GPDM_9',\n",
       "       'fundStocks_GPJC_9', 'fundStocks_JZBL_9', 'fundStocks_PCTNVCHG_9',\n",
       "       'pca_1', 'pca_2', 'pca_3', 'cluster', 'code', 'date', 'jd_20_4',\n",
       "       'jd_20_3', 'jd_20_2', 'jd_20_1', 'jd_19_4', 'jd_19_3', 'jd_19_2',\n",
       "       'jd_19_1', 'nd_20', 'nd_19', 'nd_18', 'nd_17', 'nd_16', 'nd_15',\n",
       "       'nd_14', 'nd_13', 'Unnamed: 18'], dtype=object)"
      ]
     },
     "metadata": {},
     "execution_count": 5
    }
   ],
   "source": [
    "df.columns.values"
   ]
  },
  {
   "cell_type": "code",
   "execution_count": 6,
   "metadata": {},
   "outputs": [],
   "source": [
    "df1 = df.copy()"
   ]
  },
  {
   "cell_type": "code",
   "execution_count": 7,
   "metadata": {},
   "outputs": [
    {
     "output_type": "execute_result",
     "data": {
      "text/plain": [
       "7545"
      ]
     },
     "metadata": {},
     "execution_count": 7
    }
   ],
   "source": [
    "datalen = len(df1)\n",
    "datalen"
   ]
  },
  {
   "cell_type": "code",
   "execution_count": 8,
   "metadata": {},
   "outputs": [
    {
     "output_type": "execute_result",
     "data": {
      "text/plain": [
       "dtype('float64')"
      ]
     },
     "metadata": {},
     "execution_count": 8
    }
   ],
   "source": [
    "# x = df1['SHARP1']\n",
    "# x.dtypes\n",
    "s = df1['SHARP1'][0]\n",
    "s.dtype\n",
    "# if x.dtypes == 'float64':\n",
    "#     print('0')\n",
    "# y = df1['nd_16']\n",
    "# y.dtypes"
   ]
  },
  {
   "cell_type": "code",
   "execution_count": 9,
   "metadata": {},
   "outputs": [],
   "source": [
    "def getSortedList(colName):\n",
    "    x = df1[colName]\n",
    "    x = x.replace('--',-100)\n",
    "    if type(x[0]) == str: # 如果为字符串\n",
    "        x1 = x.str.strip('%').astype(float)/100\n",
    "        x_res = x1.sort_values(ascending=False).tolist() \n",
    "        return x_res\n",
    "    if x.dtypes == 'float64':\n",
    "        x_res = x.sort_values(ascending=False).tolist()\n",
    "        return x_res\n",
    "\n",
    "#     return x_res"
   ]
  },
  {
   "cell_type": "code",
   "execution_count": 10,
   "metadata": {},
   "outputs": [],
   "source": [
    "def getSortedListASCE(colName):\n",
    "    x = df1[colName]\n",
    "    x = x.replace('--',-100)\n",
    "    if type(x) == str:\n",
    "        x1 = x.str.strip('%').astype(float)/100\n",
    "        x_res = x1.sort_values(ascending=True).tolist()\n",
    "        return x_res\n",
    "    if x.dtypes == 'float64':\n",
    "        x_res = x.sort_values(ascending=True).tolist()\n",
    "        return x_res\n",
    "\n",
    "#     return x_res"
   ]
  },
  {
   "cell_type": "code",
   "execution_count": 11,
   "metadata": {},
   "outputs": [],
   "source": [
    "def getData(colName,index):\n",
    "    x = df1[colName][index]\n",
    "    if x == '--':\n",
    "        return -1\n",
    "    if type(x) == str:\n",
    "        data = float(x.strip('%'))/100\n",
    "        return data\n",
    "    if x.dtype == 'float64':\n",
    "        data = x\n",
    "        return data\n",
    "    else:\n",
    "        return -1\n",
    "    \n",
    "#     return data"
   ]
  },
  {
   "cell_type": "code",
   "execution_count": 12,
   "metadata": {},
   "outputs": [],
   "source": [
    "def searchInsert(nums, target):\n",
    "    left = 0\n",
    "    right = len(nums)\n",
    "    while left < right:\n",
    "        mid = (left + right) // 2\n",
    "\n",
    "        if target < nums[mid]: ## 修改了大于小于号\n",
    "            left = mid + 1 # 位置变化\n",
    "        else:\n",
    "            right = mid\n",
    "\n",
    "    return left"
   ]
  },
  {
   "cell_type": "code",
   "execution_count": 13,
   "metadata": {},
   "outputs": [],
   "source": [
    "def getRanking(SortedList,data):\n",
    "#     index = searchInsert(SortedList,data) # 二分搜索查找插入位置，值可以不在列表内\n",
    "    try:\n",
    "        if data == -1:\n",
    "            # return len(SortedList)\n",
    "            return datalen\n",
    "    #     rank = np.where(np.array(SortedList) == float(data))[0][0] # 值必须在列表内\n",
    "        rank = SortedList.index(data)\n",
    "        rank_ = int(rank) + 1\n",
    "        return rank_\n",
    "    except:\n",
    "        return datalen\n",
    "#     return index"
   ]
  },
  {
   "cell_type": "code",
   "execution_count": 14,
   "metadata": {},
   "outputs": [],
   "source": [
    "# getRanking(m,t)"
   ]
  },
  {
   "cell_type": "code",
   "execution_count": 15,
   "metadata": {},
   "outputs": [],
   "source": [
    "# jd_20_4_rank = []\n",
    "# for i in range(len(df['FCODE'])):\n",
    "#     tmp_SortedList = getSortedList('jd_20_4')\n",
    "#     tmp_data = getData('jd_20_4',i)\n",
    "#     tmp_Rank = getRanking(tmp_SortedList,tmp_data)\n",
    "#     jd_20_4_rank.append(tmp_Rank)"
   ]
  },
  {
   "cell_type": "code",
   "execution_count": 16,
   "metadata": {},
   "outputs": [],
   "source": [
    "# df1['jd_20_4_rank'] = jd_20_4_rank"
   ]
  },
  {
   "cell_type": "code",
   "execution_count": 17,
   "metadata": {},
   "outputs": [
    {
     "output_type": "execute_result",
     "data": {
      "text/plain": [
       "        SHORTNAME   FCODE              MGRID MGRNAME  SHARP1  SHARP2  STDDEV1  \\\n",
       "0   广发道琼斯石油指数人民币A  162719           30283311      刘杰   1.066   0.325   45.069   \n",
       "1       华夏新兴消费混合C  005889           30063386     孙轶佳   2.393   1.961   26.002   \n",
       "2      前海开源公用事业股票  005669           30707945     崔宸龙   1.692   1.098   29.326   \n",
       "3  华宝标普油气上游股票人民币C  007844  30200459,30732062   周晶,杨洋   0.987  -1.000   49.524   \n",
       "4      工银新能源汽车混合C  005940           30137001     闫思倩   1.739   1.503   37.707   \n",
       "\n",
       "   STDDEV2  MAXRETRA1  Payback  ...  jd_19_1    nd_20   nd_19    nd_18  nd_17  \\\n",
       "0   45.069      42.28   11.504  ...   -2.96%  -19.64%   8.58%  -15.20%     --   \n",
       "1   26.002      19.64   13.833  ...   -0.80%  103.08%  53.96%       --     --   \n",
       "2   29.326      26.79   42.187  ...    0.37%   56.99%   8.34%       --     --   \n",
       "3   49.524      44.52   -1.000  ...       --       --      --       --     --   \n",
       "4   37.707      30.12   16.155  ...  -11.37%  102.09%  35.27%       --     --   \n",
       "\n",
       "   nd_16  nd_15  nd_14  nd_13  Unnamed: 18  \n",
       "0     --     --     --     --          NaN  \n",
       "1     --     --     --     --          NaN  \n",
       "2     --     --     --     --          NaN  \n",
       "3     --     --     --     --          NaN  \n",
       "4     --     --     --     --          NaN  \n",
       "\n",
       "[5 rows x 115 columns]"
      ],
      "text/html": "<div>\n<style scoped>\n    .dataframe tbody tr th:only-of-type {\n        vertical-align: middle;\n    }\n\n    .dataframe tbody tr th {\n        vertical-align: top;\n    }\n\n    .dataframe thead th {\n        text-align: right;\n    }\n</style>\n<table border=\"1\" class=\"dataframe\">\n  <thead>\n    <tr style=\"text-align: right;\">\n      <th></th>\n      <th>SHORTNAME</th>\n      <th>FCODE</th>\n      <th>MGRID</th>\n      <th>MGRNAME</th>\n      <th>SHARP1</th>\n      <th>SHARP2</th>\n      <th>STDDEV1</th>\n      <th>STDDEV2</th>\n      <th>MAXRETRA1</th>\n      <th>Payback</th>\n      <th>...</th>\n      <th>jd_19_1</th>\n      <th>nd_20</th>\n      <th>nd_19</th>\n      <th>nd_18</th>\n      <th>nd_17</th>\n      <th>nd_16</th>\n      <th>nd_15</th>\n      <th>nd_14</th>\n      <th>nd_13</th>\n      <th>Unnamed: 18</th>\n    </tr>\n  </thead>\n  <tbody>\n    <tr>\n      <th>0</th>\n      <td>广发道琼斯石油指数人民币A</td>\n      <td>162719</td>\n      <td>30283311</td>\n      <td>刘杰</td>\n      <td>1.066</td>\n      <td>0.325</td>\n      <td>45.069</td>\n      <td>45.069</td>\n      <td>42.28</td>\n      <td>11.504</td>\n      <td>...</td>\n      <td>-2.96%</td>\n      <td>-19.64%</td>\n      <td>8.58%</td>\n      <td>-15.20%</td>\n      <td>--</td>\n      <td>--</td>\n      <td>--</td>\n      <td>--</td>\n      <td>--</td>\n      <td>NaN</td>\n    </tr>\n    <tr>\n      <th>1</th>\n      <td>华夏新兴消费混合C</td>\n      <td>005889</td>\n      <td>30063386</td>\n      <td>孙轶佳</td>\n      <td>2.393</td>\n      <td>1.961</td>\n      <td>26.002</td>\n      <td>26.002</td>\n      <td>19.64</td>\n      <td>13.833</td>\n      <td>...</td>\n      <td>-0.80%</td>\n      <td>103.08%</td>\n      <td>53.96%</td>\n      <td>--</td>\n      <td>--</td>\n      <td>--</td>\n      <td>--</td>\n      <td>--</td>\n      <td>--</td>\n      <td>NaN</td>\n    </tr>\n    <tr>\n      <th>2</th>\n      <td>前海开源公用事业股票</td>\n      <td>005669</td>\n      <td>30707945</td>\n      <td>崔宸龙</td>\n      <td>1.692</td>\n      <td>1.098</td>\n      <td>29.326</td>\n      <td>29.326</td>\n      <td>26.79</td>\n      <td>42.187</td>\n      <td>...</td>\n      <td>0.37%</td>\n      <td>56.99%</td>\n      <td>8.34%</td>\n      <td>--</td>\n      <td>--</td>\n      <td>--</td>\n      <td>--</td>\n      <td>--</td>\n      <td>--</td>\n      <td>NaN</td>\n    </tr>\n    <tr>\n      <th>3</th>\n      <td>华宝标普油气上游股票人民币C</td>\n      <td>007844</td>\n      <td>30200459,30732062</td>\n      <td>周晶,杨洋</td>\n      <td>0.987</td>\n      <td>-1.000</td>\n      <td>49.524</td>\n      <td>49.524</td>\n      <td>44.52</td>\n      <td>-1.000</td>\n      <td>...</td>\n      <td>--</td>\n      <td>--</td>\n      <td>--</td>\n      <td>--</td>\n      <td>--</td>\n      <td>--</td>\n      <td>--</td>\n      <td>--</td>\n      <td>--</td>\n      <td>NaN</td>\n    </tr>\n    <tr>\n      <th>4</th>\n      <td>工银新能源汽车混合C</td>\n      <td>005940</td>\n      <td>30137001</td>\n      <td>闫思倩</td>\n      <td>1.739</td>\n      <td>1.503</td>\n      <td>37.707</td>\n      <td>37.707</td>\n      <td>30.12</td>\n      <td>16.155</td>\n      <td>...</td>\n      <td>-11.37%</td>\n      <td>102.09%</td>\n      <td>35.27%</td>\n      <td>--</td>\n      <td>--</td>\n      <td>--</td>\n      <td>--</td>\n      <td>--</td>\n      <td>--</td>\n      <td>NaN</td>\n    </tr>\n  </tbody>\n</table>\n<p>5 rows × 115 columns</p>\n</div>"
     },
     "metadata": {},
     "execution_count": 17
    }
   ],
   "source": [
    "df1 = df.copy()\n",
    "df1.head(5)"
   ]
  },
  {
   "cell_type": "code",
   "execution_count": 18,
   "metadata": {},
   "outputs": [],
   "source": [
    "def insertRank(colname,df):\n",
    "    tmp_RankList = []\n",
    "    for i in range(len(df['FCODE'])):\n",
    "        tmp_SortedList = getSortedList(colname)\n",
    "        tmp_data = getData(colname,i)\n",
    "        tmp_Rank = getRanking(tmp_SortedList,tmp_data)\n",
    "        tmp_RankList.append(tmp_Rank)\n",
    "    name = colname + '_rank'\n",
    "    df[name] = tmp_RankList\n",
    "#     return df"
   ]
  },
  {
   "cell_type": "code",
   "execution_count": 19,
   "metadata": {},
   "outputs": [],
   "source": [
    "def insertRankASCE(colname,df):\n",
    "    tmp_RankList = []\n",
    "    for i in range(len(df['FCODE'])):\n",
    "        tmp_SortedList = getSortedListASCE(colname)\n",
    "        tmp_data = getData(colname,i)\n",
    "        tmp_Rank = getRanking(tmp_SortedList,tmp_data)\n",
    "        tmp_RankList.append(tmp_Rank)\n",
    "    name = colname + '_rank'\n",
    "    df[name] = tmp_RankList\n",
    "#     return df"
   ]
  },
  {
   "cell_type": "code",
   "execution_count": 20,
   "metadata": {
    "tags": []
   },
   "outputs": [],
   "source": [
    "# 越大越好\n",
    "insertRank('SHARP1',df1)\n",
    "insertRank('SHARP2',df1)\n",
    "insertRank('收益回撤比',df1)\n",
    "insertRank('Days',df1)\n",
    "insertRank('Payback',df1)\n",
    "\n",
    "# 越小越好\n",
    "insertRank('STDDEV1',df1)\n",
    "insertRank('STDDEV2',df1)\n",
    "insertRank('MAXRETRA1',df1) # 越大 排名越靠前 所以应该反过来"
   ]
  },
  {
   "cell_type": "code",
   "execution_count": 21,
   "metadata": {},
   "outputs": [],
   "source": [
    "insertRank('jd_20_4',df1)\n",
    "insertRank('jd_20_3',df1)\n",
    "insertRank('jd_20_2',df1)\n",
    "insertRank('jd_20_1',df1)"
   ]
  },
  {
   "cell_type": "code",
   "execution_count": 22,
   "metadata": {},
   "outputs": [],
   "source": [
    "insertRank('jd_19_4',df1)\n",
    "insertRank('jd_19_3',df1)\n",
    "insertRank('jd_19_2',df1)\n",
    "insertRank('jd_19_1',df1)"
   ]
  },
  {
   "cell_type": "code",
   "execution_count": 23,
   "metadata": {},
   "outputs": [],
   "source": [
    "insertRank('nd_20',df1)\n",
    "insertRank('nd_19',df1)\n",
    "insertRank('nd_18',df1)\n",
    "insertRank('nd_17',df1)"
   ]
  },
  {
   "cell_type": "code",
   "execution_count": 24,
   "metadata": {},
   "outputs": [],
   "source": [
    "insertRank('nd_16',df1)\n",
    "insertRank('nd_15',df1)\n",
    "insertRank('nd_14',df1)\n",
    "insertRank('nd_13',df1)"
   ]
  },
  {
   "cell_type": "code",
   "execution_count": 25,
   "metadata": {},
   "outputs": [
    {
     "output_type": "stream",
     "name": "stderr",
     "text": [
      "D:\\Anaconda3\\lib\\site-packages\\pandas\\core\\frame.py:3065: SettingWithCopyWarning: \nA value is trying to be set on a copy of a slice from a DataFrame.\nTry using .loc[row_indexer,col_indexer] = value instead\n\nSee the caveats in the documentation: https://pandas.pydata.org/pandas-docs/stable/user_guide/indexing.html#returning-a-view-versus-a-copy\n  self[k1] = value[k2]\n"
     ]
    },
    {
     "output_type": "execute_result",
     "data": {
      "text/plain": [
       "      MAXRETRA1  MAXRETRA1_rank\n",
       "3         44.52               1\n",
       "5         44.45               2\n",
       "7544      42.42               3\n",
       "0         42.28               4\n",
       "838       40.53               5\n",
       "...         ...             ...\n",
       "824       -1.00            7545\n",
       "827       -1.00            7545\n",
       "2579      -1.00            7545\n",
       "828       -1.00            7545\n",
       "6188      -1.00            7545\n",
       "\n",
       "[7545 rows x 2 columns]"
      ],
      "text/html": "<div>\n<style scoped>\n    .dataframe tbody tr th:only-of-type {\n        vertical-align: middle;\n    }\n\n    .dataframe tbody tr th {\n        vertical-align: top;\n    }\n\n    .dataframe thead th {\n        text-align: right;\n    }\n</style>\n<table border=\"1\" class=\"dataframe\">\n  <thead>\n    <tr style=\"text-align: right;\">\n      <th></th>\n      <th>MAXRETRA1</th>\n      <th>MAXRETRA1_rank</th>\n    </tr>\n  </thead>\n  <tbody>\n    <tr>\n      <th>3</th>\n      <td>44.52</td>\n      <td>1</td>\n    </tr>\n    <tr>\n      <th>5</th>\n      <td>44.45</td>\n      <td>2</td>\n    </tr>\n    <tr>\n      <th>7544</th>\n      <td>42.42</td>\n      <td>3</td>\n    </tr>\n    <tr>\n      <th>0</th>\n      <td>42.28</td>\n      <td>4</td>\n    </tr>\n    <tr>\n      <th>838</th>\n      <td>40.53</td>\n      <td>5</td>\n    </tr>\n    <tr>\n      <th>...</th>\n      <td>...</td>\n      <td>...</td>\n    </tr>\n    <tr>\n      <th>824</th>\n      <td>-1.00</td>\n      <td>7545</td>\n    </tr>\n    <tr>\n      <th>827</th>\n      <td>-1.00</td>\n      <td>7545</td>\n    </tr>\n    <tr>\n      <th>2579</th>\n      <td>-1.00</td>\n      <td>7545</td>\n    </tr>\n    <tr>\n      <th>828</th>\n      <td>-1.00</td>\n      <td>7545</td>\n    </tr>\n    <tr>\n      <th>6188</th>\n      <td>-1.00</td>\n      <td>7545</td>\n    </tr>\n  </tbody>\n</table>\n<p>7545 rows × 2 columns</p>\n</div>"
     },
     "metadata": {},
     "execution_count": 25
    }
   ],
   "source": [
    "df_10 = df1[['MAXRETRA1','MAXRETRA1_rank']]\n",
    "df_10[['MAXRETRA1_rank']]  = df_10[['MAXRETRA1_rank']].apply(pd.to_numeric)\n",
    "df_10[['MAXRETRA1','MAXRETRA1_rank']].sort_values(by = ['MAXRETRA1'],ascending=False)"
   ]
  },
  {
   "cell_type": "code",
   "execution_count": 26,
   "metadata": {},
   "outputs": [],
   "source": [
    "df2 = df1.iloc[:,-16:-1]"
   ]
  },
  {
   "cell_type": "code",
   "execution_count": 27,
   "metadata": {},
   "outputs": [
    {
     "output_type": "execute_result",
     "data": {
      "text/plain": [
       "   jd_20_4_rank  jd_20_3_rank  jd_20_2_rank  jd_20_1_rank  jd_19_4_rank  \\\n",
       "0             5           141          6306           113          5659   \n",
       "1          3440            94           166           394          4573   \n",
       "2          6651            24           756          3544          5286   \n",
       "3             4            75          6305             2          7545   \n",
       "4          6999            16          1572           341          5020   \n",
       "5             3            72          6304             1          5661   \n",
       "6          6994            14          1542           329          5006   \n",
       "7          1970           114           100          1443          4846   \n",
       "8          3457            83           119          1325          5539   \n",
       "9          5436            56           188           505          4802   \n",
       "\n",
       "   jd_19_3_rank  jd_19_2_rank  jd_19_1_rank  nd_20_rank  nd_19_rank  \\\n",
       "0          2788          5089          3589        5627        3411   \n",
       "1           123          2472          2884          78         555   \n",
       "2          4855          2431          2093        1255        3440   \n",
       "3          7545          7545          7545        7545        7545   \n",
       "4            18          1764          4801          88        1662   \n",
       "5          3774          5152          4765        5662        4632   \n",
       "6            16          1720          4797          81        1569   \n",
       "7          1533          4893          7545         325        7545   \n",
       "8           128          4762          1237         581        2041   \n",
       "9           701           338          4610          80        1202   \n",
       "\n",
       "   nd_18_rank  nd_17_rank  nd_16_rank  nd_15_rank  nd_14_rank  \n",
       "0        2043        7545        7545        7545        7545  \n",
       "1        7545        7545        7545        7545        7545  \n",
       "2        7545        7545        7545        7545        7545  \n",
       "3        7545        7545        7545        7545        7545  \n",
       "4        7545        7545        7545        7545        7545  \n",
       "5        2942        7545        7545        7545        7545  \n",
       "6        7545        7545        7545        7545        7545  \n",
       "7        7545        7545        7545        7545        7545  \n",
       "8        7545        7545        7545        7545        7545  \n",
       "9        3509        7545        7545        7545        7545  "
      ],
      "text/html": "<div>\n<style scoped>\n    .dataframe tbody tr th:only-of-type {\n        vertical-align: middle;\n    }\n\n    .dataframe tbody tr th {\n        vertical-align: top;\n    }\n\n    .dataframe thead th {\n        text-align: right;\n    }\n</style>\n<table border=\"1\" class=\"dataframe\">\n  <thead>\n    <tr style=\"text-align: right;\">\n      <th></th>\n      <th>jd_20_4_rank</th>\n      <th>jd_20_3_rank</th>\n      <th>jd_20_2_rank</th>\n      <th>jd_20_1_rank</th>\n      <th>jd_19_4_rank</th>\n      <th>jd_19_3_rank</th>\n      <th>jd_19_2_rank</th>\n      <th>jd_19_1_rank</th>\n      <th>nd_20_rank</th>\n      <th>nd_19_rank</th>\n      <th>nd_18_rank</th>\n      <th>nd_17_rank</th>\n      <th>nd_16_rank</th>\n      <th>nd_15_rank</th>\n      <th>nd_14_rank</th>\n    </tr>\n  </thead>\n  <tbody>\n    <tr>\n      <th>0</th>\n      <td>5</td>\n      <td>141</td>\n      <td>6306</td>\n      <td>113</td>\n      <td>5659</td>\n      <td>2788</td>\n      <td>5089</td>\n      <td>3589</td>\n      <td>5627</td>\n      <td>3411</td>\n      <td>2043</td>\n      <td>7545</td>\n      <td>7545</td>\n      <td>7545</td>\n      <td>7545</td>\n    </tr>\n    <tr>\n      <th>1</th>\n      <td>3440</td>\n      <td>94</td>\n      <td>166</td>\n      <td>394</td>\n      <td>4573</td>\n      <td>123</td>\n      <td>2472</td>\n      <td>2884</td>\n      <td>78</td>\n      <td>555</td>\n      <td>7545</td>\n      <td>7545</td>\n      <td>7545</td>\n      <td>7545</td>\n      <td>7545</td>\n    </tr>\n    <tr>\n      <th>2</th>\n      <td>6651</td>\n      <td>24</td>\n      <td>756</td>\n      <td>3544</td>\n      <td>5286</td>\n      <td>4855</td>\n      <td>2431</td>\n      <td>2093</td>\n      <td>1255</td>\n      <td>3440</td>\n      <td>7545</td>\n      <td>7545</td>\n      <td>7545</td>\n      <td>7545</td>\n      <td>7545</td>\n    </tr>\n    <tr>\n      <th>3</th>\n      <td>4</td>\n      <td>75</td>\n      <td>6305</td>\n      <td>2</td>\n      <td>7545</td>\n      <td>7545</td>\n      <td>7545</td>\n      <td>7545</td>\n      <td>7545</td>\n      <td>7545</td>\n      <td>7545</td>\n      <td>7545</td>\n      <td>7545</td>\n      <td>7545</td>\n      <td>7545</td>\n    </tr>\n    <tr>\n      <th>4</th>\n      <td>6999</td>\n      <td>16</td>\n      <td>1572</td>\n      <td>341</td>\n      <td>5020</td>\n      <td>18</td>\n      <td>1764</td>\n      <td>4801</td>\n      <td>88</td>\n      <td>1662</td>\n      <td>7545</td>\n      <td>7545</td>\n      <td>7545</td>\n      <td>7545</td>\n      <td>7545</td>\n    </tr>\n    <tr>\n      <th>5</th>\n      <td>3</td>\n      <td>72</td>\n      <td>6304</td>\n      <td>1</td>\n      <td>5661</td>\n      <td>3774</td>\n      <td>5152</td>\n      <td>4765</td>\n      <td>5662</td>\n      <td>4632</td>\n      <td>2942</td>\n      <td>7545</td>\n      <td>7545</td>\n      <td>7545</td>\n      <td>7545</td>\n    </tr>\n    <tr>\n      <th>6</th>\n      <td>6994</td>\n      <td>14</td>\n      <td>1542</td>\n      <td>329</td>\n      <td>5006</td>\n      <td>16</td>\n      <td>1720</td>\n      <td>4797</td>\n      <td>81</td>\n      <td>1569</td>\n      <td>7545</td>\n      <td>7545</td>\n      <td>7545</td>\n      <td>7545</td>\n      <td>7545</td>\n    </tr>\n    <tr>\n      <th>7</th>\n      <td>1970</td>\n      <td>114</td>\n      <td>100</td>\n      <td>1443</td>\n      <td>4846</td>\n      <td>1533</td>\n      <td>4893</td>\n      <td>7545</td>\n      <td>325</td>\n      <td>7545</td>\n      <td>7545</td>\n      <td>7545</td>\n      <td>7545</td>\n      <td>7545</td>\n      <td>7545</td>\n    </tr>\n    <tr>\n      <th>8</th>\n      <td>3457</td>\n      <td>83</td>\n      <td>119</td>\n      <td>1325</td>\n      <td>5539</td>\n      <td>128</td>\n      <td>4762</td>\n      <td>1237</td>\n      <td>581</td>\n      <td>2041</td>\n      <td>7545</td>\n      <td>7545</td>\n      <td>7545</td>\n      <td>7545</td>\n      <td>7545</td>\n    </tr>\n    <tr>\n      <th>9</th>\n      <td>5436</td>\n      <td>56</td>\n      <td>188</td>\n      <td>505</td>\n      <td>4802</td>\n      <td>701</td>\n      <td>338</td>\n      <td>4610</td>\n      <td>80</td>\n      <td>1202</td>\n      <td>3509</td>\n      <td>7545</td>\n      <td>7545</td>\n      <td>7545</td>\n      <td>7545</td>\n    </tr>\n  </tbody>\n</table>\n</div>"
     },
     "metadata": {},
     "execution_count": 27
    }
   ],
   "source": [
    "df2.head(10)"
   ]
  },
  {
   "cell_type": "code",
   "execution_count": 28,
   "metadata": {
    "scrolled": true
   },
   "outputs": [
    {
     "output_type": "execute_result",
     "data": {
      "text/plain": [
       "array(['SHORTNAME', 'FCODE', 'MGRID', 'MGRNAME', 'SHARP1', 'SHARP2',\n",
       "       'STDDEV1', 'STDDEV2', 'MAXRETRA1', 'Payback', 'Days', 'BaoTuan',\n",
       "       '收益回撤比', 'GP', 'ZQ', 'HB', 'JZC', 'NowYear_up', 'NowYear_avg_up',\n",
       "       'NowYear_hs300_up', 'NowYear_rank', 'NowYear_competitors',\n",
       "       'Week_up', 'Week_avg_up', 'Week_hs300_up', 'Week_rank',\n",
       "       'Week_competitors', 'Month_up', 'Month_avg_up', 'Month_hs300_up',\n",
       "       'Month_rank', 'Month_competitors', 'Year_up', 'Year_avg_up',\n",
       "       'Year_hs300_up', 'Year_rank', 'Year_competitors', 'TwoYear_up',\n",
       "       'TwoYear_avg_up', 'TwoYear_hs300_up', 'TwoYear_rank',\n",
       "       'TwoYear_competitors', 'ThreeYear_up', 'ThreeYear_avg_up',\n",
       "       'ThreeYear_hs300_up', 'ThreeYear_rank', 'ThreeYear_competitors',\n",
       "       'FiveYear_up', 'FiveYear_avg_up', 'FiveYear_hs300_up',\n",
       "       'FiveYear_rank', 'FiveYear_competitors', 'fundStocks_GPDM_0',\n",
       "       'fundStocks_GPJC_0', 'fundStocks_JZBL_0', 'fundStocks_PCTNVCHG_0',\n",
       "       'fundStocks_GPDM_1', 'fundStocks_GPJC_1', 'fundStocks_JZBL_1',\n",
       "       'fundStocks_PCTNVCHG_1', 'fundStocks_GPDM_2', 'fundStocks_GPJC_2',\n",
       "       'fundStocks_JZBL_2', 'fundStocks_PCTNVCHG_2', 'fundStocks_GPDM_3',\n",
       "       'fundStocks_GPJC_3', 'fundStocks_JZBL_3', 'fundStocks_PCTNVCHG_3',\n",
       "       'fundStocks_GPDM_4', 'fundStocks_GPJC_4', 'fundStocks_JZBL_4',\n",
       "       'fundStocks_PCTNVCHG_4', 'fundStocks_GPDM_5', 'fundStocks_GPJC_5',\n",
       "       'fundStocks_JZBL_5', 'fundStocks_PCTNVCHG_5', 'fundStocks_GPDM_6',\n",
       "       'fundStocks_GPJC_6', 'fundStocks_JZBL_6', 'fundStocks_PCTNVCHG_6',\n",
       "       'fundStocks_GPDM_7', 'fundStocks_GPJC_7', 'fundStocks_JZBL_7',\n",
       "       'fundStocks_PCTNVCHG_7', 'fundStocks_GPDM_8', 'fundStocks_GPJC_8',\n",
       "       'fundStocks_JZBL_8', 'fundStocks_PCTNVCHG_8', 'fundStocks_GPDM_9',\n",
       "       'fundStocks_GPJC_9', 'fundStocks_JZBL_9', 'fundStocks_PCTNVCHG_9',\n",
       "       'pca_1', 'pca_2', 'pca_3', 'cluster', 'code', 'date', 'jd_20_4',\n",
       "       'jd_20_3', 'jd_20_2', 'jd_20_1', 'jd_19_4', 'jd_19_3', 'jd_19_2',\n",
       "       'jd_19_1', 'nd_20', 'nd_19', 'nd_18', 'nd_17', 'nd_16', 'nd_15',\n",
       "       'nd_14', 'nd_13', 'Unnamed: 18', 'SHARP1_rank', 'SHARP2_rank',\n",
       "       '收益回撤比_rank', 'Days_rank', 'Payback_rank', 'STDDEV1_rank',\n",
       "       'STDDEV2_rank', 'MAXRETRA1_rank', 'jd_20_4_rank', 'jd_20_3_rank',\n",
       "       'jd_20_2_rank', 'jd_20_1_rank', 'jd_19_4_rank', 'jd_19_3_rank',\n",
       "       'jd_19_2_rank', 'jd_19_1_rank', 'nd_20_rank', 'nd_19_rank',\n",
       "       'nd_18_rank', 'nd_17_rank', 'nd_16_rank', 'nd_15_rank',\n",
       "       'nd_14_rank', 'nd_13_rank'], dtype=object)"
      ]
     },
     "metadata": {},
     "execution_count": 28
    }
   ],
   "source": [
    "df1.columns.values"
   ]
  },
  {
   "cell_type": "code",
   "execution_count": 29,
   "metadata": {},
   "outputs": [],
   "source": [
    "table1 = ['SHORTNAME','FCODE','date','cluster','MGRID','MGRNAME',\n",
    "        'Days','Days_rank',\n",
    "        'Payback','Payback_rank',\n",
    "        'SHARP1','SHARP1_rank',\n",
    "        'SHARP2','SHARP2_rank',\n",
    "        'STDDEV1','STDDEV1_rank',\n",
    "        'STDDEV2','STDDEV2_rank',\n",
    "        'MAXRETRA1','MAXRETRA1_rank',\n",
    "        'BaoTuan',\n",
    "         '收益回撤比','收益回撤比_rank',\n",
    "          'GP', 'ZQ', 'HB', 'JZC',\n",
    "         'Week_up', 'Week_avg_up',\n",
    "       'Week_hs300_up', 'Week_rank', 'Week_competitors', 'Month_up',\n",
    "       'Month_avg_up', 'Month_hs300_up', 'Month_rank',\n",
    "       'Month_competitors', 'Year_up', 'Year_avg_up', 'Year_hs300_up',\n",
    "       'Year_rank', 'Year_competitors', 'NowYear_up', 'NowYear_avg_up',\n",
    "       'NowYear_hs300_up', 'NowYear_rank', 'NowYear_competitors',\n",
    "       'TwoYear_up', 'TwoYear_avg_up', 'TwoYear_hs300_up', 'TwoYear_rank',\n",
    "       'TwoYear_competitors', 'ThreeYear_up', 'ThreeYear_avg_up',\n",
    "       'ThreeYear_hs300_up', 'ThreeYear_rank', 'ThreeYear_competitors',\n",
    "       'FiveYear_up', 'FiveYear_avg_up', 'FiveYear_hs300_up',\n",
    "       'FiveYear_rank', 'FiveYear_competitors', 'fundStocks_GPDM_0',\n",
    "       'fundStocks_GPJC_0', 'fundStocks_JZBL_0', 'fundStocks_PCTNVCHG_0',\n",
    "       'fundStocks_GPDM_1', 'fundStocks_GPJC_1', 'fundStocks_JZBL_1',\n",
    "       'fundStocks_PCTNVCHG_1', 'fundStocks_GPDM_2', 'fundStocks_GPJC_2',\n",
    "       'fundStocks_JZBL_2', 'fundStocks_PCTNVCHG_2', 'fundStocks_GPDM_3',\n",
    "       'fundStocks_GPJC_3', 'fundStocks_JZBL_3', 'fundStocks_PCTNVCHG_3',\n",
    "       'fundStocks_GPDM_4', 'fundStocks_GPJC_4', 'fundStocks_JZBL_4',\n",
    "       'fundStocks_PCTNVCHG_4', 'fundStocks_GPDM_5', 'fundStocks_GPJC_5',\n",
    "       'fundStocks_JZBL_5', 'fundStocks_PCTNVCHG_5', 'fundStocks_GPDM_6',\n",
    "       'fundStocks_GPJC_6', 'fundStocks_JZBL_6', 'fundStocks_PCTNVCHG_6',\n",
    "       'fundStocks_GPDM_7', 'fundStocks_GPJC_7', 'fundStocks_JZBL_7',\n",
    "       'fundStocks_PCTNVCHG_7', 'fundStocks_GPDM_8', 'fundStocks_GPJC_8',\n",
    "       'fundStocks_JZBL_8', 'fundStocks_PCTNVCHG_8', 'fundStocks_GPDM_9',\n",
    "       'fundStocks_GPJC_9', 'fundStocks_JZBL_9', 'fundStocks_PCTNVCHG_9',\n",
    "        'jd_20_4','jd_20_4_rank',\n",
    "          'jd_20_3','jd_20_3_rank',\n",
    "          'jd_20_2', 'jd_20_2_rank',\n",
    "          'jd_20_1', 'jd_20_1_rank',\n",
    "          'jd_19_4', 'jd_19_4_rank',\n",
    "          'jd_19_3','jd_19_3_rank',\n",
    "          'jd_19_2','jd_19_2_rank',\n",
    "          'jd_19_1', 'jd_19_1_rank',\n",
    "          'nd_20', 'nd_20_rank',\n",
    "          'nd_19','nd_19_rank',\n",
    "          'nd_18','nd_18_rank',\n",
    "          'nd_17', 'nd_17_rank',\n",
    "          'nd_16', 'nd_16_rank',\n",
    "          'nd_15','nd_15_rank',\n",
    "          'nd_14', 'nd_14_rank',\n",
    "          'nd_13','nd_13_rank']\n",
    "\n",
    "df_table1 = df1[table1]"
   ]
  },
  {
   "cell_type": "code",
   "execution_count": 30,
   "metadata": {},
   "outputs": [
    {
     "output_type": "execute_result",
     "data": {
      "text/plain": [
       "           SHORTNAME   FCODE   date  cluster              MGRID MGRNAME  \\\n",
       "0      广发道琼斯石油指数人民币A  162719  05-13        6           30283311      刘杰   \n",
       "1          华夏新兴消费混合C  005889  05-14        2           30063386     孙轶佳   \n",
       "2         前海开源公用事业股票  005669  05-14        0           30707945     崔宸龙   \n",
       "3     华宝标普油气上游股票人民币C  007844  05-13        6  30200459,30732062   周晶,杨洋   \n",
       "4         工银新能源汽车混合C  005940  05-14        6           30137001     闫思倩   \n",
       "...              ...     ...    ...      ...                ...     ...   \n",
       "7540        华夏能源革新股票  003834  05-14        0           30529020     郑泽鸿   \n",
       "7541        广发价值领先混合  008099  05-14        5           30137559     林英睿   \n",
       "7542         南华丰淳混合A  005296  05-14        6  30544226,30387648   刘斐,徐超   \n",
       "7543        金鹰改革红利混合  001951  05-14        6  30396307,30196981  倪超,韩广哲   \n",
       "7544   广发道琼斯石油指数人民币C  004243  05-13        6           30283311      刘杰   \n",
       "\n",
       "        Days  Days_rank  Payback  Payback_rank  ...  nd_17  nd_17_rank  nd_16  \\\n",
       "0     2543.0       1710   11.504          3125  ...     --        7545     --   \n",
       "1     1946.0       3281   13.833          2596  ...     --        7545     --   \n",
       "2      241.0       7102   42.187           204  ...     --        7545     --   \n",
       "3       -1.0       7545   -1.000          7545  ...     --        7545     --   \n",
       "4     1248.0       5024   16.155          2060  ...     --        7545     --   \n",
       "...      ...        ...      ...           ...  ...    ...         ...    ...   \n",
       "7540  1380.0       4750   27.645           613  ...     --        7545     --   \n",
       "7541  1937.0       3304   10.678          3353  ...     --        7545     --   \n",
       "7542  1780.0       3752    7.277          4267  ...     --        7545     --   \n",
       "7543  2107.0       2732   14.442          2463  ...  4.91%        7545  7.68%   \n",
       "7544  2543.0       1710   11.504          3125  ...     --        7545     --   \n",
       "\n",
       "      nd_16_rank  nd_15  nd_15_rank  nd_14  nd_14_rank  nd_13  nd_13_rank  \n",
       "0           7545     --        7545     --        7545     --        7545  \n",
       "1           7545     --        7545     --        7545     --        7545  \n",
       "2           7545     --        7545     --        7545     --        7545  \n",
       "3           7545     --        7545     --        7545     --        7545  \n",
       "4           7545     --        7545     --        7545     --        7545  \n",
       "...          ...    ...         ...    ...         ...    ...         ...  \n",
       "7540        7545     --        7545     --        7545     --        7545  \n",
       "7541        7545     --        7545     --        7545     --        7545  \n",
       "7542        7545     --        7545     --        7545     --        7545  \n",
       "7543        7545     --        7545     --        7545     --        7545  \n",
       "7544        7545     --        7545     --        7545     --        7545  \n",
       "\n",
       "[7545 rows x 134 columns]"
      ],
      "text/html": "<div>\n<style scoped>\n    .dataframe tbody tr th:only-of-type {\n        vertical-align: middle;\n    }\n\n    .dataframe tbody tr th {\n        vertical-align: top;\n    }\n\n    .dataframe thead th {\n        text-align: right;\n    }\n</style>\n<table border=\"1\" class=\"dataframe\">\n  <thead>\n    <tr style=\"text-align: right;\">\n      <th></th>\n      <th>SHORTNAME</th>\n      <th>FCODE</th>\n      <th>date</th>\n      <th>cluster</th>\n      <th>MGRID</th>\n      <th>MGRNAME</th>\n      <th>Days</th>\n      <th>Days_rank</th>\n      <th>Payback</th>\n      <th>Payback_rank</th>\n      <th>...</th>\n      <th>nd_17</th>\n      <th>nd_17_rank</th>\n      <th>nd_16</th>\n      <th>nd_16_rank</th>\n      <th>nd_15</th>\n      <th>nd_15_rank</th>\n      <th>nd_14</th>\n      <th>nd_14_rank</th>\n      <th>nd_13</th>\n      <th>nd_13_rank</th>\n    </tr>\n  </thead>\n  <tbody>\n    <tr>\n      <th>0</th>\n      <td>广发道琼斯石油指数人民币A</td>\n      <td>162719</td>\n      <td>05-13</td>\n      <td>6</td>\n      <td>30283311</td>\n      <td>刘杰</td>\n      <td>2543.0</td>\n      <td>1710</td>\n      <td>11.504</td>\n      <td>3125</td>\n      <td>...</td>\n      <td>--</td>\n      <td>7545</td>\n      <td>--</td>\n      <td>7545</td>\n      <td>--</td>\n      <td>7545</td>\n      <td>--</td>\n      <td>7545</td>\n      <td>--</td>\n      <td>7545</td>\n    </tr>\n    <tr>\n      <th>1</th>\n      <td>华夏新兴消费混合C</td>\n      <td>005889</td>\n      <td>05-14</td>\n      <td>2</td>\n      <td>30063386</td>\n      <td>孙轶佳</td>\n      <td>1946.0</td>\n      <td>3281</td>\n      <td>13.833</td>\n      <td>2596</td>\n      <td>...</td>\n      <td>--</td>\n      <td>7545</td>\n      <td>--</td>\n      <td>7545</td>\n      <td>--</td>\n      <td>7545</td>\n      <td>--</td>\n      <td>7545</td>\n      <td>--</td>\n      <td>7545</td>\n    </tr>\n    <tr>\n      <th>2</th>\n      <td>前海开源公用事业股票</td>\n      <td>005669</td>\n      <td>05-14</td>\n      <td>0</td>\n      <td>30707945</td>\n      <td>崔宸龙</td>\n      <td>241.0</td>\n      <td>7102</td>\n      <td>42.187</td>\n      <td>204</td>\n      <td>...</td>\n      <td>--</td>\n      <td>7545</td>\n      <td>--</td>\n      <td>7545</td>\n      <td>--</td>\n      <td>7545</td>\n      <td>--</td>\n      <td>7545</td>\n      <td>--</td>\n      <td>7545</td>\n    </tr>\n    <tr>\n      <th>3</th>\n      <td>华宝标普油气上游股票人民币C</td>\n      <td>007844</td>\n      <td>05-13</td>\n      <td>6</td>\n      <td>30200459,30732062</td>\n      <td>周晶,杨洋</td>\n      <td>-1.0</td>\n      <td>7545</td>\n      <td>-1.000</td>\n      <td>7545</td>\n      <td>...</td>\n      <td>--</td>\n      <td>7545</td>\n      <td>--</td>\n      <td>7545</td>\n      <td>--</td>\n      <td>7545</td>\n      <td>--</td>\n      <td>7545</td>\n      <td>--</td>\n      <td>7545</td>\n    </tr>\n    <tr>\n      <th>4</th>\n      <td>工银新能源汽车混合C</td>\n      <td>005940</td>\n      <td>05-14</td>\n      <td>6</td>\n      <td>30137001</td>\n      <td>闫思倩</td>\n      <td>1248.0</td>\n      <td>5024</td>\n      <td>16.155</td>\n      <td>2060</td>\n      <td>...</td>\n      <td>--</td>\n      <td>7545</td>\n      <td>--</td>\n      <td>7545</td>\n      <td>--</td>\n      <td>7545</td>\n      <td>--</td>\n      <td>7545</td>\n      <td>--</td>\n      <td>7545</td>\n    </tr>\n    <tr>\n      <th>...</th>\n      <td>...</td>\n      <td>...</td>\n      <td>...</td>\n      <td>...</td>\n      <td>...</td>\n      <td>...</td>\n      <td>...</td>\n      <td>...</td>\n      <td>...</td>\n      <td>...</td>\n      <td>...</td>\n      <td>...</td>\n      <td>...</td>\n      <td>...</td>\n      <td>...</td>\n      <td>...</td>\n      <td>...</td>\n      <td>...</td>\n      <td>...</td>\n      <td>...</td>\n      <td>...</td>\n    </tr>\n    <tr>\n      <th>7540</th>\n      <td>华夏能源革新股票</td>\n      <td>003834</td>\n      <td>05-14</td>\n      <td>0</td>\n      <td>30529020</td>\n      <td>郑泽鸿</td>\n      <td>1380.0</td>\n      <td>4750</td>\n      <td>27.645</td>\n      <td>613</td>\n      <td>...</td>\n      <td>--</td>\n      <td>7545</td>\n      <td>--</td>\n      <td>7545</td>\n      <td>--</td>\n      <td>7545</td>\n      <td>--</td>\n      <td>7545</td>\n      <td>--</td>\n      <td>7545</td>\n    </tr>\n    <tr>\n      <th>7541</th>\n      <td>广发价值领先混合</td>\n      <td>008099</td>\n      <td>05-14</td>\n      <td>5</td>\n      <td>30137559</td>\n      <td>林英睿</td>\n      <td>1937.0</td>\n      <td>3304</td>\n      <td>10.678</td>\n      <td>3353</td>\n      <td>...</td>\n      <td>--</td>\n      <td>7545</td>\n      <td>--</td>\n      <td>7545</td>\n      <td>--</td>\n      <td>7545</td>\n      <td>--</td>\n      <td>7545</td>\n      <td>--</td>\n      <td>7545</td>\n    </tr>\n    <tr>\n      <th>7542</th>\n      <td>南华丰淳混合A</td>\n      <td>005296</td>\n      <td>05-14</td>\n      <td>6</td>\n      <td>30544226,30387648</td>\n      <td>刘斐,徐超</td>\n      <td>1780.0</td>\n      <td>3752</td>\n      <td>7.277</td>\n      <td>4267</td>\n      <td>...</td>\n      <td>--</td>\n      <td>7545</td>\n      <td>--</td>\n      <td>7545</td>\n      <td>--</td>\n      <td>7545</td>\n      <td>--</td>\n      <td>7545</td>\n      <td>--</td>\n      <td>7545</td>\n    </tr>\n    <tr>\n      <th>7543</th>\n      <td>金鹰改革红利混合</td>\n      <td>001951</td>\n      <td>05-14</td>\n      <td>6</td>\n      <td>30396307,30196981</td>\n      <td>倪超,韩广哲</td>\n      <td>2107.0</td>\n      <td>2732</td>\n      <td>14.442</td>\n      <td>2463</td>\n      <td>...</td>\n      <td>4.91%</td>\n      <td>7545</td>\n      <td>7.68%</td>\n      <td>7545</td>\n      <td>--</td>\n      <td>7545</td>\n      <td>--</td>\n      <td>7545</td>\n      <td>--</td>\n      <td>7545</td>\n    </tr>\n    <tr>\n      <th>7544</th>\n      <td>广发道琼斯石油指数人民币C</td>\n      <td>004243</td>\n      <td>05-13</td>\n      <td>6</td>\n      <td>30283311</td>\n      <td>刘杰</td>\n      <td>2543.0</td>\n      <td>1710</td>\n      <td>11.504</td>\n      <td>3125</td>\n      <td>...</td>\n      <td>--</td>\n      <td>7545</td>\n      <td>--</td>\n      <td>7545</td>\n      <td>--</td>\n      <td>7545</td>\n      <td>--</td>\n      <td>7545</td>\n      <td>--</td>\n      <td>7545</td>\n    </tr>\n  </tbody>\n</table>\n<p>7545 rows × 134 columns</p>\n</div>"
     },
     "metadata": {},
     "execution_count": 30
    }
   ],
   "source": [
    "df_table1"
   ]
  },
  {
   "cell_type": "code",
   "execution_count": 31,
   "metadata": {},
   "outputs": [
    {
     "output_type": "stream",
     "name": "stdout",
     "text": [
      "D:\\基金数据\\最新数据\\Data_after4.5_2021_5_15.csv\nD:\\基金数据\\最新数据\\Data_after4.5_2021_5_15.txt\n"
     ]
    }
   ],
   "source": [
    "# 保存路径名:\n",
    "# savepath_csv = r\"D:\\基金数据\\最新数据\\Data_after3_3_18.csv\" # 写死\n",
    "# savepath_txt = r\"D:\\基金数据\\最新数据\\Data_after3_3_18.txt\" # 写死\n",
    "from datetime import datetime\n",
    "\n",
    "today = datetime.now()\n",
    "\n",
    "savepath_csv = r\"D:\\基金数据\\最新数据\\Data_after4.5_{}_{}_{}.csv\".format(today.year,today.month,today.day) # 自动获取\n",
    "savepath_txt = r\"D:\\基金数据\\最新数据\\Data_after4.5_{}_{}_{}.txt\".format(today.year,today.month,today.day) # 自动获取\n",
    "print(savepath_csv)\n",
    "print(savepath_txt)"
   ]
  },
  {
   "cell_type": "code",
   "execution_count": 32,
   "metadata": {},
   "outputs": [],
   "source": [
    "df_table1.to_csv(savepath_csv,encoding='GB18030')\n",
    "df_table1.to_csv(savepath_txt,sep='\\t',index=False,encoding='GB18030')"
   ]
  },
  {
   "cell_type": "code",
   "execution_count": null,
   "metadata": {},
   "outputs": [],
   "source": []
  },
  {
   "cell_type": "code",
   "execution_count": null,
   "metadata": {},
   "outputs": [],
   "source": []
  },
  {
   "cell_type": "code",
   "execution_count": null,
   "metadata": {},
   "outputs": [],
   "source": []
  },
  {
   "cell_type": "code",
   "execution_count": null,
   "metadata": {},
   "outputs": [],
   "source": []
  }
 ],
 "metadata": {
  "kernelspec": {
   "name": "python385jvsc74a57bd0a8f61be024eba58adef938c9aa1e29e02cb3dece83a5348b1a2dafd16a070453",
   "display_name": "Python 3.8.5 64-bit ('base': conda)"
  },
  "language_info": {
   "codemirror_mode": {
    "name": "ipython",
    "version": 3
   },
   "file_extension": ".py",
   "mimetype": "text/x-python",
   "name": "python",
   "nbconvert_exporter": "python",
   "pygments_lexer": "ipython3",
   "version": "3.8.5"
  }
 },
 "nbformat": 4,
 "nbformat_minor": 4
}
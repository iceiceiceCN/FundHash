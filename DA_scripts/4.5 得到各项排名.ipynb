{
 "cells": [
  {
   "cell_type": "code",
   "execution_count": 1,
   "metadata": {},
   "outputs": [],
   "source": [
    "import pandas as pd\n",
    "import numpy as np\n",
    "import matplotlib.pylab as plt\n"
   ]
  },
  {
   "cell_type": "code",
   "execution_count": 2,
   "metadata": {},
   "outputs": [],
   "source": [
    "path_flag = 0"
   ]
  },
  {
   "cell_type": "code",
   "execution_count": 3,
   "metadata": {},
   "outputs": [
    {
     "output_type": "stream",
     "name": "stdout",
     "text": [
      "D:\\基金数据\\最新数据\\Data_after4_2021_5_21.txt\n"
     ]
    }
   ],
   "source": [
    "if path_flag == 0:\n",
    "    # A: 使用时间参数自动获取路径名\n",
    "    from datetime import datetime\n",
    "\n",
    "    today = datetime.now()\n",
    "\n",
    "    path = r\"D:\\基金数据\\最新数据\\Data_after4_{}_{}_{}.txt\".format(today.year,today.month,today.day) # 自动获取\n",
    "    # 要求输入列为：\n",
    "    # SHORTNAME\tFCODE\tMGRID\tMGRNAME\tSHARP1\tSHARP2\tSTDDEV1\tSTDDEV2\tMAXRETRA1\tGP\tZQ\tHB\tJZC\tWeek_up\tWeek_avg_up\tWeek_hs300_up\tWeek_rank\tWeek_competitors\tMonth_up\tMonth_avg_up\tMonth_hs300_up\tMonth_rank\tMonth_competitors\tYear_up\tYear_avg_up\tYear_hs300_up\tYear_rank\tYear_competitors\tNowYear_up\tNowYear_avg_up\tNowYear_hs300_up\tNowYear_rank\tNowYear_competitors\tTwoYear_up\tTwoYear_avg_up\tTwoYear_hs300_up\tTwoYear_rank\tTwoYear_competitors\tThreeYear_up\tThreeYear_avg_up\tThreeYear_hs300_up\tThreeYear_rank\tThreeYear_competitors\tFiveYear_up\tFiveYear_avg_up\tFiveYear_hs300_up\tFiveYear_rank\tFiveYear_competitors\tfundStocks_GPDM_0\tfundStocks_GPJC_0\tfundStocks_JZBL_0\tfundStocks_PCTNVCHG_0\tfundStocks_GPDM_1\tfundStocks_GPJC_1\tfundStocks_JZBL_1\tfundStocks_PCTNVCHG_1\tfundStocks_GPDM_2\tfundStocks_GPJC_2\tfundStocks_JZBL_2\tfundStocks_PCTNVCHG_2\tfundStocks_GPDM_3\tfundStocks_GPJC_3\tfundStocks_JZBL_3\tfundStocks_PCTNVCHG_3\tfundStocks_GPDM_4\tfundStocks_GPJC_4\tfundStocks_JZBL_4\tfundStocks_PCTNVCHG_4\tfundStocks_GPDM_5\tfundStocks_GPJC_5\tfundStocks_JZBL_5\tfundStocks_PCTNVCHG_5\tfundStocks_GPDM_6\tfundStocks_GPJC_6\tfundStocks_JZBL_6\tfundStocks_PCTNVCHG_6\tfundStocks_GPDM_7\tfundStocks_GPJC_7\tfundStocks_JZBL_7\tfundStocks_PCTNVCHG_7\tfundStocks_GPDM_8\tfundStocks_GPJC_8\tfundStocks_JZBL_8\tfundStocks_PCTNVCHG_8\tfundStocks_GPDM_9\tfundStocks_GPJC_9\tfundStocks_JZBL_9\tfundStocks_PCTNVCHG_9\tBaoTuan\tPayback\tDays\n",
    "    df = pd.read_table(path,converters={'FCODE':str,'MGRID':str},encoding='GB18030')\n",
    "\n",
    "    print(path)\n",
    "\n",
    "elif path_flag == 1:\n",
    "    # B: 指定路径名\n",
    "\n",
    "    path = r'D:\\基金数据\\最新数据\\Data_after4_2021_4_2.txt'\n",
    "    # 要求输入列为：\n",
    "    # SHORTNAME\tFCODE\tMGRID\tMGRNAME\tSHARP1\tSHARP2\tSTDDEV1\tSTDDEV2\tMAXRETRA1\tGP\tZQ\tHB\tJZC\tWeek_up\tWeek_avg_up\tWeek_hs300_up\tWeek_rank\tWeek_competitors\tMonth_up\tMonth_avg_up\tMonth_hs300_up\tMonth_rank\tMonth_competitors\tYear_up\tYear_avg_up\tYear_hs300_up\tYear_rank\tYear_competitors\tNowYear_up\tNowYear_avg_up\tNowYear_hs300_up\tNowYear_rank\tNowYear_competitors\tTwoYear_up\tTwoYear_avg_up\tTwoYear_hs300_up\tTwoYear_rank\tTwoYear_competitors\tThreeYear_up\tThreeYear_avg_up\tThreeYear_hs300_up\tThreeYear_rank\tThreeYear_competitors\tFiveYear_up\tFiveYear_avg_up\tFiveYear_hs300_up\tFiveYear_rank\tFiveYear_competitors\tfundStocks_GPDM_0\tfundStocks_GPJC_0\tfundStocks_JZBL_0\tfundStocks_PCTNVCHG_0\tfundStocks_GPDM_1\tfundStocks_GPJC_1\tfundStocks_JZBL_1\tfundStocks_PCTNVCHG_1\tfundStocks_GPDM_2\tfundStocks_GPJC_2\tfundStocks_JZBL_2\tfundStocks_PCTNVCHG_2\tfundStocks_GPDM_3\tfundStocks_GPJC_3\tfundStocks_JZBL_3\tfundStocks_PCTNVCHG_3\tfundStocks_GPDM_4\tfundStocks_GPJC_4\tfundStocks_JZBL_4\tfundStocks_PCTNVCHG_4\tfundStocks_GPDM_5\tfundStocks_GPJC_5\tfundStocks_JZBL_5\tfundStocks_PCTNVCHG_5\tfundStocks_GPDM_6\tfundStocks_GPJC_6\tfundStocks_JZBL_6\tfundStocks_PCTNVCHG_6\tfundStocks_GPDM_7\tfundStocks_GPJC_7\tfundStocks_JZBL_7\tfundStocks_PCTNVCHG_7\tfundStocks_GPDM_8\tfundStocks_GPJC_8\tfundStocks_JZBL_8\tfundStocks_PCTNVCHG_8\tfundStocks_GPDM_9\tfundStocks_GPJC_9\tfundStocks_JZBL_9\tfundStocks_PCTNVCHG_9\tBaoTuan\tPayback\tDays\n",
    "    df = pd.read_table(path,converters={'FCODE':str,'MGRID':str},encoding='GB18030')"
   ]
  },
  {
   "cell_type": "code",
   "execution_count": 4,
   "metadata": {},
   "outputs": [
    {
     "output_type": "execute_result",
     "data": {
      "text/plain": [
       "        SHORTNAME   FCODE              MGRID MGRNAME  SHARP1  SHARP2  STDDEV1  \\\n",
       "0  华宝标普油气上游股票人民币A  162411  30200459,30732062   周晶,杨洋   1.007   0.011   49.450   \n",
       "1       九泰行业优选混合C  008438  30349054,30589084  吴祖尧,何昕  -1.000  -1.000   -1.000   \n",
       "2       恒越核心精选混合C  007193  30561920,30711642   高楠,叶佳   2.609   1.770   31.703   \n",
       "3       华夏新兴消费混合A  005888           30063386     孙轶佳   2.411   1.982   26.002   \n",
       "4      浙商沪港深精选混合C  007369           30655735      贾腾   1.704  -1.000   25.717   \n",
       "5    新华鑫动力灵活配置混合A  002083           30181758      刘彬   1.762   1.591   37.683   \n",
       "\n",
       "   STDDEV2  MAXRETRA1  Payback  ...  jd_19_1    nd_20   nd_19    nd_18  \\\n",
       "0   49.450      44.45   -1.000  ...  -10.42%  -30.31%  -9.57%  -23.84%   \n",
       "1   -1.000      -1.00   -2.912  ...       --       --      --       --   \n",
       "2   31.703      22.52   30.533  ...       --   92.69%      --       --   \n",
       "3   26.002      19.61   13.833  ...   -0.67%  104.08%  54.74%       --   \n",
       "4   25.717      17.08   40.812  ...       --   50.29%      --       --   \n",
       "5   37.683      30.90   41.935  ...       --       --      --       --   \n",
       "\n",
       "     nd_17   nd_16    nd_15    nd_14   nd_13  Unnamed: 18  \n",
       "0  -15.41%  44.24%  -34.78%  -32.23%  18.39%          NaN  \n",
       "1       --      --       --       --      --          NaN  \n",
       "2       --      --       --       --      --          NaN  \n",
       "3       --      --       --       --      --          NaN  \n",
       "4       --      --       --       --      --          NaN  \n",
       "5       --      --       --       --      --          NaN  \n",
       "\n",
       "[6 rows x 115 columns]"
      ],
      "text/html": "<div>\n<style scoped>\n    .dataframe tbody tr th:only-of-type {\n        vertical-align: middle;\n    }\n\n    .dataframe tbody tr th {\n        vertical-align: top;\n    }\n\n    .dataframe thead th {\n        text-align: right;\n    }\n</style>\n<table border=\"1\" class=\"dataframe\">\n  <thead>\n    <tr style=\"text-align: right;\">\n      <th></th>\n      <th>SHORTNAME</th>\n      <th>FCODE</th>\n      <th>MGRID</th>\n      <th>MGRNAME</th>\n      <th>SHARP1</th>\n      <th>SHARP2</th>\n      <th>STDDEV1</th>\n      <th>STDDEV2</th>\n      <th>MAXRETRA1</th>\n      <th>Payback</th>\n      <th>...</th>\n      <th>jd_19_1</th>\n      <th>nd_20</th>\n      <th>nd_19</th>\n      <th>nd_18</th>\n      <th>nd_17</th>\n      <th>nd_16</th>\n      <th>nd_15</th>\n      <th>nd_14</th>\n      <th>nd_13</th>\n      <th>Unnamed: 18</th>\n    </tr>\n  </thead>\n  <tbody>\n    <tr>\n      <th>0</th>\n      <td>华宝标普油气上游股票人民币A</td>\n      <td>162411</td>\n      <td>30200459,30732062</td>\n      <td>周晶,杨洋</td>\n      <td>1.007</td>\n      <td>0.011</td>\n      <td>49.450</td>\n      <td>49.450</td>\n      <td>44.45</td>\n      <td>-1.000</td>\n      <td>...</td>\n      <td>-10.42%</td>\n      <td>-30.31%</td>\n      <td>-9.57%</td>\n      <td>-23.84%</td>\n      <td>-15.41%</td>\n      <td>44.24%</td>\n      <td>-34.78%</td>\n      <td>-32.23%</td>\n      <td>18.39%</td>\n      <td>NaN</td>\n    </tr>\n    <tr>\n      <th>1</th>\n      <td>九泰行业优选混合C</td>\n      <td>008438</td>\n      <td>30349054,30589084</td>\n      <td>吴祖尧,何昕</td>\n      <td>-1.000</td>\n      <td>-1.000</td>\n      <td>-1.000</td>\n      <td>-1.000</td>\n      <td>-1.00</td>\n      <td>-2.912</td>\n      <td>...</td>\n      <td>--</td>\n      <td>--</td>\n      <td>--</td>\n      <td>--</td>\n      <td>--</td>\n      <td>--</td>\n      <td>--</td>\n      <td>--</td>\n      <td>--</td>\n      <td>NaN</td>\n    </tr>\n    <tr>\n      <th>2</th>\n      <td>恒越核心精选混合C</td>\n      <td>007193</td>\n      <td>30561920,30711642</td>\n      <td>高楠,叶佳</td>\n      <td>2.609</td>\n      <td>1.770</td>\n      <td>31.703</td>\n      <td>31.703</td>\n      <td>22.52</td>\n      <td>30.533</td>\n      <td>...</td>\n      <td>--</td>\n      <td>92.69%</td>\n      <td>--</td>\n      <td>--</td>\n      <td>--</td>\n      <td>--</td>\n      <td>--</td>\n      <td>--</td>\n      <td>--</td>\n      <td>NaN</td>\n    </tr>\n    <tr>\n      <th>3</th>\n      <td>华夏新兴消费混合A</td>\n      <td>005888</td>\n      <td>30063386</td>\n      <td>孙轶佳</td>\n      <td>2.411</td>\n      <td>1.982</td>\n      <td>26.002</td>\n      <td>26.002</td>\n      <td>19.61</td>\n      <td>13.833</td>\n      <td>...</td>\n      <td>-0.67%</td>\n      <td>104.08%</td>\n      <td>54.74%</td>\n      <td>--</td>\n      <td>--</td>\n      <td>--</td>\n      <td>--</td>\n      <td>--</td>\n      <td>--</td>\n      <td>NaN</td>\n    </tr>\n    <tr>\n      <th>4</th>\n      <td>浙商沪港深精选混合C</td>\n      <td>007369</td>\n      <td>30655735</td>\n      <td>贾腾</td>\n      <td>1.704</td>\n      <td>-1.000</td>\n      <td>25.717</td>\n      <td>25.717</td>\n      <td>17.08</td>\n      <td>40.812</td>\n      <td>...</td>\n      <td>--</td>\n      <td>50.29%</td>\n      <td>--</td>\n      <td>--</td>\n      <td>--</td>\n      <td>--</td>\n      <td>--</td>\n      <td>--</td>\n      <td>--</td>\n      <td>NaN</td>\n    </tr>\n    <tr>\n      <th>5</th>\n      <td>新华鑫动力灵活配置混合A</td>\n      <td>002083</td>\n      <td>30181758</td>\n      <td>刘彬</td>\n      <td>1.762</td>\n      <td>1.591</td>\n      <td>37.683</td>\n      <td>37.683</td>\n      <td>30.90</td>\n      <td>41.935</td>\n      <td>...</td>\n      <td>--</td>\n      <td>--</td>\n      <td>--</td>\n      <td>--</td>\n      <td>--</td>\n      <td>--</td>\n      <td>--</td>\n      <td>--</td>\n      <td>--</td>\n      <td>NaN</td>\n    </tr>\n  </tbody>\n</table>\n<p>6 rows × 115 columns</p>\n</div>"
     },
     "metadata": {},
     "execution_count": 4
    }
   ],
   "source": [
    "df.head(6)"
   ]
  },
  {
   "cell_type": "code",
   "execution_count": 5,
   "metadata": {},
   "outputs": [
    {
     "output_type": "execute_result",
     "data": {
      "text/plain": [
       "array(['SHORTNAME', 'FCODE', 'MGRID', 'MGRNAME', 'SHARP1', 'SHARP2',\n",
       "       'STDDEV1', 'STDDEV2', 'MAXRETRA1', 'Payback', 'Days', 'BaoTuan',\n",
       "       '收益回撤比', 'GP', 'ZQ', 'HB', 'JZC', 'NowYear_up', 'NowYear_avg_up',\n",
       "       'NowYear_hs300_up', 'NowYear_rank', 'NowYear_competitors',\n",
       "       'Week_up', 'Week_avg_up', 'Week_hs300_up', 'Week_rank',\n",
       "       'Week_competitors', 'Month_up', 'Month_avg_up', 'Month_hs300_up',\n",
       "       'Month_rank', 'Month_competitors', 'Year_up', 'Year_avg_up',\n",
       "       'Year_hs300_up', 'Year_rank', 'Year_competitors', 'TwoYear_up',\n",
       "       'TwoYear_avg_up', 'TwoYear_hs300_up', 'TwoYear_rank',\n",
       "       'TwoYear_competitors', 'ThreeYear_up', 'ThreeYear_avg_up',\n",
       "       'ThreeYear_hs300_up', 'ThreeYear_rank', 'ThreeYear_competitors',\n",
       "       'FiveYear_up', 'FiveYear_avg_up', 'FiveYear_hs300_up',\n",
       "       'FiveYear_rank', 'FiveYear_competitors', 'fundStocks_GPDM_0',\n",
       "       'fundStocks_GPJC_0', 'fundStocks_JZBL_0', 'fundStocks_PCTNVCHG_0',\n",
       "       'fundStocks_GPDM_1', 'fundStocks_GPJC_1', 'fundStocks_JZBL_1',\n",
       "       'fundStocks_PCTNVCHG_1', 'fundStocks_GPDM_2', 'fundStocks_GPJC_2',\n",
       "       'fundStocks_JZBL_2', 'fundStocks_PCTNVCHG_2', 'fundStocks_GPDM_3',\n",
       "       'fundStocks_GPJC_3', 'fundStocks_JZBL_3', 'fundStocks_PCTNVCHG_3',\n",
       "       'fundStocks_GPDM_4', 'fundStocks_GPJC_4', 'fundStocks_JZBL_4',\n",
       "       'fundStocks_PCTNVCHG_4', 'fundStocks_GPDM_5', 'fundStocks_GPJC_5',\n",
       "       'fundStocks_JZBL_5', 'fundStocks_PCTNVCHG_5', 'fundStocks_GPDM_6',\n",
       "       'fundStocks_GPJC_6', 'fundStocks_JZBL_6', 'fundStocks_PCTNVCHG_6',\n",
       "       'fundStocks_GPDM_7', 'fundStocks_GPJC_7', 'fundStocks_JZBL_7',\n",
       "       'fundStocks_PCTNVCHG_7', 'fundStocks_GPDM_8', 'fundStocks_GPJC_8',\n",
       "       'fundStocks_JZBL_8', 'fundStocks_PCTNVCHG_8', 'fundStocks_GPDM_9',\n",
       "       'fundStocks_GPJC_9', 'fundStocks_JZBL_9', 'fundStocks_PCTNVCHG_9',\n",
       "       'pca_1', 'pca_2', 'pca_3', 'cluster', 'code', 'date', 'jd_20_4',\n",
       "       'jd_20_3', 'jd_20_2', 'jd_20_1', 'jd_19_4', 'jd_19_3', 'jd_19_2',\n",
       "       'jd_19_1', 'nd_20', 'nd_19', 'nd_18', 'nd_17', 'nd_16', 'nd_15',\n",
       "       'nd_14', 'nd_13', 'Unnamed: 18'], dtype=object)"
      ]
     },
     "metadata": {},
     "execution_count": 5
    }
   ],
   "source": [
    "df.columns.values"
   ]
  },
  {
   "cell_type": "code",
   "execution_count": 6,
   "metadata": {},
   "outputs": [],
   "source": [
    "df1 = df.copy()"
   ]
  },
  {
   "cell_type": "code",
   "execution_count": 7,
   "metadata": {},
   "outputs": [
    {
     "output_type": "execute_result",
     "data": {
      "text/plain": [
       "7546"
      ]
     },
     "metadata": {},
     "execution_count": 7
    }
   ],
   "source": [
    "datalen = len(df1)\n",
    "datalen"
   ]
  },
  {
   "cell_type": "code",
   "execution_count": 8,
   "metadata": {},
   "outputs": [
    {
     "output_type": "execute_result",
     "data": {
      "text/plain": [
       "dtype('float64')"
      ]
     },
     "metadata": {},
     "execution_count": 8
    }
   ],
   "source": [
    "# x = df1['SHARP1']\n",
    "# x.dtypes\n",
    "s = df1['SHARP1'][0]\n",
    "s.dtype\n",
    "# if x.dtypes == 'float64':\n",
    "#     print('0')\n",
    "# y = df1['nd_16']\n",
    "# y.dtypes"
   ]
  },
  {
   "cell_type": "code",
   "execution_count": 9,
   "metadata": {},
   "outputs": [],
   "source": [
    "def getSortedList(colName):\n",
    "    x = df1[colName]\n",
    "    x = x.replace('--',-100)\n",
    "    if type(x[0]) == str: # 如果为字符串\n",
    "        x1 = x.str.strip('%').astype(float)/100\n",
    "        x_res = x1.sort_values(ascending=False).tolist() \n",
    "        return x_res\n",
    "    if x.dtypes == 'float64':\n",
    "        x_res = x.sort_values(ascending=False).tolist()\n",
    "        return x_res\n",
    "\n",
    "#     return x_res"
   ]
  },
  {
   "cell_type": "code",
   "execution_count": 10,
   "metadata": {},
   "outputs": [],
   "source": [
    "def getSortedListASCE(colName):\n",
    "    x = df1[colName]\n",
    "    x = x.replace('--',-100)\n",
    "    if type(x) == str:\n",
    "        x1 = x.str.strip('%').astype(float)/100\n",
    "        x_res = x1.sort_values(ascending=True).tolist()\n",
    "        return x_res\n",
    "    if x.dtypes == 'float64':\n",
    "        x_res = x.sort_values(ascending=True).tolist()\n",
    "        return x_res\n",
    "\n",
    "#     return x_res"
   ]
  },
  {
   "cell_type": "code",
   "execution_count": 11,
   "metadata": {},
   "outputs": [],
   "source": [
    "def getData(colName,index):\n",
    "    x = df1[colName][index]\n",
    "    if x == '--':\n",
    "        return -1\n",
    "    if type(x) == str:\n",
    "        data = float(x.strip('%'))/100\n",
    "        return data\n",
    "    if x.dtype == 'float64':\n",
    "        data = x\n",
    "        return data\n",
    "    else:\n",
    "        return -1\n",
    "    \n",
    "#     return data"
   ]
  },
  {
   "cell_type": "code",
   "execution_count": 12,
   "metadata": {},
   "outputs": [],
   "source": [
    "def searchInsert(nums, target):\n",
    "    left = 0\n",
    "    right = len(nums)\n",
    "    while left < right:\n",
    "        mid = (left + right) // 2\n",
    "\n",
    "        if target < nums[mid]: ## 修改了大于小于号\n",
    "            left = mid + 1 # 位置变化\n",
    "        else:\n",
    "            right = mid\n",
    "\n",
    "    return left"
   ]
  },
  {
   "cell_type": "code",
   "execution_count": 13,
   "metadata": {},
   "outputs": [],
   "source": [
    "def getRanking(SortedList,data):\n",
    "#     index = searchInsert(SortedList,data) # 二分搜索查找插入位置，值可以不在列表内\n",
    "    try:\n",
    "        if data == -1:\n",
    "            # return len(SortedList)\n",
    "            return datalen\n",
    "    #     rank = np.where(np.array(SortedList) == float(data))[0][0] # 值必须在列表内\n",
    "        rank = SortedList.index(data)\n",
    "        rank_ = int(rank) + 1\n",
    "        return rank_\n",
    "    except:\n",
    "        return datalen\n",
    "#     return index"
   ]
  },
  {
   "cell_type": "code",
   "execution_count": 14,
   "metadata": {},
   "outputs": [],
   "source": [
    "# getRanking(m,t)"
   ]
  },
  {
   "cell_type": "code",
   "execution_count": 15,
   "metadata": {},
   "outputs": [],
   "source": [
    "# jd_20_4_rank = []\n",
    "# for i in range(len(df['FCODE'])):\n",
    "#     tmp_SortedList = getSortedList('jd_20_4')\n",
    "#     tmp_data = getData('jd_20_4',i)\n",
    "#     tmp_Rank = getRanking(tmp_SortedList,tmp_data)\n",
    "#     jd_20_4_rank.append(tmp_Rank)"
   ]
  },
  {
   "cell_type": "code",
   "execution_count": 16,
   "metadata": {},
   "outputs": [],
   "source": [
    "# df1['jd_20_4_rank'] = jd_20_4_rank"
   ]
  },
  {
   "cell_type": "code",
   "execution_count": 17,
   "metadata": {},
   "outputs": [
    {
     "output_type": "execute_result",
     "data": {
      "text/plain": [
       "        SHORTNAME   FCODE              MGRID MGRNAME  SHARP1  SHARP2  STDDEV1  \\\n",
       "0  华宝标普油气上游股票人民币A  162411  30200459,30732062   周晶,杨洋   1.007   0.011   49.450   \n",
       "1       九泰行业优选混合C  008438  30349054,30589084  吴祖尧,何昕  -1.000  -1.000   -1.000   \n",
       "2       恒越核心精选混合C  007193  30561920,30711642   高楠,叶佳   2.609   1.770   31.703   \n",
       "3       华夏新兴消费混合A  005888           30063386     孙轶佳   2.411   1.982   26.002   \n",
       "4      浙商沪港深精选混合C  007369           30655735      贾腾   1.704  -1.000   25.717   \n",
       "\n",
       "   STDDEV2  MAXRETRA1  Payback  ...  jd_19_1    nd_20   nd_19    nd_18  \\\n",
       "0   49.450      44.45   -1.000  ...  -10.42%  -30.31%  -9.57%  -23.84%   \n",
       "1   -1.000      -1.00   -2.912  ...       --       --      --       --   \n",
       "2   31.703      22.52   30.533  ...       --   92.69%      --       --   \n",
       "3   26.002      19.61   13.833  ...   -0.67%  104.08%  54.74%       --   \n",
       "4   25.717      17.08   40.812  ...       --   50.29%      --       --   \n",
       "\n",
       "     nd_17   nd_16    nd_15    nd_14   nd_13  Unnamed: 18  \n",
       "0  -15.41%  44.24%  -34.78%  -32.23%  18.39%          NaN  \n",
       "1       --      --       --       --      --          NaN  \n",
       "2       --      --       --       --      --          NaN  \n",
       "3       --      --       --       --      --          NaN  \n",
       "4       --      --       --       --      --          NaN  \n",
       "\n",
       "[5 rows x 115 columns]"
      ],
      "text/html": "<div>\n<style scoped>\n    .dataframe tbody tr th:only-of-type {\n        vertical-align: middle;\n    }\n\n    .dataframe tbody tr th {\n        vertical-align: top;\n    }\n\n    .dataframe thead th {\n        text-align: right;\n    }\n</style>\n<table border=\"1\" class=\"dataframe\">\n  <thead>\n    <tr style=\"text-align: right;\">\n      <th></th>\n      <th>SHORTNAME</th>\n      <th>FCODE</th>\n      <th>MGRID</th>\n      <th>MGRNAME</th>\n      <th>SHARP1</th>\n      <th>SHARP2</th>\n      <th>STDDEV1</th>\n      <th>STDDEV2</th>\n      <th>MAXRETRA1</th>\n      <th>Payback</th>\n      <th>...</th>\n      <th>jd_19_1</th>\n      <th>nd_20</th>\n      <th>nd_19</th>\n      <th>nd_18</th>\n      <th>nd_17</th>\n      <th>nd_16</th>\n      <th>nd_15</th>\n      <th>nd_14</th>\n      <th>nd_13</th>\n      <th>Unnamed: 18</th>\n    </tr>\n  </thead>\n  <tbody>\n    <tr>\n      <th>0</th>\n      <td>华宝标普油气上游股票人民币A</td>\n      <td>162411</td>\n      <td>30200459,30732062</td>\n      <td>周晶,杨洋</td>\n      <td>1.007</td>\n      <td>0.011</td>\n      <td>49.450</td>\n      <td>49.450</td>\n      <td>44.45</td>\n      <td>-1.000</td>\n      <td>...</td>\n      <td>-10.42%</td>\n      <td>-30.31%</td>\n      <td>-9.57%</td>\n      <td>-23.84%</td>\n      <td>-15.41%</td>\n      <td>44.24%</td>\n      <td>-34.78%</td>\n      <td>-32.23%</td>\n      <td>18.39%</td>\n      <td>NaN</td>\n    </tr>\n    <tr>\n      <th>1</th>\n      <td>九泰行业优选混合C</td>\n      <td>008438</td>\n      <td>30349054,30589084</td>\n      <td>吴祖尧,何昕</td>\n      <td>-1.000</td>\n      <td>-1.000</td>\n      <td>-1.000</td>\n      <td>-1.000</td>\n      <td>-1.00</td>\n      <td>-2.912</td>\n      <td>...</td>\n      <td>--</td>\n      <td>--</td>\n      <td>--</td>\n      <td>--</td>\n      <td>--</td>\n      <td>--</td>\n      <td>--</td>\n      <td>--</td>\n      <td>--</td>\n      <td>NaN</td>\n    </tr>\n    <tr>\n      <th>2</th>\n      <td>恒越核心精选混合C</td>\n      <td>007193</td>\n      <td>30561920,30711642</td>\n      <td>高楠,叶佳</td>\n      <td>2.609</td>\n      <td>1.770</td>\n      <td>31.703</td>\n      <td>31.703</td>\n      <td>22.52</td>\n      <td>30.533</td>\n      <td>...</td>\n      <td>--</td>\n      <td>92.69%</td>\n      <td>--</td>\n      <td>--</td>\n      <td>--</td>\n      <td>--</td>\n      <td>--</td>\n      <td>--</td>\n      <td>--</td>\n      <td>NaN</td>\n    </tr>\n    <tr>\n      <th>3</th>\n      <td>华夏新兴消费混合A</td>\n      <td>005888</td>\n      <td>30063386</td>\n      <td>孙轶佳</td>\n      <td>2.411</td>\n      <td>1.982</td>\n      <td>26.002</td>\n      <td>26.002</td>\n      <td>19.61</td>\n      <td>13.833</td>\n      <td>...</td>\n      <td>-0.67%</td>\n      <td>104.08%</td>\n      <td>54.74%</td>\n      <td>--</td>\n      <td>--</td>\n      <td>--</td>\n      <td>--</td>\n      <td>--</td>\n      <td>--</td>\n      <td>NaN</td>\n    </tr>\n    <tr>\n      <th>4</th>\n      <td>浙商沪港深精选混合C</td>\n      <td>007369</td>\n      <td>30655735</td>\n      <td>贾腾</td>\n      <td>1.704</td>\n      <td>-1.000</td>\n      <td>25.717</td>\n      <td>25.717</td>\n      <td>17.08</td>\n      <td>40.812</td>\n      <td>...</td>\n      <td>--</td>\n      <td>50.29%</td>\n      <td>--</td>\n      <td>--</td>\n      <td>--</td>\n      <td>--</td>\n      <td>--</td>\n      <td>--</td>\n      <td>--</td>\n      <td>NaN</td>\n    </tr>\n  </tbody>\n</table>\n<p>5 rows × 115 columns</p>\n</div>"
     },
     "metadata": {},
     "execution_count": 17
    }
   ],
   "source": [
    "df1 = df.copy()\n",
    "df1.head(5)"
   ]
  },
  {
   "cell_type": "code",
   "execution_count": 18,
   "metadata": {},
   "outputs": [],
   "source": [
    "def insertRank(colname,df):\n",
    "    tmp_RankList = []\n",
    "    for i in range(len(df['FCODE'])):\n",
    "        tmp_SortedList = getSortedList(colname)\n",
    "        tmp_data = getData(colname,i)\n",
    "        tmp_Rank = getRanking(tmp_SortedList,tmp_data)\n",
    "        tmp_RankList.append(tmp_Rank)\n",
    "    name = colname + '_rank'\n",
    "    df[name] = tmp_RankList\n",
    "#     return df"
   ]
  },
  {
   "cell_type": "code",
   "execution_count": 19,
   "metadata": {},
   "outputs": [],
   "source": [
    "def insertRankASCE(colname,df):\n",
    "    tmp_RankList = []\n",
    "    for i in range(len(df['FCODE'])):\n",
    "        tmp_SortedList = getSortedListASCE(colname)\n",
    "        tmp_data = getData(colname,i)\n",
    "        tmp_Rank = getRanking(tmp_SortedList,tmp_data)\n",
    "        tmp_RankList.append(tmp_Rank)\n",
    "    name = colname + '_rank'\n",
    "    df[name] = tmp_RankList\n",
    "#     return df"
   ]
  },
  {
   "cell_type": "code",
   "execution_count": 20,
   "metadata": {
    "tags": []
   },
   "outputs": [],
   "source": [
    "# 越大越好\n",
    "insertRank('SHARP1',df1)\n",
    "insertRank('SHARP2',df1)\n",
    "insertRank('收益回撤比',df1)\n",
    "insertRank('Days',df1)\n",
    "insertRank('Payback',df1)\n",
    "\n",
    "# 越小越好\n",
    "insertRank('STDDEV1',df1)\n",
    "insertRank('STDDEV2',df1)\n",
    "insertRank('MAXRETRA1',df1) # 越大 排名越靠前 所以应该反过来"
   ]
  },
  {
   "cell_type": "code",
   "execution_count": 21,
   "metadata": {},
   "outputs": [],
   "source": [
    "insertRank('jd_20_4',df1)\n",
    "insertRank('jd_20_3',df1)\n",
    "insertRank('jd_20_2',df1)\n",
    "insertRank('jd_20_1',df1)"
   ]
  },
  {
   "cell_type": "code",
   "execution_count": 22,
   "metadata": {},
   "outputs": [],
   "source": [
    "insertRank('jd_19_4',df1)\n",
    "insertRank('jd_19_3',df1)\n",
    "insertRank('jd_19_2',df1)\n",
    "insertRank('jd_19_1',df1)"
   ]
  },
  {
   "cell_type": "code",
   "execution_count": 23,
   "metadata": {},
   "outputs": [],
   "source": [
    "insertRank('nd_20',df1)\n",
    "insertRank('nd_19',df1)\n",
    "insertRank('nd_18',df1)\n",
    "insertRank('nd_17',df1)"
   ]
  },
  {
   "cell_type": "code",
   "execution_count": 24,
   "metadata": {},
   "outputs": [],
   "source": [
    "insertRank('nd_16',df1)\n",
    "insertRank('nd_15',df1)\n",
    "insertRank('nd_14',df1)\n",
    "insertRank('nd_13',df1)"
   ]
  },
  {
   "cell_type": "code",
   "execution_count": 25,
   "metadata": {},
   "outputs": [
    {
     "output_type": "stream",
     "name": "stderr",
     "text": [
      "D:\\Anaconda3\\lib\\site-packages\\pandas\\core\\frame.py:3065: SettingWithCopyWarning: \nA value is trying to be set on a copy of a slice from a DataFrame.\nTry using .loc[row_indexer,col_indexer] = value instead\n\nSee the caveats in the documentation: https://pandas.pydata.org/pandas-docs/stable/user_guide/indexing.html#returning-a-view-versus-a-copy\n  self[k1] = value[k2]\n"
     ]
    },
    {
     "output_type": "execute_result",
     "data": {
      "text/plain": [
       "      MAXRETRA1  MAXRETRA1_rank\n",
       "7532      44.52               1\n",
       "0         44.45               2\n",
       "7530      42.42               3\n",
       "7531      42.28               4\n",
       "733       40.53               5\n",
       "...         ...             ...\n",
       "352       -1.00            7546\n",
       "4508      -1.00            7546\n",
       "4498      -1.00            7546\n",
       "4491      -1.00            7546\n",
       "3773      -1.00            7546\n",
       "\n",
       "[7546 rows x 2 columns]"
      ],
      "text/html": "<div>\n<style scoped>\n    .dataframe tbody tr th:only-of-type {\n        vertical-align: middle;\n    }\n\n    .dataframe tbody tr th {\n        vertical-align: top;\n    }\n\n    .dataframe thead th {\n        text-align: right;\n    }\n</style>\n<table border=\"1\" class=\"dataframe\">\n  <thead>\n    <tr style=\"text-align: right;\">\n      <th></th>\n      <th>MAXRETRA1</th>\n      <th>MAXRETRA1_rank</th>\n    </tr>\n  </thead>\n  <tbody>\n    <tr>\n      <th>7532</th>\n      <td>44.52</td>\n      <td>1</td>\n    </tr>\n    <tr>\n      <th>0</th>\n      <td>44.45</td>\n      <td>2</td>\n    </tr>\n    <tr>\n      <th>7530</th>\n      <td>42.42</td>\n      <td>3</td>\n    </tr>\n    <tr>\n      <th>7531</th>\n      <td>42.28</td>\n      <td>4</td>\n    </tr>\n    <tr>\n      <th>733</th>\n      <td>40.53</td>\n      <td>5</td>\n    </tr>\n    <tr>\n      <th>...</th>\n      <td>...</td>\n      <td>...</td>\n    </tr>\n    <tr>\n      <th>352</th>\n      <td>-1.00</td>\n      <td>7546</td>\n    </tr>\n    <tr>\n      <th>4508</th>\n      <td>-1.00</td>\n      <td>7546</td>\n    </tr>\n    <tr>\n      <th>4498</th>\n      <td>-1.00</td>\n      <td>7546</td>\n    </tr>\n    <tr>\n      <th>4491</th>\n      <td>-1.00</td>\n      <td>7546</td>\n    </tr>\n    <tr>\n      <th>3773</th>\n      <td>-1.00</td>\n      <td>7546</td>\n    </tr>\n  </tbody>\n</table>\n<p>7546 rows × 2 columns</p>\n</div>"
     },
     "metadata": {},
     "execution_count": 25
    }
   ],
   "source": [
    "df_10 = df1[['MAXRETRA1','MAXRETRA1_rank']]\n",
    "df_10[['MAXRETRA1_rank']]  = df_10[['MAXRETRA1_rank']].apply(pd.to_numeric)\n",
    "df_10[['MAXRETRA1','MAXRETRA1_rank']].sort_values(by = ['MAXRETRA1'],ascending=False)"
   ]
  },
  {
   "cell_type": "code",
   "execution_count": 26,
   "metadata": {},
   "outputs": [],
   "source": [
    "df2 = df1.iloc[:,-16:-1]"
   ]
  },
  {
   "cell_type": "code",
   "execution_count": 27,
   "metadata": {},
   "outputs": [
    {
     "output_type": "execute_result",
     "data": {
      "text/plain": [
       "   jd_20_4_rank  jd_20_3_rank  jd_20_2_rank  jd_20_1_rank  jd_19_4_rank  \\\n",
       "0             3            59          6341             1          5692   \n",
       "1             8          3759          7546          7546          7546   \n",
       "2          1469           111           116           704          4954   \n",
       "3          3360            78           155           381          4590   \n",
       "4          1012           227          1977          1555          5399   \n",
       "5          7546          7546          7546          7546          7546   \n",
       "6          7099             4          1372           418          3851   \n",
       "7          1411           107           111           701          4947   \n",
       "8             7          3748          7546          7546          7546   \n",
       "9          6700            16           255          7546          7546   \n",
       "\n",
       "   jd_19_3_rank  jd_19_2_rank  jd_19_1_rank  nd_20_rank  nd_19_rank  \\\n",
       "0          3792          5180          4787        5693        4654   \n",
       "1          7546          7546          7546        7546        7546   \n",
       "2          1734          4920          7546         166        7546   \n",
       "3           116          2432          2842          69         523   \n",
       "4           841          2244          7546        1533        7546   \n",
       "5          7546          7546          7546        7546        7546   \n",
       "6           857           451          4456          19         644   \n",
       "7          1715          4906          4237         163        3326   \n",
       "8          7546          7546          7546        7546        7546   \n",
       "9          7546          7546          7546        7546        7546   \n",
       "\n",
       "   nd_18_rank  nd_17_rank  nd_16_rank  nd_15_rank  nd_14_rank  \n",
       "0        2956        3093           4        1541        1288  \n",
       "1        7546        7546        7546        7546        7546  \n",
       "2        7546        7546        7546        7546        7546  \n",
       "3        7546        7546        7546        7546        7546  \n",
       "4        7546        7546        7546        7546        7546  \n",
       "5        7546        7546        7546        7546        7546  \n",
       "6        3585        2657        7546        7546        7546  \n",
       "7        7546        7546        7546        7546        7546  \n",
       "8        7546        7546        7546        7546        7546  \n",
       "9        7546        7546        7546        7546        7546  "
      ],
      "text/html": "<div>\n<style scoped>\n    .dataframe tbody tr th:only-of-type {\n        vertical-align: middle;\n    }\n\n    .dataframe tbody tr th {\n        vertical-align: top;\n    }\n\n    .dataframe thead th {\n        text-align: right;\n    }\n</style>\n<table border=\"1\" class=\"dataframe\">\n  <thead>\n    <tr style=\"text-align: right;\">\n      <th></th>\n      <th>jd_20_4_rank</th>\n      <th>jd_20_3_rank</th>\n      <th>jd_20_2_rank</th>\n      <th>jd_20_1_rank</th>\n      <th>jd_19_4_rank</th>\n      <th>jd_19_3_rank</th>\n      <th>jd_19_2_rank</th>\n      <th>jd_19_1_rank</th>\n      <th>nd_20_rank</th>\n      <th>nd_19_rank</th>\n      <th>nd_18_rank</th>\n      <th>nd_17_rank</th>\n      <th>nd_16_rank</th>\n      <th>nd_15_rank</th>\n      <th>nd_14_rank</th>\n    </tr>\n  </thead>\n  <tbody>\n    <tr>\n      <th>0</th>\n      <td>3</td>\n      <td>59</td>\n      <td>6341</td>\n      <td>1</td>\n      <td>5692</td>\n      <td>3792</td>\n      <td>5180</td>\n      <td>4787</td>\n      <td>5693</td>\n      <td>4654</td>\n      <td>2956</td>\n      <td>3093</td>\n      <td>4</td>\n      <td>1541</td>\n      <td>1288</td>\n    </tr>\n    <tr>\n      <th>1</th>\n      <td>8</td>\n      <td>3759</td>\n      <td>7546</td>\n      <td>7546</td>\n      <td>7546</td>\n      <td>7546</td>\n      <td>7546</td>\n      <td>7546</td>\n      <td>7546</td>\n      <td>7546</td>\n      <td>7546</td>\n      <td>7546</td>\n      <td>7546</td>\n      <td>7546</td>\n      <td>7546</td>\n    </tr>\n    <tr>\n      <th>2</th>\n      <td>1469</td>\n      <td>111</td>\n      <td>116</td>\n      <td>704</td>\n      <td>4954</td>\n      <td>1734</td>\n      <td>4920</td>\n      <td>7546</td>\n      <td>166</td>\n      <td>7546</td>\n      <td>7546</td>\n      <td>7546</td>\n      <td>7546</td>\n      <td>7546</td>\n      <td>7546</td>\n    </tr>\n    <tr>\n      <th>3</th>\n      <td>3360</td>\n      <td>78</td>\n      <td>155</td>\n      <td>381</td>\n      <td>4590</td>\n      <td>116</td>\n      <td>2432</td>\n      <td>2842</td>\n      <td>69</td>\n      <td>523</td>\n      <td>7546</td>\n      <td>7546</td>\n      <td>7546</td>\n      <td>7546</td>\n      <td>7546</td>\n    </tr>\n    <tr>\n      <th>4</th>\n      <td>1012</td>\n      <td>227</td>\n      <td>1977</td>\n      <td>1555</td>\n      <td>5399</td>\n      <td>841</td>\n      <td>2244</td>\n      <td>7546</td>\n      <td>1533</td>\n      <td>7546</td>\n      <td>7546</td>\n      <td>7546</td>\n      <td>7546</td>\n      <td>7546</td>\n      <td>7546</td>\n    </tr>\n    <tr>\n      <th>5</th>\n      <td>7546</td>\n      <td>7546</td>\n      <td>7546</td>\n      <td>7546</td>\n      <td>7546</td>\n      <td>7546</td>\n      <td>7546</td>\n      <td>7546</td>\n      <td>7546</td>\n      <td>7546</td>\n      <td>7546</td>\n      <td>7546</td>\n      <td>7546</td>\n      <td>7546</td>\n      <td>7546</td>\n    </tr>\n    <tr>\n      <th>6</th>\n      <td>7099</td>\n      <td>4</td>\n      <td>1372</td>\n      <td>418</td>\n      <td>3851</td>\n      <td>857</td>\n      <td>451</td>\n      <td>4456</td>\n      <td>19</td>\n      <td>644</td>\n      <td>3585</td>\n      <td>2657</td>\n      <td>7546</td>\n      <td>7546</td>\n      <td>7546</td>\n    </tr>\n    <tr>\n      <th>7</th>\n      <td>1411</td>\n      <td>107</td>\n      <td>111</td>\n      <td>701</td>\n      <td>4947</td>\n      <td>1715</td>\n      <td>4906</td>\n      <td>4237</td>\n      <td>163</td>\n      <td>3326</td>\n      <td>7546</td>\n      <td>7546</td>\n      <td>7546</td>\n      <td>7546</td>\n      <td>7546</td>\n    </tr>\n    <tr>\n      <th>8</th>\n      <td>7</td>\n      <td>3748</td>\n      <td>7546</td>\n      <td>7546</td>\n      <td>7546</td>\n      <td>7546</td>\n      <td>7546</td>\n      <td>7546</td>\n      <td>7546</td>\n      <td>7546</td>\n      <td>7546</td>\n      <td>7546</td>\n      <td>7546</td>\n      <td>7546</td>\n      <td>7546</td>\n    </tr>\n    <tr>\n      <th>9</th>\n      <td>6700</td>\n      <td>16</td>\n      <td>255</td>\n      <td>7546</td>\n      <td>7546</td>\n      <td>7546</td>\n      <td>7546</td>\n      <td>7546</td>\n      <td>7546</td>\n      <td>7546</td>\n      <td>7546</td>\n      <td>7546</td>\n      <td>7546</td>\n      <td>7546</td>\n      <td>7546</td>\n    </tr>\n  </tbody>\n</table>\n</div>"
     },
     "metadata": {},
     "execution_count": 27
    }
   ],
   "source": [
    "df2.head(10)"
   ]
  },
  {
   "cell_type": "code",
   "execution_count": 28,
   "metadata": {
    "scrolled": true
   },
   "outputs": [
    {
     "output_type": "execute_result",
     "data": {
      "text/plain": [
       "array(['SHORTNAME', 'FCODE', 'MGRID', 'MGRNAME', 'SHARP1', 'SHARP2',\n",
       "       'STDDEV1', 'STDDEV2', 'MAXRETRA1', 'Payback', 'Days', 'BaoTuan',\n",
       "       '收益回撤比', 'GP', 'ZQ', 'HB', 'JZC', 'NowYear_up', 'NowYear_avg_up',\n",
       "       'NowYear_hs300_up', 'NowYear_rank', 'NowYear_competitors',\n",
       "       'Week_up', 'Week_avg_up', 'Week_hs300_up', 'Week_rank',\n",
       "       'Week_competitors', 'Month_up', 'Month_avg_up', 'Month_hs300_up',\n",
       "       'Month_rank', 'Month_competitors', 'Year_up', 'Year_avg_up',\n",
       "       'Year_hs300_up', 'Year_rank', 'Year_competitors', 'TwoYear_up',\n",
       "       'TwoYear_avg_up', 'TwoYear_hs300_up', 'TwoYear_rank',\n",
       "       'TwoYear_competitors', 'ThreeYear_up', 'ThreeYear_avg_up',\n",
       "       'ThreeYear_hs300_up', 'ThreeYear_rank', 'ThreeYear_competitors',\n",
       "       'FiveYear_up', 'FiveYear_avg_up', 'FiveYear_hs300_up',\n",
       "       'FiveYear_rank', 'FiveYear_competitors', 'fundStocks_GPDM_0',\n",
       "       'fundStocks_GPJC_0', 'fundStocks_JZBL_0', 'fundStocks_PCTNVCHG_0',\n",
       "       'fundStocks_GPDM_1', 'fundStocks_GPJC_1', 'fundStocks_JZBL_1',\n",
       "       'fundStocks_PCTNVCHG_1', 'fundStocks_GPDM_2', 'fundStocks_GPJC_2',\n",
       "       'fundStocks_JZBL_2', 'fundStocks_PCTNVCHG_2', 'fundStocks_GPDM_3',\n",
       "       'fundStocks_GPJC_3', 'fundStocks_JZBL_3', 'fundStocks_PCTNVCHG_3',\n",
       "       'fundStocks_GPDM_4', 'fundStocks_GPJC_4', 'fundStocks_JZBL_4',\n",
       "       'fundStocks_PCTNVCHG_4', 'fundStocks_GPDM_5', 'fundStocks_GPJC_5',\n",
       "       'fundStocks_JZBL_5', 'fundStocks_PCTNVCHG_5', 'fundStocks_GPDM_6',\n",
       "       'fundStocks_GPJC_6', 'fundStocks_JZBL_6', 'fundStocks_PCTNVCHG_6',\n",
       "       'fundStocks_GPDM_7', 'fundStocks_GPJC_7', 'fundStocks_JZBL_7',\n",
       "       'fundStocks_PCTNVCHG_7', 'fundStocks_GPDM_8', 'fundStocks_GPJC_8',\n",
       "       'fundStocks_JZBL_8', 'fundStocks_PCTNVCHG_8', 'fundStocks_GPDM_9',\n",
       "       'fundStocks_GPJC_9', 'fundStocks_JZBL_9', 'fundStocks_PCTNVCHG_9',\n",
       "       'pca_1', 'pca_2', 'pca_3', 'cluster', 'code', 'date', 'jd_20_4',\n",
       "       'jd_20_3', 'jd_20_2', 'jd_20_1', 'jd_19_4', 'jd_19_3', 'jd_19_2',\n",
       "       'jd_19_1', 'nd_20', 'nd_19', 'nd_18', 'nd_17', 'nd_16', 'nd_15',\n",
       "       'nd_14', 'nd_13', 'Unnamed: 18', 'SHARP1_rank', 'SHARP2_rank',\n",
       "       '收益回撤比_rank', 'Days_rank', 'Payback_rank', 'STDDEV1_rank',\n",
       "       'STDDEV2_rank', 'MAXRETRA1_rank', 'jd_20_4_rank', 'jd_20_3_rank',\n",
       "       'jd_20_2_rank', 'jd_20_1_rank', 'jd_19_4_rank', 'jd_19_3_rank',\n",
       "       'jd_19_2_rank', 'jd_19_1_rank', 'nd_20_rank', 'nd_19_rank',\n",
       "       'nd_18_rank', 'nd_17_rank', 'nd_16_rank', 'nd_15_rank',\n",
       "       'nd_14_rank', 'nd_13_rank'], dtype=object)"
      ]
     },
     "metadata": {},
     "execution_count": 28
    }
   ],
   "source": [
    "df1.columns.values"
   ]
  },
  {
   "cell_type": "code",
   "execution_count": 29,
   "metadata": {},
   "outputs": [],
   "source": [
    "table1 = ['SHORTNAME','FCODE','date','cluster','MGRID','MGRNAME',\n",
    "        'Days','Days_rank',\n",
    "        'Payback','Payback_rank',\n",
    "        'SHARP1','SHARP1_rank',\n",
    "        'SHARP2','SHARP2_rank',\n",
    "        'STDDEV1','STDDEV1_rank',\n",
    "        'STDDEV2','STDDEV2_rank',\n",
    "        'MAXRETRA1','MAXRETRA1_rank',\n",
    "        'BaoTuan',\n",
    "         '收益回撤比','收益回撤比_rank',\n",
    "          'GP', 'ZQ', 'HB', 'JZC',\n",
    "         'Week_up', 'Week_avg_up',\n",
    "       'Week_hs300_up', 'Week_rank', 'Week_competitors', 'Month_up',\n",
    "       'Month_avg_up', 'Month_hs300_up', 'Month_rank',\n",
    "       'Month_competitors', 'Year_up', 'Year_avg_up', 'Year_hs300_up',\n",
    "       'Year_rank', 'Year_competitors', 'NowYear_up', 'NowYear_avg_up',\n",
    "       'NowYear_hs300_up', 'NowYear_rank', 'NowYear_competitors',\n",
    "       'TwoYear_up', 'TwoYear_avg_up', 'TwoYear_hs300_up', 'TwoYear_rank',\n",
    "       'TwoYear_competitors', 'ThreeYear_up', 'ThreeYear_avg_up',\n",
    "       'ThreeYear_hs300_up', 'ThreeYear_rank', 'ThreeYear_competitors',\n",
    "       'FiveYear_up', 'FiveYear_avg_up', 'FiveYear_hs300_up',\n",
    "       'FiveYear_rank', 'FiveYear_competitors', 'fundStocks_GPDM_0',\n",
    "       'fundStocks_GPJC_0', 'fundStocks_JZBL_0', 'fundStocks_PCTNVCHG_0',\n",
    "       'fundStocks_GPDM_1', 'fundStocks_GPJC_1', 'fundStocks_JZBL_1',\n",
    "       'fundStocks_PCTNVCHG_1', 'fundStocks_GPDM_2', 'fundStocks_GPJC_2',\n",
    "       'fundStocks_JZBL_2', 'fundStocks_PCTNVCHG_2', 'fundStocks_GPDM_3',\n",
    "       'fundStocks_GPJC_3', 'fundStocks_JZBL_3', 'fundStocks_PCTNVCHG_3',\n",
    "       'fundStocks_GPDM_4', 'fundStocks_GPJC_4', 'fundStocks_JZBL_4',\n",
    "       'fundStocks_PCTNVCHG_4', 'fundStocks_GPDM_5', 'fundStocks_GPJC_5',\n",
    "       'fundStocks_JZBL_5', 'fundStocks_PCTNVCHG_5', 'fundStocks_GPDM_6',\n",
    "       'fundStocks_GPJC_6', 'fundStocks_JZBL_6', 'fundStocks_PCTNVCHG_6',\n",
    "       'fundStocks_GPDM_7', 'fundStocks_GPJC_7', 'fundStocks_JZBL_7',\n",
    "       'fundStocks_PCTNVCHG_7', 'fundStocks_GPDM_8', 'fundStocks_GPJC_8',\n",
    "       'fundStocks_JZBL_8', 'fundStocks_PCTNVCHG_8', 'fundStocks_GPDM_9',\n",
    "       'fundStocks_GPJC_9', 'fundStocks_JZBL_9', 'fundStocks_PCTNVCHG_9',\n",
    "        'jd_20_4','jd_20_4_rank',\n",
    "          'jd_20_3','jd_20_3_rank',\n",
    "          'jd_20_2', 'jd_20_2_rank',\n",
    "          'jd_20_1', 'jd_20_1_rank',\n",
    "          'jd_19_4', 'jd_19_4_rank',\n",
    "          'jd_19_3','jd_19_3_rank',\n",
    "          'jd_19_2','jd_19_2_rank',\n",
    "          'jd_19_1', 'jd_19_1_rank',\n",
    "          'nd_20', 'nd_20_rank',\n",
    "          'nd_19','nd_19_rank',\n",
    "          'nd_18','nd_18_rank',\n",
    "          'nd_17', 'nd_17_rank',\n",
    "          'nd_16', 'nd_16_rank',\n",
    "          'nd_15','nd_15_rank',\n",
    "          'nd_14', 'nd_14_rank',\n",
    "          'nd_13','nd_13_rank']\n",
    "\n",
    "df_table1 = df1[table1]"
   ]
  },
  {
   "cell_type": "code",
   "execution_count": 30,
   "metadata": {},
   "outputs": [
    {
     "output_type": "execute_result",
     "data": {
      "text/plain": [
       "           SHORTNAME   FCODE   date  cluster              MGRID  MGRNAME  \\\n",
       "0     华宝标普油气上游股票人民币A  162411  05-19        6  30200459,30732062    周晶,杨洋   \n",
       "1          九泰行业优选混合C  008438  05-20        4  30349054,30589084   吴祖尧,何昕   \n",
       "2          恒越核心精选混合C  007193  05-20        6  30561920,30711642    高楠,叶佳   \n",
       "3          华夏新兴消费混合A  005888  05-20        9           30063386      孙轶佳   \n",
       "4         浙商沪港深精选混合C  007369  05-20        5           30655735       贾腾   \n",
       "...              ...     ...    ...      ...                ...      ...   \n",
       "7541        蜂巢添幂中短债C  007219  05-20        4  30644579,30645926  廖新昌,李海涛   \n",
       "7542         先锋汇盈纯债C  005893  05-20        0           30692022       杜旭   \n",
       "7543       嘉实资源精选股票A  005660  05-20        9  30073608,30494277   苏文杰,肖觅   \n",
       "7544     恒越研究精选混合A/B  006049  05-20        6           30561920       高楠   \n",
       "7545       上投摩根慧选成长A  008314  05-20        1           30506861      李德辉   \n",
       "\n",
       "        Days  Days_rank  Payback  Payback_rank  ...    nd_17  nd_17_rank  \\\n",
       "0       -1.0       7546   -1.000          7546  ...  -15.41%        3093   \n",
       "1     1280.0       4953   -2.912          7448  ...       --        7546   \n",
       "2     1090.0       5443   30.533           462  ...       --        7546   \n",
       "3     1946.0       3263   13.833          2596  ...       --        7546   \n",
       "4      755.0       6132   40.812           240  ...       --        7546   \n",
       "...      ...        ...      ...           ...  ...      ...         ...   \n",
       "7541   778.0       6076    3.185          6173  ...       --        7546   \n",
       "7542   388.0       6811    1.324          6802  ...       --        7546   \n",
       "7543  1540.0       4244   21.839          1071  ...       --        7546   \n",
       "7544  1090.0       5443   30.533           462  ...       --        7546   \n",
       "7545  1581.0       4175   26.916           664  ...       --        7546   \n",
       "\n",
       "       nd_16  nd_16_rank    nd_15  nd_15_rank    nd_14  nd_14_rank   nd_13  \\\n",
       "0     44.24%           4  -34.78%        1541  -32.23%        1288  18.39%   \n",
       "1         --        7546       --        7546       --        7546      --   \n",
       "2         --        7546       --        7546       --        7546      --   \n",
       "3         --        7546       --        7546       --        7546      --   \n",
       "4         --        7546       --        7546       --        7546      --   \n",
       "...      ...         ...      ...         ...      ...         ...     ...   \n",
       "7541      --        7546       --        7546       --        7546      --   \n",
       "7542      --        7546       --        7546       --        7546      --   \n",
       "7543      --        7546       --        7546       --        7546      --   \n",
       "7544      --        7546       --        7546       --        7546      --   \n",
       "7545      --        7546       --        7546       --        7546      --   \n",
       "\n",
       "      nd_13_rank  \n",
       "0            209  \n",
       "1           7546  \n",
       "2           7546  \n",
       "3           7546  \n",
       "4           7546  \n",
       "...          ...  \n",
       "7541        7546  \n",
       "7542        7546  \n",
       "7543        7546  \n",
       "7544        7546  \n",
       "7545        7546  \n",
       "\n",
       "[7546 rows x 134 columns]"
      ],
      "text/html": "<div>\n<style scoped>\n    .dataframe tbody tr th:only-of-type {\n        vertical-align: middle;\n    }\n\n    .dataframe tbody tr th {\n        vertical-align: top;\n    }\n\n    .dataframe thead th {\n        text-align: right;\n    }\n</style>\n<table border=\"1\" class=\"dataframe\">\n  <thead>\n    <tr style=\"text-align: right;\">\n      <th></th>\n      <th>SHORTNAME</th>\n      <th>FCODE</th>\n      <th>date</th>\n      <th>cluster</th>\n      <th>MGRID</th>\n      <th>MGRNAME</th>\n      <th>Days</th>\n      <th>Days_rank</th>\n      <th>Payback</th>\n      <th>Payback_rank</th>\n      <th>...</th>\n      <th>nd_17</th>\n      <th>nd_17_rank</th>\n      <th>nd_16</th>\n      <th>nd_16_rank</th>\n      <th>nd_15</th>\n      <th>nd_15_rank</th>\n      <th>nd_14</th>\n      <th>nd_14_rank</th>\n      <th>nd_13</th>\n      <th>nd_13_rank</th>\n    </tr>\n  </thead>\n  <tbody>\n    <tr>\n      <th>0</th>\n      <td>华宝标普油气上游股票人民币A</td>\n      <td>162411</td>\n      <td>05-19</td>\n      <td>6</td>\n      <td>30200459,30732062</td>\n      <td>周晶,杨洋</td>\n      <td>-1.0</td>\n      <td>7546</td>\n      <td>-1.000</td>\n      <td>7546</td>\n      <td>...</td>\n      <td>-15.41%</td>\n      <td>3093</td>\n      <td>44.24%</td>\n      <td>4</td>\n      <td>-34.78%</td>\n      <td>1541</td>\n      <td>-32.23%</td>\n      <td>1288</td>\n      <td>18.39%</td>\n      <td>209</td>\n    </tr>\n    <tr>\n      <th>1</th>\n      <td>九泰行业优选混合C</td>\n      <td>008438</td>\n      <td>05-20</td>\n      <td>4</td>\n      <td>30349054,30589084</td>\n      <td>吴祖尧,何昕</td>\n      <td>1280.0</td>\n      <td>4953</td>\n      <td>-2.912</td>\n      <td>7448</td>\n      <td>...</td>\n      <td>--</td>\n      <td>7546</td>\n      <td>--</td>\n      <td>7546</td>\n      <td>--</td>\n      <td>7546</td>\n      <td>--</td>\n      <td>7546</td>\n      <td>--</td>\n      <td>7546</td>\n    </tr>\n    <tr>\n      <th>2</th>\n      <td>恒越核心精选混合C</td>\n      <td>007193</td>\n      <td>05-20</td>\n      <td>6</td>\n      <td>30561920,30711642</td>\n      <td>高楠,叶佳</td>\n      <td>1090.0</td>\n      <td>5443</td>\n      <td>30.533</td>\n      <td>462</td>\n      <td>...</td>\n      <td>--</td>\n      <td>7546</td>\n      <td>--</td>\n      <td>7546</td>\n      <td>--</td>\n      <td>7546</td>\n      <td>--</td>\n      <td>7546</td>\n      <td>--</td>\n      <td>7546</td>\n    </tr>\n    <tr>\n      <th>3</th>\n      <td>华夏新兴消费混合A</td>\n      <td>005888</td>\n      <td>05-20</td>\n      <td>9</td>\n      <td>30063386</td>\n      <td>孙轶佳</td>\n      <td>1946.0</td>\n      <td>3263</td>\n      <td>13.833</td>\n      <td>2596</td>\n      <td>...</td>\n      <td>--</td>\n      <td>7546</td>\n      <td>--</td>\n      <td>7546</td>\n      <td>--</td>\n      <td>7546</td>\n      <td>--</td>\n      <td>7546</td>\n      <td>--</td>\n      <td>7546</td>\n    </tr>\n    <tr>\n      <th>4</th>\n      <td>浙商沪港深精选混合C</td>\n      <td>007369</td>\n      <td>05-20</td>\n      <td>5</td>\n      <td>30655735</td>\n      <td>贾腾</td>\n      <td>755.0</td>\n      <td>6132</td>\n      <td>40.812</td>\n      <td>240</td>\n      <td>...</td>\n      <td>--</td>\n      <td>7546</td>\n      <td>--</td>\n      <td>7546</td>\n      <td>--</td>\n      <td>7546</td>\n      <td>--</td>\n      <td>7546</td>\n      <td>--</td>\n      <td>7546</td>\n    </tr>\n    <tr>\n      <th>...</th>\n      <td>...</td>\n      <td>...</td>\n      <td>...</td>\n      <td>...</td>\n      <td>...</td>\n      <td>...</td>\n      <td>...</td>\n      <td>...</td>\n      <td>...</td>\n      <td>...</td>\n      <td>...</td>\n      <td>...</td>\n      <td>...</td>\n      <td>...</td>\n      <td>...</td>\n      <td>...</td>\n      <td>...</td>\n      <td>...</td>\n      <td>...</td>\n      <td>...</td>\n      <td>...</td>\n    </tr>\n    <tr>\n      <th>7541</th>\n      <td>蜂巢添幂中短债C</td>\n      <td>007219</td>\n      <td>05-20</td>\n      <td>4</td>\n      <td>30644579,30645926</td>\n      <td>廖新昌,李海涛</td>\n      <td>778.0</td>\n      <td>6076</td>\n      <td>3.185</td>\n      <td>6173</td>\n      <td>...</td>\n      <td>--</td>\n      <td>7546</td>\n      <td>--</td>\n      <td>7546</td>\n      <td>--</td>\n      <td>7546</td>\n      <td>--</td>\n      <td>7546</td>\n      <td>--</td>\n      <td>7546</td>\n    </tr>\n    <tr>\n      <th>7542</th>\n      <td>先锋汇盈纯债C</td>\n      <td>005893</td>\n      <td>05-20</td>\n      <td>0</td>\n      <td>30692022</td>\n      <td>杜旭</td>\n      <td>388.0</td>\n      <td>6811</td>\n      <td>1.324</td>\n      <td>6802</td>\n      <td>...</td>\n      <td>--</td>\n      <td>7546</td>\n      <td>--</td>\n      <td>7546</td>\n      <td>--</td>\n      <td>7546</td>\n      <td>--</td>\n      <td>7546</td>\n      <td>--</td>\n      <td>7546</td>\n    </tr>\n    <tr>\n      <th>7543</th>\n      <td>嘉实资源精选股票A</td>\n      <td>005660</td>\n      <td>05-20</td>\n      <td>9</td>\n      <td>30073608,30494277</td>\n      <td>苏文杰,肖觅</td>\n      <td>1540.0</td>\n      <td>4244</td>\n      <td>21.839</td>\n      <td>1071</td>\n      <td>...</td>\n      <td>--</td>\n      <td>7546</td>\n      <td>--</td>\n      <td>7546</td>\n      <td>--</td>\n      <td>7546</td>\n      <td>--</td>\n      <td>7546</td>\n      <td>--</td>\n      <td>7546</td>\n    </tr>\n    <tr>\n      <th>7544</th>\n      <td>恒越研究精选混合A/B</td>\n      <td>006049</td>\n      <td>05-20</td>\n      <td>6</td>\n      <td>30561920</td>\n      <td>高楠</td>\n      <td>1090.0</td>\n      <td>5443</td>\n      <td>30.533</td>\n      <td>462</td>\n      <td>...</td>\n      <td>--</td>\n      <td>7546</td>\n      <td>--</td>\n      <td>7546</td>\n      <td>--</td>\n      <td>7546</td>\n      <td>--</td>\n      <td>7546</td>\n      <td>--</td>\n      <td>7546</td>\n    </tr>\n    <tr>\n      <th>7545</th>\n      <td>上投摩根慧选成长A</td>\n      <td>008314</td>\n      <td>05-20</td>\n      <td>1</td>\n      <td>30506861</td>\n      <td>李德辉</td>\n      <td>1581.0</td>\n      <td>4175</td>\n      <td>26.916</td>\n      <td>664</td>\n      <td>...</td>\n      <td>--</td>\n      <td>7546</td>\n      <td>--</td>\n      <td>7546</td>\n      <td>--</td>\n      <td>7546</td>\n      <td>--</td>\n      <td>7546</td>\n      <td>--</td>\n      <td>7546</td>\n    </tr>\n  </tbody>\n</table>\n<p>7546 rows × 134 columns</p>\n</div>"
     },
     "metadata": {},
     "execution_count": 30
    }
   ],
   "source": [
    "df_table1"
   ]
  },
  {
   "cell_type": "code",
   "execution_count": 31,
   "metadata": {},
   "outputs": [
    {
     "output_type": "stream",
     "name": "stdout",
     "text": [
      "D:\\基金数据\\最新数据\\Data_after4.5_2021_5_21.csv\nD:\\基金数据\\最新数据\\Data_after4.5_2021_5_21.txt\n"
     ]
    }
   ],
   "source": [
    "# 保存路径名:\n",
    "# savepath_csv = r\"D:\\基金数据\\最新数据\\Data_after3_3_18.csv\" # 写死\n",
    "# savepath_txt = r\"D:\\基金数据\\最新数据\\Data_after3_3_18.txt\" # 写死\n",
    "from datetime import datetime\n",
    "\n",
    "today = datetime.now()\n",
    "\n",
    "savepath_csv = r\"D:\\基金数据\\最新数据\\Data_after4.5_{}_{}_{}.csv\".format(today.year,today.month,today.day) # 自动获取\n",
    "savepath_txt = r\"D:\\基金数据\\最新数据\\Data_after4.5_{}_{}_{}.txt\".format(today.year,today.month,today.day) # 自动获取\n",
    "print(savepath_csv)\n",
    "print(savepath_txt)"
   ]
  },
  {
   "cell_type": "code",
   "execution_count": 32,
   "metadata": {},
   "outputs": [],
   "source": [
    "df_table1.to_csv(savepath_csv,encoding='GB18030')\n",
    "df_table1.to_csv(savepath_txt,sep='\\t',index=False,encoding='GB18030')"
   ]
  },
  {
   "cell_type": "code",
   "execution_count": null,
   "metadata": {},
   "outputs": [],
   "source": []
  },
  {
   "cell_type": "code",
   "execution_count": null,
   "metadata": {},
   "outputs": [],
   "source": []
  },
  {
   "cell_type": "code",
   "execution_count": null,
   "metadata": {},
   "outputs": [],
   "source": []
  },
  {
   "cell_type": "code",
   "execution_count": null,
   "metadata": {},
   "outputs": [],
   "source": []
  }
 ],
 "metadata": {
  "kernelspec": {
   "name": "python385jvsc74a57bd0a8f61be024eba58adef938c9aa1e29e02cb3dece83a5348b1a2dafd16a070453",
   "display_name": "Python 3.8.5 64-bit ('base': conda)"
  },
  "language_info": {
   "codemirror_mode": {
    "name": "ipython",
    "version": 3
   },
   "file_extension": ".py",
   "mimetype": "text/x-python",
   "name": "python",
   "nbconvert_exporter": "python",
   "pygments_lexer": "ipython3",
   "version": "3.8.5"
  }
 },
 "nbformat": 4,
 "nbformat_minor": 4
}
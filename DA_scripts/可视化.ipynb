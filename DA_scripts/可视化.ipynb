{
 "metadata": {
  "language_info": {
   "codemirror_mode": {
    "name": "ipython",
    "version": 3
   },
   "file_extension": ".py",
   "mimetype": "text/x-python",
   "name": "python",
   "nbconvert_exporter": "python",
   "pygments_lexer": "ipython3",
   "version": "3.8.5"
  },
  "orig_nbformat": 2,
  "kernelspec": {
   "name": "python385jvsc74a57bd0a8f61be024eba58adef938c9aa1e29e02cb3dece83a5348b1a2dafd16a070453",
   "display_name": "Python 3.8.5 64-bit ('base': conda)"
  }
 },
 "nbformat": 4,
 "nbformat_minor": 2,
 "cells": [
  {
   "cell_type": "code",
   "execution_count": 2,
   "metadata": {},
   "outputs": [],
   "source": [
    "from pyecharts.charts import Bar\n",
    "from pyecharts import options as opts"
   ]
  },
  {
   "cell_type": "code",
   "execution_count": 9,
   "metadata": {},
   "outputs": [],
   "source": [
    "import json\n",
    "with open(\"test.json\",'r') as load_f:\n",
    "    load_dict = json.load(load_f)"
   ]
  },
  {
   "cell_type": "code",
   "execution_count": 16,
   "metadata": {},
   "outputs": [],
   "source": [
    "SHORTNAME_dict = []\n",
    "Week_up_dict = []\n",
    "for i in range(5):\n",
    "    a = str(i)\n",
    "    b = json.dumps(load_dict['SHORTNAME'][a],ensure_ascii=False)\n",
    "    c = json.dumps(load_dict['Week_up'][a],ensure_ascii=False)\n",
    "    # b = json.dumps(load_dict['SHORTNAME'][a])\n",
    "    SHORTNAME_dict.append(b)\n",
    "    Week_up_dict.append(c)"
   ]
  },
  {
   "cell_type": "code",
   "execution_count": 30,
   "metadata": {},
   "outputs": [
    {
     "output_type": "execute_result",
     "data": {
      "text/plain": [
       "['广发道琼斯石油指数人民币A', '华夏新兴消费混合C', '前海开源公用事业股票', '华宝标普油气上游股票人民币C', '工银新能源汽车混合C']"
      ]
     },
     "metadata": {},
     "execution_count": 30
    }
   ],
   "source": [
    "for i in range(len(SHORTNAME_dict)):\n",
    "    name = SHORTNAME_dict[i]\n",
    "    SHORTNAME_dict[i] = name.replace('\"',\"\")\n",
    "SHORTNAME_dict"
   ]
  },
  {
   "cell_type": "code",
   "execution_count": 31,
   "metadata": {},
   "outputs": [
    {
     "output_type": "execute_result",
     "data": {
      "text/plain": [
       "['-1.96', '-0.9', '0.89', '-3.6', '1.53']"
      ]
     },
     "metadata": {},
     "execution_count": 31
    }
   ],
   "source": [
    "Week_up_dict"
   ]
  },
  {
   "cell_type": "code",
   "execution_count": 35,
   "metadata": {},
   "outputs": [],
   "source": [
    "ttt = ['1','2','3','4','5']"
   ]
  },
  {
   "cell_type": "code",
   "execution_count": 36,
   "metadata": {},
   "outputs": [
    {
     "output_type": "execute_result",
     "data": {
      "text/plain": [
       "'d:\\\\Scrapy爬虫\\\\DA_scripts\\\\render.html'"
      ]
     },
     "metadata": {},
     "execution_count": 36
    }
   ],
   "source": [
    "bar = Bar()\n",
    "# bar.add_xaxis(SHORTNAME_dict[:])\n",
    "bar.add_xaxis(ttt)\n",
    "bar.add_yaxis(series_name='abc',y_axis=Week_up_dict)\n",
    "# bar.set_global_opts(title_opts=opts.TitleOpts(title=\"某商场销售情况\"))\n",
    "bar.render()"
   ]
  },
  {
   "cell_type": "code",
   "execution_count": 136,
   "metadata": {},
   "outputs": [],
   "source": [
    "import pandas as pd\n",
    "path_flag = 0"
   ]
  },
  {
   "cell_type": "code",
   "execution_count": 137,
   "metadata": {},
   "outputs": [
    {
     "output_type": "stream",
     "name": "stdout",
     "text": [
      "D:\\基金数据\\最新数据\\Data_after5.1_2021_5_15_弱化季度版.txt\n"
     ]
    }
   ],
   "source": [
    "if path_flag == 0:\n",
    "    # A: 使用时间参数自动获取路径名\n",
    "    from datetime import datetime\n",
    "\n",
    "    today = datetime.now()\n",
    "\n",
    "    path = r\"D:\\基金数据\\最新数据\\Data_after5.1_{}_{}_{}_弱化季度版.txt\".format(today.year,today.month,today.day) # 自动获取\n",
    "    # 要求输入列为：\n",
    "    # SHORTNAME\tFCODE\tMGRID\tMGRNAME\tSHARP1\tSHARP2\tSTDDEV1\tSTDDEV2\tMAXRETRA1\tGP\tZQ\tHB\tJZC\tWeek_up\tWeek_avg_up\tWeek_hs300_up\tWeek_rank\tWeek_competitors\tMonth_up\tMonth_avg_up\tMonth_hs300_up\tMonth_rank\tMonth_competitors\tYear_up\tYear_avg_up\tYear_hs300_up\tYear_rank\tYear_competitors\tNowYear_up\tNowYear_avg_up\tNowYear_hs300_up\tNowYear_rank\tNowYear_competitors\tTwoYear_up\tTwoYear_avg_up\tTwoYear_hs300_up\tTwoYear_rank\tTwoYear_competitors\tThreeYear_up\tThreeYear_avg_up\tThreeYear_hs300_up\tThreeYear_rank\tThreeYear_competitors\tFiveYear_up\tFiveYear_avg_up\tFiveYear_hs300_up\tFiveYear_rank\tFiveYear_competitors\tfundStocks_GPDM_0\tfundStocks_GPJC_0\tfundStocks_JZBL_0\tfundStocks_PCTNVCHG_0\tfundStocks_GPDM_1\tfundStocks_GPJC_1\tfundStocks_JZBL_1\tfundStocks_PCTNVCHG_1\tfundStocks_GPDM_2\tfundStocks_GPJC_2\tfundStocks_JZBL_2\tfundStocks_PCTNVCHG_2\tfundStocks_GPDM_3\tfundStocks_GPJC_3\tfundStocks_JZBL_3\tfundStocks_PCTNVCHG_3\tfundStocks_GPDM_4\tfundStocks_GPJC_4\tfundStocks_JZBL_4\tfundStocks_PCTNVCHG_4\tfundStocks_GPDM_5\tfundStocks_GPJC_5\tfundStocks_JZBL_5\tfundStocks_PCTNVCHG_5\tfundStocks_GPDM_6\tfundStocks_GPJC_6\tfundStocks_JZBL_6\tfundStocks_PCTNVCHG_6\tfundStocks_GPDM_7\tfundStocks_GPJC_7\tfundStocks_JZBL_7\tfundStocks_PCTNVCHG_7\tfundStocks_GPDM_8\tfundStocks_GPJC_8\tfundStocks_JZBL_8\tfundStocks_PCTNVCHG_8\tfundStocks_GPDM_9\tfundStocks_GPJC_9\tfundStocks_JZBL_9\tfundStocks_PCTNVCHG_9\tBaoTuan\tPayback\tDays\n",
    "    df = pd.read_table(path,converters={'FCODE':str,'MGRID':str},encoding='GB18030',index_col=0)\n",
    "\n",
    "    print(path)\n",
    "\n",
    "elif path_flag == 1:\n",
    "    # B: 指定路径名\n",
    "\n",
    "    path = r'D:\\基金数据\\最新数据\\Data_after5.1_2021_5_8_弱化季度版.txt'\n",
    "    # 要求输入列为：\n",
    "    # SHORTNAME\tFCODE\tMGRID\tMGRNAME\tSHARP1\tSHARP2\tSTDDEV1\tSTDDEV2\tMAXRETRA1\tGP\tZQ\tHB\tJZC\tWeek_up\tWeek_avg_up\tWeek_hs300_up\tWeek_rank\tWeek_competitors\tMonth_up\tMonth_avg_up\tMonth_hs300_up\tMonth_rank\tMonth_competitors\tYear_up\tYear_avg_up\tYear_hs300_up\tYear_rank\tYear_competitors\tNowYear_up\tNowYear_avg_up\tNowYear_hs300_up\tNowYear_rank\tNowYear_competitors\tTwoYear_up\tTwoYear_avg_up\tTwoYear_hs300_up\tTwoYear_rank\tTwoYear_competitors\tThreeYear_up\tThreeYear_avg_up\tThreeYear_hs300_up\tThreeYear_rank\tThreeYear_competitors\tFiveYear_up\tFiveYear_avg_up\tFiveYear_hs300_up\tFiveYear_rank\tFiveYear_competitors\tfundStocks_GPDM_0\tfundStocks_GPJC_0\tfundStocks_JZBL_0\tfundStocks_PCTNVCHG_0\tfundStocks_GPDM_1\tfundStocks_GPJC_1\tfundStocks_JZBL_1\tfundStocks_PCTNVCHG_1\tfundStocks_GPDM_2\tfundStocks_GPJC_2\tfundStocks_JZBL_2\tfundStocks_PCTNVCHG_2\tfundStocks_GPDM_3\tfundStocks_GPJC_3\tfundStocks_JZBL_3\tfundStocks_PCTNVCHG_3\tfundStocks_GPDM_4\tfundStocks_GPJC_4\tfundStocks_JZBL_4\tfundStocks_PCTNVCHG_4\tfundStocks_GPDM_5\tfundStocks_GPJC_5\tfundStocks_JZBL_5\tfundStocks_PCTNVCHG_5\tfundStocks_GPDM_6\tfundStocks_GPJC_6\tfundStocks_JZBL_6\tfundStocks_PCTNVCHG_6\tfundStocks_GPDM_7\tfundStocks_GPJC_7\tfundStocks_JZBL_7\tfundStocks_PCTNVCHG_7\tfundStocks_GPDM_8\tfundStocks_GPJC_8\tfundStocks_JZBL_8\tfundStocks_PCTNVCHG_8\tfundStocks_GPDM_9\tfundStocks_GPJC_9\tfundStocks_JZBL_9\tfundStocks_PCTNVCHG_9\tBaoTuan\tPayback\tDays\n",
    "    df = pd.read_table(path,converters={'FCODE':str,'MGRID':str},encoding='GB18030',index_col=0)"
   ]
  },
  {
   "cell_type": "code",
   "execution_count": 138,
   "metadata": {},
   "outputs": [
    {
     "output_type": "execute_result",
     "data": {
      "text/plain": [
       "                 FCODE      count   date  cluster              MGRID MGRNAME  \\\n",
       "SHORTNAME                                                                      \n",
       "广发道琼斯石油指数人民币A   162719   8.862531  05-13        6           30283311      刘杰   \n",
       "华夏新兴消费混合C       005889  11.081484  05-14        2           30063386     孙轶佳   \n",
       "前海开源公用事业股票      005669   8.487435  05-14        0           30707945     崔宸龙   \n",
       "华宝标普油气上游股票人民币C  007844   5.022730  05-13        6  30200459,30732062   周晶,杨洋   \n",
       "工银新能源汽车混合C      005940   9.228111  05-14        6           30137001     闫思倩   \n",
       "\n",
       "                  Days  Days_rank  Payback  Payback_rank  ...  nd_17  \\\n",
       "SHORTNAME                                                 ...          \n",
       "广发道琼斯石油指数人民币A   2543.0       1710   11.504          3125  ...     --   \n",
       "华夏新兴消费混合C       1946.0       3281   13.833          2596  ...     --   \n",
       "前海开源公用事业股票       241.0       7102   42.187           204  ...     --   \n",
       "华宝标普油气上游股票人民币C    -1.0       7545   -1.000          7545  ...     --   \n",
       "工银新能源汽车混合C      1248.0       5024   16.155          2060  ...     --   \n",
       "\n",
       "                nd_17_rank  nd_16  nd_16_rank  nd_15  nd_15_rank  nd_14  \\\n",
       "SHORTNAME                                                                 \n",
       "广发道琼斯石油指数人民币A         7545     --        7545     --        7545     --   \n",
       "华夏新兴消费混合C             7545     --        7545     --        7545     --   \n",
       "前海开源公用事业股票            7545     --        7545     --        7545     --   \n",
       "华宝标普油气上游股票人民币C        7545     --        7545     --        7545     --   \n",
       "工银新能源汽车混合C            7545     --        7545     --        7545     --   \n",
       "\n",
       "                nd_14_rank  nd_13  nd_13_rank  \n",
       "SHORTNAME                                      \n",
       "广发道琼斯石油指数人民币A         7545     --        7545  \n",
       "华夏新兴消费混合C             7545     --        7545  \n",
       "前海开源公用事业股票            7545     --        7545  \n",
       "华宝标普油气上游股票人民币C        7545     --        7545  \n",
       "工银新能源汽车混合C            7545     --        7545  \n",
       "\n",
       "[5 rows x 134 columns]"
      ],
      "text/html": "<div>\n<style scoped>\n    .dataframe tbody tr th:only-of-type {\n        vertical-align: middle;\n    }\n\n    .dataframe tbody tr th {\n        vertical-align: top;\n    }\n\n    .dataframe thead th {\n        text-align: right;\n    }\n</style>\n<table border=\"1\" class=\"dataframe\">\n  <thead>\n    <tr style=\"text-align: right;\">\n      <th></th>\n      <th>FCODE</th>\n      <th>count</th>\n      <th>date</th>\n      <th>cluster</th>\n      <th>MGRID</th>\n      <th>MGRNAME</th>\n      <th>Days</th>\n      <th>Days_rank</th>\n      <th>Payback</th>\n      <th>Payback_rank</th>\n      <th>...</th>\n      <th>nd_17</th>\n      <th>nd_17_rank</th>\n      <th>nd_16</th>\n      <th>nd_16_rank</th>\n      <th>nd_15</th>\n      <th>nd_15_rank</th>\n      <th>nd_14</th>\n      <th>nd_14_rank</th>\n      <th>nd_13</th>\n      <th>nd_13_rank</th>\n    </tr>\n    <tr>\n      <th>SHORTNAME</th>\n      <th></th>\n      <th></th>\n      <th></th>\n      <th></th>\n      <th></th>\n      <th></th>\n      <th></th>\n      <th></th>\n      <th></th>\n      <th></th>\n      <th></th>\n      <th></th>\n      <th></th>\n      <th></th>\n      <th></th>\n      <th></th>\n      <th></th>\n      <th></th>\n      <th></th>\n      <th></th>\n      <th></th>\n    </tr>\n  </thead>\n  <tbody>\n    <tr>\n      <th>广发道琼斯石油指数人民币A</th>\n      <td>162719</td>\n      <td>8.862531</td>\n      <td>05-13</td>\n      <td>6</td>\n      <td>30283311</td>\n      <td>刘杰</td>\n      <td>2543.0</td>\n      <td>1710</td>\n      <td>11.504</td>\n      <td>3125</td>\n      <td>...</td>\n      <td>--</td>\n      <td>7545</td>\n      <td>--</td>\n      <td>7545</td>\n      <td>--</td>\n      <td>7545</td>\n      <td>--</td>\n      <td>7545</td>\n      <td>--</td>\n      <td>7545</td>\n    </tr>\n    <tr>\n      <th>华夏新兴消费混合C</th>\n      <td>005889</td>\n      <td>11.081484</td>\n      <td>05-14</td>\n      <td>2</td>\n      <td>30063386</td>\n      <td>孙轶佳</td>\n      <td>1946.0</td>\n      <td>3281</td>\n      <td>13.833</td>\n      <td>2596</td>\n      <td>...</td>\n      <td>--</td>\n      <td>7545</td>\n      <td>--</td>\n      <td>7545</td>\n      <td>--</td>\n      <td>7545</td>\n      <td>--</td>\n      <td>7545</td>\n      <td>--</td>\n      <td>7545</td>\n    </tr>\n    <tr>\n      <th>前海开源公用事业股票</th>\n      <td>005669</td>\n      <td>8.487435</td>\n      <td>05-14</td>\n      <td>0</td>\n      <td>30707945</td>\n      <td>崔宸龙</td>\n      <td>241.0</td>\n      <td>7102</td>\n      <td>42.187</td>\n      <td>204</td>\n      <td>...</td>\n      <td>--</td>\n      <td>7545</td>\n      <td>--</td>\n      <td>7545</td>\n      <td>--</td>\n      <td>7545</td>\n      <td>--</td>\n      <td>7545</td>\n      <td>--</td>\n      <td>7545</td>\n    </tr>\n    <tr>\n      <th>华宝标普油气上游股票人民币C</th>\n      <td>007844</td>\n      <td>5.022730</td>\n      <td>05-13</td>\n      <td>6</td>\n      <td>30200459,30732062</td>\n      <td>周晶,杨洋</td>\n      <td>-1.0</td>\n      <td>7545</td>\n      <td>-1.000</td>\n      <td>7545</td>\n      <td>...</td>\n      <td>--</td>\n      <td>7545</td>\n      <td>--</td>\n      <td>7545</td>\n      <td>--</td>\n      <td>7545</td>\n      <td>--</td>\n      <td>7545</td>\n      <td>--</td>\n      <td>7545</td>\n    </tr>\n    <tr>\n      <th>工银新能源汽车混合C</th>\n      <td>005940</td>\n      <td>9.228111</td>\n      <td>05-14</td>\n      <td>6</td>\n      <td>30137001</td>\n      <td>闫思倩</td>\n      <td>1248.0</td>\n      <td>5024</td>\n      <td>16.155</td>\n      <td>2060</td>\n      <td>...</td>\n      <td>--</td>\n      <td>7545</td>\n      <td>--</td>\n      <td>7545</td>\n      <td>--</td>\n      <td>7545</td>\n      <td>--</td>\n      <td>7545</td>\n      <td>--</td>\n      <td>7545</td>\n    </tr>\n  </tbody>\n</table>\n<p>5 rows × 134 columns</p>\n</div>"
     },
     "metadata": {},
     "execution_count": 138
    }
   ],
   "source": [
    "df.head(5)"
   ]
  },
  {
   "cell_type": "code",
   "execution_count": 139,
   "metadata": {},
   "outputs": [],
   "source": [
    "sorted_df = df.sort_values(by=['count'],ascending=False)"
   ]
  },
  {
   "cell_type": "code",
   "execution_count": 140,
   "metadata": {},
   "outputs": [
    {
     "output_type": "execute_result",
     "data": {
      "text/plain": [
       "               FCODE      count   date  cluster     MGRID MGRNAME    Days  \\\n",
       "SHORTNAME                                                                   \n",
       "工银战略转型股票A     000991  13.669304  05-14        0  30327019      杜洋  2222.0   \n",
       "国富中国收益混合      450001  13.609198  05-14        6  30036328     徐荔蓉  5230.0   \n",
       "国投瑞银瑞源灵活配置混合  121010  13.597601  05-14        5  30059214     綦缚鹏  3981.0   \n",
       "广发睿毅领先混合      005233  13.315958  05-14        6  30137559     林英睿  1937.0   \n",
       "华安行业轮动混合      040016  13.295600  05-14        0  30276715     饶晓鹏  2490.0   \n",
       "\n",
       "              Days_rank  Payback  Payback_rank  ...   nd_17  nd_17_rank  \\\n",
       "SHORTNAME                                       ...                       \n",
       "工银战略转型股票A          2293   22.039          1046  ...  26.34%        7545   \n",
       "国富中国收益混合             61   16.806          1911  ...   8.90%        7545   \n",
       "国投瑞银瑞源灵活配置混合        425    8.753          3922  ...   5.69%        7545   \n",
       "广发睿毅领先混合           3304   10.678          3353  ...      --        7545   \n",
       "华安行业轮动混合           1802   34.278           351  ...   6.35%        7545   \n",
       "\n",
       "               nd_16  nd_16_rank   nd_15  nd_15_rank   nd_14  nd_14_rank  \\\n",
       "SHORTNAME                                                                  \n",
       "工银战略转型股票A     -2.08%        7545      --        7545      --        7545   \n",
       "国富中国收益混合      -1.10%        7545  28.54%        7545  21.48%        7545   \n",
       "国投瑞银瑞源灵活配置混合   4.41%        7545  11.13%        7545  18.15%        7545   \n",
       "广发睿毅领先混合          --        7545      --        7545      --        7545   \n",
       "华安行业轮动混合      -8.88%        7545  65.66%        7545  40.00%        7545   \n",
       "\n",
       "               nd_13  nd_13_rank  \n",
       "SHORTNAME                         \n",
       "工银战略转型股票A         --        7545  \n",
       "国富中国收益混合       8.70%        7545  \n",
       "国投瑞银瑞源灵活配置混合   3.32%        7545  \n",
       "广发睿毅领先混合          --        7545  \n",
       "华安行业轮动混合      -0.78%        7545  \n",
       "\n",
       "[5 rows x 134 columns]"
      ],
      "text/html": "<div>\n<style scoped>\n    .dataframe tbody tr th:only-of-type {\n        vertical-align: middle;\n    }\n\n    .dataframe tbody tr th {\n        vertical-align: top;\n    }\n\n    .dataframe thead th {\n        text-align: right;\n    }\n</style>\n<table border=\"1\" class=\"dataframe\">\n  <thead>\n    <tr style=\"text-align: right;\">\n      <th></th>\n      <th>FCODE</th>\n      <th>count</th>\n      <th>date</th>\n      <th>cluster</th>\n      <th>MGRID</th>\n      <th>MGRNAME</th>\n      <th>Days</th>\n      <th>Days_rank</th>\n      <th>Payback</th>\n      <th>Payback_rank</th>\n      <th>...</th>\n      <th>nd_17</th>\n      <th>nd_17_rank</th>\n      <th>nd_16</th>\n      <th>nd_16_rank</th>\n      <th>nd_15</th>\n      <th>nd_15_rank</th>\n      <th>nd_14</th>\n      <th>nd_14_rank</th>\n      <th>nd_13</th>\n      <th>nd_13_rank</th>\n    </tr>\n    <tr>\n      <th>SHORTNAME</th>\n      <th></th>\n      <th></th>\n      <th></th>\n      <th></th>\n      <th></th>\n      <th></th>\n      <th></th>\n      <th></th>\n      <th></th>\n      <th></th>\n      <th></th>\n      <th></th>\n      <th></th>\n      <th></th>\n      <th></th>\n      <th></th>\n      <th></th>\n      <th></th>\n      <th></th>\n      <th></th>\n      <th></th>\n    </tr>\n  </thead>\n  <tbody>\n    <tr>\n      <th>工银战略转型股票A</th>\n      <td>000991</td>\n      <td>13.669304</td>\n      <td>05-14</td>\n      <td>0</td>\n      <td>30327019</td>\n      <td>杜洋</td>\n      <td>2222.0</td>\n      <td>2293</td>\n      <td>22.039</td>\n      <td>1046</td>\n      <td>...</td>\n      <td>26.34%</td>\n      <td>7545</td>\n      <td>-2.08%</td>\n      <td>7545</td>\n      <td>--</td>\n      <td>7545</td>\n      <td>--</td>\n      <td>7545</td>\n      <td>--</td>\n      <td>7545</td>\n    </tr>\n    <tr>\n      <th>国富中国收益混合</th>\n      <td>450001</td>\n      <td>13.609198</td>\n      <td>05-14</td>\n      <td>6</td>\n      <td>30036328</td>\n      <td>徐荔蓉</td>\n      <td>5230.0</td>\n      <td>61</td>\n      <td>16.806</td>\n      <td>1911</td>\n      <td>...</td>\n      <td>8.90%</td>\n      <td>7545</td>\n      <td>-1.10%</td>\n      <td>7545</td>\n      <td>28.54%</td>\n      <td>7545</td>\n      <td>21.48%</td>\n      <td>7545</td>\n      <td>8.70%</td>\n      <td>7545</td>\n    </tr>\n    <tr>\n      <th>国投瑞银瑞源灵活配置混合</th>\n      <td>121010</td>\n      <td>13.597601</td>\n      <td>05-14</td>\n      <td>5</td>\n      <td>30059214</td>\n      <td>綦缚鹏</td>\n      <td>3981.0</td>\n      <td>425</td>\n      <td>8.753</td>\n      <td>3922</td>\n      <td>...</td>\n      <td>5.69%</td>\n      <td>7545</td>\n      <td>4.41%</td>\n      <td>7545</td>\n      <td>11.13%</td>\n      <td>7545</td>\n      <td>18.15%</td>\n      <td>7545</td>\n      <td>3.32%</td>\n      <td>7545</td>\n    </tr>\n    <tr>\n      <th>广发睿毅领先混合</th>\n      <td>005233</td>\n      <td>13.315958</td>\n      <td>05-14</td>\n      <td>6</td>\n      <td>30137559</td>\n      <td>林英睿</td>\n      <td>1937.0</td>\n      <td>3304</td>\n      <td>10.678</td>\n      <td>3353</td>\n      <td>...</td>\n      <td>--</td>\n      <td>7545</td>\n      <td>--</td>\n      <td>7545</td>\n      <td>--</td>\n      <td>7545</td>\n      <td>--</td>\n      <td>7545</td>\n      <td>--</td>\n      <td>7545</td>\n    </tr>\n    <tr>\n      <th>华安行业轮动混合</th>\n      <td>040016</td>\n      <td>13.295600</td>\n      <td>05-14</td>\n      <td>0</td>\n      <td>30276715</td>\n      <td>饶晓鹏</td>\n      <td>2490.0</td>\n      <td>1802</td>\n      <td>34.278</td>\n      <td>351</td>\n      <td>...</td>\n      <td>6.35%</td>\n      <td>7545</td>\n      <td>-8.88%</td>\n      <td>7545</td>\n      <td>65.66%</td>\n      <td>7545</td>\n      <td>40.00%</td>\n      <td>7545</td>\n      <td>-0.78%</td>\n      <td>7545</td>\n    </tr>\n  </tbody>\n</table>\n<p>5 rows × 134 columns</p>\n</div>"
     },
     "metadata": {},
     "execution_count": 140
    }
   ],
   "source": [
    "sorted_df.head(5)"
   ]
  },
  {
   "cell_type": "code",
   "execution_count": 168,
   "metadata": {},
   "outputs": [
    {
     "output_type": "execute_result",
     "data": {
      "text/plain": [
       "array(['FCODE', 'count', 'date', 'cluster', 'MGRID', 'MGRNAME', 'Days',\n",
       "       'Days_rank', 'Payback', 'Payback_rank', 'SHARP1', 'SHARP1_rank',\n",
       "       'SHARP2', 'SHARP2_rank', 'STDDEV1', 'STDDEV1_rank', 'STDDEV2',\n",
       "       'STDDEV2_rank', 'MAXRETRA1', 'MAXRETRA1_rank', 'BaoTuan', '收益回撤比',\n",
       "       '收益回撤比_rank', 'GP', 'ZQ', 'HB', 'JZC', 'Week_up', 'Week_avg_up',\n",
       "       'Week_hs300_up', 'Week_rank', 'Week_competitors', 'Month_up',\n",
       "       'Month_avg_up', 'Month_hs300_up', 'Month_rank',\n",
       "       'Month_competitors', 'Year_up', 'Year_avg_up', 'Year_hs300_up',\n",
       "       'Year_rank', 'Year_competitors', 'NowYear_up', 'NowYear_avg_up',\n",
       "       'NowYear_hs300_up', 'NowYear_rank', 'NowYear_competitors',\n",
       "       'TwoYear_up', 'TwoYear_avg_up', 'TwoYear_hs300_up', 'TwoYear_rank',\n",
       "       'TwoYear_competitors', 'ThreeYear_up', 'ThreeYear_avg_up',\n",
       "       'ThreeYear_hs300_up', 'ThreeYear_rank', 'ThreeYear_competitors',\n",
       "       'FiveYear_up', 'FiveYear_avg_up', 'FiveYear_hs300_up',\n",
       "       'FiveYear_rank', 'FiveYear_competitors', 'fundStocks_GPDM_0',\n",
       "       'fundStocks_GPJC_0', 'fundStocks_JZBL_0', 'fundStocks_PCTNVCHG_0',\n",
       "       'fundStocks_GPDM_1', 'fundStocks_GPJC_1', 'fundStocks_JZBL_1',\n",
       "       'fundStocks_PCTNVCHG_1', 'fundStocks_GPDM_2', 'fundStocks_GPJC_2',\n",
       "       'fundStocks_JZBL_2', 'fundStocks_PCTNVCHG_2', 'fundStocks_GPDM_3',\n",
       "       'fundStocks_GPJC_3', 'fundStocks_JZBL_3', 'fundStocks_PCTNVCHG_3',\n",
       "       'fundStocks_GPDM_4', 'fundStocks_GPJC_4', 'fundStocks_JZBL_4',\n",
       "       'fundStocks_PCTNVCHG_4', 'fundStocks_GPDM_5', 'fundStocks_GPJC_5',\n",
       "       'fundStocks_JZBL_5', 'fundStocks_PCTNVCHG_5', 'fundStocks_GPDM_6',\n",
       "       'fundStocks_GPJC_6', 'fundStocks_JZBL_6', 'fundStocks_PCTNVCHG_6',\n",
       "       'fundStocks_GPDM_7', 'fundStocks_GPJC_7', 'fundStocks_JZBL_7',\n",
       "       'fundStocks_PCTNVCHG_7', 'fundStocks_GPDM_8', 'fundStocks_GPJC_8',\n",
       "       'fundStocks_JZBL_8', 'fundStocks_PCTNVCHG_8', 'fundStocks_GPDM_9',\n",
       "       'fundStocks_GPJC_9', 'fundStocks_JZBL_9', 'fundStocks_PCTNVCHG_9',\n",
       "       'jd_20_4', 'jd_20_4_rank', 'jd_20_3', 'jd_20_3_rank', 'jd_20_2',\n",
       "       'jd_20_2_rank', 'jd_20_1', 'jd_20_1_rank', 'jd_19_4',\n",
       "       'jd_19_4_rank', 'jd_19_3', 'jd_19_3_rank', 'jd_19_2',\n",
       "       'jd_19_2_rank', 'jd_19_1', 'jd_19_1_rank', 'nd_20', 'nd_20_rank',\n",
       "       'nd_19', 'nd_19_rank', 'nd_18', 'nd_18_rank', 'nd_17',\n",
       "       'nd_17_rank', 'nd_16', 'nd_16_rank', 'nd_15', 'nd_15_rank',\n",
       "       'nd_14', 'nd_14_rank', 'nd_13', 'nd_13_rank'], dtype=object)"
      ]
     },
     "metadata": {},
     "execution_count": 168
    }
   ],
   "source": [
    "sorted_df.columns.values"
   ]
  },
  {
   "cell_type": "code",
   "execution_count": 169,
   "metadata": {},
   "outputs": [],
   "source": [
    "labels = ['FCODE','count','SHARP1','SHARP2','STDDEV1','MAXRETRA1','BaoTuan','收益回撤比','Week_up','Month_up','Year_up','NowYear_up','TwoYear_up','FiveYear_up']"
   ]
  },
  {
   "cell_type": "code",
   "execution_count": 170,
   "metadata": {},
   "outputs": [],
   "source": [
    "df_labels = sorted_df[labels].round(3)"
   ]
  },
  {
   "cell_type": "code",
   "execution_count": 171,
   "metadata": {},
   "outputs": [],
   "source": [
    "df_labels_5 = df_labels.head(10)"
   ]
  },
  {
   "cell_type": "code",
   "execution_count": 172,
   "metadata": {},
   "outputs": [
    {
     "output_type": "execute_result",
     "data": {
      "text/plain": [
       "                  FCODE   count  SHARP1  SHARP2  STDDEV1  MAXRETRA1  BaoTuan  \\\n",
       "SHORTNAME                                                                      \n",
       "工银战略转型股票A        000991  13.669   3.124   2.412   19.840       7.24    0.134   \n",
       "国富中国收益混合         450001  13.609   2.418   2.439   16.088      12.42    0.199   \n",
       "国投瑞银瑞源灵活配置混合     121010  13.598   2.781   2.557   13.969       4.59    0.083   \n",
       "广发睿毅领先混合         005233  13.316   3.303   2.584   17.826       6.38    0.011   \n",
       "华安行业轮动混合         040016  13.296   2.579   2.035   19.980      12.02    0.253   \n",
       "建信健康民生混合         000547  13.286   2.328   2.132   20.848       9.55    0.044   \n",
       "银华鑫盛灵活配置混合(LOF)  501022  13.274   2.626   2.207   18.000       7.58    0.149   \n",
       "汇安丰泽混合A          003889  13.273   2.824   2.526   18.402      12.59    0.362   \n",
       "汇安丰泽混合C          003890  13.259   2.820   2.524   18.401      12.59    0.362   \n",
       "国投瑞银瑞利混合(LOF)    161222  13.253   2.736   2.393   13.752       4.81    0.015   \n",
       "\n",
       "                  收益回撤比  Week_up  Month_up  Year_up  NowYear_up  TwoYear_up  \\\n",
       "SHORTNAME                                                                     \n",
       "工银战略转型股票A        11.829    -0.33      0.49    85.64        7.25      175.44   \n",
       "国富中国收益混合          4.075     1.13      5.33    50.61       10.70      104.65   \n",
       "国投瑞银瑞源灵活配置混合     10.547     0.92      3.96    48.41       11.68      109.88   \n",
       "广发睿毅领先混合         12.705    -0.95      6.33    81.06       24.18      155.91   \n",
       "华安行业轮动混合          5.488    -0.46      0.23    65.97       -0.28      119.18   \n",
       "建信健康民生混合          6.603     0.59      3.08    63.06        9.48      133.71   \n",
       "银华鑫盛灵活配置混合(LOF)   8.038     1.05      5.57    60.93        6.91      126.12   \n",
       "汇安丰泽混合A           5.565     2.26      4.85    70.06        9.93      144.56   \n",
       "汇安丰泽混合C           5.554     2.26      4.85    69.92        9.89      144.31   \n",
       "国投瑞银瑞利混合(LOF)     9.852     1.05      4.65    47.39       13.89       91.91   \n",
       "\n",
       "                 FiveYear_up  \n",
       "SHORTNAME                     \n",
       "工银战略转型股票A             283.37  \n",
       "国富中国收益混合              160.70  \n",
       "国投瑞银瑞源灵活配置混合          150.63  \n",
       "广发睿毅领先混合               -1.00  \n",
       "华安行业轮动混合              197.08  \n",
       "建信健康民生混合              182.14  \n",
       "银华鑫盛灵活配置混合(LOF)        -1.00  \n",
       "汇安丰泽混合A                -1.00  \n",
       "汇安丰泽混合C                -1.00  \n",
       "国投瑞银瑞利混合(LOF)         130.49  "
      ],
      "text/html": "<div>\n<style scoped>\n    .dataframe tbody tr th:only-of-type {\n        vertical-align: middle;\n    }\n\n    .dataframe tbody tr th {\n        vertical-align: top;\n    }\n\n    .dataframe thead th {\n        text-align: right;\n    }\n</style>\n<table border=\"1\" class=\"dataframe\">\n  <thead>\n    <tr style=\"text-align: right;\">\n      <th></th>\n      <th>FCODE</th>\n      <th>count</th>\n      <th>SHARP1</th>\n      <th>SHARP2</th>\n      <th>STDDEV1</th>\n      <th>MAXRETRA1</th>\n      <th>BaoTuan</th>\n      <th>收益回撤比</th>\n      <th>Week_up</th>\n      <th>Month_up</th>\n      <th>Year_up</th>\n      <th>NowYear_up</th>\n      <th>TwoYear_up</th>\n      <th>FiveYear_up</th>\n    </tr>\n    <tr>\n      <th>SHORTNAME</th>\n      <th></th>\n      <th></th>\n      <th></th>\n      <th></th>\n      <th></th>\n      <th></th>\n      <th></th>\n      <th></th>\n      <th></th>\n      <th></th>\n      <th></th>\n      <th></th>\n      <th></th>\n      <th></th>\n    </tr>\n  </thead>\n  <tbody>\n    <tr>\n      <th>工银战略转型股票A</th>\n      <td>000991</td>\n      <td>13.669</td>\n      <td>3.124</td>\n      <td>2.412</td>\n      <td>19.840</td>\n      <td>7.24</td>\n      <td>0.134</td>\n      <td>11.829</td>\n      <td>-0.33</td>\n      <td>0.49</td>\n      <td>85.64</td>\n      <td>7.25</td>\n      <td>175.44</td>\n      <td>283.37</td>\n    </tr>\n    <tr>\n      <th>国富中国收益混合</th>\n      <td>450001</td>\n      <td>13.609</td>\n      <td>2.418</td>\n      <td>2.439</td>\n      <td>16.088</td>\n      <td>12.42</td>\n      <td>0.199</td>\n      <td>4.075</td>\n      <td>1.13</td>\n      <td>5.33</td>\n      <td>50.61</td>\n      <td>10.70</td>\n      <td>104.65</td>\n      <td>160.70</td>\n    </tr>\n    <tr>\n      <th>国投瑞银瑞源灵活配置混合</th>\n      <td>121010</td>\n      <td>13.598</td>\n      <td>2.781</td>\n      <td>2.557</td>\n      <td>13.969</td>\n      <td>4.59</td>\n      <td>0.083</td>\n      <td>10.547</td>\n      <td>0.92</td>\n      <td>3.96</td>\n      <td>48.41</td>\n      <td>11.68</td>\n      <td>109.88</td>\n      <td>150.63</td>\n    </tr>\n    <tr>\n      <th>广发睿毅领先混合</th>\n      <td>005233</td>\n      <td>13.316</td>\n      <td>3.303</td>\n      <td>2.584</td>\n      <td>17.826</td>\n      <td>6.38</td>\n      <td>0.011</td>\n      <td>12.705</td>\n      <td>-0.95</td>\n      <td>6.33</td>\n      <td>81.06</td>\n      <td>24.18</td>\n      <td>155.91</td>\n      <td>-1.00</td>\n    </tr>\n    <tr>\n      <th>华安行业轮动混合</th>\n      <td>040016</td>\n      <td>13.296</td>\n      <td>2.579</td>\n      <td>2.035</td>\n      <td>19.980</td>\n      <td>12.02</td>\n      <td>0.253</td>\n      <td>5.488</td>\n      <td>-0.46</td>\n      <td>0.23</td>\n      <td>65.97</td>\n      <td>-0.28</td>\n      <td>119.18</td>\n      <td>197.08</td>\n    </tr>\n    <tr>\n      <th>建信健康民生混合</th>\n      <td>000547</td>\n      <td>13.286</td>\n      <td>2.328</td>\n      <td>2.132</td>\n      <td>20.848</td>\n      <td>9.55</td>\n      <td>0.044</td>\n      <td>6.603</td>\n      <td>0.59</td>\n      <td>3.08</td>\n      <td>63.06</td>\n      <td>9.48</td>\n      <td>133.71</td>\n      <td>182.14</td>\n    </tr>\n    <tr>\n      <th>银华鑫盛灵活配置混合(LOF)</th>\n      <td>501022</td>\n      <td>13.274</td>\n      <td>2.626</td>\n      <td>2.207</td>\n      <td>18.000</td>\n      <td>7.58</td>\n      <td>0.149</td>\n      <td>8.038</td>\n      <td>1.05</td>\n      <td>5.57</td>\n      <td>60.93</td>\n      <td>6.91</td>\n      <td>126.12</td>\n      <td>-1.00</td>\n    </tr>\n    <tr>\n      <th>汇安丰泽混合A</th>\n      <td>003889</td>\n      <td>13.273</td>\n      <td>2.824</td>\n      <td>2.526</td>\n      <td>18.402</td>\n      <td>12.59</td>\n      <td>0.362</td>\n      <td>5.565</td>\n      <td>2.26</td>\n      <td>4.85</td>\n      <td>70.06</td>\n      <td>9.93</td>\n      <td>144.56</td>\n      <td>-1.00</td>\n    </tr>\n    <tr>\n      <th>汇安丰泽混合C</th>\n      <td>003890</td>\n      <td>13.259</td>\n      <td>2.820</td>\n      <td>2.524</td>\n      <td>18.401</td>\n      <td>12.59</td>\n      <td>0.362</td>\n      <td>5.554</td>\n      <td>2.26</td>\n      <td>4.85</td>\n      <td>69.92</td>\n      <td>9.89</td>\n      <td>144.31</td>\n      <td>-1.00</td>\n    </tr>\n    <tr>\n      <th>国投瑞银瑞利混合(LOF)</th>\n      <td>161222</td>\n      <td>13.253</td>\n      <td>2.736</td>\n      <td>2.393</td>\n      <td>13.752</td>\n      <td>4.81</td>\n      <td>0.015</td>\n      <td>9.852</td>\n      <td>1.05</td>\n      <td>4.65</td>\n      <td>47.39</td>\n      <td>13.89</td>\n      <td>91.91</td>\n      <td>130.49</td>\n    </tr>\n  </tbody>\n</table>\n</div>"
     },
     "metadata": {},
     "execution_count": 172
    }
   ],
   "source": [
    "df_labels_5"
   ]
  },
  {
   "cell_type": "code",
   "execution_count": 173,
   "metadata": {},
   "outputs": [],
   "source": [
    "df_dict = df_labels_5.to_dict()"
   ]
  },
  {
   "cell_type": "code",
   "execution_count": 175,
   "metadata": {},
   "outputs": [
    {
     "output_type": "execute_result",
     "data": {
      "text/plain": [
       "{'FCODE': {'工银战略转型股票A': '000991',\n",
       "  '国富中国收益混合': '450001',\n",
       "  '国投瑞银瑞源灵活配置混合': '121010',\n",
       "  '广发睿毅领先混合': '005233',\n",
       "  '华安行业轮动混合': '040016',\n",
       "  '建信健康民生混合': '000547',\n",
       "  '银华鑫盛灵活配置混合(LOF)': '501022',\n",
       "  '汇安丰泽混合A': '003889',\n",
       "  '汇安丰泽混合C': '003890',\n",
       "  '国投瑞银瑞利混合(LOF)': '161222'},\n",
       " 'count': {'工银战略转型股票A': 13.669,\n",
       "  '国富中国收益混合': 13.609,\n",
       "  '国投瑞银瑞源灵活配置混合': 13.598,\n",
       "  '广发睿毅领先混合': 13.316,\n",
       "  '华安行业轮动混合': 13.296,\n",
       "  '建信健康民生混合': 13.286,\n",
       "  '银华鑫盛灵活配置混合(LOF)': 13.274,\n",
       "  '汇安丰泽混合A': 13.273,\n",
       "  '汇安丰泽混合C': 13.259,\n",
       "  '国投瑞银瑞利混合(LOF)': 13.253},\n",
       " 'SHARP1': {'工银战略转型股票A': 3.124,\n",
       "  '国富中国收益混合': 2.418,\n",
       "  '国投瑞银瑞源灵活配置混合': 2.781,\n",
       "  '广发睿毅领先混合': 3.303,\n",
       "  '华安行业轮动混合': 2.579,\n",
       "  '建信健康民生混合': 2.328,\n",
       "  '银华鑫盛灵活配置混合(LOF)': 2.626,\n",
       "  '汇安丰泽混合A': 2.824,\n",
       "  '汇安丰泽混合C': 2.82,\n",
       "  '国投瑞银瑞利混合(LOF)': 2.736},\n",
       " 'SHARP2': {'工银战略转型股票A': 2.412,\n",
       "  '国富中国收益混合': 2.439,\n",
       "  '国投瑞银瑞源灵活配置混合': 2.557,\n",
       "  '广发睿毅领先混合': 2.584,\n",
       "  '华安行业轮动混合': 2.035,\n",
       "  '建信健康民生混合': 2.132,\n",
       "  '银华鑫盛灵活配置混合(LOF)': 2.207,\n",
       "  '汇安丰泽混合A': 2.526,\n",
       "  '汇安丰泽混合C': 2.524,\n",
       "  '国投瑞银瑞利混合(LOF)': 2.393},\n",
       " 'STDDEV1': {'工银战略转型股票A': 19.84,\n",
       "  '国富中国收益混合': 16.088,\n",
       "  '国投瑞银瑞源灵活配置混合': 13.969,\n",
       "  '广发睿毅领先混合': 17.826,\n",
       "  '华安行业轮动混合': 19.98,\n",
       "  '建信健康民生混合': 20.848,\n",
       "  '银华鑫盛灵活配置混合(LOF)': 18.0,\n",
       "  '汇安丰泽混合A': 18.402,\n",
       "  '汇安丰泽混合C': 18.401,\n",
       "  '国投瑞银瑞利混合(LOF)': 13.752},\n",
       " 'MAXRETRA1': {'工银战略转型股票A': 7.24,\n",
       "  '国富中国收益混合': 12.42,\n",
       "  '国投瑞银瑞源灵活配置混合': 4.59,\n",
       "  '广发睿毅领先混合': 6.38,\n",
       "  '华安行业轮动混合': 12.02,\n",
       "  '建信健康民生混合': 9.55,\n",
       "  '银华鑫盛灵活配置混合(LOF)': 7.58,\n",
       "  '汇安丰泽混合A': 12.59,\n",
       "  '汇安丰泽混合C': 12.59,\n",
       "  '国投瑞银瑞利混合(LOF)': 4.81},\n",
       " 'BaoTuan': {'工银战略转型股票A': 0.134,\n",
       "  '国富中国收益混合': 0.199,\n",
       "  '国投瑞银瑞源灵活配置混合': 0.083,\n",
       "  '广发睿毅领先混合': 0.011,\n",
       "  '华安行业轮动混合': 0.253,\n",
       "  '建信健康民生混合': 0.044,\n",
       "  '银华鑫盛灵活配置混合(LOF)': 0.149,\n",
       "  '汇安丰泽混合A': 0.362,\n",
       "  '汇安丰泽混合C': 0.362,\n",
       "  '国投瑞银瑞利混合(LOF)': 0.015},\n",
       " '收益回撤比': {'工银战略转型股票A': 11.829,\n",
       "  '国富中国收益混合': 4.075,\n",
       "  '国投瑞银瑞源灵活配置混合': 10.547,\n",
       "  '广发睿毅领先混合': 12.705,\n",
       "  '华安行业轮动混合': 5.488,\n",
       "  '建信健康民生混合': 6.603,\n",
       "  '银华鑫盛灵活配置混合(LOF)': 8.038,\n",
       "  '汇安丰泽混合A': 5.565,\n",
       "  '汇安丰泽混合C': 5.554,\n",
       "  '国投瑞银瑞利混合(LOF)': 9.852},\n",
       " 'Week_up': {'工银战略转型股票A': -0.33,\n",
       "  '国富中国收益混合': 1.13,\n",
       "  '国投瑞银瑞源灵活配置混合': 0.92,\n",
       "  '广发睿毅领先混合': -0.95,\n",
       "  '华安行业轮动混合': -0.46,\n",
       "  '建信健康民生混合': 0.59,\n",
       "  '银华鑫盛灵活配置混合(LOF)': 1.05,\n",
       "  '汇安丰泽混合A': 2.26,\n",
       "  '汇安丰泽混合C': 2.26,\n",
       "  '国投瑞银瑞利混合(LOF)': 1.05},\n",
       " 'Month_up': {'工银战略转型股票A': 0.49,\n",
       "  '国富中国收益混合': 5.33,\n",
       "  '国投瑞银瑞源灵活配置混合': 3.96,\n",
       "  '广发睿毅领先混合': 6.33,\n",
       "  '华安行业轮动混合': 0.23,\n",
       "  '建信健康民生混合': 3.08,\n",
       "  '银华鑫盛灵活配置混合(LOF)': 5.57,\n",
       "  '汇安丰泽混合A': 4.85,\n",
       "  '汇安丰泽混合C': 4.85,\n",
       "  '国投瑞银瑞利混合(LOF)': 4.65},\n",
       " 'Year_up': {'工银战略转型股票A': 85.64,\n",
       "  '国富中国收益混合': 50.61,\n",
       "  '国投瑞银瑞源灵活配置混合': 48.41,\n",
       "  '广发睿毅领先混合': 81.06,\n",
       "  '华安行业轮动混合': 65.97,\n",
       "  '建信健康民生混合': 63.06,\n",
       "  '银华鑫盛灵活配置混合(LOF)': 60.93,\n",
       "  '汇安丰泽混合A': 70.06,\n",
       "  '汇安丰泽混合C': 69.92,\n",
       "  '国投瑞银瑞利混合(LOF)': 47.39},\n",
       " 'NowYear_up': {'工银战略转型股票A': 7.25,\n",
       "  '国富中国收益混合': 10.7,\n",
       "  '国投瑞银瑞源灵活配置混合': 11.68,\n",
       "  '广发睿毅领先混合': 24.18,\n",
       "  '华安行业轮动混合': -0.28,\n",
       "  '建信健康民生混合': 9.48,\n",
       "  '银华鑫盛灵活配置混合(LOF)': 6.91,\n",
       "  '汇安丰泽混合A': 9.93,\n",
       "  '汇安丰泽混合C': 9.89,\n",
       "  '国投瑞银瑞利混合(LOF)': 13.89},\n",
       " 'TwoYear_up': {'工银战略转型股票A': 175.44,\n",
       "  '国富中国收益混合': 104.65,\n",
       "  '国投瑞银瑞源灵活配置混合': 109.88,\n",
       "  '广发睿毅领先混合': 155.91,\n",
       "  '华安行业轮动混合': 119.18,\n",
       "  '建信健康民生混合': 133.71,\n",
       "  '银华鑫盛灵活配置混合(LOF)': 126.12,\n",
       "  '汇安丰泽混合A': 144.56,\n",
       "  '汇安丰泽混合C': 144.31,\n",
       "  '国投瑞银瑞利混合(LOF)': 91.91},\n",
       " 'FiveYear_up': {'工银战略转型股票A': 283.37,\n",
       "  '国富中国收益混合': 160.7,\n",
       "  '国投瑞银瑞源灵活配置混合': 150.63,\n",
       "  '广发睿毅领先混合': -1.0,\n",
       "  '华安行业轮动混合': 197.08,\n",
       "  '建信健康民生混合': 182.14,\n",
       "  '银华鑫盛灵活配置混合(LOF)': -1.0,\n",
       "  '汇安丰泽混合A': -1.0,\n",
       "  '汇安丰泽混合C': -1.0,\n",
       "  '国投瑞银瑞利混合(LOF)': 130.49}}"
      ]
     },
     "metadata": {},
     "execution_count": 175
    }
   ],
   "source": [
    "df_dict"
   ]
  },
  {
   "cell_type": "code",
   "execution_count": 176,
   "metadata": {},
   "outputs": [
    {
     "output_type": "execute_result",
     "data": {
      "text/plain": [
       "[0.134, 0.199, 0.083, 0.011, 0.253, 0.044, 0.149, 0.362, 0.362, 0.015]"
      ]
     },
     "metadata": {},
     "execution_count": 176
    }
   ],
   "source": [
    "BaoTuan = []\n",
    "for value in df_dict['BaoTuan'].values():\n",
    "    BaoTuan.append(value)\n",
    "BaoTuan"
   ]
  },
  {
   "cell_type": "code",
   "execution_count": 178,
   "metadata": {},
   "outputs": [
    {
     "output_type": "execute_result",
     "data": {
      "text/plain": [
       "[11.829, 4.075, 10.547, 12.705, 5.488, 6.603, 8.038, 5.565, 5.554, 9.852]"
      ]
     },
     "metadata": {},
     "execution_count": 178
    }
   ],
   "source": [
    "收益回撤比 = []\n",
    "for value in df_dict['收益回撤比'].values():\n",
    "    收益回撤比.append(value)\n",
    "收益回撤比"
   ]
  },
  {
   "cell_type": "code",
   "execution_count": 177,
   "metadata": {},
   "outputs": [
    {
     "output_type": "execute_result",
     "data": {
      "text/plain": [
       "[-0.33, 1.13, 0.92, -0.95, -0.46, 0.59, 1.05, 2.26, 2.26, 1.05]"
      ]
     },
     "metadata": {},
     "execution_count": 177
    }
   ],
   "source": [
    "Week_up = []\n",
    "for value in df_dict['Week_up'].values():\n",
    "    Week_up.append(value)\n",
    "Week_up"
   ]
  },
  {
   "cell_type": "code",
   "execution_count": 179,
   "metadata": {},
   "outputs": [
    {
     "output_type": "execute_result",
     "data": {
      "text/plain": [
       "[0.49, 5.33, 3.96, 6.33, 0.23, 3.08, 5.57, 4.85, 4.85, 4.65]"
      ]
     },
     "metadata": {},
     "execution_count": 179
    }
   ],
   "source": [
    "Month_up = []\n",
    "for value in df_dict['Month_up'].values():\n",
    "    Month_up.append(value)\n",
    "Month_up"
   ]
  },
  {
   "cell_type": "code",
   "execution_count": 180,
   "metadata": {},
   "outputs": [
    {
     "output_type": "execute_result",
     "data": {
      "text/plain": [
       "[85.64, 50.61, 48.41, 81.06, 65.97, 63.06, 60.93, 70.06, 69.92, 47.39]"
      ]
     },
     "metadata": {},
     "execution_count": 180
    }
   ],
   "source": [
    "Year_up = []\n",
    "for value in df_dict['Year_up'].values():\n",
    "    Year_up.append(value)\n",
    "Year_up"
   ]
  },
  {
   "cell_type": "code",
   "execution_count": 181,
   "metadata": {},
   "outputs": [
    {
     "output_type": "execute_result",
     "data": {
      "text/plain": [
       "[7.25, 10.7, 11.68, 24.18, -0.28, 9.48, 6.91, 9.93, 9.89, 13.89]"
      ]
     },
     "metadata": {},
     "execution_count": 181
    }
   ],
   "source": [
    "NowYear_up = []\n",
    "for value in df_dict['NowYear_up'].values():\n",
    "    NowYear_up.append(value)\n",
    "NowYear_up"
   ]
  },
  {
   "cell_type": "code",
   "execution_count": 182,
   "metadata": {},
   "outputs": [
    {
     "output_type": "execute_result",
     "data": {
      "text/plain": [
       "[175.44, 104.65, 109.88, 155.91, 119.18, 133.71, 126.12, 144.56, 144.31, 91.91]"
      ]
     },
     "metadata": {},
     "execution_count": 182
    }
   ],
   "source": [
    "TwoYear_up = []\n",
    "for value in df_dict['TwoYear_up'].values():\n",
    "    TwoYear_up.append(value)\n",
    "TwoYear_up"
   ]
  },
  {
   "cell_type": "code",
   "execution_count": 183,
   "metadata": {},
   "outputs": [
    {
     "output_type": "execute_result",
     "data": {
      "text/plain": [
       "[283.37, 160.7, 150.63, -1.0, 197.08, 182.14, -1.0, -1.0, -1.0, 130.49]"
      ]
     },
     "metadata": {},
     "execution_count": 183
    }
   ],
   "source": [
    "FiveYear_up = []\n",
    "for value in df_dict['FiveYear_up'].values():\n",
    "    FiveYear_up.append(value)\n",
    "FiveYear_up"
   ]
  },
  {
   "cell_type": "code",
   "execution_count": 184,
   "metadata": {},
   "outputs": [
    {
     "output_type": "execute_result",
     "data": {
      "text/plain": [
       "[3.124, 2.418, 2.781, 3.303, 2.579, 2.328, 2.626, 2.824, 2.82, 2.736]"
      ]
     },
     "metadata": {},
     "execution_count": 184
    }
   ],
   "source": [
    "SHARP1 = []\n",
    "for value in df_dict['SHARP1'].values():\n",
    "    SHARP1.append(value)\n",
    "SHARP1"
   ]
  },
  {
   "cell_type": "code",
   "execution_count": 185,
   "metadata": {},
   "outputs": [
    {
     "output_type": "execute_result",
     "data": {
      "text/plain": [
       "[2.412, 2.439, 2.557, 2.584, 2.035, 2.132, 2.207, 2.526, 2.524, 2.393]"
      ]
     },
     "metadata": {},
     "execution_count": 185
    }
   ],
   "source": [
    "SHARP2 = []\n",
    "for value in df_dict['SHARP2'].values():\n",
    "    SHARP2.append(value)\n",
    "SHARP2"
   ]
  },
  {
   "cell_type": "code",
   "execution_count": 186,
   "metadata": {},
   "outputs": [
    {
     "output_type": "execute_result",
     "data": {
      "text/plain": [
       "[19.84, 16.088, 13.969, 17.826, 19.98, 20.848, 18.0, 18.402, 18.401, 13.752]"
      ]
     },
     "metadata": {},
     "execution_count": 186
    }
   ],
   "source": [
    "STDDEV1 = []\n",
    "for value in df_dict['STDDEV1'].values():\n",
    "    STDDEV1.append(value)\n",
    "STDDEV1"
   ]
  },
  {
   "cell_type": "code",
   "execution_count": 187,
   "metadata": {},
   "outputs": [
    {
     "output_type": "execute_result",
     "data": {
      "text/plain": [
       "[7.24, 12.42, 4.59, 6.38, 12.02, 9.55, 7.58, 12.59, 12.59, 4.81]"
      ]
     },
     "metadata": {},
     "execution_count": 187
    }
   ],
   "source": [
    "MAXRETRA1 = []\n",
    "for value in df_dict['MAXRETRA1'].values():\n",
    "    MAXRETRA1.append(value)\n",
    "MAXRETRA1"
   ]
  },
  {
   "cell_type": "code",
   "execution_count": 188,
   "metadata": {},
   "outputs": [
    {
     "output_type": "execute_result",
     "data": {
      "text/plain": [
       "[13.669,\n",
       " 13.609,\n",
       " 13.598,\n",
       " 13.316,\n",
       " 13.296,\n",
       " 13.286,\n",
       " 13.274,\n",
       " 13.273,\n",
       " 13.259,\n",
       " 13.253]"
      ]
     },
     "metadata": {},
     "execution_count": 188
    }
   ],
   "source": [
    "count = []\n",
    "for value in df_dict['count'].values():\n",
    "    count.append(value)\n",
    "count"
   ]
  },
  {
   "cell_type": "code",
   "execution_count": 189,
   "metadata": {},
   "outputs": [
    {
     "output_type": "execute_result",
     "data": {
      "text/plain": [
       "['000991',\n",
       " '450001',\n",
       " '121010',\n",
       " '005233',\n",
       " '040016',\n",
       " '000547',\n",
       " '501022',\n",
       " '003889',\n",
       " '003890',\n",
       " '161222']"
      ]
     },
     "metadata": {},
     "execution_count": 189
    }
   ],
   "source": [
    "code = []\n",
    "for value in df_dict['FCODE'].values():\n",
    "    code.append(value)\n",
    "code"
   ]
  },
  {
   "cell_type": "code",
   "execution_count": 190,
   "metadata": {},
   "outputs": [
    {
     "output_type": "execute_result",
     "data": {
      "text/plain": [
       "'d:\\\\Scrapy爬虫\\\\DA_scripts\\\\render.html'"
      ]
     },
     "metadata": {},
     "execution_count": 190
    }
   ],
   "source": [
    "bar = Bar()\n",
    "bar.add_xaxis(code)\n",
    "bar.add_yaxis(series_name='count',y_axis=count)\n",
    "bar.add_yaxis(series_name='MAXRETRA1',y_axis=MAXRETRA1)\n",
    "bar.add_yaxis(series_name='STDDEV1',y_axis=STDDEV1)\n",
    "bar.add_yaxis(series_name='SHARP1',y_axis=SHARP1)\n",
    "bar.add_yaxis(series_name='SHARP2',y_axis=SHARP2)\n",
    "bar.add_yaxis(series_name='BaoTuan',y_axis=BaoTuan)\n",
    "bar.add_yaxis(series_name='收益回撤比',y_axis=收益回撤比)\n",
    "bar.add_yaxis(series_name='Week_up',y_axis=Week_up)\n",
    "bar.add_yaxis(series_name='Month_up',y_axis=Month_up)\n",
    "bar.add_yaxis(series_name='Year_up',y_axis=Year_up)\n",
    "bar.add_yaxis(series_name='FiveYear_up',y_axis=FiveYear_up)\n",
    "# bar.set_global_opts(title_opts=opts.TitleOpts(title=\"某商场销售情况\"))\n",
    "bar.render()"
   ]
  },
  {
   "cell_type": "code",
   "execution_count": null,
   "metadata": {},
   "outputs": [],
   "source": []
  },
  {
   "cell_type": "code",
   "execution_count": null,
   "metadata": {},
   "outputs": [],
   "source": []
  }
 ]
}
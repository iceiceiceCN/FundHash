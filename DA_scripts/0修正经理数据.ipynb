{
 "cells": [
  {
   "cell_type": "code",
   "execution_count": 8,
   "metadata": {},
   "outputs": [],
   "source": [
    "import pandas as pd\n",
    "import numpy as np\n",
    "import matplotlib.pylab as plt\n",
    "from datetime import datetime"
   ]
  },
  {
   "cell_type": "code",
   "execution_count": 9,
   "metadata": {},
   "outputs": [
    {
     "name": "stdout",
     "output_type": "stream",
     "text": [
      "D:\\基金数据\\最新数据\\ManagersData_3_18.txt\n",
      "D:\\基金数据\\最新数据\\mgers_2021_3_18.txt\n"
     ]
    }
   ],
   "source": [
    "path_date = r'D:\\基金数据\\最新数据\\ManagersData_3_18.txt'\n",
    "path_mgers = r'D:\\基金数据\\最新数据\\mgers_2021_3_18.txt'\n",
    "\n",
    "print(path_date)\n",
    "print(path_mgers)"
   ]
  },
  {
   "cell_type": "code",
   "execution_count": 10,
   "metadata": {},
   "outputs": [],
   "source": [
    "dic_date = {}\n",
    "keys = []"
   ]
  },
  {
   "cell_type": "code",
   "execution_count": 11,
   "metadata": {},
   "outputs": [],
   "source": [
    "m = open(path_date,'r')"
   ]
  },
  {
   "cell_type": "code",
   "execution_count": 12,
   "metadata": {},
   "outputs": [],
   "source": [
    "for line in m:\n",
    "    mgrid = line.strip().split('\\t')[0]\n",
    "    days = line.strip().split('\\t')[-1]\n",
    "    \n",
    "    dic_date [str(mgrid)] = days\n",
    "    keys.append(str(mgrid))"
   ]
  },
  {
   "cell_type": "code",
   "execution_count": null,
   "metadata": {},
   "outputs": [],
   "source": []
  },
  {
   "cell_type": "code",
   "execution_count": 13,
   "metadata": {},
   "outputs": [],
   "source": [
    "f = open(path_mgers,'r')"
   ]
  },
  {
   "cell_type": "code",
   "execution_count": 6,
   "metadata": {},
   "outputs": [],
   "source": [
    "with open(r\"D:\\基金数据\\最新数据\\mgers_after0_2021_3_18.txt\",\"w\") as r:\n",
    "    for line in f:\n",
    "        mgrid = line.strip().split('\\t')[0]\n",
    "        if mgrid in keys:\n",
    "            d = dic_date[str(mgrid)]\n",
    "        else:\n",
    "            d = '-1'\n",
    "        line = line.strip() + '\\t' + str(d) + '\\n' \n",
    "        r.writelines(line)        "
   ]
  },
  {
   "cell_type": "code",
   "execution_count": null,
   "metadata": {},
   "outputs": [],
   "source": []
  }
 ],
 "metadata": {
  "kernelspec": {
   "display_name": "Python 3",
   "language": "python",
   "name": "python3"
  },
  "language_info": {
   "codemirror_mode": {
    "name": "ipython",
    "version": 3
   },
   "file_extension": ".py",
   "mimetype": "text/x-python",
   "name": "python",
   "nbconvert_exporter": "python",
   "pygments_lexer": "ipython3",
   "version": "3.8.5"
  }
 },
 "nbformat": 4,
 "nbformat_minor": 4
}

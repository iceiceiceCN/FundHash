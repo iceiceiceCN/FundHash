{
 "cells": [
  {
   "cell_type": "code",
   "execution_count": 1,
   "metadata": {},
   "outputs": [],
   "source": [
    "path_flag = 0"
   ]
  },
  {
   "cell_type": "code",
   "execution_count": 2,
   "metadata": {},
   "outputs": [
    {
     "output_type": "stream",
     "name": "stdout",
     "text": [
      "D:\\基金数据\\最新数据\\fund_2021_5_21.txt\nD:\\基金数据\\最新数据\\主力持仓数据_2021_4_27.txt\n"
     ]
    }
   ],
   "source": [
    "if path_flag == 0:\n",
    "    # A: 使用时间参数自动获取路径名\n",
    "    from datetime import datetime\n",
    "\n",
    "    today = datetime.now()\n",
    "\n",
    "    path_fund = r'D:\\基金数据\\最新数据\\fund_{}_{}_{}.txt'.format(today.year,today.month,today.day)\n",
    "    path_orghold = r'D:\\基金数据\\最新数据\\主力持仓数据_2021_4_27.txt'\n",
    "\n",
    "    print(path_fund)\n",
    "    print(path_orghold)\n",
    "elif path_flag == 1:\n",
    "    # B: 指定路径名\n",
    "    path_fund = r'D:\\基金数据\\最新数据\\fund_2021_3_18.txt'\n",
    "    path_orghold = r'D:\\基金数据\\最新数据\\主力持仓数据_2021_2_24.txt'\n",
    "\n",
    "    print(path_fund)\n",
    "    print(path_orghold)"
   ]
  },
  {
   "cell_type": "code",
   "execution_count": 3,
   "metadata": {},
   "outputs": [],
   "source": [
    "w = open(path_orghold,'r')"
   ]
  },
  {
   "cell_type": "code",
   "execution_count": 4,
   "metadata": {},
   "outputs": [],
   "source": [
    "dic_orghold = {}\n",
    "for line in w:\n",
    "    code = line.split('\\t')[1]\n",
    "    nums = line.split('\\t')[2]\n",
    "    \n",
    "    dic_orghold[code] = int(nums)"
   ]
  },
  {
   "cell_type": "code",
   "execution_count": 5,
   "metadata": {},
   "outputs": [],
   "source": [
    "f = open(path_fund,'r')"
   ]
  },
  {
   "cell_type": "code",
   "execution_count": 6,
   "metadata": {},
   "outputs": [
    {
     "output_type": "stream",
     "name": "stdout",
     "text": [
      "D:\\基金数据\\最新数据\\fund_after1_2021_5_21.txt\n"
     ]
    }
   ],
   "source": [
    "# 保存路径名:\n",
    "# savepath_fund = r\"D:\\基金数据\\最新数据\\fund_after1_2021_3_18.txt\" # 写死\n",
    "\n",
    "savepath_fund = r\"D:\\基金数据\\最新数据\\fund_after1_{}_{}_{}.txt\".format(today.year,today.month,today.day) # 自动获取\n",
    "print(savepath_fund)"
   ]
  },
  {
   "cell_type": "code",
   "execution_count": 7,
   "metadata": {},
   "outputs": [],
   "source": [
    "dic_fund = {}\n",
    "b = 1\n",
    "with open(savepath_fund,\"w\") as wr:\n",
    "    for line in f:\n",
    "        if b == 1:\n",
    "            b += 1\n",
    "            line = line.strip() + '\\t' + 'BaoTuan' + '\\n'\n",
    "            wr.writelines(line)\n",
    "            continue\n",
    "        keys = []\n",
    "        CODE = [line.split('\\t')[-41],line.split('\\t')[-37],line.split('\\t')[-33],line.split('\\t')[-29],line.split('\\t')[-25],\n",
    "                line.split('\\t')[-21],line.split('\\t')[-17],line.split('\\t')[-13],line.split('\\t')[-9],line.split('\\t')[-5]]\n",
    "\n",
    "        JZBL = [line.split('\\t')[-39],line.split('\\t')[-35],line.split('\\t')[-31],line.split('\\t')[-27],line.split('\\t')[-23],\n",
    "               line.split('\\t')[-19],line.split('\\t')[-15],line.split('\\t')[-11],line.split('\\t')[-7],line.split('\\t')[-3]]\n",
    "        # 会有纯债基金或者无持仓基金，所以做异常处理\n",
    "        try:\n",
    "            for i in range(10):\n",
    "                dic_fund[CODE[i]] = float(JZBL[i])\n",
    "                keys.append(CODE[i])\n",
    "\n",
    "            count = 0\n",
    "            for key in keys:\n",
    "                if key in dic_orghold:\n",
    "                    count = count + (dic_orghold[key]/1791) * (dic_fund[key] / 100)\n",
    "                    count = round(count,4)\n",
    "            line = line.strip() + '\\t' + str(count) + '\\n'\n",
    "        except:\n",
    "            line = line.strip() + '\\t' + '-1' + '\\n'\n",
    "            \n",
    "        wr.writelines(line)"
   ]
  },
  {
   "cell_type": "code",
   "execution_count": null,
   "metadata": {},
   "outputs": [],
   "source": []
  }
 ],
 "metadata": {
  "kernelspec": {
   "name": "python385jvsc74a57bd0a8f61be024eba58adef938c9aa1e29e02cb3dece83a5348b1a2dafd16a070453",
   "display_name": "Python 3.8.5 64-bit ('base': conda)"
  },
  "language_info": {
   "codemirror_mode": {
    "name": "ipython",
    "version": 3
   },
   "file_extension": ".py",
   "mimetype": "text/x-python",
   "name": "python",
   "nbconvert_exporter": "python",
   "pygments_lexer": "ipython3",
   "version": "3.8.5"
  }
 },
 "nbformat": 4,
 "nbformat_minor": 4
}
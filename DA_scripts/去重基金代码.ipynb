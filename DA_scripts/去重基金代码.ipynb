{
 "metadata": {
  "language_info": {
   "codemirror_mode": {
    "name": "ipython",
    "version": 3
   },
   "file_extension": ".py",
   "mimetype": "text/x-python",
   "name": "python",
   "nbconvert_exporter": "python",
   "pygments_lexer": "ipython3",
   "version": "3.8.5"
  },
  "orig_nbformat": 2,
  "kernelspec": {
   "name": "python385jvsc74a57bd0a8f61be024eba58adef938c9aa1e29e02cb3dece83a5348b1a2dafd16a070453",
   "display_name": "Python 3.8.5 64-bit ('Anaconda3': conda)"
  }
 },
 "nbformat": 4,
 "nbformat_minor": 2,
 "cells": [
  {
   "cell_type": "code",
   "execution_count": 1,
   "metadata": {},
   "outputs": [],
   "source": [
    "import pandas as pd"
   ]
  },
  {
   "cell_type": "code",
   "execution_count": 5,
   "metadata": {},
   "outputs": [],
   "source": [
    "f_4_27 = open(r'D:\\Scrapy爬虫\\DA_scripts\\fundcode_4_27.txt','r',encoding='utf-8')\n",
    "df_4_27 =  pd.read_table(r'D:\\Scrapy爬虫\\DA_scripts\\fundcode_4_27.txt',header=None,names=['code','name'],encoding='gbk',dtype={'code':str,'name':str})"
   ]
  },
  {
   "cell_type": "code",
   "execution_count": 24,
   "metadata": {},
   "outputs": [],
   "source": [
    "f1 = open(r'D:\\Scrapy爬虫\\selenium_scripts\\TianTianFund\\data\\天天基金FOF型基金数据.txt','r',encoding='utf-8')\n",
    "f2 = open(r'D:\\Scrapy爬虫\\selenium_scripts\\TianTianFund\\data\\天天基金LOF型基金数据.txt','r',encoding='utf-8')\n",
    "f3 = open(r'D:\\Scrapy爬虫\\selenium_scripts\\TianTianFund\\data\\天天基金QDII型基金数据.txt','r',encoding='utf-8')\n",
    "f4 = open(r'D:\\Scrapy爬虫\\selenium_scripts\\TianTianFund\\data\\天天基金股票型基金数据.txt','r',encoding='utf-8')\n",
    "f5 = open(r'D:\\Scrapy爬虫\\selenium_scripts\\TianTianFund\\data\\天天基金混合型基金数据.txt','r',encoding='utf-8')\n",
    "f6 = open(r'D:\\Scrapy爬虫\\selenium_scripts\\TianTianFund\\data\\天天基金债券型基金数据.txt','r',encoding='utf-8')\n",
    "f7 = open(r'D:\\Scrapy爬虫\\selenium_scripts\\TianTianFund\\data\\天天基金指数型基金数据.txt','r',encoding='utf-8')"
   ]
  },
  {
   "cell_type": "code",
   "execution_count": 35,
   "metadata": {},
   "outputs": [],
   "source": [
    "df_1 = pd.read_table(r'D:\\Scrapy爬虫\\selenium_scripts\\TianTianFund\\data\\天天基金FOF型基金数据.txt',header=None,names=['name','code'],encoding='utf-8',dtype={'name':str,'code':str})\n",
    "df_2 = pd.read_table(r'D:\\Scrapy爬虫\\selenium_scripts\\TianTianFund\\data\\天天基金LOF型基金数据.txt',header=None,names=['name','code'],encoding='utf-8',dtype={'name':str,'code':str})\n",
    "df_3 = pd.read_table(r'D:\\Scrapy爬虫\\selenium_scripts\\TianTianFund\\data\\天天基金QDII型基金数据.txt',header=None,names=['name','code'],encoding='utf-8',dtype={'name':str,'code':str})\n",
    "df_4 = pd.read_table(r'D:\\Scrapy爬虫\\selenium_scripts\\TianTianFund\\data\\天天基金股票型基金数据.txt',header=None,names=['name','code'],encoding='utf-8',dtype={'name':str,'code':str})\n",
    "df_5 = pd.read_table(r'D:\\Scrapy爬虫\\selenium_scripts\\TianTianFund\\data\\天天基金混合型基金数据.txt',header=None,names=['name','code'],encoding='utf-8',dtype={'name':str,'code':str})\n",
    "df_7 = pd.read_table(r'D:\\Scrapy爬虫\\selenium_scripts\\TianTianFund\\data\\天天基金指数型基金数据.txt',header=None,names=['name','code'],encoding='utf-8',dtype={'name':str,'code':str})\n"
   ]
  },
  {
   "cell_type": "code",
   "execution_count": 36,
   "metadata": {},
   "outputs": [
    {
     "output_type": "execute_result",
     "data": {
      "text/plain": [
       "        name    code\n",
       "0     广发价值领先  008099\n",
       "1     南华丰淳混合  005296\n",
       "2     南华丰淳混合  005297\n",
       "3     广发多因子混  002943\n",
       "4     金鹰改革红利  001951\n",
       "...      ...     ...\n",
       "4076  东吴配置优化  011707\n",
       "4077  天弘益新混合  011408\n",
       "4078  东方红启瑞三  011312\n",
       "4079  大摩万众创新  011712\n",
       "4080  前海开源沪港  011871\n",
       "\n",
       "[4081 rows x 2 columns]"
      ],
      "text/html": "<div>\n<style scoped>\n    .dataframe tbody tr th:only-of-type {\n        vertical-align: middle;\n    }\n\n    .dataframe tbody tr th {\n        vertical-align: top;\n    }\n\n    .dataframe thead th {\n        text-align: right;\n    }\n</style>\n<table border=\"1\" class=\"dataframe\">\n  <thead>\n    <tr style=\"text-align: right;\">\n      <th></th>\n      <th>name</th>\n      <th>code</th>\n    </tr>\n  </thead>\n  <tbody>\n    <tr>\n      <th>0</th>\n      <td>广发价值领先</td>\n      <td>008099</td>\n    </tr>\n    <tr>\n      <th>1</th>\n      <td>南华丰淳混合</td>\n      <td>005296</td>\n    </tr>\n    <tr>\n      <th>2</th>\n      <td>南华丰淳混合</td>\n      <td>005297</td>\n    </tr>\n    <tr>\n      <th>3</th>\n      <td>广发多因子混</td>\n      <td>002943</td>\n    </tr>\n    <tr>\n      <th>4</th>\n      <td>金鹰改革红利</td>\n      <td>001951</td>\n    </tr>\n    <tr>\n      <th>...</th>\n      <td>...</td>\n      <td>...</td>\n    </tr>\n    <tr>\n      <th>4076</th>\n      <td>东吴配置优化</td>\n      <td>011707</td>\n    </tr>\n    <tr>\n      <th>4077</th>\n      <td>天弘益新混合</td>\n      <td>011408</td>\n    </tr>\n    <tr>\n      <th>4078</th>\n      <td>东方红启瑞三</td>\n      <td>011312</td>\n    </tr>\n    <tr>\n      <th>4079</th>\n      <td>大摩万众创新</td>\n      <td>011712</td>\n    </tr>\n    <tr>\n      <th>4080</th>\n      <td>前海开源沪港</td>\n      <td>011871</td>\n    </tr>\n  </tbody>\n</table>\n<p>4081 rows × 2 columns</p>\n</div>"
     },
     "metadata": {},
     "execution_count": 36
    }
   ],
   "source": [
    "df_5"
   ]
  },
  {
   "cell_type": "code",
   "execution_count": 37,
   "metadata": {},
   "outputs": [],
   "source": [
    "df_merge = df_1.append(df_2)"
   ]
  },
  {
   "cell_type": "code",
   "execution_count": 38,
   "metadata": {},
   "outputs": [],
   "source": [
    "df_merge = df_merge.append(df_3)\n",
    "df_merge = df_merge.append(df_4)\n",
    "df_merge = df_merge.append(df_5)\n",
    "df_merge = df_merge.append(df_7)"
   ]
  },
  {
   "cell_type": "code",
   "execution_count": 39,
   "metadata": {},
   "outputs": [
    {
     "output_type": "execute_result",
     "data": {
      "text/plain": [
       "        name    code\n",
       "0     广发价值领先  008099\n",
       "1     南华丰淳混合  005296\n",
       "2     南华丰淳混合  005297\n",
       "3     广发多因子混  002943\n",
       "4     金鹰改革红利  001951\n",
       "...      ...     ...\n",
       "1100  湘财长顺混合  007013\n",
       "1101  信达澳银量化  166110\n",
       "1102  泰康睿福3月  008755\n",
       "1103  招商创新增长  009360\n",
       "1104  海富通欣荣混  519224\n",
       "\n",
       "[7349 rows x 2 columns]"
      ],
      "text/html": "<div>\n<style scoped>\n    .dataframe tbody tr th:only-of-type {\n        vertical-align: middle;\n    }\n\n    .dataframe tbody tr th {\n        vertical-align: top;\n    }\n\n    .dataframe thead th {\n        text-align: right;\n    }\n</style>\n<table border=\"1\" class=\"dataframe\">\n  <thead>\n    <tr style=\"text-align: right;\">\n      <th></th>\n      <th>name</th>\n      <th>code</th>\n    </tr>\n  </thead>\n  <tbody>\n    <tr>\n      <th>0</th>\n      <td>广发价值领先</td>\n      <td>008099</td>\n    </tr>\n    <tr>\n      <th>1</th>\n      <td>南华丰淳混合</td>\n      <td>005296</td>\n    </tr>\n    <tr>\n      <th>2</th>\n      <td>南华丰淳混合</td>\n      <td>005297</td>\n    </tr>\n    <tr>\n      <th>3</th>\n      <td>广发多因子混</td>\n      <td>002943</td>\n    </tr>\n    <tr>\n      <th>4</th>\n      <td>金鹰改革红利</td>\n      <td>001951</td>\n    </tr>\n    <tr>\n      <th>...</th>\n      <td>...</td>\n      <td>...</td>\n    </tr>\n    <tr>\n      <th>1100</th>\n      <td>湘财长顺混合</td>\n      <td>007013</td>\n    </tr>\n    <tr>\n      <th>1101</th>\n      <td>信达澳银量化</td>\n      <td>166110</td>\n    </tr>\n    <tr>\n      <th>1102</th>\n      <td>泰康睿福3月</td>\n      <td>008755</td>\n    </tr>\n    <tr>\n      <th>1103</th>\n      <td>招商创新增长</td>\n      <td>009360</td>\n    </tr>\n    <tr>\n      <th>1104</th>\n      <td>海富通欣荣混</td>\n      <td>519224</td>\n    </tr>\n  </tbody>\n</table>\n<p>7349 rows × 2 columns</p>\n</div>"
     },
     "metadata": {},
     "execution_count": 39
    }
   ],
   "source": [
    "df_merge"
   ]
  },
  {
   "cell_type": "code",
   "execution_count": 40,
   "metadata": {},
   "outputs": [],
   "source": [
    "df_merge.drop_duplicates(subset=['name','code'],keep='first',inplace=True)"
   ]
  },
  {
   "cell_type": "code",
   "execution_count": 41,
   "metadata": {},
   "outputs": [
    {
     "output_type": "execute_result",
     "data": {
      "text/plain": [
       "        name    code\n",
       "0     广发价值领先  008099\n",
       "1     南华丰淳混合  005296\n",
       "2     南华丰淳混合  005297\n",
       "3     广发多因子混  002943\n",
       "4     金鹰改革红利  001951\n",
       "...      ...     ...\n",
       "4076  东吴配置优化  011707\n",
       "4077  天弘益新混合  011408\n",
       "4078  东方红启瑞三  011312\n",
       "4079  大摩万众创新  011712\n",
       "4080  前海开源沪港  011871\n",
       "\n",
       "[4081 rows x 2 columns]"
      ],
      "text/html": "<div>\n<style scoped>\n    .dataframe tbody tr th:only-of-type {\n        vertical-align: middle;\n    }\n\n    .dataframe tbody tr th {\n        vertical-align: top;\n    }\n\n    .dataframe thead th {\n        text-align: right;\n    }\n</style>\n<table border=\"1\" class=\"dataframe\">\n  <thead>\n    <tr style=\"text-align: right;\">\n      <th></th>\n      <th>name</th>\n      <th>code</th>\n    </tr>\n  </thead>\n  <tbody>\n    <tr>\n      <th>0</th>\n      <td>广发价值领先</td>\n      <td>008099</td>\n    </tr>\n    <tr>\n      <th>1</th>\n      <td>南华丰淳混合</td>\n      <td>005296</td>\n    </tr>\n    <tr>\n      <th>2</th>\n      <td>南华丰淳混合</td>\n      <td>005297</td>\n    </tr>\n    <tr>\n      <th>3</th>\n      <td>广发多因子混</td>\n      <td>002943</td>\n    </tr>\n    <tr>\n      <th>4</th>\n      <td>金鹰改革红利</td>\n      <td>001951</td>\n    </tr>\n    <tr>\n      <th>...</th>\n      <td>...</td>\n      <td>...</td>\n    </tr>\n    <tr>\n      <th>4076</th>\n      <td>东吴配置优化</td>\n      <td>011707</td>\n    </tr>\n    <tr>\n      <th>4077</th>\n      <td>天弘益新混合</td>\n      <td>011408</td>\n    </tr>\n    <tr>\n      <th>4078</th>\n      <td>东方红启瑞三</td>\n      <td>011312</td>\n    </tr>\n    <tr>\n      <th>4079</th>\n      <td>大摩万众创新</td>\n      <td>011712</td>\n    </tr>\n    <tr>\n      <th>4080</th>\n      <td>前海开源沪港</td>\n      <td>011871</td>\n    </tr>\n  </tbody>\n</table>\n<p>4081 rows × 2 columns</p>\n</div>"
     },
     "metadata": {},
     "execution_count": 41
    }
   ],
   "source": [
    "df_merge"
   ]
  },
  {
   "cell_type": "code",
   "execution_count": 45,
   "metadata": {},
   "outputs": [],
   "source": [
    "df_merge.to_csv(r'D:\\基金数据\\最新数据\\ttfundAll(NoZQ).txt',encoding='utf-8',index=False)"
   ]
  },
  {
   "cell_type": "code",
   "execution_count": null,
   "metadata": {},
   "outputs": [],
   "source": []
  },
  {
   "cell_type": "code",
   "execution_count": null,
   "metadata": {},
   "outputs": [],
   "source": []
  },
  {
   "cell_type": "code",
   "execution_count": 6,
   "metadata": {},
   "outputs": [
    {
     "output_type": "execute_result",
     "data": {
      "text/plain": [
       "        code            name\n",
       "0     162411  华宝标普油气上游股票人民币A\n",
       "1     007844  华宝标普油气上游股票人民币C\n",
       "2     162719   广发道琼斯石油指数人民币A\n",
       "3     004243   广发道琼斯石油指数人民币C\n",
       "4     003834        华夏能源革新股票\n",
       "...      ...             ...\n",
       "7541  011312    东方红启瑞三年持有混合B\n",
       "7542  010174         英大智享债券A\n",
       "7543  011712       大摩万众创新混合C\n",
       "7544  010749      浙商创业板指数增强A\n",
       "7545  011871  前海开源沪港深优势精选混合C\n",
       "\n",
       "[7546 rows x 2 columns]"
      ],
      "text/html": "<div>\n<style scoped>\n    .dataframe tbody tr th:only-of-type {\n        vertical-align: middle;\n    }\n\n    .dataframe tbody tr th {\n        vertical-align: top;\n    }\n\n    .dataframe thead th {\n        text-align: right;\n    }\n</style>\n<table border=\"1\" class=\"dataframe\">\n  <thead>\n    <tr style=\"text-align: right;\">\n      <th></th>\n      <th>code</th>\n      <th>name</th>\n    </tr>\n  </thead>\n  <tbody>\n    <tr>\n      <th>0</th>\n      <td>162411</td>\n      <td>华宝标普油气上游股票人民币A</td>\n    </tr>\n    <tr>\n      <th>1</th>\n      <td>007844</td>\n      <td>华宝标普油气上游股票人民币C</td>\n    </tr>\n    <tr>\n      <th>2</th>\n      <td>162719</td>\n      <td>广发道琼斯石油指数人民币A</td>\n    </tr>\n    <tr>\n      <th>3</th>\n      <td>004243</td>\n      <td>广发道琼斯石油指数人民币C</td>\n    </tr>\n    <tr>\n      <th>4</th>\n      <td>003834</td>\n      <td>华夏能源革新股票</td>\n    </tr>\n    <tr>\n      <th>...</th>\n      <td>...</td>\n      <td>...</td>\n    </tr>\n    <tr>\n      <th>7541</th>\n      <td>011312</td>\n      <td>东方红启瑞三年持有混合B</td>\n    </tr>\n    <tr>\n      <th>7542</th>\n      <td>010174</td>\n      <td>英大智享债券A</td>\n    </tr>\n    <tr>\n      <th>7543</th>\n      <td>011712</td>\n      <td>大摩万众创新混合C</td>\n    </tr>\n    <tr>\n      <th>7544</th>\n      <td>010749</td>\n      <td>浙商创业板指数增强A</td>\n    </tr>\n    <tr>\n      <th>7545</th>\n      <td>011871</td>\n      <td>前海开源沪港深优势精选混合C</td>\n    </tr>\n  </tbody>\n</table>\n<p>7546 rows × 2 columns</p>\n</div>"
     },
     "metadata": {},
     "execution_count": 6
    }
   ],
   "source": [
    "df_4_27"
   ]
  },
  {
   "cell_type": "code",
   "execution_count": 11,
   "metadata": {},
   "outputs": [],
   "source": [
    "df_4_27.drop_duplicates(keep='first',inplace=True)"
   ]
  },
  {
   "cell_type": "code",
   "execution_count": 12,
   "metadata": {},
   "outputs": [
    {
     "output_type": "execute_result",
     "data": {
      "text/plain": [
       "        code            name\n",
       "0     162411  华宝标普油气上游股票人民币A\n",
       "1     007844  华宝标普油气上游股票人民币C\n",
       "2     162719   广发道琼斯石油指数人民币A\n",
       "3     004243   广发道琼斯石油指数人民币C\n",
       "4     003834        华夏能源革新股票\n",
       "...      ...             ...\n",
       "7541  011312    东方红启瑞三年持有混合B\n",
       "7542  010174         英大智享债券A\n",
       "7543  011712       大摩万众创新混合C\n",
       "7544  010749      浙商创业板指数增强A\n",
       "7545  011871  前海开源沪港深优势精选混合C\n",
       "\n",
       "[7546 rows x 2 columns]"
      ],
      "text/html": "<div>\n<style scoped>\n    .dataframe tbody tr th:only-of-type {\n        vertical-align: middle;\n    }\n\n    .dataframe tbody tr th {\n        vertical-align: top;\n    }\n\n    .dataframe thead th {\n        text-align: right;\n    }\n</style>\n<table border=\"1\" class=\"dataframe\">\n  <thead>\n    <tr style=\"text-align: right;\">\n      <th></th>\n      <th>code</th>\n      <th>name</th>\n    </tr>\n  </thead>\n  <tbody>\n    <tr>\n      <th>0</th>\n      <td>162411</td>\n      <td>华宝标普油气上游股票人民币A</td>\n    </tr>\n    <tr>\n      <th>1</th>\n      <td>007844</td>\n      <td>华宝标普油气上游股票人民币C</td>\n    </tr>\n    <tr>\n      <th>2</th>\n      <td>162719</td>\n      <td>广发道琼斯石油指数人民币A</td>\n    </tr>\n    <tr>\n      <th>3</th>\n      <td>004243</td>\n      <td>广发道琼斯石油指数人民币C</td>\n    </tr>\n    <tr>\n      <th>4</th>\n      <td>003834</td>\n      <td>华夏能源革新股票</td>\n    </tr>\n    <tr>\n      <th>...</th>\n      <td>...</td>\n      <td>...</td>\n    </tr>\n    <tr>\n      <th>7541</th>\n      <td>011312</td>\n      <td>东方红启瑞三年持有混合B</td>\n    </tr>\n    <tr>\n      <th>7542</th>\n      <td>010174</td>\n      <td>英大智享债券A</td>\n    </tr>\n    <tr>\n      <th>7543</th>\n      <td>011712</td>\n      <td>大摩万众创新混合C</td>\n    </tr>\n    <tr>\n      <th>7544</th>\n      <td>010749</td>\n      <td>浙商创业板指数增强A</td>\n    </tr>\n    <tr>\n      <th>7545</th>\n      <td>011871</td>\n      <td>前海开源沪港深优势精选混合C</td>\n    </tr>\n  </tbody>\n</table>\n<p>7546 rows × 2 columns</p>\n</div>"
     },
     "metadata": {},
     "execution_count": 12
    }
   ],
   "source": [
    "df_4_27"
   ]
  },
  {
   "cell_type": "code",
   "execution_count": null,
   "metadata": {},
   "outputs": [],
   "source": []
  }
 ]
}
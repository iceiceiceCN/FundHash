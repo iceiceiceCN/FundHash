{
 "cells": [
  {
   "cell_type": "code",
   "execution_count": 85,
   "metadata": {},
   "outputs": [],
   "source": [
    "import pandas as pd\n",
    "import numpy as np\n",
    "import matplotlib.pylab as plt\n"
   ]
  },
  {
   "cell_type": "code",
   "execution_count": 86,
   "metadata": {},
   "outputs": [],
   "source": [
    "path_flag = 0\n",
    "\n",
    "# 0:全部特征参与排序 / 1:部分特征参与排序\n",
    "count_flag = 3"
   ]
  },
  {
   "cell_type": "code",
   "execution_count": 87,
   "metadata": {},
   "outputs": [
    {
     "output_type": "stream",
     "name": "stdout",
     "text": [
      "D:\\基金数据\\最新数据\\Data_after4.5_2021_5_21.txt\n"
     ]
    }
   ],
   "source": [
    "if path_flag == 0:\n",
    "    # A: 使用时间参数自动获取路径名\n",
    "    from datetime import datetime\n",
    "\n",
    "    today = datetime.now()\n",
    "\n",
    "    path = r\"D:\\基金数据\\最新数据\\Data_after4.5_{}_{}_{}.txt\".format(today.year,today.month,today.day) # 自动获取\n",
    "    # 要求输入列为：\n",
    "    # SHORTNAME\tFCODE\tMGRID\tMGRNAME\tSHARP1\tSHARP2\tSTDDEV1\tSTDDEV2\tMAXRETRA1\tGP\tZQ\tHB\tJZC\tWeek_up\tWeek_avg_up\tWeek_hs300_up\tWeek_rank\tWeek_competitors\tMonth_up\tMonth_avg_up\tMonth_hs300_up\tMonth_rank\tMonth_competitors\tYear_up\tYear_avg_up\tYear_hs300_up\tYear_rank\tYear_competitors\tNowYear_up\tNowYear_avg_up\tNowYear_hs300_up\tNowYear_rank\tNowYear_competitors\tTwoYear_up\tTwoYear_avg_up\tTwoYear_hs300_up\tTwoYear_rank\tTwoYear_competitors\tThreeYear_up\tThreeYear_avg_up\tThreeYear_hs300_up\tThreeYear_rank\tThreeYear_competitors\tFiveYear_up\tFiveYear_avg_up\tFiveYear_hs300_up\tFiveYear_rank\tFiveYear_competitors\tfundStocks_GPDM_0\tfundStocks_GPJC_0\tfundStocks_JZBL_0\tfundStocks_PCTNVCHG_0\tfundStocks_GPDM_1\tfundStocks_GPJC_1\tfundStocks_JZBL_1\tfundStocks_PCTNVCHG_1\tfundStocks_GPDM_2\tfundStocks_GPJC_2\tfundStocks_JZBL_2\tfundStocks_PCTNVCHG_2\tfundStocks_GPDM_3\tfundStocks_GPJC_3\tfundStocks_JZBL_3\tfundStocks_PCTNVCHG_3\tfundStocks_GPDM_4\tfundStocks_GPJC_4\tfundStocks_JZBL_4\tfundStocks_PCTNVCHG_4\tfundStocks_GPDM_5\tfundStocks_GPJC_5\tfundStocks_JZBL_5\tfundStocks_PCTNVCHG_5\tfundStocks_GPDM_6\tfundStocks_GPJC_6\tfundStocks_JZBL_6\tfundStocks_PCTNVCHG_6\tfundStocks_GPDM_7\tfundStocks_GPJC_7\tfundStocks_JZBL_7\tfundStocks_PCTNVCHG_7\tfundStocks_GPDM_8\tfundStocks_GPJC_8\tfundStocks_JZBL_8\tfundStocks_PCTNVCHG_8\tfundStocks_GPDM_9\tfundStocks_GPJC_9\tfundStocks_JZBL_9\tfundStocks_PCTNVCHG_9\tBaoTuan\tPayback\tDays\n",
    "    df = pd.read_table(path,converters={'FCODE':str,'MGRID':str},encoding='GB18030')\n",
    "\n",
    "    print(path)\n",
    "\n",
    "elif path_flag == 1:\n",
    "    # B: 指定路径名\n",
    "\n",
    "    path = r'D:\\基金数据\\最新数据\\Data_after4.5_2021_5_15.txt'\n",
    "    # 要求输入列为：\n",
    "    # SHORTNAME\tFCODE\tMGRID\tMGRNAME\tSHARP1\tSHARP2\tSTDDEV1\tSTDDEV2\tMAXRETRA1\tGP\tZQ\tHB\tJZC\tWeek_up\tWeek_avg_up\tWeek_hs300_up\tWeek_rank\tWeek_competitors\tMonth_up\tMonth_avg_up\tMonth_hs300_up\tMonth_rank\tMonth_competitors\tYear_up\tYear_avg_up\tYear_hs300_up\tYear_rank\tYear_competitors\tNowYear_up\tNowYear_avg_up\tNowYear_hs300_up\tNowYear_rank\tNowYear_competitors\tTwoYear_up\tTwoYear_avg_up\tTwoYear_hs300_up\tTwoYear_rank\tTwoYear_competitors\tThreeYear_up\tThreeYear_avg_up\tThreeYear_hs300_up\tThreeYear_rank\tThreeYear_competitors\tFiveYear_up\tFiveYear_avg_up\tFiveYear_hs300_up\tFiveYear_rank\tFiveYear_competitors\tfundStocks_GPDM_0\tfundStocks_GPJC_0\tfundStocks_JZBL_0\tfundStocks_PCTNVCHG_0\tfundStocks_GPDM_1\tfundStocks_GPJC_1\tfundStocks_JZBL_1\tfundStocks_PCTNVCHG_1\tfundStocks_GPDM_2\tfundStocks_GPJC_2\tfundStocks_JZBL_2\tfundStocks_PCTNVCHG_2\tfundStocks_GPDM_3\tfundStocks_GPJC_3\tfundStocks_JZBL_3\tfundStocks_PCTNVCHG_3\tfundStocks_GPDM_4\tfundStocks_GPJC_4\tfundStocks_JZBL_4\tfundStocks_PCTNVCHG_4\tfundStocks_GPDM_5\tfundStocks_GPJC_5\tfundStocks_JZBL_5\tfundStocks_PCTNVCHG_5\tfundStocks_GPDM_6\tfundStocks_GPJC_6\tfundStocks_JZBL_6\tfundStocks_PCTNVCHG_6\tfundStocks_GPDM_7\tfundStocks_GPJC_7\tfundStocks_JZBL_7\tfundStocks_PCTNVCHG_7\tfundStocks_GPDM_8\tfundStocks_GPJC_8\tfundStocks_JZBL_8\tfundStocks_PCTNVCHG_8\tfundStocks_GPDM_9\tfundStocks_GPJC_9\tfundStocks_JZBL_9\tfundStocks_PCTNVCHG_9\tBaoTuan\tPayback\tDays\n",
    "    df = pd.read_table(path,converters={'FCODE':str,'MGRID':str},encoding='GB18030')"
   ]
  },
  {
   "cell_type": "code",
   "execution_count": 88,
   "metadata": {},
   "outputs": [
    {
     "output_type": "execute_result",
     "data": {
      "text/plain": [
       "        SHORTNAME   FCODE   date  cluster              MGRID MGRNAME    Days  \\\n",
       "0  华宝标普油气上游股票人民币A  162411  05-19        6  30200459,30732062   周晶,杨洋    -1.0   \n",
       "1       九泰行业优选混合C  008438  05-20        4  30349054,30589084  吴祖尧,何昕  1280.0   \n",
       "2       恒越核心精选混合C  007193  05-20        6  30561920,30711642   高楠,叶佳  1090.0   \n",
       "3       华夏新兴消费混合A  005888  05-20        9           30063386     孙轶佳  1946.0   \n",
       "4      浙商沪港深精选混合C  007369  05-20        5           30655735      贾腾   755.0   \n",
       "\n",
       "   Days_rank  Payback  Payback_rank  ...    nd_17  nd_17_rank   nd_16  \\\n",
       "0       7546   -1.000          7546  ...  -15.41%        3093  44.24%   \n",
       "1       4953   -2.912          7448  ...       --        7546      --   \n",
       "2       5443   30.533           462  ...       --        7546      --   \n",
       "3       3263   13.833          2596  ...       --        7546      --   \n",
       "4       6132   40.812           240  ...       --        7546      --   \n",
       "\n",
       "   nd_16_rank    nd_15  nd_15_rank    nd_14  nd_14_rank   nd_13  nd_13_rank  \n",
       "0           4  -34.78%        1541  -32.23%        1288  18.39%         209  \n",
       "1        7546       --        7546       --        7546      --        7546  \n",
       "2        7546       --        7546       --        7546      --        7546  \n",
       "3        7546       --        7546       --        7546      --        7546  \n",
       "4        7546       --        7546       --        7546      --        7546  \n",
       "\n",
       "[5 rows x 134 columns]"
      ],
      "text/html": "<div>\n<style scoped>\n    .dataframe tbody tr th:only-of-type {\n        vertical-align: middle;\n    }\n\n    .dataframe tbody tr th {\n        vertical-align: top;\n    }\n\n    .dataframe thead th {\n        text-align: right;\n    }\n</style>\n<table border=\"1\" class=\"dataframe\">\n  <thead>\n    <tr style=\"text-align: right;\">\n      <th></th>\n      <th>SHORTNAME</th>\n      <th>FCODE</th>\n      <th>date</th>\n      <th>cluster</th>\n      <th>MGRID</th>\n      <th>MGRNAME</th>\n      <th>Days</th>\n      <th>Days_rank</th>\n      <th>Payback</th>\n      <th>Payback_rank</th>\n      <th>...</th>\n      <th>nd_17</th>\n      <th>nd_17_rank</th>\n      <th>nd_16</th>\n      <th>nd_16_rank</th>\n      <th>nd_15</th>\n      <th>nd_15_rank</th>\n      <th>nd_14</th>\n      <th>nd_14_rank</th>\n      <th>nd_13</th>\n      <th>nd_13_rank</th>\n    </tr>\n  </thead>\n  <tbody>\n    <tr>\n      <th>0</th>\n      <td>华宝标普油气上游股票人民币A</td>\n      <td>162411</td>\n      <td>05-19</td>\n      <td>6</td>\n      <td>30200459,30732062</td>\n      <td>周晶,杨洋</td>\n      <td>-1.0</td>\n      <td>7546</td>\n      <td>-1.000</td>\n      <td>7546</td>\n      <td>...</td>\n      <td>-15.41%</td>\n      <td>3093</td>\n      <td>44.24%</td>\n      <td>4</td>\n      <td>-34.78%</td>\n      <td>1541</td>\n      <td>-32.23%</td>\n      <td>1288</td>\n      <td>18.39%</td>\n      <td>209</td>\n    </tr>\n    <tr>\n      <th>1</th>\n      <td>九泰行业优选混合C</td>\n      <td>008438</td>\n      <td>05-20</td>\n      <td>4</td>\n      <td>30349054,30589084</td>\n      <td>吴祖尧,何昕</td>\n      <td>1280.0</td>\n      <td>4953</td>\n      <td>-2.912</td>\n      <td>7448</td>\n      <td>...</td>\n      <td>--</td>\n      <td>7546</td>\n      <td>--</td>\n      <td>7546</td>\n      <td>--</td>\n      <td>7546</td>\n      <td>--</td>\n      <td>7546</td>\n      <td>--</td>\n      <td>7546</td>\n    </tr>\n    <tr>\n      <th>2</th>\n      <td>恒越核心精选混合C</td>\n      <td>007193</td>\n      <td>05-20</td>\n      <td>6</td>\n      <td>30561920,30711642</td>\n      <td>高楠,叶佳</td>\n      <td>1090.0</td>\n      <td>5443</td>\n      <td>30.533</td>\n      <td>462</td>\n      <td>...</td>\n      <td>--</td>\n      <td>7546</td>\n      <td>--</td>\n      <td>7546</td>\n      <td>--</td>\n      <td>7546</td>\n      <td>--</td>\n      <td>7546</td>\n      <td>--</td>\n      <td>7546</td>\n    </tr>\n    <tr>\n      <th>3</th>\n      <td>华夏新兴消费混合A</td>\n      <td>005888</td>\n      <td>05-20</td>\n      <td>9</td>\n      <td>30063386</td>\n      <td>孙轶佳</td>\n      <td>1946.0</td>\n      <td>3263</td>\n      <td>13.833</td>\n      <td>2596</td>\n      <td>...</td>\n      <td>--</td>\n      <td>7546</td>\n      <td>--</td>\n      <td>7546</td>\n      <td>--</td>\n      <td>7546</td>\n      <td>--</td>\n      <td>7546</td>\n      <td>--</td>\n      <td>7546</td>\n    </tr>\n    <tr>\n      <th>4</th>\n      <td>浙商沪港深精选混合C</td>\n      <td>007369</td>\n      <td>05-20</td>\n      <td>5</td>\n      <td>30655735</td>\n      <td>贾腾</td>\n      <td>755.0</td>\n      <td>6132</td>\n      <td>40.812</td>\n      <td>240</td>\n      <td>...</td>\n      <td>--</td>\n      <td>7546</td>\n      <td>--</td>\n      <td>7546</td>\n      <td>--</td>\n      <td>7546</td>\n      <td>--</td>\n      <td>7546</td>\n      <td>--</td>\n      <td>7546</td>\n    </tr>\n  </tbody>\n</table>\n<p>5 rows × 134 columns</p>\n</div>"
     },
     "metadata": {},
     "execution_count": 88
    }
   ],
   "source": [
    "df_test = df.copy()\n",
    "df.head(5)"
   ]
  },
  {
   "cell_type": "code",
   "execution_count": 89,
   "metadata": {},
   "outputs": [],
   "source": [
    "# 去除表中 '--' 值，然后算四分位数\n",
    "\n",
    "df9 = df.copy()\n",
    "\n",
    "condition1 = df9['jd_20_4'] != '--'\n",
    "condition2 = df9['jd_20_3'] != '--'\n",
    "condition3 = df9['jd_20_2'] != '--'\n",
    "condition4 = df9['jd_20_1'] != '--'\n",
    "\n",
    "condition5 = df9['jd_19_4'] != '--'\n",
    "condition6 = df9['jd_19_3'] != '--'\n",
    "condition7 = df9['jd_19_2'] != '--'\n",
    "condition8 = df9['jd_19_1'] != '--'\n",
    "\n",
    "condition9 = df9['nd_20'] != '--'\n",
    "condition10 = df9['nd_19'] != '--'\n",
    "condition11 = df9['nd_18'] != '--'\n",
    "condition12 = df9['nd_17'] != '--'\n",
    "condition13 = df9['nd_16'] != '--'\n",
    "condition14 = df9['nd_15'] != '--'\n",
    "condition15 = df9['nd_14'] != '--'\n",
    "condition16 = df9['nd_13'] != '--'\n",
    "\n",
    "con = [condition1,condition2,condition3,condition4,condition5,condition6,condition7,condition8,condition9,condition10,\n",
    "      condition11,condition12,condition13,condition14,condition15,condition16]\n",
    "# df9_ = [df9_jd_20_4,df9_jd_20_3,df9_jd_20_2,df9_jd_20_1,\n",
    "#        df9_jd_19_4,df9_jd_19_3,df9_jd_19_2,df9_jd_19_1,\n",
    "#        nd_20,nd_19,nd_18,nd_17,nd_16,nd_15,nd_14,nd_13]\n",
    "\n",
    "df9_=[]\n",
    "for i in range(16):\n",
    "    df9_.append(df9[con[i]])\n"
   ]
  },
  {
   "cell_type": "code",
   "execution_count": 90,
   "metadata": {},
   "outputs": [],
   "source": [
    "# 将每列数据的百分制转为小数\n",
    "df9_jd_20_4 = df9_[0].jd_20_4.str.strip('%').astype(float)/100\n",
    "df9_jd_20_3 = df9_[1].jd_20_3.str.strip('%').astype(float)/100\n",
    "df9_jd_20_2 = df9_[2].jd_20_2.str.strip('%').astype(float)/100\n",
    "df9_jd_20_1 = df9_[3].jd_20_1.str.strip('%').astype(float)/100\n",
    "\n",
    "df9_jd_19_4 = df9_[4].jd_19_4.str.strip('%').astype(float)/100\n",
    "df9_jd_19_3 = df9_[5].jd_19_3.str.strip('%').astype(float)/100\n",
    "df9_jd_19_2 = df9_[6].jd_19_2.str.strip('%').astype(float)/100\n",
    "df9_jd_19_1 = df9_[7].jd_19_1.str.strip('%').astype(float)/100\n",
    "\n",
    "df9_nd_20 = df9_[8].nd_20.str.strip('%').astype(float)/100\n",
    "df9_nd_19 = df9_[9].nd_19.str.strip('%').astype(float)/100\n",
    "df9_nd_18 = df9_[10].nd_18.str.strip('%').astype(float)/100\n",
    "df9_nd_17 = df9_[11].nd_17.str.strip('%').astype(float)/100\n",
    "df9_nd_16 = df9_[12].nd_16.str.strip('%').astype(float)/100\n",
    "df9_nd_15 = df9_[13].nd_15.str.strip('%').astype(float)/100\n",
    "\n",
    "df9_jd_20 = [df9_jd_20_4,df9_jd_20_3,df9_jd_20_2,df9_jd_20_1]\n",
    "df9_jd_19 = [df9_jd_19_4,df9_jd_19_3,df9_jd_19_2,df9_jd_19_1]\n",
    "df9_nd    = [df9_nd_20,df9_nd_19,df9_nd_18,df9_nd_17,df9_nd_16,df9_nd_15]\n",
    "\n",
    "# 每个四个为一组\n",
    "\n",
    "df9_jd_20_q = []\n",
    "for i in range(len(df9_jd_20)):\n",
    "    tmp = []\n",
    "    tmp.append(round(df9_jd_20[i].quantile(0.5),3))\n",
    "    tmp.append(round(df9_jd_20[i].quantile(0.7),3))\n",
    "    tmp.append(round(df9_jd_20[i].quantile(0.9),3))\n",
    "    tmp.append(round(df9_jd_20[i].quantile(1),3))\n",
    "    df9_jd_20_q.append(tmp)\n",
    "    \n",
    "df9_jd_19_q = []\n",
    "for i in range(len(df9_jd_19)):\n",
    "    tmp = []\n",
    "    tmp.append(round(df9_jd_19[i].quantile(0.5),3))\n",
    "    tmp.append(round(df9_jd_19[i].quantile(0.7),3))\n",
    "    tmp.append(round(df9_jd_19[i].quantile(0.9),3))\n",
    "    tmp.append(round(df9_jd_19[i].quantile(1),3))\n",
    "    df9_jd_19_q.append(tmp)\n",
    "    \n",
    "df9_nd_q = []\n",
    "for i in range(len(df9_nd)):\n",
    "    tmp = []\n",
    "    tmp.append(round(df9_nd[i].quantile(0.5),3))\n",
    "    tmp.append(round(df9_nd[i].quantile(0.7),3))\n",
    "    tmp.append(round(df9_nd[i].quantile(0.9),3))\n",
    "    tmp.append(round(df9_nd[i].quantile(1),3))\n",
    "    df9_nd_q.append(tmp)"
   ]
  },
  {
   "cell_type": "code",
   "execution_count": 91,
   "metadata": {},
   "outputs": [
    {
     "output_type": "execute_result",
     "data": {
      "text/plain": [
       "[[-0.003, 0.007, 0.024, 0.594],\n",
       " [0.06, 0.124, 0.197, 1.4],\n",
       " [0.06, 0.104, 0.168, 0.426],\n",
       " [0.109, 0.205, 0.303, 0.532]]"
      ]
     },
     "metadata": {},
     "execution_count": 91
    }
   ],
   "source": [
    "df9_jd_20_q"
   ]
  },
  {
   "cell_type": "code",
   "execution_count": 92,
   "metadata": {},
   "outputs": [
    {
     "output_type": "execute_result",
     "data": {
      "text/plain": [
       "0.024"
      ]
     },
     "metadata": {},
     "execution_count": 92
    }
   ],
   "source": [
    "df9_jd_20_q[0][2]"
   ]
  },
  {
   "cell_type": "code",
   "execution_count": 93,
   "metadata": {},
   "outputs": [],
   "source": [
    "def getFloatData(data):\n",
    "    if data == '--':\n",
    "        return float(-1)\n",
    "    res = float(data.strip('%'))/100\n",
    "    return res"
   ]
  },
  {
   "cell_type": "code",
   "execution_count": 94,
   "metadata": {},
   "outputs": [],
   "source": [
    "if count_flag == 0:\n",
    "    # 全部特征参与排序\n",
    "    for i in range(len(df['FCODE'])):\n",
    "        count = 0\n",
    "        \n",
    "        count += 1 -(df['jd_20_4_rank'] / len(df['FCODE'])) * 1\n",
    "        count += 1 -(df['jd_20_3_rank'] / len(df['FCODE'])) * 1\n",
    "        count += 1 -(df['jd_20_2_rank'] / len(df['FCODE'])) * 1\n",
    "        count += 1 -(df['jd_20_1_rank'] / len(df['FCODE'])) * 1\n",
    "    \n",
    "        count += 1 -(df['jd_19_4_rank'] / len(df['FCODE'])) * 1\n",
    "        count += 1 -(df['jd_19_3_rank'] / len(df['FCODE'])) * 1\n",
    "        count += 1 -(df['jd_19_2_rank'] / len(df['FCODE'])) * 1\n",
    "        count += 1 -(df['jd_19_1_rank'] / len(df['FCODE'])) * 1  \n",
    "        \n",
    "        count += 1 -(df['nd_20_rank'] / len(df['FCODE'])) * 1\n",
    "        count += 1 -(df['nd_19_rank'] / len(df['FCODE'])) * 1    \n",
    "        count += 1 -(df['nd_18_rank'] / len(df['FCODE'])) * 1    \n",
    "        count += 1 -(df['nd_17_rank'] / len(df['FCODE'])) * 1\n",
    "        count += 1 -(df['nd_16_rank'] / len(df['FCODE'])) * 1    \n",
    "        count += 1 -(df['nd_15_rank'] / len(df['FCODE'])) * 1    \n",
    "        count += 1 -(df['nd_14_rank'] / len(df['FCODE'])) * 1\n",
    "        count += 1 -(df['nd_13_rank'] / len(df['FCODE'])) * 1\n",
    "        \n",
    "        count += 1 -(df['收益回撤比_rank'] / len(df['FCODE'])) * 1  \n",
    "        count += 1 -(df['SHARP1_rank'] / len(df['FCODE'])) * 1    \n",
    "        count += 1 -(df['SHARP2_rank'] / len(df['FCODE'])) * 1    \n",
    "        count += 1 -(df['Days_rank'] / len(df['FCODE'])) * 1  \n",
    "        count += 1 -(df['Payback_rank'] / len(df['FCODE'])) * 1  \n",
    "        \n",
    "        if float(df['MAXRETRA1'][i]) != -1:\n",
    "            count += (df['MAXRETRA1_rank'] / len(df['FCODE'])) * 1\n",
    "        else:\n",
    "            count += 0\n",
    "        \n",
    "        if float(df['STDDEV1'][i]) != -1:\n",
    "            count += (df['STDDEV1_rank'] / len(df['FCODE'])) * 1\n",
    "        else:\n",
    "            count += 0\n",
    "\n",
    "        if float(df['STDDEV2'][i]) != -1:\n",
    "            count += (df['STDDEV2_rank'] / len(df['FCODE'])) * 1\n",
    "        else:\n",
    "            count += 0        \n",
    "\n",
    "elif count_flag == 1:\n",
    "    # 部分特征参与排序\n",
    "    for i in range(len(df['FCODE'])):\n",
    "        count = 0\n",
    "        \n",
    "        count += 1 -(df['jd_20_4_rank'] / len(df['FCODE'])) * 1 * 0.7 \n",
    "        count += 1 -(df['jd_20_3_rank'] / len(df['FCODE'])) * 1 * 0.7\n",
    "        count += 1 -(df['jd_20_2_rank'] / len(df['FCODE'])) * 1 * 0.7\n",
    "        count += 1 -(df['jd_20_1_rank'] / len(df['FCODE'])) * 1 * 0.7\n",
    "    \n",
    "        count += 1 -(df['jd_19_4_rank'] / len(df['FCODE'])) * 1 * 0.7 \n",
    "        count += 1 -(df['jd_19_3_rank'] / len(df['FCODE'])) * 1 * 0.7\n",
    "        count += 1 -(df['jd_19_2_rank'] / len(df['FCODE'])) * 1 * 0.7\n",
    "        count += 1 -(df['jd_19_1_rank'] / len(df['FCODE'])) * 1 * 0.7\n",
    "        \n",
    "    #     count += 1 -(df['nd_20_rank'] / len(df['FCODE'])) * 1\n",
    "    #     count += 1 -(df['nd_19_rank'] / len(df['FCODE'])) * 1    \n",
    "        count += 1 -(df['nd_18_rank'] / len(df['FCODE'])) * 1 * 1.3\n",
    "        count += 1 -(df['nd_17_rank'] / len(df['FCODE'])) * 1 * 1.3\n",
    "        count += 1 -(df['nd_16_rank'] / len(df['FCODE'])) * 1 * 1.3\n",
    "        count += 1 -(df['nd_15_rank'] / len(df['FCODE'])) * 1 * 1.3\n",
    "    #     count += 1 -(df['nd_14_rank'] / len(df['FCODE'])) * 1\n",
    "    #     count += 1 -(df['nd_13_rank'] / len(df['FCODE'])) * 1\n",
    "        \n",
    "        count += (1 -(df['收益回撤比_rank'] / len(df['FCODE'])) * 1) * 1\n",
    "        count += 1 -(df['SHARP1_rank'] / len(df['FCODE'])) * 1    \n",
    "        count += 1 -(df['SHARP2_rank'] / len(df['FCODE'])) * 1    \n",
    "        count += 1 -(df['Days_rank'] / len(df['FCODE'])) * 1  * 0.5\n",
    "        count += 1 -(df['Payback_rank'] / len(df['FCODE'])) * 1  * 0.5\n",
    "        \n",
    "        # 注重回撤版本\n",
    "        if float(df['MAXRETRA1'][i]) != -1:\n",
    "            count += (df['MAXRETRA1_rank'] / len(df['FCODE'])) * 1 * 1\n",
    "        else:\n",
    "            count += 0\n",
    "        \n",
    "        # 原始版本\n",
    "        # if float(df['MAXRETRA1'][i]) != -1:\n",
    "        #     count += (df['MAXRETRA1_rank'] / len(df['FCODE'])) * 1\n",
    "        # else:\n",
    "        #     count += 0\n",
    "        \n",
    "        if float(df['STDDEV1'][i]) != -1:\n",
    "            count += (df['STDDEV1_rank'] / len(df['FCODE'])) * 1 \n",
    "        else:\n",
    "            count += 0\n",
    "\n",
    "        if float(df['STDDEV2'][i]) != -1:\n",
    "            count += (df['STDDEV2_rank'] / len(df['FCODE'])) * 1\n",
    "        else:\n",
    "            count += 0        \n",
    "        \n",
    "elif count_flag == 2:\n",
    "    # 债券版\n",
    "    for i in range(len(df['FCODE'])):\n",
    "        count = 0\n",
    "        \n",
    "        count += 1 -(df['jd_20_4_rank'] / len(df['FCODE'])) * 1 * 0.7 \n",
    "        count += 1 -(df['jd_20_3_rank'] / len(df['FCODE'])) * 1 * 0.7\n",
    "        count += 1 -(df['jd_20_2_rank'] / len(df['FCODE'])) * 1 * 0.7\n",
    "        count += 1 -(df['jd_20_1_rank'] / len(df['FCODE'])) * 1 * 0.7\n",
    "    \n",
    "        count += 1 -(df['jd_19_4_rank'] / len(df['FCODE'])) * 1 * 0.7 \n",
    "        count += 1 -(df['jd_19_3_rank'] / len(df['FCODE'])) * 1 * 0.7\n",
    "        count += 1 -(df['jd_19_2_rank'] / len(df['FCODE'])) * 1 * 0.7\n",
    "        count += 1 -(df['jd_19_1_rank'] / len(df['FCODE'])) * 1 * 0.7\n",
    "        \n",
    "    #     count += 1 -(df['nd_20_rank'] / len(df['FCODE'])) * 1\n",
    "    #     count += 1 -(df['nd_19_rank'] / len(df['FCODE'])) * 1    \n",
    "        count += 1 -(df['nd_18_rank'] / len(df['FCODE'])) * 1 * 1.3\n",
    "        count += 1 -(df['nd_17_rank'] / len(df['FCODE'])) * 1 * 1.3\n",
    "        count += 1 -(df['nd_16_rank'] / len(df['FCODE'])) * 1 * 1.3\n",
    "        count += 1 -(df['nd_15_rank'] / len(df['FCODE'])) * 1 * 1.3\n",
    "    #     count += 1 -(df['nd_14_rank'] / len(df['FCODE'])) * 1\n",
    "    #     count += 1 -(df['nd_13_rank'] / len(df['FCODE'])) * 1\n",
    "        \n",
    "        count += (1 -(df['收益回撤比_rank'] / len(df['FCODE'])) * 1) * 2\n",
    "        count += 1 -(df['SHARP1_rank'] / len(df['FCODE'])) * 1    \n",
    "        count += 1 -(df['SHARP2_rank'] / len(df['FCODE'])) * 1    \n",
    "        count += 1 -(df['Days_rank'] / len(df['FCODE'])) * 1  * 0.5\n",
    "        count += 1 -(df['Payback_rank'] / len(df['FCODE'])) * 1  * 0.5\n",
    "        \n",
    "        # 注重回撤版本\n",
    "        if float(df['MAXRETRA1'][i]) != -1:\n",
    "            count += (df['MAXRETRA1_rank'] / len(df['FCODE'])) * 1 * 2\n",
    "        else:\n",
    "            count += 0\n",
    "        \n",
    "        # 原始版本\n",
    "        # if float(df['MAXRETRA1'][i]) != -1:\n",
    "        #     count += (df['MAXRETRA1_rank'] / len(df['FCODE'])) * 1\n",
    "        # else:\n",
    "        #     count += 0\n",
    "        \n",
    "        if float(df['STDDEV1'][i]) != -1:\n",
    "            count += (df['STDDEV1_rank'] / len(df['FCODE'])) * 1 \n",
    "        else:\n",
    "            count += 0\n",
    "\n",
    "        if float(df['STDDEV2'][i]) != -1:\n",
    "            count += (df['STDDEV2_rank'] / len(df['FCODE'])) * 1\n",
    "        else:\n",
    "            count += 0        \n",
    "elif count_flag == 3:\n",
    "    # 少壮派\n",
    "    for i in range(len(df['FCODE'])):\n",
    "        count = 0\n",
    "        \n",
    "        count += 1 -(df['jd_20_4_rank'] / len(df['FCODE'])) * 1 * 0.5\n",
    "        count += 1 -(df['jd_20_3_rank'] / len(df['FCODE'])) * 1 * 0.5\n",
    "        count += 1 -(df['jd_20_2_rank'] / len(df['FCODE'])) * 1 * 0.5\n",
    "        count += 1 -(df['jd_20_1_rank'] / len(df['FCODE'])) * 1 * 0.5\n",
    "    \n",
    "        count += 1 -(df['jd_19_4_rank'] / len(df['FCODE'])) * 1 * 0.5\n",
    "        count += 1 -(df['jd_19_3_rank'] / len(df['FCODE'])) * 1 * 0.5\n",
    "        count += 1 -(df['jd_19_2_rank'] / len(df['FCODE'])) * 1 * 0.5\n",
    "        count += 1 -(df['jd_19_1_rank'] / len(df['FCODE'])) * 1 * 0.5\n",
    "        \n",
    "        count += 1 -(df['nd_20_rank'] / len(df['FCODE'])) * 1 * 0.5\n",
    "        count += 1 -(df['nd_19_rank'] / len(df['FCODE'])) * 1 * 0.5\n",
    "        count += 1 -(df['nd_18_rank'] / len(df['FCODE'])) * 1 * 2\n",
    "        # count += 1 -(df['nd_17_rank'] / len(df['FCODE'])) * 1 * 2\n",
    "        # count += 1 -(df['nd_16_rank'] / len(df['FCODE'])) * 1 * 1.3\n",
    "        # count += 1 -(df['nd_15_rank'] / len(df['FCODE'])) * 1 * 1.3\n",
    "    #     count += 1 -(df['nd_14_rank'] / len(df['FCODE'])) * 1\n",
    "    #     count += 1 -(df['nd_13_rank'] / len(df['FCODE'])) * 1\n",
    "        \n",
    "        count += (1 -(df['收益回撤比_rank'] / len(df['FCODE'])) * 1) * 1\n",
    "        count += 1 -(df['SHARP1_rank'] / len(df['FCODE'])) * 1    \n",
    "        count += 1 -(df['SHARP2_rank'] / len(df['FCODE'])) * 1    \n",
    "        # count += 1 -(df['Days_rank'] / len(df['FCODE'])) * 1  * 0.5\n",
    "        # count += 1 -(df['Payback_rank'] / len(df['FCODE'])) * 1  * 0.5\n",
    "        \n",
    "        # 注重回撤版本\n",
    "        if float(df['MAXRETRA1'][i]) != -1:\n",
    "            count += (df['MAXRETRA1_rank'] / len(df['FCODE'])) * 1 * 1\n",
    "        else:\n",
    "            count += 0\n",
    "        \n",
    "        # 原始版本\n",
    "        # if float(df['MAXRETRA1'][i]) != -1:\n",
    "        #     count += (df['MAXRETRA1_rank'] / len(df['FCODE'])) * 1\n",
    "        # else:\n",
    "        #     count += 0\n",
    "        \n",
    "        if float(df['STDDEV1'][i]) != -1:\n",
    "            count += (df['STDDEV1_rank'] / len(df['FCODE'])) * 1 \n",
    "        else:\n",
    "            count += 0\n",
    "\n",
    "        if float(df['STDDEV2'][i]) != -1:\n",
    "            count += (df['STDDEV2_rank'] / len(df['FCODE'])) * 1\n",
    "        else:\n",
    "            count += 0               "
   ]
  },
  {
   "cell_type": "code",
   "execution_count": 95,
   "metadata": {},
   "outputs": [],
   "source": [
    "# # 部分特征参与排序\n",
    "# for i in range(len(df['FCODE'])):\n",
    "#     count = 0\n",
    "    \n",
    "#     count += 1 -(df['jd_20_4_rank'] / len(df['FCODE'])) * 1 * 0.8\n",
    "#     count += 1 -(df['jd_20_3_rank'] / len(df['FCODE'])) * 1 * 0.8\n",
    "#     count += 1 -(df['jd_20_2_rank'] / len(df['FCODE'])) * 1 * 0.8\n",
    "#     count += 1 -(df['jd_20_1_rank'] / len(df['FCODE'])) * 1 * 0.8\n",
    "   \n",
    "#     count += 1 -(df['jd_19_4_rank'] / len(df['FCODE'])) * 1 * 0.8\n",
    "#     count += 1 -(df['jd_19_3_rank'] / len(df['FCODE'])) * 1 * 0.8\n",
    "#     count += 1 -(df['jd_19_2_rank'] / len(df['FCODE'])) * 1 * 0.8\n",
    "#     count += 1 -(df['jd_19_1_rank'] / len(df['FCODE'])) * 1 * 0.8\n",
    "    \n",
    "# #     count += 1 -(df['nd_20_rank'] / len(df['FCODE'])) * 1\n",
    "# #     count += 1 -(df['nd_19_rank'] / len(df['FCODE'])) * 1    \n",
    "#     count += 1 -(df['nd_18_rank'] / len(df['FCODE'])) * 1    \n",
    "#     count += 1 -(df['nd_17_rank'] / len(df['FCODE'])) * 1\n",
    "#     count += 1 -(df['nd_16_rank'] / len(df['FCODE'])) * 1    \n",
    "#     count += 1 -(df['nd_15_rank'] / len(df['FCODE'])) * 1    \n",
    "# #     count += 1 -(df['nd_14_rank'] / len(df['FCODE'])) * 1\n",
    "# #     count += 1 -(df['nd_13_rank'] / len(df['FCODE'])) * 1\n",
    "    \n",
    "#     count += (1 -(df['收益回撤比_rank'] / len(df['FCODE'])) * 1) * 1.1\n",
    "#     count += 1 -(df['SHARP1_rank'] / len(df['FCODE'])) * 1    \n",
    "#     count += 1 -(df['SHARP2_rank'] / len(df['FCODE'])) * 1    \n",
    "#     count += 1 -(df['Days_rank'] / len(df['FCODE'])) * 1  \n",
    "#     count += 1 -(df['Payback_rank'] / len(df['FCODE'])) * 1  \n",
    "    \n",
    "#     # 注重回撤版本\n",
    "#     if float(df['MAXRETRA1'][i]) != -1:\n",
    "#         count += (df['MAXRETRA1_rank'] / len(df['FCODE'])) * 1 * 1.1\n",
    "#     else:\n",
    "#         count += 0\n",
    "    \n",
    "#     # 原始版本\n",
    "#     # if float(df['MAXRETRA1'][i]) != -1:\n",
    "#     #     count += (df['MAXRETRA1_rank'] / len(df['FCODE'])) * 1\n",
    "#     # else:\n",
    "#     #     count += 0\n",
    "    \n",
    "#     if float(df['STDDEV1'][i]) != -1:\n",
    "#         count += (df['STDDEV1_rank'] / len(df['FCODE'])) * 1 \n",
    "#     else:\n",
    "#         count += 0\n",
    "\n",
    "#     if float(df['STDDEV2'][i]) != -1:\n",
    "#         count += (df['STDDEV2_rank'] / len(df['FCODE'])) * 1\n",
    "#     else:\n",
    "#         count += 0        \n",
    "    "
   ]
  },
  {
   "cell_type": "code",
   "execution_count": 96,
   "metadata": {},
   "outputs": [
    {
     "output_type": "execute_result",
     "data": {
      "text/plain": [
       "0        8.995759\n",
       "1        7.750398\n",
       "2        9.985953\n",
       "3       11.308110\n",
       "4        9.161012\n",
       "          ...    \n",
       "7541     8.087596\n",
       "7542    10.593427\n",
       "7543    10.571031\n",
       "7544    10.437980\n",
       "7545     7.286046\n",
       "Name: jd_20_4_rank, Length: 7546, dtype: float64"
      ]
     },
     "metadata": {},
     "execution_count": 96
    }
   ],
   "source": [
    "count"
   ]
  },
  {
   "cell_type": "code",
   "execution_count": 97,
   "metadata": {},
   "outputs": [
    {
     "output_type": "execute_result",
     "data": {
      "text/plain": [
       "array(['SHORTNAME', 'FCODE', 'date', 'cluster', 'MGRID', 'MGRNAME',\n",
       "       'Days', 'Days_rank', 'Payback', 'Payback_rank', 'SHARP1',\n",
       "       'SHARP1_rank', 'SHARP2', 'SHARP2_rank', 'STDDEV1', 'STDDEV1_rank',\n",
       "       'STDDEV2', 'STDDEV2_rank', 'MAXRETRA1', 'MAXRETRA1_rank',\n",
       "       'BaoTuan', '收益回撤比', '收益回撤比_rank', 'GP', 'ZQ', 'HB', 'JZC',\n",
       "       'Week_up', 'Week_avg_up', 'Week_hs300_up', 'Week_rank',\n",
       "       'Week_competitors', 'Month_up', 'Month_avg_up', 'Month_hs300_up',\n",
       "       'Month_rank', 'Month_competitors', 'Year_up', 'Year_avg_up',\n",
       "       'Year_hs300_up', 'Year_rank', 'Year_competitors', 'NowYear_up',\n",
       "       'NowYear_avg_up', 'NowYear_hs300_up', 'NowYear_rank',\n",
       "       'NowYear_competitors', 'TwoYear_up', 'TwoYear_avg_up',\n",
       "       'TwoYear_hs300_up', 'TwoYear_rank', 'TwoYear_competitors',\n",
       "       'ThreeYear_up', 'ThreeYear_avg_up', 'ThreeYear_hs300_up',\n",
       "       'ThreeYear_rank', 'ThreeYear_competitors', 'FiveYear_up',\n",
       "       'FiveYear_avg_up', 'FiveYear_hs300_up', 'FiveYear_rank',\n",
       "       'FiveYear_competitors', 'fundStocks_GPDM_0', 'fundStocks_GPJC_0',\n",
       "       'fundStocks_JZBL_0', 'fundStocks_PCTNVCHG_0', 'fundStocks_GPDM_1',\n",
       "       'fundStocks_GPJC_1', 'fundStocks_JZBL_1', 'fundStocks_PCTNVCHG_1',\n",
       "       'fundStocks_GPDM_2', 'fundStocks_GPJC_2', 'fundStocks_JZBL_2',\n",
       "       'fundStocks_PCTNVCHG_2', 'fundStocks_GPDM_3', 'fundStocks_GPJC_3',\n",
       "       'fundStocks_JZBL_3', 'fundStocks_PCTNVCHG_3', 'fundStocks_GPDM_4',\n",
       "       'fundStocks_GPJC_4', 'fundStocks_JZBL_4', 'fundStocks_PCTNVCHG_4',\n",
       "       'fundStocks_GPDM_5', 'fundStocks_GPJC_5', 'fundStocks_JZBL_5',\n",
       "       'fundStocks_PCTNVCHG_5', 'fundStocks_GPDM_6', 'fundStocks_GPJC_6',\n",
       "       'fundStocks_JZBL_6', 'fundStocks_PCTNVCHG_6', 'fundStocks_GPDM_7',\n",
       "       'fundStocks_GPJC_7', 'fundStocks_JZBL_7', 'fundStocks_PCTNVCHG_7',\n",
       "       'fundStocks_GPDM_8', 'fundStocks_GPJC_8', 'fundStocks_JZBL_8',\n",
       "       'fundStocks_PCTNVCHG_8', 'fundStocks_GPDM_9', 'fundStocks_GPJC_9',\n",
       "       'fundStocks_JZBL_9', 'fundStocks_PCTNVCHG_9', 'jd_20_4',\n",
       "       'jd_20_4_rank', 'jd_20_3', 'jd_20_3_rank', 'jd_20_2',\n",
       "       'jd_20_2_rank', 'jd_20_1', 'jd_20_1_rank', 'jd_19_4',\n",
       "       'jd_19_4_rank', 'jd_19_3', 'jd_19_3_rank', 'jd_19_2',\n",
       "       'jd_19_2_rank', 'jd_19_1', 'jd_19_1_rank', 'nd_20', 'nd_20_rank',\n",
       "       'nd_19', 'nd_19_rank', 'nd_18', 'nd_18_rank', 'nd_17',\n",
       "       'nd_17_rank', 'nd_16', 'nd_16_rank', 'nd_15', 'nd_15_rank',\n",
       "       'nd_14', 'nd_14_rank', 'nd_13', 'nd_13_rank'], dtype=object)"
      ]
     },
     "metadata": {},
     "execution_count": 97
    }
   ],
   "source": [
    "df.columns.values"
   ]
  },
  {
   "cell_type": "code",
   "execution_count": 98,
   "metadata": {},
   "outputs": [],
   "source": [
    "df.insert(2,'count',count)"
   ]
  },
  {
   "cell_type": "code",
   "execution_count": 99,
   "metadata": {},
   "outputs": [
    {
     "output_type": "execute_result",
     "data": {
      "text/plain": [
       "array(['SHORTNAME', 'FCODE', 'count', 'date', 'cluster', 'MGRID',\n",
       "       'MGRNAME', 'Days', 'Days_rank', 'Payback', 'Payback_rank',\n",
       "       'SHARP1', 'SHARP1_rank', 'SHARP2', 'SHARP2_rank', 'STDDEV1',\n",
       "       'STDDEV1_rank', 'STDDEV2', 'STDDEV2_rank', 'MAXRETRA1',\n",
       "       'MAXRETRA1_rank', 'BaoTuan', '收益回撤比', '收益回撤比_rank', 'GP', 'ZQ',\n",
       "       'HB', 'JZC', 'Week_up', 'Week_avg_up', 'Week_hs300_up',\n",
       "       'Week_rank', 'Week_competitors', 'Month_up', 'Month_avg_up',\n",
       "       'Month_hs300_up', 'Month_rank', 'Month_competitors', 'Year_up',\n",
       "       'Year_avg_up', 'Year_hs300_up', 'Year_rank', 'Year_competitors',\n",
       "       'NowYear_up', 'NowYear_avg_up', 'NowYear_hs300_up', 'NowYear_rank',\n",
       "       'NowYear_competitors', 'TwoYear_up', 'TwoYear_avg_up',\n",
       "       'TwoYear_hs300_up', 'TwoYear_rank', 'TwoYear_competitors',\n",
       "       'ThreeYear_up', 'ThreeYear_avg_up', 'ThreeYear_hs300_up',\n",
       "       'ThreeYear_rank', 'ThreeYear_competitors', 'FiveYear_up',\n",
       "       'FiveYear_avg_up', 'FiveYear_hs300_up', 'FiveYear_rank',\n",
       "       'FiveYear_competitors', 'fundStocks_GPDM_0', 'fundStocks_GPJC_0',\n",
       "       'fundStocks_JZBL_0', 'fundStocks_PCTNVCHG_0', 'fundStocks_GPDM_1',\n",
       "       'fundStocks_GPJC_1', 'fundStocks_JZBL_1', 'fundStocks_PCTNVCHG_1',\n",
       "       'fundStocks_GPDM_2', 'fundStocks_GPJC_2', 'fundStocks_JZBL_2',\n",
       "       'fundStocks_PCTNVCHG_2', 'fundStocks_GPDM_3', 'fundStocks_GPJC_3',\n",
       "       'fundStocks_JZBL_3', 'fundStocks_PCTNVCHG_3', 'fundStocks_GPDM_4',\n",
       "       'fundStocks_GPJC_4', 'fundStocks_JZBL_4', 'fundStocks_PCTNVCHG_4',\n",
       "       'fundStocks_GPDM_5', 'fundStocks_GPJC_5', 'fundStocks_JZBL_5',\n",
       "       'fundStocks_PCTNVCHG_5', 'fundStocks_GPDM_6', 'fundStocks_GPJC_6',\n",
       "       'fundStocks_JZBL_6', 'fundStocks_PCTNVCHG_6', 'fundStocks_GPDM_7',\n",
       "       'fundStocks_GPJC_7', 'fundStocks_JZBL_7', 'fundStocks_PCTNVCHG_7',\n",
       "       'fundStocks_GPDM_8', 'fundStocks_GPJC_8', 'fundStocks_JZBL_8',\n",
       "       'fundStocks_PCTNVCHG_8', 'fundStocks_GPDM_9', 'fundStocks_GPJC_9',\n",
       "       'fundStocks_JZBL_9', 'fundStocks_PCTNVCHG_9', 'jd_20_4',\n",
       "       'jd_20_4_rank', 'jd_20_3', 'jd_20_3_rank', 'jd_20_2',\n",
       "       'jd_20_2_rank', 'jd_20_1', 'jd_20_1_rank', 'jd_19_4',\n",
       "       'jd_19_4_rank', 'jd_19_3', 'jd_19_3_rank', 'jd_19_2',\n",
       "       'jd_19_2_rank', 'jd_19_1', 'jd_19_1_rank', 'nd_20', 'nd_20_rank',\n",
       "       'nd_19', 'nd_19_rank', 'nd_18', 'nd_18_rank', 'nd_17',\n",
       "       'nd_17_rank', 'nd_16', 'nd_16_rank', 'nd_15', 'nd_15_rank',\n",
       "       'nd_14', 'nd_14_rank', 'nd_13', 'nd_13_rank'], dtype=object)"
      ]
     },
     "metadata": {},
     "execution_count": 99
    }
   ],
   "source": [
    "df.columns.values"
   ]
  },
  {
   "cell_type": "code",
   "execution_count": 100,
   "metadata": {},
   "outputs": [
    {
     "output_type": "execute_result",
     "data": {
      "text/plain": [
       "        SHORTNAME   FCODE      count   date  cluster              MGRID  \\\n",
       "0  华宝标普油气上游股票人民币A  162411   8.995759  05-19        6  30200459,30732062   \n",
       "1       九泰行业优选混合C  008438   7.750398  05-20        4  30349054,30589084   \n",
       "2       恒越核心精选混合C  007193   9.985953  05-20        6  30561920,30711642   \n",
       "3       华夏新兴消费混合A  005888  11.308110  05-20        9           30063386   \n",
       "4      浙商沪港深精选混合C  007369   9.161012  05-20        5           30655735   \n",
       "\n",
       "  MGRNAME    Days  Days_rank  Payback  ...    nd_17  nd_17_rank   nd_16  \\\n",
       "0   周晶,杨洋    -1.0       7546   -1.000  ...  -15.41%        3093  44.24%   \n",
       "1  吴祖尧,何昕  1280.0       4953   -2.912  ...       --        7546      --   \n",
       "2   高楠,叶佳  1090.0       5443   30.533  ...       --        7546      --   \n",
       "3     孙轶佳  1946.0       3263   13.833  ...       --        7546      --   \n",
       "4      贾腾   755.0       6132   40.812  ...       --        7546      --   \n",
       "\n",
       "   nd_16_rank    nd_15  nd_15_rank    nd_14  nd_14_rank   nd_13  nd_13_rank  \n",
       "0           4  -34.78%        1541  -32.23%        1288  18.39%         209  \n",
       "1        7546       --        7546       --        7546      --        7546  \n",
       "2        7546       --        7546       --        7546      --        7546  \n",
       "3        7546       --        7546       --        7546      --        7546  \n",
       "4        7546       --        7546       --        7546      --        7546  \n",
       "\n",
       "[5 rows x 135 columns]"
      ],
      "text/html": "<div>\n<style scoped>\n    .dataframe tbody tr th:only-of-type {\n        vertical-align: middle;\n    }\n\n    .dataframe tbody tr th {\n        vertical-align: top;\n    }\n\n    .dataframe thead th {\n        text-align: right;\n    }\n</style>\n<table border=\"1\" class=\"dataframe\">\n  <thead>\n    <tr style=\"text-align: right;\">\n      <th></th>\n      <th>SHORTNAME</th>\n      <th>FCODE</th>\n      <th>count</th>\n      <th>date</th>\n      <th>cluster</th>\n      <th>MGRID</th>\n      <th>MGRNAME</th>\n      <th>Days</th>\n      <th>Days_rank</th>\n      <th>Payback</th>\n      <th>...</th>\n      <th>nd_17</th>\n      <th>nd_17_rank</th>\n      <th>nd_16</th>\n      <th>nd_16_rank</th>\n      <th>nd_15</th>\n      <th>nd_15_rank</th>\n      <th>nd_14</th>\n      <th>nd_14_rank</th>\n      <th>nd_13</th>\n      <th>nd_13_rank</th>\n    </tr>\n  </thead>\n  <tbody>\n    <tr>\n      <th>0</th>\n      <td>华宝标普油气上游股票人民币A</td>\n      <td>162411</td>\n      <td>8.995759</td>\n      <td>05-19</td>\n      <td>6</td>\n      <td>30200459,30732062</td>\n      <td>周晶,杨洋</td>\n      <td>-1.0</td>\n      <td>7546</td>\n      <td>-1.000</td>\n      <td>...</td>\n      <td>-15.41%</td>\n      <td>3093</td>\n      <td>44.24%</td>\n      <td>4</td>\n      <td>-34.78%</td>\n      <td>1541</td>\n      <td>-32.23%</td>\n      <td>1288</td>\n      <td>18.39%</td>\n      <td>209</td>\n    </tr>\n    <tr>\n      <th>1</th>\n      <td>九泰行业优选混合C</td>\n      <td>008438</td>\n      <td>7.750398</td>\n      <td>05-20</td>\n      <td>4</td>\n      <td>30349054,30589084</td>\n      <td>吴祖尧,何昕</td>\n      <td>1280.0</td>\n      <td>4953</td>\n      <td>-2.912</td>\n      <td>...</td>\n      <td>--</td>\n      <td>7546</td>\n      <td>--</td>\n      <td>7546</td>\n      <td>--</td>\n      <td>7546</td>\n      <td>--</td>\n      <td>7546</td>\n      <td>--</td>\n      <td>7546</td>\n    </tr>\n    <tr>\n      <th>2</th>\n      <td>恒越核心精选混合C</td>\n      <td>007193</td>\n      <td>9.985953</td>\n      <td>05-20</td>\n      <td>6</td>\n      <td>30561920,30711642</td>\n      <td>高楠,叶佳</td>\n      <td>1090.0</td>\n      <td>5443</td>\n      <td>30.533</td>\n      <td>...</td>\n      <td>--</td>\n      <td>7546</td>\n      <td>--</td>\n      <td>7546</td>\n      <td>--</td>\n      <td>7546</td>\n      <td>--</td>\n      <td>7546</td>\n      <td>--</td>\n      <td>7546</td>\n    </tr>\n    <tr>\n      <th>3</th>\n      <td>华夏新兴消费混合A</td>\n      <td>005888</td>\n      <td>11.308110</td>\n      <td>05-20</td>\n      <td>9</td>\n      <td>30063386</td>\n      <td>孙轶佳</td>\n      <td>1946.0</td>\n      <td>3263</td>\n      <td>13.833</td>\n      <td>...</td>\n      <td>--</td>\n      <td>7546</td>\n      <td>--</td>\n      <td>7546</td>\n      <td>--</td>\n      <td>7546</td>\n      <td>--</td>\n      <td>7546</td>\n      <td>--</td>\n      <td>7546</td>\n    </tr>\n    <tr>\n      <th>4</th>\n      <td>浙商沪港深精选混合C</td>\n      <td>007369</td>\n      <td>9.161012</td>\n      <td>05-20</td>\n      <td>5</td>\n      <td>30655735</td>\n      <td>贾腾</td>\n      <td>755.0</td>\n      <td>6132</td>\n      <td>40.812</td>\n      <td>...</td>\n      <td>--</td>\n      <td>7546</td>\n      <td>--</td>\n      <td>7546</td>\n      <td>--</td>\n      <td>7546</td>\n      <td>--</td>\n      <td>7546</td>\n      <td>--</td>\n      <td>7546</td>\n    </tr>\n  </tbody>\n</table>\n<p>5 rows × 135 columns</p>\n</div>"
     },
     "metadata": {},
     "execution_count": 100
    }
   ],
   "source": [
    "df.head(5)"
   ]
  },
  {
   "cell_type": "code",
   "execution_count": 101,
   "metadata": {},
   "outputs": [
    {
     "output_type": "stream",
     "name": "stdout",
     "text": [
      "D:\\基金数据\\最新数据\\Data_after5.1_2021_5_21_少壮派版.csv\nD:\\基金数据\\最新数据\\Data_after5.1_2021_5_21_少壮派版.txt\n"
     ]
    }
   ],
   "source": [
    "# 保存路径名:\n",
    "# savepath_csv = r\"D:\\基金数据\\最新数据\\Data_after3_3_18.csv\" # 写死\n",
    "# savepath_txt = r\"D:\\基金数据\\最新数据\\Data_after3_3_18.txt\" # 写死\n",
    "from datetime import datetime\n",
    "\n",
    "today = datetime.now()\n",
    "\n",
    "if count_flag == 0:\n",
    "    savepath_csv = r\"D:\\基金数据\\最新数据\\Data_after5.1_{}_{}_{}_等权重版2.0.csv\".format(today.year,today.month,today.day) # 自动获取\n",
    "    savepath_txt = r\"D:\\基金数据\\最新数据\\Data_after5.1_{}_{}_{}_等权重版2.0.txt\".format(today.year,today.month,today.day) # 自动获取\n",
    "elif count_flag == 1:\n",
    "    savepath_csv = r\"D:\\基金数据\\最新数据\\Data_after5.1_{}_{}_{}_收益强化+平衡两年版2.0.csv\".format(today.year,today.month,today.day) # 自动获取\n",
    "    savepath_txt = r\"D:\\基金数据\\最新数据\\Data_after5.1_{}_{}_{}_收益强化+平衡两年版2.0.txt\".format(today.year,today.month,today.day) # 自动获取    \n",
    "elif count_flag == 2:\n",
    "    savepath_csv = r\"D:\\基金数据\\最新数据\\Data_after5.1_{}_{}_{}_债券版.csv\".format(today.year,today.month,today.day) # 自动获取\n",
    "    savepath_txt = r\"D:\\基金数据\\最新数据\\Data_after5.1_{}_{}_{}_债券版.txt\".format(today.year,today.month,today.day) # 自动获取\n",
    "elif count_flag == 3:\n",
    "    savepath_csv = r\"D:\\基金数据\\最新数据\\Data_after5.1_{}_{}_{}_少壮派版.csv\".format(today.year,today.month,today.day) # 自动获取\n",
    "    savepath_txt = r\"D:\\基金数据\\最新数据\\Data_after5.1_{}_{}_{}_少壮派版.txt\".format(today.year,today.month,today.day) # 自动获取\n",
    "print(savepath_csv)\n",
    "print(savepath_txt)"
   ]
  },
  {
   "cell_type": "code",
   "execution_count": 102,
   "metadata": {},
   "outputs": [],
   "source": [
    "df.to_csv(savepath_csv,encoding='GB18030')\n",
    "df.to_csv(savepath_txt,sep='\\t',index=False,encoding='GB18030')"
   ]
  },
  {
   "cell_type": "code",
   "execution_count": 103,
   "metadata": {},
   "outputs": [],
   "source": [
    "import json\n",
    "def to_json2(df,orient='split'):\n",
    "    df_json = df.to_json(orient = orient, force_ascii = False)\n",
    "    return json.loads(df_json)"
   ]
  },
  {
   "cell_type": "code",
   "execution_count": 104,
   "metadata": {},
   "outputs": [],
   "source": [
    "df_json = to_json2(df)"
   ]
  },
  {
   "cell_type": "code",
   "execution_count": 105,
   "metadata": {},
   "outputs": [],
   "source": [
    "df.to_json('test.json')"
   ]
  },
  {
   "cell_type": "code",
   "execution_count": null,
   "metadata": {},
   "outputs": [],
   "source": []
  }
 ],
 "metadata": {
  "kernelspec": {
   "name": "python385jvsc74a57bd0a8f61be024eba58adef938c9aa1e29e02cb3dece83a5348b1a2dafd16a070453",
   "display_name": "Python 3.8.5 64-bit ('base': conda)"
  },
  "language_info": {
   "codemirror_mode": {
    "name": "ipython",
    "version": 3
   },
   "file_extension": ".py",
   "mimetype": "text/x-python",
   "name": "python",
   "nbconvert_exporter": "python",
   "pygments_lexer": "ipython3",
   "version": "3.8.5"
  }
 },
 "nbformat": 4,
 "nbformat_minor": 4
}
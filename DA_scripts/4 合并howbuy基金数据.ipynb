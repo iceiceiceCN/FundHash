{
 "cells": [
  {
   "cell_type": "code",
   "execution_count": 1,
   "metadata": {},
   "outputs": [],
   "source": [
    "import pandas as pd\n",
    "import numpy as np\n",
    "import matplotlib.pylab as plt\n"
   ]
  },
  {
   "cell_type": "code",
   "execution_count": 2,
   "metadata": {},
   "outputs": [],
   "source": [
    "path_flag = 0"
   ]
  },
  {
   "cell_type": "code",
   "execution_count": 3,
   "metadata": {},
   "outputs": [
    {
     "output_type": "stream",
     "name": "stdout",
     "text": [
      "D:\\基金数据\\最新数据\\Data_after3_2021_5_21.txt\nD:\\基金数据\\最新数据\\howbuyfund_2021_5_21.txt\n"
     ]
    }
   ],
   "source": [
    "if path_flag == 0:\n",
    "    # A: 使用时间参数自动获取路径名\n",
    "    from datetime import datetime\n",
    "\n",
    "    today = datetime.now()\n",
    "\n",
    "    path_ttfund = r\"D:\\基金数据\\最新数据\\Data_after3_{}_{}_{}.txt\".format(today.year,today.month,today.day)\n",
    "    path_hbfund = r\"D:\\基金数据\\最新数据\\howbuyfund_{}_{}_{}.txt\".format(today.year,today.month,today.day)\n",
    "    # 要求输入列为：\n",
    "    # SHORTNAME\tFCODE\tMGRID\tMGRNAME\tSHARP1\tSHARP2\tSTDDEV1\tSTDDEV2\tMAXRETRA1\tGP\tZQ\tHB\tJZC\tWeek_up\tWeek_avg_up\tWeek_hs300_up\tWeek_rank\tWeek_competitors\tMonth_up\tMonth_avg_up\tMonth_hs300_up\tMonth_rank\tMonth_competitors\tYear_up\tYear_avg_up\tYear_hs300_up\tYear_rank\tYear_competitors\tNowYear_up\tNowYear_avg_up\tNowYear_hs300_up\tNowYear_rank\tNowYear_competitors\tTwoYear_up\tTwoYear_avg_up\tTwoYear_hs300_up\tTwoYear_rank\tTwoYear_competitors\tThreeYear_up\tThreeYear_avg_up\tThreeYear_hs300_up\tThreeYear_rank\tThreeYear_competitors\tFiveYear_up\tFiveYear_avg_up\tFiveYear_hs300_up\tFiveYear_rank\tFiveYear_competitors\tfundStocks_GPDM_0\tfundStocks_GPJC_0\tfundStocks_JZBL_0\tfundStocks_PCTNVCHG_0\tfundStocks_GPDM_1\tfundStocks_GPJC_1\tfundStocks_JZBL_1\tfundStocks_PCTNVCHG_1\tfundStocks_GPDM_2\tfundStocks_GPJC_2\tfundStocks_JZBL_2\tfundStocks_PCTNVCHG_2\tfundStocks_GPDM_3\tfundStocks_GPJC_3\tfundStocks_JZBL_3\tfundStocks_PCTNVCHG_3\tfundStocks_GPDM_4\tfundStocks_GPJC_4\tfundStocks_JZBL_4\tfundStocks_PCTNVCHG_4\tfundStocks_GPDM_5\tfundStocks_GPJC_5\tfundStocks_JZBL_5\tfundStocks_PCTNVCHG_5\tfundStocks_GPDM_6\tfundStocks_GPJC_6\tfundStocks_JZBL_6\tfundStocks_PCTNVCHG_6\tfundStocks_GPDM_7\tfundStocks_GPJC_7\tfundStocks_JZBL_7\tfundStocks_PCTNVCHG_7\tfundStocks_GPDM_8\tfundStocks_GPJC_8\tfundStocks_JZBL_8\tfundStocks_PCTNVCHG_8\tfundStocks_GPDM_9\tfundStocks_GPJC_9\tfundStocks_JZBL_9\tfundStocks_PCTNVCHG_9\tBaoTuan\tPayback\tDays\n",
    "    df_tt = pd.read_table(path_ttfund,converters={'FCODE':str,'MGRID':str},encoding='GB18030')\n",
    "    df_hb = pd.read_table(path_hbfund,converters={'code':str,'date':str},encoding='GB18030')\n",
    "    print(path_ttfund)\n",
    "    print(path_hbfund)\n",
    "\n",
    "elif path_flag == 1:\n",
    "    # B: 指定路径名\n",
    "\n",
    "    path_ttfund = r'D:\\基金数据\\最新数据\\Data_after3_2021_3_29.txt'\n",
    "    path_hbfund = r'D:\\基金数据\\最新数据\\howbuyfund_2021_4_1.txt'\n",
    "    # 要求输入列为：\n",
    "    # SHORTNAME\tFCODE\tMGRID\tMGRNAME\tSHARP1\tSHARP2\tSTDDEV1\tSTDDEV2\tMAXRETRA1\tGP\tZQ\tHB\tJZC\tWeek_up\tWeek_avg_up\tWeek_hs300_up\tWeek_rank\tWeek_competitors\tMonth_up\tMonth_avg_up\tMonth_hs300_up\tMonth_rank\tMonth_competitors\tYear_up\tYear_avg_up\tYear_hs300_up\tYear_rank\tYear_competitors\tNowYear_up\tNowYear_avg_up\tNowYear_hs300_up\tNowYear_rank\tNowYear_competitors\tTwoYear_up\tTwoYear_avg_up\tTwoYear_hs300_up\tTwoYear_rank\tTwoYear_competitors\tThreeYear_up\tThreeYear_avg_up\tThreeYear_hs300_up\tThreeYear_rank\tThreeYear_competitors\tFiveYear_up\tFiveYear_avg_up\tFiveYear_hs300_up\tFiveYear_rank\tFiveYear_competitors\tfundStocks_GPDM_0\tfundStocks_GPJC_0\tfundStocks_JZBL_0\tfundStocks_PCTNVCHG_0\tfundStocks_GPDM_1\tfundStocks_GPJC_1\tfundStocks_JZBL_1\tfundStocks_PCTNVCHG_1\tfundStocks_GPDM_2\tfundStocks_GPJC_2\tfundStocks_JZBL_2\tfundStocks_PCTNVCHG_2\tfundStocks_GPDM_3\tfundStocks_GPJC_3\tfundStocks_JZBL_3\tfundStocks_PCTNVCHG_3\tfundStocks_GPDM_4\tfundStocks_GPJC_4\tfundStocks_JZBL_4\tfundStocks_PCTNVCHG_4\tfundStocks_GPDM_5\tfundStocks_GPJC_5\tfundStocks_JZBL_5\tfundStocks_PCTNVCHG_5\tfundStocks_GPDM_6\tfundStocks_GPJC_6\tfundStocks_JZBL_6\tfundStocks_PCTNVCHG_6\tfundStocks_GPDM_7\tfundStocks_GPJC_7\tfundStocks_JZBL_7\tfundStocks_PCTNVCHG_7\tfundStocks_GPDM_8\tfundStocks_GPJC_8\tfundStocks_JZBL_8\tfundStocks_PCTNVCHG_8\tfundStocks_GPDM_9\tfundStocks_GPJC_9\tfundStocks_JZBL_9\tfundStocks_PCTNVCHG_9\tBaoTuan\tPayback\tDays\n",
    "    df_tt = pd.read_table(path_ttfund,converters={'FCODE':str,'MGRID':str},encoding='GB18030')\n",
    "    df_hb = pd.read_table(path_hbfund,converters={'code':str,'date':str},encoding='GB18030')"
   ]
  },
  {
   "cell_type": "code",
   "execution_count": 4,
   "metadata": {},
   "outputs": [
    {
     "output_type": "execute_result",
     "data": {
      "text/plain": [
       "           SHORTNAME   FCODE              MGRID  MGRNAME  SHARP1  SHARP2  \\\n",
       "0     华宝标普油气上游股票人民币A  162411  30200459,30732062    周晶,杨洋   1.007   0.011   \n",
       "1          九泰行业优选混合C  008438  30349054,30589084   吴祖尧,何昕  -1.000  -1.000   \n",
       "2          恒越核心精选混合C  007193  30561920,30711642    高楠,叶佳   2.609   1.770   \n",
       "3          华夏新兴消费混合A  005888           30063386      孙轶佳   2.411   1.982   \n",
       "4         浙商沪港深精选混合C  007369           30655735       贾腾   1.704  -1.000   \n",
       "...              ...     ...                ...      ...     ...     ...   \n",
       "7541        蜂巢添幂中短债C  007219  30644579,30645926  廖新昌,李海涛  -0.861  -1.000   \n",
       "7542         先锋汇盈纯债C  005893           30692022       杜旭   0.195   2.437   \n",
       "7543       嘉实资源精选股票A  005660  30073608,30494277   苏文杰,肖觅   2.148   1.558   \n",
       "7544     恒越研究精选混合A/B  006049           30561920       高楠   2.402   1.689   \n",
       "7545       上投摩根慧选成长A  008314           30506861      李德辉   1.766  -1.000   \n",
       "\n",
       "      STDDEV1  STDDEV2  MAXRETRA1  Payback  ...  fundStocks_JZBL_8  \\\n",
       "0      49.450   49.450      44.45   -1.000  ...               2.75   \n",
       "1      -1.000   -1.000      -1.00   -2.912  ...               2.29   \n",
       "2      31.703   31.703      22.52   30.533  ...               3.77   \n",
       "3      26.002   26.002      19.61   13.833  ...               3.72   \n",
       "4      25.717   25.717      17.08   40.812  ...               3.76   \n",
       "...       ...      ...        ...      ...  ...                ...   \n",
       "7541    1.939    1.939       2.51    3.185  ...               0.00   \n",
       "7542    1.573    1.573       1.55    1.324  ...               0.00   \n",
       "7543   29.724   29.724      21.19   21.839  ...               3.45   \n",
       "7544   31.761   31.761      22.77   30.533  ...               3.33   \n",
       "7545   28.086   28.086      23.94   26.916  ...               2.96   \n",
       "\n",
       "      fundStocks_PCTNVCHG_8  fundStocks_GPDM_9  fundStocks_GPJC_9  \\\n",
       "0                     -1.00                CVX                雪佛龙   \n",
       "1                      2.29             600919               江苏银行   \n",
       "2                      3.77             002991               甘源食品   \n",
       "3                     -0.21             600660               福耀玻璃   \n",
       "4                      3.76              02899               紫金矿业   \n",
       "...                     ...                ...                ...   \n",
       "7541                   0.00             000000                无数据   \n",
       "7542                   0.00             000000                无数据   \n",
       "7543                   3.45             600801               华新水泥   \n",
       "7544                   0.36              02869               绿城服务   \n",
       "7545                  -0.22             600036               招商银行   \n",
       "\n",
       "      fundStocks_JZBL_9  fundStocks_PCTNVCHG_9  pca_1  pca_2  pca_3  cluster  \n",
       "0                  2.73                  -1.00  5.058 -0.204  3.433        6  \n",
       "1                  2.26                   2.26 -3.418 -2.228  2.375        4  \n",
       "2                  3.06                   3.06  5.710 -2.569  3.562        6  \n",
       "3                  2.94                   2.94  2.454 -0.300 -0.631        9  \n",
       "4                  3.61                  -1.23  0.502 -1.218 -1.726        5  \n",
       "...                 ...                    ...    ...    ...    ...      ...  \n",
       "7541               0.00                   0.00 -3.991 -0.093 -0.355        4  \n",
       "7542               0.00                   0.00 -2.999  0.844  0.452        0  \n",
       "7543               3.44                   3.44  2.732 -0.522 -0.374        9  \n",
       "7544               3.18                   3.18  5.815 -2.793  3.555        6  \n",
       "7545               2.94                   2.94  2.008 -2.191 -2.432        1  \n",
       "\n",
       "[7546 rows x 96 columns]"
      ],
      "text/html": "<div>\n<style scoped>\n    .dataframe tbody tr th:only-of-type {\n        vertical-align: middle;\n    }\n\n    .dataframe tbody tr th {\n        vertical-align: top;\n    }\n\n    .dataframe thead th {\n        text-align: right;\n    }\n</style>\n<table border=\"1\" class=\"dataframe\">\n  <thead>\n    <tr style=\"text-align: right;\">\n      <th></th>\n      <th>SHORTNAME</th>\n      <th>FCODE</th>\n      <th>MGRID</th>\n      <th>MGRNAME</th>\n      <th>SHARP1</th>\n      <th>SHARP2</th>\n      <th>STDDEV1</th>\n      <th>STDDEV2</th>\n      <th>MAXRETRA1</th>\n      <th>Payback</th>\n      <th>...</th>\n      <th>fundStocks_JZBL_8</th>\n      <th>fundStocks_PCTNVCHG_8</th>\n      <th>fundStocks_GPDM_9</th>\n      <th>fundStocks_GPJC_9</th>\n      <th>fundStocks_JZBL_9</th>\n      <th>fundStocks_PCTNVCHG_9</th>\n      <th>pca_1</th>\n      <th>pca_2</th>\n      <th>pca_3</th>\n      <th>cluster</th>\n    </tr>\n  </thead>\n  <tbody>\n    <tr>\n      <th>0</th>\n      <td>华宝标普油气上游股票人民币A</td>\n      <td>162411</td>\n      <td>30200459,30732062</td>\n      <td>周晶,杨洋</td>\n      <td>1.007</td>\n      <td>0.011</td>\n      <td>49.450</td>\n      <td>49.450</td>\n      <td>44.45</td>\n      <td>-1.000</td>\n      <td>...</td>\n      <td>2.75</td>\n      <td>-1.00</td>\n      <td>CVX</td>\n      <td>雪佛龙</td>\n      <td>2.73</td>\n      <td>-1.00</td>\n      <td>5.058</td>\n      <td>-0.204</td>\n      <td>3.433</td>\n      <td>6</td>\n    </tr>\n    <tr>\n      <th>1</th>\n      <td>九泰行业优选混合C</td>\n      <td>008438</td>\n      <td>30349054,30589084</td>\n      <td>吴祖尧,何昕</td>\n      <td>-1.000</td>\n      <td>-1.000</td>\n      <td>-1.000</td>\n      <td>-1.000</td>\n      <td>-1.00</td>\n      <td>-2.912</td>\n      <td>...</td>\n      <td>2.29</td>\n      <td>2.29</td>\n      <td>600919</td>\n      <td>江苏银行</td>\n      <td>2.26</td>\n      <td>2.26</td>\n      <td>-3.418</td>\n      <td>-2.228</td>\n      <td>2.375</td>\n      <td>4</td>\n    </tr>\n    <tr>\n      <th>2</th>\n      <td>恒越核心精选混合C</td>\n      <td>007193</td>\n      <td>30561920,30711642</td>\n      <td>高楠,叶佳</td>\n      <td>2.609</td>\n      <td>1.770</td>\n      <td>31.703</td>\n      <td>31.703</td>\n      <td>22.52</td>\n      <td>30.533</td>\n      <td>...</td>\n      <td>3.77</td>\n      <td>3.77</td>\n      <td>002991</td>\n      <td>甘源食品</td>\n      <td>3.06</td>\n      <td>3.06</td>\n      <td>5.710</td>\n      <td>-2.569</td>\n      <td>3.562</td>\n      <td>6</td>\n    </tr>\n    <tr>\n      <th>3</th>\n      <td>华夏新兴消费混合A</td>\n      <td>005888</td>\n      <td>30063386</td>\n      <td>孙轶佳</td>\n      <td>2.411</td>\n      <td>1.982</td>\n      <td>26.002</td>\n      <td>26.002</td>\n      <td>19.61</td>\n      <td>13.833</td>\n      <td>...</td>\n      <td>3.72</td>\n      <td>-0.21</td>\n      <td>600660</td>\n      <td>福耀玻璃</td>\n      <td>2.94</td>\n      <td>2.94</td>\n      <td>2.454</td>\n      <td>-0.300</td>\n      <td>-0.631</td>\n      <td>9</td>\n    </tr>\n    <tr>\n      <th>4</th>\n      <td>浙商沪港深精选混合C</td>\n      <td>007369</td>\n      <td>30655735</td>\n      <td>贾腾</td>\n      <td>1.704</td>\n      <td>-1.000</td>\n      <td>25.717</td>\n      <td>25.717</td>\n      <td>17.08</td>\n      <td>40.812</td>\n      <td>...</td>\n      <td>3.76</td>\n      <td>3.76</td>\n      <td>02899</td>\n      <td>紫金矿业</td>\n      <td>3.61</td>\n      <td>-1.23</td>\n      <td>0.502</td>\n      <td>-1.218</td>\n      <td>-1.726</td>\n      <td>5</td>\n    </tr>\n    <tr>\n      <th>...</th>\n      <td>...</td>\n      <td>...</td>\n      <td>...</td>\n      <td>...</td>\n      <td>...</td>\n      <td>...</td>\n      <td>...</td>\n      <td>...</td>\n      <td>...</td>\n      <td>...</td>\n      <td>...</td>\n      <td>...</td>\n      <td>...</td>\n      <td>...</td>\n      <td>...</td>\n      <td>...</td>\n      <td>...</td>\n      <td>...</td>\n      <td>...</td>\n      <td>...</td>\n      <td>...</td>\n    </tr>\n    <tr>\n      <th>7541</th>\n      <td>蜂巢添幂中短债C</td>\n      <td>007219</td>\n      <td>30644579,30645926</td>\n      <td>廖新昌,李海涛</td>\n      <td>-0.861</td>\n      <td>-1.000</td>\n      <td>1.939</td>\n      <td>1.939</td>\n      <td>2.51</td>\n      <td>3.185</td>\n      <td>...</td>\n      <td>0.00</td>\n      <td>0.00</td>\n      <td>000000</td>\n      <td>无数据</td>\n      <td>0.00</td>\n      <td>0.00</td>\n      <td>-3.991</td>\n      <td>-0.093</td>\n      <td>-0.355</td>\n      <td>4</td>\n    </tr>\n    <tr>\n      <th>7542</th>\n      <td>先锋汇盈纯债C</td>\n      <td>005893</td>\n      <td>30692022</td>\n      <td>杜旭</td>\n      <td>0.195</td>\n      <td>2.437</td>\n      <td>1.573</td>\n      <td>1.573</td>\n      <td>1.55</td>\n      <td>1.324</td>\n      <td>...</td>\n      <td>0.00</td>\n      <td>0.00</td>\n      <td>000000</td>\n      <td>无数据</td>\n      <td>0.00</td>\n      <td>0.00</td>\n      <td>-2.999</td>\n      <td>0.844</td>\n      <td>0.452</td>\n      <td>0</td>\n    </tr>\n    <tr>\n      <th>7543</th>\n      <td>嘉实资源精选股票A</td>\n      <td>005660</td>\n      <td>30073608,30494277</td>\n      <td>苏文杰,肖觅</td>\n      <td>2.148</td>\n      <td>1.558</td>\n      <td>29.724</td>\n      <td>29.724</td>\n      <td>21.19</td>\n      <td>21.839</td>\n      <td>...</td>\n      <td>3.45</td>\n      <td>3.45</td>\n      <td>600801</td>\n      <td>华新水泥</td>\n      <td>3.44</td>\n      <td>3.44</td>\n      <td>2.732</td>\n      <td>-0.522</td>\n      <td>-0.374</td>\n      <td>9</td>\n    </tr>\n    <tr>\n      <th>7544</th>\n      <td>恒越研究精选混合A/B</td>\n      <td>006049</td>\n      <td>30561920</td>\n      <td>高楠</td>\n      <td>2.402</td>\n      <td>1.689</td>\n      <td>31.761</td>\n      <td>31.761</td>\n      <td>22.77</td>\n      <td>30.533</td>\n      <td>...</td>\n      <td>3.33</td>\n      <td>0.36</td>\n      <td>02869</td>\n      <td>绿城服务</td>\n      <td>3.18</td>\n      <td>3.18</td>\n      <td>5.815</td>\n      <td>-2.793</td>\n      <td>3.555</td>\n      <td>6</td>\n    </tr>\n    <tr>\n      <th>7545</th>\n      <td>上投摩根慧选成长A</td>\n      <td>008314</td>\n      <td>30506861</td>\n      <td>李德辉</td>\n      <td>1.766</td>\n      <td>-1.000</td>\n      <td>28.086</td>\n      <td>28.086</td>\n      <td>23.94</td>\n      <td>26.916</td>\n      <td>...</td>\n      <td>2.96</td>\n      <td>-0.22</td>\n      <td>600036</td>\n      <td>招商银行</td>\n      <td>2.94</td>\n      <td>2.94</td>\n      <td>2.008</td>\n      <td>-2.191</td>\n      <td>-2.432</td>\n      <td>1</td>\n    </tr>\n  </tbody>\n</table>\n<p>7546 rows × 96 columns</p>\n</div>"
     },
     "metadata": {},
     "execution_count": 4
    }
   ],
   "source": [
    "df_tt"
   ]
  },
  {
   "cell_type": "code",
   "execution_count": 5,
   "metadata": {},
   "outputs": [
    {
     "output_type": "execute_result",
     "data": {
      "text/plain": [
       "        code   date jd_20_4 jd_20_3  jd_20_2 jd_20_1  jd_19_4 jd_19_3  \\\n",
       "0     004243  05-19  35.75%  29.30%  -20.89%  38.88%  -45.65%   5.36%   \n",
       "1     004433  05-20   0.11%  30.24%    7.36%  11.43%  -12.64%  12.30%   \n",
       "2     004868  05-20   1.87%  29.57%   19.33%  37.24%   -4.46%   5.66%   \n",
       "3     009234  05-20  -2.57%  32.28%    9.18%      --       --      --   \n",
       "4     005004  05-20   2.64%  28.81%   20.26%  38.45%   -4.54%   4.00%   \n",
       "...      ...    ...     ...     ...      ...     ...      ...     ...   \n",
       "7541  002844   5-21      --      --       --      --       --      --   \n",
       "7542  162719   5-21      --      --       --      --       --      --   \n",
       "7543  004235  05-20  20.83%  11.72%   22.31%  11.31%    4.96%  12.31%   \n",
       "7544  162411  05-19  38.05%  33.36%  -20.34%  53.24%  -58.41%   2.50%   \n",
       "7545  007844   5-21      --      --       --      --       --      --   \n",
       "\n",
       "      jd_19_2  jd_19_1    nd_20   nd_19    nd_18    nd_17   nd_16    nd_15  \\\n",
       "0      -4.54%   -2.96%  -19.98%   8.79%  -14.31%       --      --       --   \n",
       "1      -3.28%   -2.64%   36.11%  26.83%  -37.99%       --      --       --   \n",
       "2       5.20%    4.61%  102.73%  51.74%  -18.82%       --      --       --   \n",
       "3          --       --       --      --       --       --      --       --   \n",
       "4       0.24%    0.73%  104.75%  35.05%       --       --      --       --   \n",
       "...       ...      ...      ...     ...      ...      ...     ...      ...   \n",
       "7541       --       --       --      --       --       --      --       --   \n",
       "7542       --       --       --      --       --       --      --       --   \n",
       "7543    6.50%  -11.35%   59.65%  45.17%   -8.66%       --      --       --   \n",
       "7544  -14.44%  -10.42%  -30.31%  -9.57%  -23.84%  -15.41%  44.24%  -34.78%   \n",
       "7545       --       --       --      --       --       --      --       --   \n",
       "\n",
       "        nd_14   nd_13  Unnamed: 18  \n",
       "0          --      --          NaN  \n",
       "1          --      --          NaN  \n",
       "2          --      --          NaN  \n",
       "3          --      --          NaN  \n",
       "4          --      --          NaN  \n",
       "...       ...     ...          ...  \n",
       "7541       --      --          NaN  \n",
       "7542       --      --          NaN  \n",
       "7543       --      --          NaN  \n",
       "7544  -32.23%  18.39%          NaN  \n",
       "7545       --      --          NaN  \n",
       "\n",
       "[7546 rows x 19 columns]"
      ],
      "text/html": "<div>\n<style scoped>\n    .dataframe tbody tr th:only-of-type {\n        vertical-align: middle;\n    }\n\n    .dataframe tbody tr th {\n        vertical-align: top;\n    }\n\n    .dataframe thead th {\n        text-align: right;\n    }\n</style>\n<table border=\"1\" class=\"dataframe\">\n  <thead>\n    <tr style=\"text-align: right;\">\n      <th></th>\n      <th>code</th>\n      <th>date</th>\n      <th>jd_20_4</th>\n      <th>jd_20_3</th>\n      <th>jd_20_2</th>\n      <th>jd_20_1</th>\n      <th>jd_19_4</th>\n      <th>jd_19_3</th>\n      <th>jd_19_2</th>\n      <th>jd_19_1</th>\n      <th>nd_20</th>\n      <th>nd_19</th>\n      <th>nd_18</th>\n      <th>nd_17</th>\n      <th>nd_16</th>\n      <th>nd_15</th>\n      <th>nd_14</th>\n      <th>nd_13</th>\n      <th>Unnamed: 18</th>\n    </tr>\n  </thead>\n  <tbody>\n    <tr>\n      <th>0</th>\n      <td>004243</td>\n      <td>05-19</td>\n      <td>35.75%</td>\n      <td>29.30%</td>\n      <td>-20.89%</td>\n      <td>38.88%</td>\n      <td>-45.65%</td>\n      <td>5.36%</td>\n      <td>-4.54%</td>\n      <td>-2.96%</td>\n      <td>-19.98%</td>\n      <td>8.79%</td>\n      <td>-14.31%</td>\n      <td>--</td>\n      <td>--</td>\n      <td>--</td>\n      <td>--</td>\n      <td>--</td>\n      <td>NaN</td>\n    </tr>\n    <tr>\n      <th>1</th>\n      <td>004433</td>\n      <td>05-20</td>\n      <td>0.11%</td>\n      <td>30.24%</td>\n      <td>7.36%</td>\n      <td>11.43%</td>\n      <td>-12.64%</td>\n      <td>12.30%</td>\n      <td>-3.28%</td>\n      <td>-2.64%</td>\n      <td>36.11%</td>\n      <td>26.83%</td>\n      <td>-37.99%</td>\n      <td>--</td>\n      <td>--</td>\n      <td>--</td>\n      <td>--</td>\n      <td>--</td>\n      <td>NaN</td>\n    </tr>\n    <tr>\n      <th>2</th>\n      <td>004868</td>\n      <td>05-20</td>\n      <td>1.87%</td>\n      <td>29.57%</td>\n      <td>19.33%</td>\n      <td>37.24%</td>\n      <td>-4.46%</td>\n      <td>5.66%</td>\n      <td>5.20%</td>\n      <td>4.61%</td>\n      <td>102.73%</td>\n      <td>51.74%</td>\n      <td>-18.82%</td>\n      <td>--</td>\n      <td>--</td>\n      <td>--</td>\n      <td>--</td>\n      <td>--</td>\n      <td>NaN</td>\n    </tr>\n    <tr>\n      <th>3</th>\n      <td>009234</td>\n      <td>05-20</td>\n      <td>-2.57%</td>\n      <td>32.28%</td>\n      <td>9.18%</td>\n      <td>--</td>\n      <td>--</td>\n      <td>--</td>\n      <td>--</td>\n      <td>--</td>\n      <td>--</td>\n      <td>--</td>\n      <td>--</td>\n      <td>--</td>\n      <td>--</td>\n      <td>--</td>\n      <td>--</td>\n      <td>--</td>\n      <td>NaN</td>\n    </tr>\n    <tr>\n      <th>4</th>\n      <td>005004</td>\n      <td>05-20</td>\n      <td>2.64%</td>\n      <td>28.81%</td>\n      <td>20.26%</td>\n      <td>38.45%</td>\n      <td>-4.54%</td>\n      <td>4.00%</td>\n      <td>0.24%</td>\n      <td>0.73%</td>\n      <td>104.75%</td>\n      <td>35.05%</td>\n      <td>--</td>\n      <td>--</td>\n      <td>--</td>\n      <td>--</td>\n      <td>--</td>\n      <td>--</td>\n      <td>NaN</td>\n    </tr>\n    <tr>\n      <th>...</th>\n      <td>...</td>\n      <td>...</td>\n      <td>...</td>\n      <td>...</td>\n      <td>...</td>\n      <td>...</td>\n      <td>...</td>\n      <td>...</td>\n      <td>...</td>\n      <td>...</td>\n      <td>...</td>\n      <td>...</td>\n      <td>...</td>\n      <td>...</td>\n      <td>...</td>\n      <td>...</td>\n      <td>...</td>\n      <td>...</td>\n      <td>...</td>\n    </tr>\n    <tr>\n      <th>7541</th>\n      <td>002844</td>\n      <td>5-21</td>\n      <td>--</td>\n      <td>--</td>\n      <td>--</td>\n      <td>--</td>\n      <td>--</td>\n      <td>--</td>\n      <td>--</td>\n      <td>--</td>\n      <td>--</td>\n      <td>--</td>\n      <td>--</td>\n      <td>--</td>\n      <td>--</td>\n      <td>--</td>\n      <td>--</td>\n      <td>--</td>\n      <td>NaN</td>\n    </tr>\n    <tr>\n      <th>7542</th>\n      <td>162719</td>\n      <td>5-21</td>\n      <td>--</td>\n      <td>--</td>\n      <td>--</td>\n      <td>--</td>\n      <td>--</td>\n      <td>--</td>\n      <td>--</td>\n      <td>--</td>\n      <td>--</td>\n      <td>--</td>\n      <td>--</td>\n      <td>--</td>\n      <td>--</td>\n      <td>--</td>\n      <td>--</td>\n      <td>--</td>\n      <td>NaN</td>\n    </tr>\n    <tr>\n      <th>7543</th>\n      <td>004235</td>\n      <td>05-20</td>\n      <td>20.83%</td>\n      <td>11.72%</td>\n      <td>22.31%</td>\n      <td>11.31%</td>\n      <td>4.96%</td>\n      <td>12.31%</td>\n      <td>6.50%</td>\n      <td>-11.35%</td>\n      <td>59.65%</td>\n      <td>45.17%</td>\n      <td>-8.66%</td>\n      <td>--</td>\n      <td>--</td>\n      <td>--</td>\n      <td>--</td>\n      <td>--</td>\n      <td>NaN</td>\n    </tr>\n    <tr>\n      <th>7544</th>\n      <td>162411</td>\n      <td>05-19</td>\n      <td>38.05%</td>\n      <td>33.36%</td>\n      <td>-20.34%</td>\n      <td>53.24%</td>\n      <td>-58.41%</td>\n      <td>2.50%</td>\n      <td>-14.44%</td>\n      <td>-10.42%</td>\n      <td>-30.31%</td>\n      <td>-9.57%</td>\n      <td>-23.84%</td>\n      <td>-15.41%</td>\n      <td>44.24%</td>\n      <td>-34.78%</td>\n      <td>-32.23%</td>\n      <td>18.39%</td>\n      <td>NaN</td>\n    </tr>\n    <tr>\n      <th>7545</th>\n      <td>007844</td>\n      <td>5-21</td>\n      <td>--</td>\n      <td>--</td>\n      <td>--</td>\n      <td>--</td>\n      <td>--</td>\n      <td>--</td>\n      <td>--</td>\n      <td>--</td>\n      <td>--</td>\n      <td>--</td>\n      <td>--</td>\n      <td>--</td>\n      <td>--</td>\n      <td>--</td>\n      <td>--</td>\n      <td>--</td>\n      <td>NaN</td>\n    </tr>\n  </tbody>\n</table>\n<p>7546 rows × 19 columns</p>\n</div>"
     },
     "metadata": {},
     "execution_count": 5
    }
   ],
   "source": [
    "df_hb"
   ]
  },
  {
   "cell_type": "code",
   "execution_count": 6,
   "metadata": {},
   "outputs": [],
   "source": [
    "keys = df_hb.code.values"
   ]
  },
  {
   "cell_type": "code",
   "execution_count": 7,
   "metadata": {},
   "outputs": [],
   "source": [
    "shuzi = []\n",
    "notin = []\n",
    "mykeys_tt = []\n",
    "for i in range(len(df_tt['FCODE'])):\n",
    "    mykeys_tt.append(str(df_tt['FCODE'][i]))\n",
    "\n",
    "for i in range(len(df_hb['code'])):\n",
    "    if str(df_hb['code'][i]) in mykeys_tt:\n",
    "        shuzi.append(1)\n",
    "    else:\n",
    "        notin.append(str(df_hb['code'][i]))\n",
    "\n",
    "\n",
    "\n",
    "# for i in range(len(df_hb['code'])):\n",
    "#     if str(df_tt['FCODE'][i]) in str(df_hb['code']):\n",
    "#         print(df_tt['FCODE'][i])\n",
    "#         shuzi.append(1)\n",
    "#     else:\n",
    "#         shuzi.append(0)\n",
    "        "
   ]
  },
  {
   "cell_type": "code",
   "execution_count": 8,
   "metadata": {},
   "outputs": [
    {
     "output_type": "execute_result",
     "data": {
      "text/plain": [
       "7546"
      ]
     },
     "metadata": {},
     "execution_count": 8
    }
   ],
   "source": [
    "a = shuzi.count(1)\n",
    "a\n",
    "# notin"
   ]
  },
  {
   "cell_type": "code",
   "execution_count": 9,
   "metadata": {},
   "outputs": [],
   "source": [
    "df_merge = pd.merge(df_tt,df_hb,left_on=\"FCODE\",right_on=\"code\")"
   ]
  },
  {
   "cell_type": "code",
   "execution_count": 10,
   "metadata": {},
   "outputs": [
    {
     "output_type": "execute_result",
     "data": {
      "text/plain": [
       "           SHORTNAME   FCODE              MGRID  MGRNAME  SHARP1  SHARP2  \\\n",
       "0     华宝标普油气上游股票人民币A  162411  30200459,30732062    周晶,杨洋   1.007   0.011   \n",
       "1          九泰行业优选混合C  008438  30349054,30589084   吴祖尧,何昕  -1.000  -1.000   \n",
       "2          恒越核心精选混合C  007193  30561920,30711642    高楠,叶佳   2.609   1.770   \n",
       "3          华夏新兴消费混合A  005888           30063386      孙轶佳   2.411   1.982   \n",
       "4         浙商沪港深精选混合C  007369           30655735       贾腾   1.704  -1.000   \n",
       "...              ...     ...                ...      ...     ...     ...   \n",
       "7541        蜂巢添幂中短债C  007219  30644579,30645926  廖新昌,李海涛  -0.861  -1.000   \n",
       "7542         先锋汇盈纯债C  005893           30692022       杜旭   0.195   2.437   \n",
       "7543       嘉实资源精选股票A  005660  30073608,30494277   苏文杰,肖觅   2.148   1.558   \n",
       "7544     恒越研究精选混合A/B  006049           30561920       高楠   2.402   1.689   \n",
       "7545       上投摩根慧选成长A  008314           30506861      李德辉   1.766  -1.000   \n",
       "\n",
       "      STDDEV1  STDDEV2  MAXRETRA1  Payback  ...  jd_19_1    nd_20   nd_19  \\\n",
       "0      49.450   49.450      44.45   -1.000  ...  -10.42%  -30.31%  -9.57%   \n",
       "1      -1.000   -1.000      -1.00   -2.912  ...       --       --      --   \n",
       "2      31.703   31.703      22.52   30.533  ...       --   92.69%      --   \n",
       "3      26.002   26.002      19.61   13.833  ...   -0.67%  104.08%  54.74%   \n",
       "4      25.717   25.717      17.08   40.812  ...       --   50.29%      --   \n",
       "...       ...      ...        ...      ...  ...      ...      ...     ...   \n",
       "7541    1.939    1.939       2.51    3.185  ...       --    3.23%      --   \n",
       "7542    1.573    1.573       1.55    1.324  ...    1.55%    3.77%   6.65%   \n",
       "7543   29.724   29.724      21.19   21.839  ...    1.01%   75.36%  29.53%   \n",
       "7544   31.761   31.761      22.77   30.533  ...   -4.52%   85.61%  23.86%   \n",
       "7545   28.086   28.086      23.94   26.916  ...       --       --      --   \n",
       "\n",
       "        nd_18    nd_17   nd_16    nd_15    nd_14   nd_13  Unnamed: 18  \n",
       "0     -23.84%  -15.41%  44.24%  -34.78%  -32.23%  18.39%          NaN  \n",
       "1          --       --      --       --       --      --          NaN  \n",
       "2          --       --      --       --       --      --          NaN  \n",
       "3          --       --      --       --       --      --          NaN  \n",
       "4          --       --      --       --       --      --          NaN  \n",
       "...       ...      ...     ...      ...      ...     ...          ...  \n",
       "7541       --       --      --       --       --      --          NaN  \n",
       "7542       --       --      --       --       --      --          NaN  \n",
       "7543       --       --      --       --       --      --          NaN  \n",
       "7544       --       --      --       --       --      --          NaN  \n",
       "7545       --       --      --       --       --      --          NaN  \n",
       "\n",
       "[7546 rows x 115 columns]"
      ],
      "text/html": "<div>\n<style scoped>\n    .dataframe tbody tr th:only-of-type {\n        vertical-align: middle;\n    }\n\n    .dataframe tbody tr th {\n        vertical-align: top;\n    }\n\n    .dataframe thead th {\n        text-align: right;\n    }\n</style>\n<table border=\"1\" class=\"dataframe\">\n  <thead>\n    <tr style=\"text-align: right;\">\n      <th></th>\n      <th>SHORTNAME</th>\n      <th>FCODE</th>\n      <th>MGRID</th>\n      <th>MGRNAME</th>\n      <th>SHARP1</th>\n      <th>SHARP2</th>\n      <th>STDDEV1</th>\n      <th>STDDEV2</th>\n      <th>MAXRETRA1</th>\n      <th>Payback</th>\n      <th>...</th>\n      <th>jd_19_1</th>\n      <th>nd_20</th>\n      <th>nd_19</th>\n      <th>nd_18</th>\n      <th>nd_17</th>\n      <th>nd_16</th>\n      <th>nd_15</th>\n      <th>nd_14</th>\n      <th>nd_13</th>\n      <th>Unnamed: 18</th>\n    </tr>\n  </thead>\n  <tbody>\n    <tr>\n      <th>0</th>\n      <td>华宝标普油气上游股票人民币A</td>\n      <td>162411</td>\n      <td>30200459,30732062</td>\n      <td>周晶,杨洋</td>\n      <td>1.007</td>\n      <td>0.011</td>\n      <td>49.450</td>\n      <td>49.450</td>\n      <td>44.45</td>\n      <td>-1.000</td>\n      <td>...</td>\n      <td>-10.42%</td>\n      <td>-30.31%</td>\n      <td>-9.57%</td>\n      <td>-23.84%</td>\n      <td>-15.41%</td>\n      <td>44.24%</td>\n      <td>-34.78%</td>\n      <td>-32.23%</td>\n      <td>18.39%</td>\n      <td>NaN</td>\n    </tr>\n    <tr>\n      <th>1</th>\n      <td>九泰行业优选混合C</td>\n      <td>008438</td>\n      <td>30349054,30589084</td>\n      <td>吴祖尧,何昕</td>\n      <td>-1.000</td>\n      <td>-1.000</td>\n      <td>-1.000</td>\n      <td>-1.000</td>\n      <td>-1.00</td>\n      <td>-2.912</td>\n      <td>...</td>\n      <td>--</td>\n      <td>--</td>\n      <td>--</td>\n      <td>--</td>\n      <td>--</td>\n      <td>--</td>\n      <td>--</td>\n      <td>--</td>\n      <td>--</td>\n      <td>NaN</td>\n    </tr>\n    <tr>\n      <th>2</th>\n      <td>恒越核心精选混合C</td>\n      <td>007193</td>\n      <td>30561920,30711642</td>\n      <td>高楠,叶佳</td>\n      <td>2.609</td>\n      <td>1.770</td>\n      <td>31.703</td>\n      <td>31.703</td>\n      <td>22.52</td>\n      <td>30.533</td>\n      <td>...</td>\n      <td>--</td>\n      <td>92.69%</td>\n      <td>--</td>\n      <td>--</td>\n      <td>--</td>\n      <td>--</td>\n      <td>--</td>\n      <td>--</td>\n      <td>--</td>\n      <td>NaN</td>\n    </tr>\n    <tr>\n      <th>3</th>\n      <td>华夏新兴消费混合A</td>\n      <td>005888</td>\n      <td>30063386</td>\n      <td>孙轶佳</td>\n      <td>2.411</td>\n      <td>1.982</td>\n      <td>26.002</td>\n      <td>26.002</td>\n      <td>19.61</td>\n      <td>13.833</td>\n      <td>...</td>\n      <td>-0.67%</td>\n      <td>104.08%</td>\n      <td>54.74%</td>\n      <td>--</td>\n      <td>--</td>\n      <td>--</td>\n      <td>--</td>\n      <td>--</td>\n      <td>--</td>\n      <td>NaN</td>\n    </tr>\n    <tr>\n      <th>4</th>\n      <td>浙商沪港深精选混合C</td>\n      <td>007369</td>\n      <td>30655735</td>\n      <td>贾腾</td>\n      <td>1.704</td>\n      <td>-1.000</td>\n      <td>25.717</td>\n      <td>25.717</td>\n      <td>17.08</td>\n      <td>40.812</td>\n      <td>...</td>\n      <td>--</td>\n      <td>50.29%</td>\n      <td>--</td>\n      <td>--</td>\n      <td>--</td>\n      <td>--</td>\n      <td>--</td>\n      <td>--</td>\n      <td>--</td>\n      <td>NaN</td>\n    </tr>\n    <tr>\n      <th>...</th>\n      <td>...</td>\n      <td>...</td>\n      <td>...</td>\n      <td>...</td>\n      <td>...</td>\n      <td>...</td>\n      <td>...</td>\n      <td>...</td>\n      <td>...</td>\n      <td>...</td>\n      <td>...</td>\n      <td>...</td>\n      <td>...</td>\n      <td>...</td>\n      <td>...</td>\n      <td>...</td>\n      <td>...</td>\n      <td>...</td>\n      <td>...</td>\n      <td>...</td>\n      <td>...</td>\n    </tr>\n    <tr>\n      <th>7541</th>\n      <td>蜂巢添幂中短债C</td>\n      <td>007219</td>\n      <td>30644579,30645926</td>\n      <td>廖新昌,李海涛</td>\n      <td>-0.861</td>\n      <td>-1.000</td>\n      <td>1.939</td>\n      <td>1.939</td>\n      <td>2.51</td>\n      <td>3.185</td>\n      <td>...</td>\n      <td>--</td>\n      <td>3.23%</td>\n      <td>--</td>\n      <td>--</td>\n      <td>--</td>\n      <td>--</td>\n      <td>--</td>\n      <td>--</td>\n      <td>--</td>\n      <td>NaN</td>\n    </tr>\n    <tr>\n      <th>7542</th>\n      <td>先锋汇盈纯债C</td>\n      <td>005893</td>\n      <td>30692022</td>\n      <td>杜旭</td>\n      <td>0.195</td>\n      <td>2.437</td>\n      <td>1.573</td>\n      <td>1.573</td>\n      <td>1.55</td>\n      <td>1.324</td>\n      <td>...</td>\n      <td>1.55%</td>\n      <td>3.77%</td>\n      <td>6.65%</td>\n      <td>--</td>\n      <td>--</td>\n      <td>--</td>\n      <td>--</td>\n      <td>--</td>\n      <td>--</td>\n      <td>NaN</td>\n    </tr>\n    <tr>\n      <th>7543</th>\n      <td>嘉实资源精选股票A</td>\n      <td>005660</td>\n      <td>30073608,30494277</td>\n      <td>苏文杰,肖觅</td>\n      <td>2.148</td>\n      <td>1.558</td>\n      <td>29.724</td>\n      <td>29.724</td>\n      <td>21.19</td>\n      <td>21.839</td>\n      <td>...</td>\n      <td>1.01%</td>\n      <td>75.36%</td>\n      <td>29.53%</td>\n      <td>--</td>\n      <td>--</td>\n      <td>--</td>\n      <td>--</td>\n      <td>--</td>\n      <td>--</td>\n      <td>NaN</td>\n    </tr>\n    <tr>\n      <th>7544</th>\n      <td>恒越研究精选混合A/B</td>\n      <td>006049</td>\n      <td>30561920</td>\n      <td>高楠</td>\n      <td>2.402</td>\n      <td>1.689</td>\n      <td>31.761</td>\n      <td>31.761</td>\n      <td>22.77</td>\n      <td>30.533</td>\n      <td>...</td>\n      <td>-4.52%</td>\n      <td>85.61%</td>\n      <td>23.86%</td>\n      <td>--</td>\n      <td>--</td>\n      <td>--</td>\n      <td>--</td>\n      <td>--</td>\n      <td>--</td>\n      <td>NaN</td>\n    </tr>\n    <tr>\n      <th>7545</th>\n      <td>上投摩根慧选成长A</td>\n      <td>008314</td>\n      <td>30506861</td>\n      <td>李德辉</td>\n      <td>1.766</td>\n      <td>-1.000</td>\n      <td>28.086</td>\n      <td>28.086</td>\n      <td>23.94</td>\n      <td>26.916</td>\n      <td>...</td>\n      <td>--</td>\n      <td>--</td>\n      <td>--</td>\n      <td>--</td>\n      <td>--</td>\n      <td>--</td>\n      <td>--</td>\n      <td>--</td>\n      <td>--</td>\n      <td>NaN</td>\n    </tr>\n  </tbody>\n</table>\n<p>7546 rows × 115 columns</p>\n</div>"
     },
     "metadata": {},
     "execution_count": 10
    }
   ],
   "source": [
    "df_merge"
   ]
  },
  {
   "cell_type": "code",
   "execution_count": 11,
   "metadata": {},
   "outputs": [
    {
     "output_type": "execute_result",
     "data": {
      "text/plain": [
       "array(['SHORTNAME', 'FCODE', 'MGRID', 'MGRNAME', 'SHARP1', 'SHARP2',\n",
       "       'STDDEV1', 'STDDEV2', 'MAXRETRA1', 'Payback', 'Days', 'BaoTuan',\n",
       "       '收益回撤比', 'GP', 'ZQ', 'HB', 'JZC', 'NowYear_up', 'NowYear_avg_up',\n",
       "       'NowYear_hs300_up', 'NowYear_rank', 'NowYear_competitors',\n",
       "       'Week_up', 'Week_avg_up', 'Week_hs300_up', 'Week_rank',\n",
       "       'Week_competitors', 'Month_up', 'Month_avg_up', 'Month_hs300_up',\n",
       "       'Month_rank', 'Month_competitors', 'Year_up', 'Year_avg_up',\n",
       "       'Year_hs300_up', 'Year_rank', 'Year_competitors', 'TwoYear_up',\n",
       "       'TwoYear_avg_up', 'TwoYear_hs300_up', 'TwoYear_rank',\n",
       "       'TwoYear_competitors', 'ThreeYear_up', 'ThreeYear_avg_up',\n",
       "       'ThreeYear_hs300_up', 'ThreeYear_rank', 'ThreeYear_competitors',\n",
       "       'FiveYear_up', 'FiveYear_avg_up', 'FiveYear_hs300_up',\n",
       "       'FiveYear_rank', 'FiveYear_competitors', 'fundStocks_GPDM_0',\n",
       "       'fundStocks_GPJC_0', 'fundStocks_JZBL_0', 'fundStocks_PCTNVCHG_0',\n",
       "       'fundStocks_GPDM_1', 'fundStocks_GPJC_1', 'fundStocks_JZBL_1',\n",
       "       'fundStocks_PCTNVCHG_1', 'fundStocks_GPDM_2', 'fundStocks_GPJC_2',\n",
       "       'fundStocks_JZBL_2', 'fundStocks_PCTNVCHG_2', 'fundStocks_GPDM_3',\n",
       "       'fundStocks_GPJC_3', 'fundStocks_JZBL_3', 'fundStocks_PCTNVCHG_3',\n",
       "       'fundStocks_GPDM_4', 'fundStocks_GPJC_4', 'fundStocks_JZBL_4',\n",
       "       'fundStocks_PCTNVCHG_4', 'fundStocks_GPDM_5', 'fundStocks_GPJC_5',\n",
       "       'fundStocks_JZBL_5', 'fundStocks_PCTNVCHG_5', 'fundStocks_GPDM_6',\n",
       "       'fundStocks_GPJC_6', 'fundStocks_JZBL_6', 'fundStocks_PCTNVCHG_6',\n",
       "       'fundStocks_GPDM_7', 'fundStocks_GPJC_7', 'fundStocks_JZBL_7',\n",
       "       'fundStocks_PCTNVCHG_7', 'fundStocks_GPDM_8', 'fundStocks_GPJC_8',\n",
       "       'fundStocks_JZBL_8', 'fundStocks_PCTNVCHG_8', 'fundStocks_GPDM_9',\n",
       "       'fundStocks_GPJC_9', 'fundStocks_JZBL_9', 'fundStocks_PCTNVCHG_9',\n",
       "       'pca_1', 'pca_2', 'pca_3', 'cluster', 'code', 'date', 'jd_20_4',\n",
       "       'jd_20_3', 'jd_20_2', 'jd_20_1', 'jd_19_4', 'jd_19_3', 'jd_19_2',\n",
       "       'jd_19_1', 'nd_20', 'nd_19', 'nd_18', 'nd_17', 'nd_16', 'nd_15',\n",
       "       'nd_14', 'nd_13', 'Unnamed: 18'], dtype=object)"
      ]
     },
     "metadata": {},
     "execution_count": 11
    }
   ],
   "source": [
    "df_merge.columns.values"
   ]
  },
  {
   "cell_type": "code",
   "execution_count": 12,
   "metadata": {},
   "outputs": [
    {
     "output_type": "stream",
     "name": "stdout",
     "text": [
      "D:\\基金数据\\最新数据\\Data_after4_2021_5_21.csv\nD:\\基金数据\\最新数据\\Data_after4_2021_5_21.txt\n"
     ]
    }
   ],
   "source": [
    "# 保存路径名:\n",
    "# savepath_csv = r\"D:\\基金数据\\最新数据\\Data_after3_3_18.csv\" # 写死\n",
    "# savepath_txt = r\"D:\\基金数据\\最新数据\\Data_after3_3_18.txt\" # 写死\n",
    "from datetime import datetime\n",
    "\n",
    "today = datetime.now()\n",
    "\n",
    "savepath_csv = r\"D:\\基金数据\\最新数据\\Data_after4_{}_{}_{}.csv\".format(today.year,today.month,today.day) # 自动获取\n",
    "savepath_txt = r\"D:\\基金数据\\最新数据\\Data_after4_{}_{}_{}.txt\".format(today.year,today.month,today.day) # 自动获取\n",
    "print(savepath_csv)\n",
    "print(savepath_txt)"
   ]
  },
  {
   "cell_type": "code",
   "execution_count": 13,
   "metadata": {},
   "outputs": [],
   "source": [
    "df_merge.to_csv(savepath_csv,encoding='GB18030')\n",
    "df_merge.to_csv(savepath_txt,sep='\\t',index=False,encoding='GB18030')"
   ]
  },
  {
   "cell_type": "code",
   "execution_count": 14,
   "metadata": {},
   "outputs": [],
   "source": [
    "# df_new = df[['SHORTNAME','FCODE']]"
   ]
  },
  {
   "cell_type": "code",
   "execution_count": null,
   "metadata": {},
   "outputs": [],
   "source": []
  },
  {
   "cell_type": "code",
   "execution_count": null,
   "metadata": {},
   "outputs": [],
   "source": []
  },
  {
   "cell_type": "code",
   "execution_count": null,
   "metadata": {},
   "outputs": [],
   "source": []
  }
 ],
 "metadata": {
  "kernelspec": {
   "name": "python385jvsc74a57bd0a8f61be024eba58adef938c9aa1e29e02cb3dece83a5348b1a2dafd16a070453",
   "display_name": "Python 3.8.5 64-bit ('base': conda)"
  },
  "language_info": {
   "codemirror_mode": {
    "name": "ipython",
    "version": 3
   },
   "file_extension": ".py",
   "mimetype": "text/x-python",
   "name": "python",
   "nbconvert_exporter": "python",
   "pygments_lexer": "ipython3",
   "version": "3.8.5"
  }
 },
 "nbformat": 4,
 "nbformat_minor": 4
}
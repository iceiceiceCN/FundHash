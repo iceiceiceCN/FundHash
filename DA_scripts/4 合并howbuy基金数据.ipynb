{
 "cells": [
  {
   "cell_type": "code",
   "execution_count": 1,
   "metadata": {},
   "outputs": [],
   "source": [
    "import pandas as pd\n",
    "import numpy as np\n",
    "import matplotlib.pylab as plt\n"
   ]
  },
  {
   "cell_type": "code",
   "execution_count": 2,
   "metadata": {},
   "outputs": [],
   "source": [
    "path_flag = 0"
   ]
  },
  {
   "cell_type": "code",
   "execution_count": 3,
   "metadata": {},
   "outputs": [
    {
     "output_type": "stream",
     "name": "stdout",
     "text": [
      "D:\\基金数据\\最新数据\\Data_after3_2021_5_15.txt\nD:\\基金数据\\最新数据\\howbuyfund_2021_5_15.txt\n"
     ]
    }
   ],
   "source": [
    "if path_flag == 0:\n",
    "    # A: 使用时间参数自动获取路径名\n",
    "    from datetime import datetime\n",
    "\n",
    "    today = datetime.now()\n",
    "\n",
    "    path_ttfund = r\"D:\\基金数据\\最新数据\\Data_after3_{}_{}_{}.txt\".format(today.year,today.month,today.day)\n",
    "    path_hbfund = r\"D:\\基金数据\\最新数据\\howbuyfund_{}_{}_{}.txt\".format(today.year,today.month,today.day)\n",
    "    # 要求输入列为：\n",
    "    # SHORTNAME\tFCODE\tMGRID\tMGRNAME\tSHARP1\tSHARP2\tSTDDEV1\tSTDDEV2\tMAXRETRA1\tGP\tZQ\tHB\tJZC\tWeek_up\tWeek_avg_up\tWeek_hs300_up\tWeek_rank\tWeek_competitors\tMonth_up\tMonth_avg_up\tMonth_hs300_up\tMonth_rank\tMonth_competitors\tYear_up\tYear_avg_up\tYear_hs300_up\tYear_rank\tYear_competitors\tNowYear_up\tNowYear_avg_up\tNowYear_hs300_up\tNowYear_rank\tNowYear_competitors\tTwoYear_up\tTwoYear_avg_up\tTwoYear_hs300_up\tTwoYear_rank\tTwoYear_competitors\tThreeYear_up\tThreeYear_avg_up\tThreeYear_hs300_up\tThreeYear_rank\tThreeYear_competitors\tFiveYear_up\tFiveYear_avg_up\tFiveYear_hs300_up\tFiveYear_rank\tFiveYear_competitors\tfundStocks_GPDM_0\tfundStocks_GPJC_0\tfundStocks_JZBL_0\tfundStocks_PCTNVCHG_0\tfundStocks_GPDM_1\tfundStocks_GPJC_1\tfundStocks_JZBL_1\tfundStocks_PCTNVCHG_1\tfundStocks_GPDM_2\tfundStocks_GPJC_2\tfundStocks_JZBL_2\tfundStocks_PCTNVCHG_2\tfundStocks_GPDM_3\tfundStocks_GPJC_3\tfundStocks_JZBL_3\tfundStocks_PCTNVCHG_3\tfundStocks_GPDM_4\tfundStocks_GPJC_4\tfundStocks_JZBL_4\tfundStocks_PCTNVCHG_4\tfundStocks_GPDM_5\tfundStocks_GPJC_5\tfundStocks_JZBL_5\tfundStocks_PCTNVCHG_5\tfundStocks_GPDM_6\tfundStocks_GPJC_6\tfundStocks_JZBL_6\tfundStocks_PCTNVCHG_6\tfundStocks_GPDM_7\tfundStocks_GPJC_7\tfundStocks_JZBL_7\tfundStocks_PCTNVCHG_7\tfundStocks_GPDM_8\tfundStocks_GPJC_8\tfundStocks_JZBL_8\tfundStocks_PCTNVCHG_8\tfundStocks_GPDM_9\tfundStocks_GPJC_9\tfundStocks_JZBL_9\tfundStocks_PCTNVCHG_9\tBaoTuan\tPayback\tDays\n",
    "    df_tt = pd.read_table(path_ttfund,converters={'FCODE':str,'MGRID':str},encoding='GB18030')\n",
    "    df_hb = pd.read_table(path_hbfund,converters={'code':str,'date':str},encoding='GB18030')\n",
    "    print(path_ttfund)\n",
    "    print(path_hbfund)\n",
    "\n",
    "elif path_flag == 1:\n",
    "    # B: 指定路径名\n",
    "\n",
    "    path_ttfund = r'D:\\基金数据\\最新数据\\Data_after3_2021_3_29.txt'\n",
    "    path_hbfund = r'D:\\基金数据\\最新数据\\howbuyfund_2021_4_1.txt'\n",
    "    # 要求输入列为：\n",
    "    # SHORTNAME\tFCODE\tMGRID\tMGRNAME\tSHARP1\tSHARP2\tSTDDEV1\tSTDDEV2\tMAXRETRA1\tGP\tZQ\tHB\tJZC\tWeek_up\tWeek_avg_up\tWeek_hs300_up\tWeek_rank\tWeek_competitors\tMonth_up\tMonth_avg_up\tMonth_hs300_up\tMonth_rank\tMonth_competitors\tYear_up\tYear_avg_up\tYear_hs300_up\tYear_rank\tYear_competitors\tNowYear_up\tNowYear_avg_up\tNowYear_hs300_up\tNowYear_rank\tNowYear_competitors\tTwoYear_up\tTwoYear_avg_up\tTwoYear_hs300_up\tTwoYear_rank\tTwoYear_competitors\tThreeYear_up\tThreeYear_avg_up\tThreeYear_hs300_up\tThreeYear_rank\tThreeYear_competitors\tFiveYear_up\tFiveYear_avg_up\tFiveYear_hs300_up\tFiveYear_rank\tFiveYear_competitors\tfundStocks_GPDM_0\tfundStocks_GPJC_0\tfundStocks_JZBL_0\tfundStocks_PCTNVCHG_0\tfundStocks_GPDM_1\tfundStocks_GPJC_1\tfundStocks_JZBL_1\tfundStocks_PCTNVCHG_1\tfundStocks_GPDM_2\tfundStocks_GPJC_2\tfundStocks_JZBL_2\tfundStocks_PCTNVCHG_2\tfundStocks_GPDM_3\tfundStocks_GPJC_3\tfundStocks_JZBL_3\tfundStocks_PCTNVCHG_3\tfundStocks_GPDM_4\tfundStocks_GPJC_4\tfundStocks_JZBL_4\tfundStocks_PCTNVCHG_4\tfundStocks_GPDM_5\tfundStocks_GPJC_5\tfundStocks_JZBL_5\tfundStocks_PCTNVCHG_5\tfundStocks_GPDM_6\tfundStocks_GPJC_6\tfundStocks_JZBL_6\tfundStocks_PCTNVCHG_6\tfundStocks_GPDM_7\tfundStocks_GPJC_7\tfundStocks_JZBL_7\tfundStocks_PCTNVCHG_7\tfundStocks_GPDM_8\tfundStocks_GPJC_8\tfundStocks_JZBL_8\tfundStocks_PCTNVCHG_8\tfundStocks_GPDM_9\tfundStocks_GPJC_9\tfundStocks_JZBL_9\tfundStocks_PCTNVCHG_9\tBaoTuan\tPayback\tDays\n",
    "    df_tt = pd.read_table(path_ttfund,converters={'FCODE':str,'MGRID':str},encoding='GB18030')\n",
    "    df_hb = pd.read_table(path_hbfund,converters={'code':str,'date':str},encoding='GB18030')"
   ]
  },
  {
   "cell_type": "code",
   "execution_count": 4,
   "metadata": {},
   "outputs": [
    {
     "output_type": "execute_result",
     "data": {
      "text/plain": [
       "           SHORTNAME   FCODE              MGRID MGRNAME  SHARP1  SHARP2  \\\n",
       "0      广发道琼斯石油指数人民币A  162719           30283311      刘杰   1.066   0.325   \n",
       "1          华夏新兴消费混合C  005889           30063386     孙轶佳   2.393   1.961   \n",
       "2         前海开源公用事业股票  005669           30707945     崔宸龙   1.692   1.098   \n",
       "3     华宝标普油气上游股票人民币C  007844  30200459,30732062   周晶,杨洋   0.987  -1.000   \n",
       "4         工银新能源汽车混合C  005940           30137001     闫思倩   1.739   1.503   \n",
       "...              ...     ...                ...     ...     ...     ...   \n",
       "7540        华夏能源革新股票  003834           30529020     郑泽鸿   2.179   1.622   \n",
       "7541        广发价值领先混合  008099           30137559     林英睿   2.535  -1.000   \n",
       "7542         南华丰淳混合A  005296  30544226,30387648   刘斐,徐超   1.811   1.538   \n",
       "7543        金鹰改革红利混合  001951  30396307,30196981  倪超,韩广哲   1.975   1.553   \n",
       "7544   广发道琼斯石油指数人民币C  004243           30283311      刘杰   1.051   0.319   \n",
       "\n",
       "      STDDEV1  STDDEV2  MAXRETRA1  Payback  ...  fundStocks_JZBL_8  \\\n",
       "0      45.069   45.069      42.28   11.504  ...               3.86   \n",
       "1      26.002   26.002      19.64   13.833  ...               3.72   \n",
       "2      29.326   29.326      26.79   42.187  ...               4.61   \n",
       "3      49.524   49.524      44.52   -1.000  ...               2.75   \n",
       "4      37.707   37.707      30.12   16.155  ...               5.18   \n",
       "...       ...      ...        ...      ...  ...                ...   \n",
       "7540   37.247   37.247      27.75   27.645  ...               3.75   \n",
       "7541   22.106   22.106       7.43   10.678  ...               4.30   \n",
       "7542   39.226   39.226      22.75    7.277  ...               4.27   \n",
       "7543   37.809   37.809      23.15   14.442  ...               3.67   \n",
       "7544   45.057   45.057      42.42   11.504  ...               3.86   \n",
       "\n",
       "      fundStocks_PCTNVCHG_8  fundStocks_GPDM_9  fundStocks_GPJC_9  \\\n",
       "0                     -1.00                DVN               戴文能源   \n",
       "1                     -0.21             600660               福耀玻璃   \n",
       "2                      4.61             300750               宁德时代   \n",
       "3                     -1.00                CVX                雪佛龙   \n",
       "4                      0.35             002594                比亚迪   \n",
       "...                     ...                ...                ...   \n",
       "7540                   3.75             002709               天赐材料   \n",
       "7541                  -1.73             603855               华荣股份   \n",
       "7542                   4.27             300122               智飞生物   \n",
       "7543                   3.67             002709               天赐材料   \n",
       "7544                  -1.00                DVN               戴文能源   \n",
       "\n",
       "      fundStocks_JZBL_9  fundStocks_PCTNVCHG_9  pca_1  pca_2  pca_3  cluster  \n",
       "0                  3.81                  -1.00  3.834 -0.887  2.312        6  \n",
       "1                  2.94                   2.94  2.453  0.104 -2.931        2  \n",
       "2                  3.39                   3.39  3.570 -0.828 -1.349        0  \n",
       "3                  2.73                  -1.00  2.722 -2.274  0.572        6  \n",
       "4                  4.43                   4.43  4.711 -2.066 -0.705        6  \n",
       "...                 ...                    ...    ...    ...    ...      ...  \n",
       "7540               3.61                  -0.54  5.942 -0.550 -1.542        0  \n",
       "7541               3.98                  -4.02  1.245 -2.165  3.447        5  \n",
       "7542               4.10                   4.10  6.602 -2.477  4.405        6  \n",
       "7543               3.31                  -3.73  6.586 -0.671  2.020        6  \n",
       "7544               3.81                  -1.00  3.806 -0.868  2.251        6  \n",
       "\n",
       "[7545 rows x 96 columns]"
      ],
      "text/html": "<div>\n<style scoped>\n    .dataframe tbody tr th:only-of-type {\n        vertical-align: middle;\n    }\n\n    .dataframe tbody tr th {\n        vertical-align: top;\n    }\n\n    .dataframe thead th {\n        text-align: right;\n    }\n</style>\n<table border=\"1\" class=\"dataframe\">\n  <thead>\n    <tr style=\"text-align: right;\">\n      <th></th>\n      <th>SHORTNAME</th>\n      <th>FCODE</th>\n      <th>MGRID</th>\n      <th>MGRNAME</th>\n      <th>SHARP1</th>\n      <th>SHARP2</th>\n      <th>STDDEV1</th>\n      <th>STDDEV2</th>\n      <th>MAXRETRA1</th>\n      <th>Payback</th>\n      <th>...</th>\n      <th>fundStocks_JZBL_8</th>\n      <th>fundStocks_PCTNVCHG_8</th>\n      <th>fundStocks_GPDM_9</th>\n      <th>fundStocks_GPJC_9</th>\n      <th>fundStocks_JZBL_9</th>\n      <th>fundStocks_PCTNVCHG_9</th>\n      <th>pca_1</th>\n      <th>pca_2</th>\n      <th>pca_3</th>\n      <th>cluster</th>\n    </tr>\n  </thead>\n  <tbody>\n    <tr>\n      <th>0</th>\n      <td>广发道琼斯石油指数人民币A</td>\n      <td>162719</td>\n      <td>30283311</td>\n      <td>刘杰</td>\n      <td>1.066</td>\n      <td>0.325</td>\n      <td>45.069</td>\n      <td>45.069</td>\n      <td>42.28</td>\n      <td>11.504</td>\n      <td>...</td>\n      <td>3.86</td>\n      <td>-1.00</td>\n      <td>DVN</td>\n      <td>戴文能源</td>\n      <td>3.81</td>\n      <td>-1.00</td>\n      <td>3.834</td>\n      <td>-0.887</td>\n      <td>2.312</td>\n      <td>6</td>\n    </tr>\n    <tr>\n      <th>1</th>\n      <td>华夏新兴消费混合C</td>\n      <td>005889</td>\n      <td>30063386</td>\n      <td>孙轶佳</td>\n      <td>2.393</td>\n      <td>1.961</td>\n      <td>26.002</td>\n      <td>26.002</td>\n      <td>19.64</td>\n      <td>13.833</td>\n      <td>...</td>\n      <td>3.72</td>\n      <td>-0.21</td>\n      <td>600660</td>\n      <td>福耀玻璃</td>\n      <td>2.94</td>\n      <td>2.94</td>\n      <td>2.453</td>\n      <td>0.104</td>\n      <td>-2.931</td>\n      <td>2</td>\n    </tr>\n    <tr>\n      <th>2</th>\n      <td>前海开源公用事业股票</td>\n      <td>005669</td>\n      <td>30707945</td>\n      <td>崔宸龙</td>\n      <td>1.692</td>\n      <td>1.098</td>\n      <td>29.326</td>\n      <td>29.326</td>\n      <td>26.79</td>\n      <td>42.187</td>\n      <td>...</td>\n      <td>4.61</td>\n      <td>4.61</td>\n      <td>300750</td>\n      <td>宁德时代</td>\n      <td>3.39</td>\n      <td>3.39</td>\n      <td>3.570</td>\n      <td>-0.828</td>\n      <td>-1.349</td>\n      <td>0</td>\n    </tr>\n    <tr>\n      <th>3</th>\n      <td>华宝标普油气上游股票人民币C</td>\n      <td>007844</td>\n      <td>30200459,30732062</td>\n      <td>周晶,杨洋</td>\n      <td>0.987</td>\n      <td>-1.000</td>\n      <td>49.524</td>\n      <td>49.524</td>\n      <td>44.52</td>\n      <td>-1.000</td>\n      <td>...</td>\n      <td>2.75</td>\n      <td>-1.00</td>\n      <td>CVX</td>\n      <td>雪佛龙</td>\n      <td>2.73</td>\n      <td>-1.00</td>\n      <td>2.722</td>\n      <td>-2.274</td>\n      <td>0.572</td>\n      <td>6</td>\n    </tr>\n    <tr>\n      <th>4</th>\n      <td>工银新能源汽车混合C</td>\n      <td>005940</td>\n      <td>30137001</td>\n      <td>闫思倩</td>\n      <td>1.739</td>\n      <td>1.503</td>\n      <td>37.707</td>\n      <td>37.707</td>\n      <td>30.12</td>\n      <td>16.155</td>\n      <td>...</td>\n      <td>5.18</td>\n      <td>0.35</td>\n      <td>002594</td>\n      <td>比亚迪</td>\n      <td>4.43</td>\n      <td>4.43</td>\n      <td>4.711</td>\n      <td>-2.066</td>\n      <td>-0.705</td>\n      <td>6</td>\n    </tr>\n    <tr>\n      <th>...</th>\n      <td>...</td>\n      <td>...</td>\n      <td>...</td>\n      <td>...</td>\n      <td>...</td>\n      <td>...</td>\n      <td>...</td>\n      <td>...</td>\n      <td>...</td>\n      <td>...</td>\n      <td>...</td>\n      <td>...</td>\n      <td>...</td>\n      <td>...</td>\n      <td>...</td>\n      <td>...</td>\n      <td>...</td>\n      <td>...</td>\n      <td>...</td>\n      <td>...</td>\n      <td>...</td>\n    </tr>\n    <tr>\n      <th>7540</th>\n      <td>华夏能源革新股票</td>\n      <td>003834</td>\n      <td>30529020</td>\n      <td>郑泽鸿</td>\n      <td>2.179</td>\n      <td>1.622</td>\n      <td>37.247</td>\n      <td>37.247</td>\n      <td>27.75</td>\n      <td>27.645</td>\n      <td>...</td>\n      <td>3.75</td>\n      <td>3.75</td>\n      <td>002709</td>\n      <td>天赐材料</td>\n      <td>3.61</td>\n      <td>-0.54</td>\n      <td>5.942</td>\n      <td>-0.550</td>\n      <td>-1.542</td>\n      <td>0</td>\n    </tr>\n    <tr>\n      <th>7541</th>\n      <td>广发价值领先混合</td>\n      <td>008099</td>\n      <td>30137559</td>\n      <td>林英睿</td>\n      <td>2.535</td>\n      <td>-1.000</td>\n      <td>22.106</td>\n      <td>22.106</td>\n      <td>7.43</td>\n      <td>10.678</td>\n      <td>...</td>\n      <td>4.30</td>\n      <td>-1.73</td>\n      <td>603855</td>\n      <td>华荣股份</td>\n      <td>3.98</td>\n      <td>-4.02</td>\n      <td>1.245</td>\n      <td>-2.165</td>\n      <td>3.447</td>\n      <td>5</td>\n    </tr>\n    <tr>\n      <th>7542</th>\n      <td>南华丰淳混合A</td>\n      <td>005296</td>\n      <td>30544226,30387648</td>\n      <td>刘斐,徐超</td>\n      <td>1.811</td>\n      <td>1.538</td>\n      <td>39.226</td>\n      <td>39.226</td>\n      <td>22.75</td>\n      <td>7.277</td>\n      <td>...</td>\n      <td>4.27</td>\n      <td>4.27</td>\n      <td>300122</td>\n      <td>智飞生物</td>\n      <td>4.10</td>\n      <td>4.10</td>\n      <td>6.602</td>\n      <td>-2.477</td>\n      <td>4.405</td>\n      <td>6</td>\n    </tr>\n    <tr>\n      <th>7543</th>\n      <td>金鹰改革红利混合</td>\n      <td>001951</td>\n      <td>30396307,30196981</td>\n      <td>倪超,韩广哲</td>\n      <td>1.975</td>\n      <td>1.553</td>\n      <td>37.809</td>\n      <td>37.809</td>\n      <td>23.15</td>\n      <td>14.442</td>\n      <td>...</td>\n      <td>3.67</td>\n      <td>3.67</td>\n      <td>002709</td>\n      <td>天赐材料</td>\n      <td>3.31</td>\n      <td>-3.73</td>\n      <td>6.586</td>\n      <td>-0.671</td>\n      <td>2.020</td>\n      <td>6</td>\n    </tr>\n    <tr>\n      <th>7544</th>\n      <td>广发道琼斯石油指数人民币C</td>\n      <td>004243</td>\n      <td>30283311</td>\n      <td>刘杰</td>\n      <td>1.051</td>\n      <td>0.319</td>\n      <td>45.057</td>\n      <td>45.057</td>\n      <td>42.42</td>\n      <td>11.504</td>\n      <td>...</td>\n      <td>3.86</td>\n      <td>-1.00</td>\n      <td>DVN</td>\n      <td>戴文能源</td>\n      <td>3.81</td>\n      <td>-1.00</td>\n      <td>3.806</td>\n      <td>-0.868</td>\n      <td>2.251</td>\n      <td>6</td>\n    </tr>\n  </tbody>\n</table>\n<p>7545 rows × 96 columns</p>\n</div>"
     },
     "metadata": {},
     "execution_count": 4
    }
   ],
   "source": [
    "df_tt"
   ]
  },
  {
   "cell_type": "code",
   "execution_count": 5,
   "metadata": {},
   "outputs": [
    {
     "output_type": "execute_result",
     "data": {
      "text/plain": [
       "        code   date  jd_20_4 jd_20_3  jd_20_2 jd_20_1  jd_19_4 jd_19_3  \\\n",
       "0     162411  05-13   38.05%  33.36%  -20.34%  53.24%  -58.41%   2.50%   \n",
       "1     002083  05-14  -16.58%  51.37%   12.69%  32.46%   -2.00%  10.76%   \n",
       "2     005888  05-14   -0.08%  31.83%   22.88%  33.28%   -5.47%  17.45%   \n",
       "3     008438  05-14   26.86%   4.88%       --      --       --      --   \n",
       "4     007193  05-14    1.09%  30.48%   23.70%  29.23%   -7.61%   8.03%   \n",
       "...      ...    ...      ...     ...      ...     ...      ...     ...   \n",
       "7541  004243  05-13   35.75%  29.30%  -20.89%  38.88%  -45.65%   5.36%   \n",
       "7542  162719  05-13   36.02%  29.47%  -20.78%  39.13%  -45.67%   5.35%   \n",
       "7543  001951  05-14    2.18%  43.32%   11.07%  25.87%   -0.54%   5.44%   \n",
       "7544  007844  05-13   37.88%  33.23%  -20.38%  53.04%       --      --   \n",
       "7545  008099  05-14   29.70%  17.17%    1.89%      --       --      --   \n",
       "\n",
       "      jd_19_2  jd_19_1    nd_20   nd_19    nd_18    nd_17   nd_16    nd_15  \\\n",
       "0     -14.44%  -10.42%  -30.31%  -9.57%  -23.84%  -15.41%  44.24%  -34.78%   \n",
       "1      11.79%   -7.12%  121.43%  51.52%  -30.98%    0.10%      --       --   \n",
       "2       2.69%   -0.67%  104.08%  54.74%       --       --      --       --   \n",
       "3          --       --       --      --       --       --      --       --   \n",
       "4      -1.66%       --   92.69%      --       --       --      --       --   \n",
       "...       ...      ...      ...     ...      ...      ...     ...      ...   \n",
       "7541   -4.54%   -2.96%  -19.98%   8.79%  -14.31%       --      --       --   \n",
       "7542   -4.68%   -2.96%  -19.64%   8.58%  -15.20%       --      --       --   \n",
       "7543    3.66%   -4.17%   99.28%  30.81%  -25.44%    4.91%   7.68%       --   \n",
       "7544       --       --       --      --       --       --      --       --   \n",
       "7545       --       --       --      --       --       --      --       --   \n",
       "\n",
       "        nd_14   nd_13  Unnamed: 18  \n",
       "0     -32.23%  18.39%          NaN  \n",
       "1          --      --          NaN  \n",
       "2          --      --          NaN  \n",
       "3          --      --          NaN  \n",
       "4          --      --          NaN  \n",
       "...       ...     ...          ...  \n",
       "7541       --      --          NaN  \n",
       "7542       --      --          NaN  \n",
       "7543       --      --          NaN  \n",
       "7544       --      --          NaN  \n",
       "7545       --      --          NaN  \n",
       "\n",
       "[7546 rows x 19 columns]"
      ],
      "text/html": "<div>\n<style scoped>\n    .dataframe tbody tr th:only-of-type {\n        vertical-align: middle;\n    }\n\n    .dataframe tbody tr th {\n        vertical-align: top;\n    }\n\n    .dataframe thead th {\n        text-align: right;\n    }\n</style>\n<table border=\"1\" class=\"dataframe\">\n  <thead>\n    <tr style=\"text-align: right;\">\n      <th></th>\n      <th>code</th>\n      <th>date</th>\n      <th>jd_20_4</th>\n      <th>jd_20_3</th>\n      <th>jd_20_2</th>\n      <th>jd_20_1</th>\n      <th>jd_19_4</th>\n      <th>jd_19_3</th>\n      <th>jd_19_2</th>\n      <th>jd_19_1</th>\n      <th>nd_20</th>\n      <th>nd_19</th>\n      <th>nd_18</th>\n      <th>nd_17</th>\n      <th>nd_16</th>\n      <th>nd_15</th>\n      <th>nd_14</th>\n      <th>nd_13</th>\n      <th>Unnamed: 18</th>\n    </tr>\n  </thead>\n  <tbody>\n    <tr>\n      <th>0</th>\n      <td>162411</td>\n      <td>05-13</td>\n      <td>38.05%</td>\n      <td>33.36%</td>\n      <td>-20.34%</td>\n      <td>53.24%</td>\n      <td>-58.41%</td>\n      <td>2.50%</td>\n      <td>-14.44%</td>\n      <td>-10.42%</td>\n      <td>-30.31%</td>\n      <td>-9.57%</td>\n      <td>-23.84%</td>\n      <td>-15.41%</td>\n      <td>44.24%</td>\n      <td>-34.78%</td>\n      <td>-32.23%</td>\n      <td>18.39%</td>\n      <td>NaN</td>\n    </tr>\n    <tr>\n      <th>1</th>\n      <td>002083</td>\n      <td>05-14</td>\n      <td>-16.58%</td>\n      <td>51.37%</td>\n      <td>12.69%</td>\n      <td>32.46%</td>\n      <td>-2.00%</td>\n      <td>10.76%</td>\n      <td>11.79%</td>\n      <td>-7.12%</td>\n      <td>121.43%</td>\n      <td>51.52%</td>\n      <td>-30.98%</td>\n      <td>0.10%</td>\n      <td>--</td>\n      <td>--</td>\n      <td>--</td>\n      <td>--</td>\n      <td>NaN</td>\n    </tr>\n    <tr>\n      <th>2</th>\n      <td>005888</td>\n      <td>05-14</td>\n      <td>-0.08%</td>\n      <td>31.83%</td>\n      <td>22.88%</td>\n      <td>33.28%</td>\n      <td>-5.47%</td>\n      <td>17.45%</td>\n      <td>2.69%</td>\n      <td>-0.67%</td>\n      <td>104.08%</td>\n      <td>54.74%</td>\n      <td>--</td>\n      <td>--</td>\n      <td>--</td>\n      <td>--</td>\n      <td>--</td>\n      <td>--</td>\n      <td>NaN</td>\n    </tr>\n    <tr>\n      <th>3</th>\n      <td>008438</td>\n      <td>05-14</td>\n      <td>26.86%</td>\n      <td>4.88%</td>\n      <td>--</td>\n      <td>--</td>\n      <td>--</td>\n      <td>--</td>\n      <td>--</td>\n      <td>--</td>\n      <td>--</td>\n      <td>--</td>\n      <td>--</td>\n      <td>--</td>\n      <td>--</td>\n      <td>--</td>\n      <td>--</td>\n      <td>--</td>\n      <td>NaN</td>\n    </tr>\n    <tr>\n      <th>4</th>\n      <td>007193</td>\n      <td>05-14</td>\n      <td>1.09%</td>\n      <td>30.48%</td>\n      <td>23.70%</td>\n      <td>29.23%</td>\n      <td>-7.61%</td>\n      <td>8.03%</td>\n      <td>-1.66%</td>\n      <td>--</td>\n      <td>92.69%</td>\n      <td>--</td>\n      <td>--</td>\n      <td>--</td>\n      <td>--</td>\n      <td>--</td>\n      <td>--</td>\n      <td>--</td>\n      <td>NaN</td>\n    </tr>\n    <tr>\n      <th>...</th>\n      <td>...</td>\n      <td>...</td>\n      <td>...</td>\n      <td>...</td>\n      <td>...</td>\n      <td>...</td>\n      <td>...</td>\n      <td>...</td>\n      <td>...</td>\n      <td>...</td>\n      <td>...</td>\n      <td>...</td>\n      <td>...</td>\n      <td>...</td>\n      <td>...</td>\n      <td>...</td>\n      <td>...</td>\n      <td>...</td>\n      <td>...</td>\n    </tr>\n    <tr>\n      <th>7541</th>\n      <td>004243</td>\n      <td>05-13</td>\n      <td>35.75%</td>\n      <td>29.30%</td>\n      <td>-20.89%</td>\n      <td>38.88%</td>\n      <td>-45.65%</td>\n      <td>5.36%</td>\n      <td>-4.54%</td>\n      <td>-2.96%</td>\n      <td>-19.98%</td>\n      <td>8.79%</td>\n      <td>-14.31%</td>\n      <td>--</td>\n      <td>--</td>\n      <td>--</td>\n      <td>--</td>\n      <td>--</td>\n      <td>NaN</td>\n    </tr>\n    <tr>\n      <th>7542</th>\n      <td>162719</td>\n      <td>05-13</td>\n      <td>36.02%</td>\n      <td>29.47%</td>\n      <td>-20.78%</td>\n      <td>39.13%</td>\n      <td>-45.67%</td>\n      <td>5.35%</td>\n      <td>-4.68%</td>\n      <td>-2.96%</td>\n      <td>-19.64%</td>\n      <td>8.58%</td>\n      <td>-15.20%</td>\n      <td>--</td>\n      <td>--</td>\n      <td>--</td>\n      <td>--</td>\n      <td>--</td>\n      <td>NaN</td>\n    </tr>\n    <tr>\n      <th>7543</th>\n      <td>001951</td>\n      <td>05-14</td>\n      <td>2.18%</td>\n      <td>43.32%</td>\n      <td>11.07%</td>\n      <td>25.87%</td>\n      <td>-0.54%</td>\n      <td>5.44%</td>\n      <td>3.66%</td>\n      <td>-4.17%</td>\n      <td>99.28%</td>\n      <td>30.81%</td>\n      <td>-25.44%</td>\n      <td>4.91%</td>\n      <td>7.68%</td>\n      <td>--</td>\n      <td>--</td>\n      <td>--</td>\n      <td>NaN</td>\n    </tr>\n    <tr>\n      <th>7544</th>\n      <td>007844</td>\n      <td>05-13</td>\n      <td>37.88%</td>\n      <td>33.23%</td>\n      <td>-20.38%</td>\n      <td>53.04%</td>\n      <td>--</td>\n      <td>--</td>\n      <td>--</td>\n      <td>--</td>\n      <td>--</td>\n      <td>--</td>\n      <td>--</td>\n      <td>--</td>\n      <td>--</td>\n      <td>--</td>\n      <td>--</td>\n      <td>--</td>\n      <td>NaN</td>\n    </tr>\n    <tr>\n      <th>7545</th>\n      <td>008099</td>\n      <td>05-14</td>\n      <td>29.70%</td>\n      <td>17.17%</td>\n      <td>1.89%</td>\n      <td>--</td>\n      <td>--</td>\n      <td>--</td>\n      <td>--</td>\n      <td>--</td>\n      <td>--</td>\n      <td>--</td>\n      <td>--</td>\n      <td>--</td>\n      <td>--</td>\n      <td>--</td>\n      <td>--</td>\n      <td>--</td>\n      <td>NaN</td>\n    </tr>\n  </tbody>\n</table>\n<p>7546 rows × 19 columns</p>\n</div>"
     },
     "metadata": {},
     "execution_count": 5
    }
   ],
   "source": [
    "df_hb"
   ]
  },
  {
   "cell_type": "code",
   "execution_count": 6,
   "metadata": {},
   "outputs": [],
   "source": [
    "keys = df_hb.code.values"
   ]
  },
  {
   "cell_type": "code",
   "execution_count": 7,
   "metadata": {},
   "outputs": [],
   "source": [
    "shuzi = []\n",
    "notin = []\n",
    "mykeys_tt = []\n",
    "for i in range(len(df_tt['FCODE'])):\n",
    "    mykeys_tt.append(str(df_tt['FCODE'][i]))\n",
    "\n",
    "for i in range(len(df_hb['code'])):\n",
    "    if str(df_hb['code'][i]) in mykeys_tt:\n",
    "        shuzi.append(1)\n",
    "    else:\n",
    "        notin.append(str(df_hb['code'][i]))\n",
    "\n",
    "\n",
    "\n",
    "# for i in range(len(df_hb['code'])):\n",
    "#     if str(df_tt['FCODE'][i]) in str(df_hb['code']):\n",
    "#         print(df_tt['FCODE'][i])\n",
    "#         shuzi.append(1)\n",
    "#     else:\n",
    "#         shuzi.append(0)\n",
    "        "
   ]
  },
  {
   "cell_type": "code",
   "execution_count": 8,
   "metadata": {},
   "outputs": [
    {
     "output_type": "execute_result",
     "data": {
      "text/plain": [
       "7545"
      ]
     },
     "metadata": {},
     "execution_count": 8
    }
   ],
   "source": [
    "a = shuzi.count(1)\n",
    "a\n",
    "# notin"
   ]
  },
  {
   "cell_type": "code",
   "execution_count": 9,
   "metadata": {},
   "outputs": [],
   "source": [
    "df_merge = pd.merge(df_tt,df_hb,left_on=\"FCODE\",right_on=\"code\")"
   ]
  },
  {
   "cell_type": "code",
   "execution_count": 10,
   "metadata": {},
   "outputs": [
    {
     "output_type": "execute_result",
     "data": {
      "text/plain": [
       "           SHORTNAME   FCODE              MGRID MGRNAME  SHARP1  SHARP2  \\\n",
       "0      广发道琼斯石油指数人民币A  162719           30283311      刘杰   1.066   0.325   \n",
       "1          华夏新兴消费混合C  005889           30063386     孙轶佳   2.393   1.961   \n",
       "2         前海开源公用事业股票  005669           30707945     崔宸龙   1.692   1.098   \n",
       "3     华宝标普油气上游股票人民币C  007844  30200459,30732062   周晶,杨洋   0.987  -1.000   \n",
       "4         工银新能源汽车混合C  005940           30137001     闫思倩   1.739   1.503   \n",
       "...              ...     ...                ...     ...     ...     ...   \n",
       "7540        华夏能源革新股票  003834           30529020     郑泽鸿   2.179   1.622   \n",
       "7541        广发价值领先混合  008099           30137559     林英睿   2.535  -1.000   \n",
       "7542         南华丰淳混合A  005296  30544226,30387648   刘斐,徐超   1.811   1.538   \n",
       "7543        金鹰改革红利混合  001951  30396307,30196981  倪超,韩广哲   1.975   1.553   \n",
       "7544   广发道琼斯石油指数人民币C  004243           30283311      刘杰   1.051   0.319   \n",
       "\n",
       "      STDDEV1  STDDEV2  MAXRETRA1  Payback  ...  jd_19_1    nd_20   nd_19  \\\n",
       "0      45.069   45.069      42.28   11.504  ...   -2.96%  -19.64%   8.58%   \n",
       "1      26.002   26.002      19.64   13.833  ...   -0.80%  103.08%  53.96%   \n",
       "2      29.326   29.326      26.79   42.187  ...    0.37%   56.99%   8.34%   \n",
       "3      49.524   49.524      44.52   -1.000  ...       --       --      --   \n",
       "4      37.707   37.707      30.12   16.155  ...  -11.37%  102.09%  35.27%   \n",
       "...       ...      ...        ...      ...  ...      ...      ...     ...   \n",
       "7540   37.247   37.247      27.75   27.645  ...   -8.50%  120.65%  50.49%   \n",
       "7541   22.106   22.106       7.43   10.678  ...       --       --      --   \n",
       "7542   39.226   39.226      22.75    7.277  ...   -2.59%   52.12%  46.32%   \n",
       "7543   37.809   37.809      23.15   14.442  ...   -4.17%   99.28%  30.81%   \n",
       "7544   45.057   45.057      42.42   11.504  ...   -2.96%  -19.98%   8.79%   \n",
       "\n",
       "        nd_18  nd_17  nd_16  nd_15  nd_14  nd_13  Unnamed: 18  \n",
       "0     -15.20%     --     --     --     --     --          NaN  \n",
       "1          --     --     --     --     --     --          NaN  \n",
       "2          --     --     --     --     --     --          NaN  \n",
       "3          --     --     --     --     --     --          NaN  \n",
       "4          --     --     --     --     --     --          NaN  \n",
       "...       ...    ...    ...    ...    ...    ...          ...  \n",
       "7540  -25.25%     --     --     --     --     --          NaN  \n",
       "7541       --     --     --     --     --     --          NaN  \n",
       "7542  -28.54%     --     --     --     --     --          NaN  \n",
       "7543  -25.44%  4.91%  7.68%     --     --     --          NaN  \n",
       "7544  -14.31%     --     --     --     --     --          NaN  \n",
       "\n",
       "[7545 rows x 115 columns]"
      ],
      "text/html": "<div>\n<style scoped>\n    .dataframe tbody tr th:only-of-type {\n        vertical-align: middle;\n    }\n\n    .dataframe tbody tr th {\n        vertical-align: top;\n    }\n\n    .dataframe thead th {\n        text-align: right;\n    }\n</style>\n<table border=\"1\" class=\"dataframe\">\n  <thead>\n    <tr style=\"text-align: right;\">\n      <th></th>\n      <th>SHORTNAME</th>\n      <th>FCODE</th>\n      <th>MGRID</th>\n      <th>MGRNAME</th>\n      <th>SHARP1</th>\n      <th>SHARP2</th>\n      <th>STDDEV1</th>\n      <th>STDDEV2</th>\n      <th>MAXRETRA1</th>\n      <th>Payback</th>\n      <th>...</th>\n      <th>jd_19_1</th>\n      <th>nd_20</th>\n      <th>nd_19</th>\n      <th>nd_18</th>\n      <th>nd_17</th>\n      <th>nd_16</th>\n      <th>nd_15</th>\n      <th>nd_14</th>\n      <th>nd_13</th>\n      <th>Unnamed: 18</th>\n    </tr>\n  </thead>\n  <tbody>\n    <tr>\n      <th>0</th>\n      <td>广发道琼斯石油指数人民币A</td>\n      <td>162719</td>\n      <td>30283311</td>\n      <td>刘杰</td>\n      <td>1.066</td>\n      <td>0.325</td>\n      <td>45.069</td>\n      <td>45.069</td>\n      <td>42.28</td>\n      <td>11.504</td>\n      <td>...</td>\n      <td>-2.96%</td>\n      <td>-19.64%</td>\n      <td>8.58%</td>\n      <td>-15.20%</td>\n      <td>--</td>\n      <td>--</td>\n      <td>--</td>\n      <td>--</td>\n      <td>--</td>\n      <td>NaN</td>\n    </tr>\n    <tr>\n      <th>1</th>\n      <td>华夏新兴消费混合C</td>\n      <td>005889</td>\n      <td>30063386</td>\n      <td>孙轶佳</td>\n      <td>2.393</td>\n      <td>1.961</td>\n      <td>26.002</td>\n      <td>26.002</td>\n      <td>19.64</td>\n      <td>13.833</td>\n      <td>...</td>\n      <td>-0.80%</td>\n      <td>103.08%</td>\n      <td>53.96%</td>\n      <td>--</td>\n      <td>--</td>\n      <td>--</td>\n      <td>--</td>\n      <td>--</td>\n      <td>--</td>\n      <td>NaN</td>\n    </tr>\n    <tr>\n      <th>2</th>\n      <td>前海开源公用事业股票</td>\n      <td>005669</td>\n      <td>30707945</td>\n      <td>崔宸龙</td>\n      <td>1.692</td>\n      <td>1.098</td>\n      <td>29.326</td>\n      <td>29.326</td>\n      <td>26.79</td>\n      <td>42.187</td>\n      <td>...</td>\n      <td>0.37%</td>\n      <td>56.99%</td>\n      <td>8.34%</td>\n      <td>--</td>\n      <td>--</td>\n      <td>--</td>\n      <td>--</td>\n      <td>--</td>\n      <td>--</td>\n      <td>NaN</td>\n    </tr>\n    <tr>\n      <th>3</th>\n      <td>华宝标普油气上游股票人民币C</td>\n      <td>007844</td>\n      <td>30200459,30732062</td>\n      <td>周晶,杨洋</td>\n      <td>0.987</td>\n      <td>-1.000</td>\n      <td>49.524</td>\n      <td>49.524</td>\n      <td>44.52</td>\n      <td>-1.000</td>\n      <td>...</td>\n      <td>--</td>\n      <td>--</td>\n      <td>--</td>\n      <td>--</td>\n      <td>--</td>\n      <td>--</td>\n      <td>--</td>\n      <td>--</td>\n      <td>--</td>\n      <td>NaN</td>\n    </tr>\n    <tr>\n      <th>4</th>\n      <td>工银新能源汽车混合C</td>\n      <td>005940</td>\n      <td>30137001</td>\n      <td>闫思倩</td>\n      <td>1.739</td>\n      <td>1.503</td>\n      <td>37.707</td>\n      <td>37.707</td>\n      <td>30.12</td>\n      <td>16.155</td>\n      <td>...</td>\n      <td>-11.37%</td>\n      <td>102.09%</td>\n      <td>35.27%</td>\n      <td>--</td>\n      <td>--</td>\n      <td>--</td>\n      <td>--</td>\n      <td>--</td>\n      <td>--</td>\n      <td>NaN</td>\n    </tr>\n    <tr>\n      <th>...</th>\n      <td>...</td>\n      <td>...</td>\n      <td>...</td>\n      <td>...</td>\n      <td>...</td>\n      <td>...</td>\n      <td>...</td>\n      <td>...</td>\n      <td>...</td>\n      <td>...</td>\n      <td>...</td>\n      <td>...</td>\n      <td>...</td>\n      <td>...</td>\n      <td>...</td>\n      <td>...</td>\n      <td>...</td>\n      <td>...</td>\n      <td>...</td>\n      <td>...</td>\n      <td>...</td>\n    </tr>\n    <tr>\n      <th>7540</th>\n      <td>华夏能源革新股票</td>\n      <td>003834</td>\n      <td>30529020</td>\n      <td>郑泽鸿</td>\n      <td>2.179</td>\n      <td>1.622</td>\n      <td>37.247</td>\n      <td>37.247</td>\n      <td>27.75</td>\n      <td>27.645</td>\n      <td>...</td>\n      <td>-8.50%</td>\n      <td>120.65%</td>\n      <td>50.49%</td>\n      <td>-25.25%</td>\n      <td>--</td>\n      <td>--</td>\n      <td>--</td>\n      <td>--</td>\n      <td>--</td>\n      <td>NaN</td>\n    </tr>\n    <tr>\n      <th>7541</th>\n      <td>广发价值领先混合</td>\n      <td>008099</td>\n      <td>30137559</td>\n      <td>林英睿</td>\n      <td>2.535</td>\n      <td>-1.000</td>\n      <td>22.106</td>\n      <td>22.106</td>\n      <td>7.43</td>\n      <td>10.678</td>\n      <td>...</td>\n      <td>--</td>\n      <td>--</td>\n      <td>--</td>\n      <td>--</td>\n      <td>--</td>\n      <td>--</td>\n      <td>--</td>\n      <td>--</td>\n      <td>--</td>\n      <td>NaN</td>\n    </tr>\n    <tr>\n      <th>7542</th>\n      <td>南华丰淳混合A</td>\n      <td>005296</td>\n      <td>30544226,30387648</td>\n      <td>刘斐,徐超</td>\n      <td>1.811</td>\n      <td>1.538</td>\n      <td>39.226</td>\n      <td>39.226</td>\n      <td>22.75</td>\n      <td>7.277</td>\n      <td>...</td>\n      <td>-2.59%</td>\n      <td>52.12%</td>\n      <td>46.32%</td>\n      <td>-28.54%</td>\n      <td>--</td>\n      <td>--</td>\n      <td>--</td>\n      <td>--</td>\n      <td>--</td>\n      <td>NaN</td>\n    </tr>\n    <tr>\n      <th>7543</th>\n      <td>金鹰改革红利混合</td>\n      <td>001951</td>\n      <td>30396307,30196981</td>\n      <td>倪超,韩广哲</td>\n      <td>1.975</td>\n      <td>1.553</td>\n      <td>37.809</td>\n      <td>37.809</td>\n      <td>23.15</td>\n      <td>14.442</td>\n      <td>...</td>\n      <td>-4.17%</td>\n      <td>99.28%</td>\n      <td>30.81%</td>\n      <td>-25.44%</td>\n      <td>4.91%</td>\n      <td>7.68%</td>\n      <td>--</td>\n      <td>--</td>\n      <td>--</td>\n      <td>NaN</td>\n    </tr>\n    <tr>\n      <th>7544</th>\n      <td>广发道琼斯石油指数人民币C</td>\n      <td>004243</td>\n      <td>30283311</td>\n      <td>刘杰</td>\n      <td>1.051</td>\n      <td>0.319</td>\n      <td>45.057</td>\n      <td>45.057</td>\n      <td>42.42</td>\n      <td>11.504</td>\n      <td>...</td>\n      <td>-2.96%</td>\n      <td>-19.98%</td>\n      <td>8.79%</td>\n      <td>-14.31%</td>\n      <td>--</td>\n      <td>--</td>\n      <td>--</td>\n      <td>--</td>\n      <td>--</td>\n      <td>NaN</td>\n    </tr>\n  </tbody>\n</table>\n<p>7545 rows × 115 columns</p>\n</div>"
     },
     "metadata": {},
     "execution_count": 10
    }
   ],
   "source": [
    "df_merge"
   ]
  },
  {
   "cell_type": "code",
   "execution_count": 11,
   "metadata": {},
   "outputs": [
    {
     "output_type": "execute_result",
     "data": {
      "text/plain": [
       "array(['SHORTNAME', 'FCODE', 'MGRID', 'MGRNAME', 'SHARP1', 'SHARP2',\n",
       "       'STDDEV1', 'STDDEV2', 'MAXRETRA1', 'Payback', 'Days', 'BaoTuan',\n",
       "       '收益回撤比', 'GP', 'ZQ', 'HB', 'JZC', 'NowYear_up', 'NowYear_avg_up',\n",
       "       'NowYear_hs300_up', 'NowYear_rank', 'NowYear_competitors',\n",
       "       'Week_up', 'Week_avg_up', 'Week_hs300_up', 'Week_rank',\n",
       "       'Week_competitors', 'Month_up', 'Month_avg_up', 'Month_hs300_up',\n",
       "       'Month_rank', 'Month_competitors', 'Year_up', 'Year_avg_up',\n",
       "       'Year_hs300_up', 'Year_rank', 'Year_competitors', 'TwoYear_up',\n",
       "       'TwoYear_avg_up', 'TwoYear_hs300_up', 'TwoYear_rank',\n",
       "       'TwoYear_competitors', 'ThreeYear_up', 'ThreeYear_avg_up',\n",
       "       'ThreeYear_hs300_up', 'ThreeYear_rank', 'ThreeYear_competitors',\n",
       "       'FiveYear_up', 'FiveYear_avg_up', 'FiveYear_hs300_up',\n",
       "       'FiveYear_rank', 'FiveYear_competitors', 'fundStocks_GPDM_0',\n",
       "       'fundStocks_GPJC_0', 'fundStocks_JZBL_0', 'fundStocks_PCTNVCHG_0',\n",
       "       'fundStocks_GPDM_1', 'fundStocks_GPJC_1', 'fundStocks_JZBL_1',\n",
       "       'fundStocks_PCTNVCHG_1', 'fundStocks_GPDM_2', 'fundStocks_GPJC_2',\n",
       "       'fundStocks_JZBL_2', 'fundStocks_PCTNVCHG_2', 'fundStocks_GPDM_3',\n",
       "       'fundStocks_GPJC_3', 'fundStocks_JZBL_3', 'fundStocks_PCTNVCHG_3',\n",
       "       'fundStocks_GPDM_4', 'fundStocks_GPJC_4', 'fundStocks_JZBL_4',\n",
       "       'fundStocks_PCTNVCHG_4', 'fundStocks_GPDM_5', 'fundStocks_GPJC_5',\n",
       "       'fundStocks_JZBL_5', 'fundStocks_PCTNVCHG_5', 'fundStocks_GPDM_6',\n",
       "       'fundStocks_GPJC_6', 'fundStocks_JZBL_6', 'fundStocks_PCTNVCHG_6',\n",
       "       'fundStocks_GPDM_7', 'fundStocks_GPJC_7', 'fundStocks_JZBL_7',\n",
       "       'fundStocks_PCTNVCHG_7', 'fundStocks_GPDM_8', 'fundStocks_GPJC_8',\n",
       "       'fundStocks_JZBL_8', 'fundStocks_PCTNVCHG_8', 'fundStocks_GPDM_9',\n",
       "       'fundStocks_GPJC_9', 'fundStocks_JZBL_9', 'fundStocks_PCTNVCHG_9',\n",
       "       'pca_1', 'pca_2', 'pca_3', 'cluster', 'code', 'date', 'jd_20_4',\n",
       "       'jd_20_3', 'jd_20_2', 'jd_20_1', 'jd_19_4', 'jd_19_3', 'jd_19_2',\n",
       "       'jd_19_1', 'nd_20', 'nd_19', 'nd_18', 'nd_17', 'nd_16', 'nd_15',\n",
       "       'nd_14', 'nd_13', 'Unnamed: 18'], dtype=object)"
      ]
     },
     "metadata": {},
     "execution_count": 11
    }
   ],
   "source": [
    "df_merge.columns.values"
   ]
  },
  {
   "cell_type": "code",
   "execution_count": 12,
   "metadata": {},
   "outputs": [
    {
     "output_type": "stream",
     "name": "stdout",
     "text": [
      "D:\\基金数据\\最新数据\\Data_after4_2021_5_15.csv\nD:\\基金数据\\最新数据\\Data_after4_2021_5_15.txt\n"
     ]
    }
   ],
   "source": [
    "# 保存路径名:\n",
    "# savepath_csv = r\"D:\\基金数据\\最新数据\\Data_after3_3_18.csv\" # 写死\n",
    "# savepath_txt = r\"D:\\基金数据\\最新数据\\Data_after3_3_18.txt\" # 写死\n",
    "from datetime import datetime\n",
    "\n",
    "today = datetime.now()\n",
    "\n",
    "savepath_csv = r\"D:\\基金数据\\最新数据\\Data_after4_{}_{}_{}.csv\".format(today.year,today.month,today.day) # 自动获取\n",
    "savepath_txt = r\"D:\\基金数据\\最新数据\\Data_after4_{}_{}_{}.txt\".format(today.year,today.month,today.day) # 自动获取\n",
    "print(savepath_csv)\n",
    "print(savepath_txt)"
   ]
  },
  {
   "cell_type": "code",
   "execution_count": 13,
   "metadata": {},
   "outputs": [],
   "source": [
    "df_merge.to_csv(savepath_csv,encoding='GB18030')\n",
    "df_merge.to_csv(savepath_txt,sep='\\t',index=False,encoding='GB18030')"
   ]
  },
  {
   "cell_type": "code",
   "execution_count": 14,
   "metadata": {},
   "outputs": [],
   "source": [
    "# df_new = df[['SHORTNAME','FCODE']]"
   ]
  },
  {
   "cell_type": "code",
   "execution_count": null,
   "metadata": {},
   "outputs": [],
   "source": []
  },
  {
   "cell_type": "code",
   "execution_count": null,
   "metadata": {},
   "outputs": [],
   "source": []
  },
  {
   "cell_type": "code",
   "execution_count": null,
   "metadata": {},
   "outputs": [],
   "source": []
  }
 ],
 "metadata": {
  "kernelspec": {
   "name": "python385jvsc74a57bd0a8f61be024eba58adef938c9aa1e29e02cb3dece83a5348b1a2dafd16a070453",
   "display_name": "Python 3.8.5 64-bit ('base': conda)"
  },
  "language_info": {
   "codemirror_mode": {
    "name": "ipython",
    "version": 3
   },
   "file_extension": ".py",
   "mimetype": "text/x-python",
   "name": "python",
   "nbconvert_exporter": "python",
   "pygments_lexer": "ipython3",
   "version": "3.8.5"
  }
 },
 "nbformat": 4,
 "nbformat_minor": 4
}
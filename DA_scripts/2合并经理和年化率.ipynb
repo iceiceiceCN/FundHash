{
 "cells": [
  {
   "cell_type": "code",
   "execution_count": 1,
   "metadata": {},
   "outputs": [],
   "source": [
    "import pandas as pd\n",
    "import numpy as np\n",
    "import matplotlib.pylab as plt"
   ]
  },
  {
   "cell_type": "code",
   "execution_count": 2,
   "metadata": {},
   "outputs": [],
   "source": [
    "# 0: 自动获取当天时间作为路径 / 1：指定路径\n",
    "path_flag = 0 \n",
    "\n",
    "# 0: 只算经理中最大值 / 1：将两个经理的收益和时间都算上\n",
    "manager_flag = 0 "
   ]
  },
  {
   "cell_type": "code",
   "execution_count": 3,
   "metadata": {},
   "outputs": [
    {
     "output_type": "stream",
     "name": "stdout",
     "text": [
      "D:\\基金数据\\最新数据\\fund_after1_2021_5_21.txt\nD:\\基金数据\\最新数据\\mgers_after0_2021_3_18.txt\n"
     ]
    }
   ],
   "source": [
    "if path_flag == 0:\n",
    "    # A: 使用时间参数自动获取路径名\n",
    "    from datetime import datetime\n",
    "\n",
    "    today = datetime.now()\n",
    "\n",
    "    path_fund = r'D:\\基金数据\\最新数据\\fund_after1_{}_{}_{}.txt'.format(today.year,today.month,today.day)\n",
    "    path_m = r'D:\\基金数据\\最新数据\\mgers_after0_2021_3_18.txt'\n",
    "\n",
    "    print(path_fund)\n",
    "    print(path_m)\n",
    "elif path_flag == 1:\n",
    "    # B: 指定路径名\n",
    "    path_fund = r'D:\\基金数据\\最新数据\\fund_after1_2021_3_18.txt'\n",
    "    path_m = r'D:\\基金数据\\最新数据\\mgers_after0_2021_3_18.txt'\n",
    "\n",
    "    print(path_fund)\n",
    "    print(path_m)"
   ]
  },
  {
   "cell_type": "code",
   "execution_count": 4,
   "metadata": {},
   "outputs": [],
   "source": [
    "m = open(path_m,'r')\n",
    "dic={} # days\n",
    "dic1={} # Pay\n",
    "keys=[]"
   ]
  },
  {
   "cell_type": "code",
   "execution_count": 5,
   "metadata": {},
   "outputs": [
    {
     "output_type": "execute_result",
     "data": {
      "text/plain": [
       "'ID\\t姓名\\t年化回报\\t周收益\\t月收益\\t季度收益\\t半年收益\\t年收益\\t代表基金代码\\t代表基金名称\\t-1\\n'"
      ]
     },
     "metadata": {},
     "execution_count": 5
    }
   ],
   "source": [
    "m.readline()"
   ]
  },
  {
   "cell_type": "code",
   "execution_count": 6,
   "metadata": {},
   "outputs": [],
   "source": [
    "for line in m:\n",
    "#     if len(line.strip().split('\\t'))==4:\n",
    "    ID = line.strip().split('\\t')[0]\n",
    "    Name = line.strip().split('\\t')[1]\n",
    "    Pay = line.strip().split('\\t')[2]\n",
    "    Days = line.strip().split('\\t')[-1]\n",
    "#         print(Pay)\n",
    "    dic[str(ID)] = int(Days)\n",
    "    dic1[str(ID)] = Pay\n",
    "    keys.append(ID)"
   ]
  },
  {
   "cell_type": "code",
   "execution_count": 7,
   "metadata": {},
   "outputs": [],
   "source": [
    "for key in dic1:\n",
    "    if dic1[key] == '':\n",
    "        dic1[key] = 0"
   ]
  },
  {
   "cell_type": "code",
   "execution_count": 8,
   "metadata": {},
   "outputs": [
    {
     "output_type": "stream",
     "name": "stdout",
     "text": [
      "D:\\基金数据\\最新数据\\fund_after2_2021_5_21.txt\n"
     ]
    }
   ],
   "source": [
    "# 保存路径名:\n",
    "# savepath_fund = r\"D:\\基金数据\\最新数据\\fund_after1_2021_3_18.txt\" # 写死\n",
    "\n",
    "savepath_fund = r\"D:\\基金数据\\最新数据\\fund_after2_{}_{}_{}.txt\".format(today.year,today.month,today.day) # 自动获取\n",
    "print(savepath_fund)"
   ]
  },
  {
   "cell_type": "code",
   "execution_count": 9,
   "metadata": {},
   "outputs": [],
   "source": [
    "if manager_flag == 0:\n",
    "    # 只算经理中最大值\n",
    "    f = open(path_fund,'r')\n",
    "    c = 1\n",
    "    with open(savepath_fund,\"w\") as wr:\n",
    "        for line in f:\n",
    "            if c == 1:\n",
    "                c+=1\n",
    "                line = line.strip() + '\\t' + 'Payback' +'\\t' + 'Days' + '\\n' \n",
    "    #             continue\n",
    "            IDs = line.split('\\t')[2]\n",
    "            IDs = IDs.replace('\"','')\n",
    "            \n",
    "            if len(IDs.split(',')) == 1:\n",
    "                ID = IDs\n",
    "                if ID in dic and ID in dic1:\n",
    "                    line = line.strip() + '\\t' + str(dic1[str(ID)]) + '\\t' + str(dic[str(ID)]) + '\\n'\n",
    "                    \n",
    "            elif len(IDs.split(',')) == 2:            \n",
    "                ID0 = IDs.split(',')[0]\n",
    "                ID1 = IDs.split(',')[1]\n",
    "                \n",
    "                if ID0 in dic and ID1 in dic and ID0 in dic1 and ID1 in dic1:\n",
    "                    if float(dic[str(ID0)]) > float(dic[str(ID1)]):\n",
    "                        maxID = ID0\n",
    "                    else:\n",
    "                        maxID = ID1\n",
    "                        \n",
    "                    maxDays = float(dic[str(maxID)])\n",
    "                    maxPay = float(dic1[str(maxID)])\n",
    "                    line = line.strip() + '\\t' + str(maxPay) +'\\t' + str(maxDays) + '\\n'\n",
    "    \n",
    "            elif len(IDs.split(',')) == 3:\n",
    "                ID0 = IDs.split(',')[0]\n",
    "                ID1 = IDs.split(',')[1]\n",
    "                ID2 = IDs.split(',')[2]\n",
    "                \n",
    "                if ID0 in dic and ID1 in dic and ID2 in dic and ID0 in dic1 and ID1 in dic1 and ID2 in dic1:\n",
    "                    if float(dic[str(ID0)]) > float(dic[str(ID1)]) and float(dic[str(ID0)]) > float(dic[str(ID2)]):\n",
    "                        maxID = ID0\n",
    "                    elif float(dic[str(ID1)]) > float(dic[str(ID0)]) and float(dic[str(ID1)]) > float(dic[str(ID2)]):\n",
    "                        maxID = ID1\n",
    "                    elif float(dic[str(ID2)]) > float(dic[str(ID1)]) and float(dic[str(ID2)]) > float(dic[str(ID0)]):\n",
    "                        maxID = ID2                \n",
    "                    \n",
    "                    maxDays = float(dic[str(maxID)])\n",
    "                    maxPay = float(dic1[str(maxID)])\n",
    "                    line = line.strip() + '\\t' + str(maxPay) +'\\t' + str(maxDays) + '\\n' \n",
    "            wr.writelines(line)\n",
    "elif manager_flag == 1:\n",
    "    # 将两个经理的收益和时间都算上\n",
    "    f = open(path_fund,'r')\n",
    "    with open(\"fund_orghold_mgers_2021_2_28.txt\",\"w\") as wr:\n",
    "        for line in f:\n",
    "            IDs = line.split('\\t')[2]\n",
    "            IDs = IDs.replace('\"','')\n",
    "\n",
    "            if len(IDs.split(',')) == 2:            \n",
    "                ID0 = IDs.split(',')[0]\n",
    "                ID1 = IDs.split(',')[1]\n",
    "                \n",
    "                if ID0 in dic and ID1 in dic:\n",
    "                    line = line.strip() + '\\t' + str(dic[str(ID0)]) + ',' + str(dic[str(ID1)]) + '\\n'\n",
    "                \n",
    "            elif len(IDs.split(',')) == 1:\n",
    "                ID = IDs\n",
    "                if ID in dic:\n",
    "                    line = line.strip() + '\\t' + str(dic[str(ID)]) + '\\n'\n",
    "                \n",
    "            elif len(IDs.split(',')) == 3:\n",
    "                ID0 = IDs.split(',')[0]\n",
    "                ID1 = IDs.split(',')[1]\n",
    "                ID2 = IDs.split(',')[2]\n",
    "                if ID0 in dic and ID1 in dic and ID2 in dic:\n",
    "                    line = line.strip() + '\\t' + str(dic[str(ID0)]) + ',' + str(dic[str(ID1)]) + ',' + str(dic[str(ID2)]) + '\\n'      \n",
    "            wr.writelines(line)    \n",
    " "
   ]
  },
  {
   "cell_type": "code",
   "execution_count": 10,
   "metadata": {},
   "outputs": [],
   "source": [
    "# # 将两个经理的收益和时间都算上\n",
    "# f = open(path_fund,'r')\n",
    "# with open(\"fund_orghold_mgers_2021_2_28.txt\",\"w\") as wr:\n",
    "#     for line in f:\n",
    "#         IDs = line.split('\\t')[2]\n",
    "#         IDs = IDs.replace('\"','')\n",
    "\n",
    "#         if len(IDs.split(',')) == 2:            \n",
    "#             ID0 = IDs.split(',')[0]\n",
    "#             ID1 = IDs.split(',')[1]\n",
    "            \n",
    "#             if ID0 in dic and ID1 in dic:\n",
    "#                 line = line.strip() + '\\t' + str(dic[str(ID0)]) + ',' + str(dic[str(ID1)]) + '\\n'\n",
    "            \n",
    "#         elif len(IDs.split(',')) == 1:\n",
    "#             ID = IDs\n",
    "#             if ID in dic:\n",
    "#                 line = line.strip() + '\\t' + str(dic[str(ID)]) + '\\n'\n",
    "            \n",
    "#         elif len(IDs.split(',')) == 3:\n",
    "#             ID0 = IDs.split(',')[0]\n",
    "#             ID1 = IDs.split(',')[1]\n",
    "#             ID2 = IDs.split(',')[2]\n",
    "#             if ID0 in dic and ID1 in dic and ID2 in dic:\n",
    "#                 line = line.strip() + '\\t' + str(dic[str(ID0)]) + ',' + str(dic[str(ID1)]) + ',' + str(dic[str(ID2)]) + '\\n'      \n",
    "#         wr.writelines(line)"
   ]
  },
  {
   "cell_type": "code",
   "execution_count": null,
   "metadata": {},
   "outputs": [],
   "source": []
  },
  {
   "cell_type": "code",
   "execution_count": null,
   "metadata": {},
   "outputs": [],
   "source": []
  }
 ],
 "metadata": {
  "kernelspec": {
   "name": "python385jvsc74a57bd0a8f61be024eba58adef938c9aa1e29e02cb3dece83a5348b1a2dafd16a070453",
   "display_name": "Python 3.8.5 64-bit ('base': conda)"
  },
  "language_info": {
   "codemirror_mode": {
    "name": "ipython",
    "version": 3
   },
   "file_extension": ".py",
   "mimetype": "text/x-python",
   "name": "python",
   "nbconvert_exporter": "python",
   "pygments_lexer": "ipython3",
   "version": "3.8.5"
  }
 },
 "nbformat": 4,
 "nbformat_minor": 4
}